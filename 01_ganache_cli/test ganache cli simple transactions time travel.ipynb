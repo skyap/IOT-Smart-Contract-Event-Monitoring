{
 "cells": [
  {
   "cell_type": "code",
   "execution_count": 1,
   "metadata": {},
   "outputs": [
    {
     "data": {
      "text/plain": [
       "True"
      ]
     },
     "execution_count": 1,
     "metadata": {},
     "output_type": "execute_result"
    }
   ],
   "source": [
    "import web3\n",
    "from web3 import Web3,HTTPProvider\n",
    "from eth_keys import keys\n",
    "import time\n",
    "w3 = Web3(web3.HTTPProvider(\"http://127.0.0.1:8545\"))\n",
    "w3.isConnected()"
   ]
  },
  {
   "cell_type": "markdown",
   "metadata": {},
   "source": [
    "# check time travel"
   ]
  },
  {
   "cell_type": "code",
   "execution_count": 10,
   "metadata": {},
   "outputs": [
    {
     "data": {
      "text/plain": [
       "172805"
      ]
     },
     "execution_count": 10,
     "metadata": {},
     "output_type": "execute_result"
    }
   ],
   "source": [
    "start = w3.eth.getBlock(w3.eth.blockNumber).timestamp\n",
    "w3.provider.make_request(\"evm_increaseTime\",[2*24*3600])\n",
    "time.sleep(6)\n",
    "end = w3.eth.getBlock(w3.eth.blockNumber).timestamp\n",
    "end - start"
   ]
  },
  {
   "cell_type": "markdown",
   "metadata": {},
   "source": [
    "# check accounts"
   ]
  },
  {
   "cell_type": "code",
   "execution_count": 3,
   "metadata": {
    "scrolled": true
   },
   "outputs": [
    {
     "name": "stdout",
     "output_type": "stream",
     "text": [
      "['0x0981D20D34A0FC96e73FfA783D0C560156142d90']\n",
      "0x0981D20D34A0FC96e73FfA783D0C560156142d90\n",
      "1000000000000000000000000000000\n"
     ]
    }
   ],
   "source": [
    "print(w3.eth.accounts)\n",
    "print(w3.eth.coinbase)\n",
    "print(Web3.fromWei(w3.eth.getBalance(w3.eth.coinbase),'ether'))"
   ]
  },
  {
   "cell_type": "markdown",
   "metadata": {},
   "source": [
    "# another account"
   ]
  },
  {
   "cell_type": "code",
   "execution_count": 4,
   "metadata": {},
   "outputs": [
    {
     "name": "stdout",
     "output_type": "stream",
     "text": [
      "0x9e74086457814b6d7A87da12F000c6A91637784A\n",
      "0\n"
     ]
    }
   ],
   "source": [
    "test_public_address = \"0x9e74086457814b6d7A87da12F000c6A91637784A\"\n",
    "test_private_key = 0xc95c4e45c20601eb1c95d6b18ea4f6ad5ca2f219e94ebd3c499a1d1e5a58ca4d\n",
    "print(keys.PrivateKey(Web3.toBytes(test_private_key)).public_key.to_checksum_address())\n",
    "print(Web3.fromWei(w3.eth.getBalance(test_public_address),'ether'))"
   ]
  },
  {
   "cell_type": "markdown",
   "metadata": {},
   "source": [
    "# send 1 ether to another account"
   ]
  },
  {
   "cell_type": "code",
   "execution_count": 5,
   "metadata": {},
   "outputs": [
    {
     "name": "stdout",
     "output_type": "stream",
     "text": [
      "AttributeDict({'transactionHash': HexBytes('0x7f8abdaf76b46536cb9ddf0920d73a2be8ddd79aeb54bcb262e409a4a72c12cd'), 'transactionIndex': 0, 'blockHash': HexBytes('0x176b555ee399048d1cb821016b1acd063ce3433fd7b74277539bff5b338185fc'), 'blockNumber': 9, 'from': '0x0981D20D34A0FC96e73FfA783D0C560156142d90', 'to': '0x9e74086457814b6d7A87da12F000c6A91637784A', 'gasUsed': 21000, 'cumulativeGasUsed': 21000, 'contractAddress': None, 'logs': [], 'status': 1, 'logsBloom': HexBytes('0x00000000000000000000000000000000000000000000000000000000000000000000000000000000000000000000000000000000000000000000000000000000000000000000000000000000000000000000000000000000000000000000000000000000000000000000000000000000000000000000000000000000000000000000000000000000000000000000000000000000000000000000000000000000000000000000000000000000000000000000000000000000000000000000000000000000000000000000000000000000000000000000000000000000000000000000000000000000000000000000000000000000000000000000000000000000')})\n",
      "1\n"
     ]
    }
   ],
   "source": [
    "signed_txn = w3.eth.account.signTransaction(dict(\n",
    "    nonce=w3.eth.getTransactionCount(w3.eth.coinbase),\n",
    "    gasPrice = w3.eth.gasPrice, \n",
    "    gas = 100000,\n",
    "    to=test_public_address,\n",
    "    value=Web3.toWei(1,'ether')\n",
    "  ),\n",
    "  Web3.toBytes(0x67f549fdaf5e0173cb71fcc6dd66a19aac0e63c5a09acb287007dd98b0571f51))\n",
    "\n",
    "tx_hash = w3.eth.sendRawTransaction(signed_txn.rawTransaction)\n",
    "tx_receipt = w3.eth.waitForTransactionReceipt(tx_hash)\n",
    "print(tx_receipt)\n",
    "print(Web3.fromWei(w3.eth.getBalance(test_public_address),'ether'))"
   ]
  },
  {
   "cell_type": "markdown",
   "metadata": {},
   "source": [
    "# send 10 transactions"
   ]
  },
  {
   "cell_type": "code",
   "execution_count": 7,
   "metadata": {},
   "outputs": [
    {
     "name": "stdout",
     "output_type": "stream",
     "text": [
      "AttributeDict({'transactionHash': HexBytes('0xa2bc610bee58dbf8c9cd98f724a085a58d3c371105d8119aa0ebb8bcadfabdcf'), 'transactionIndex': 9, 'blockHash': HexBytes('0x47afa2c9ef258746fb79c200fe9196f6f0ac0786695fa5c36f9345d7242be61d'), 'blockNumber': 12, 'from': '0x0981D20D34A0FC96e73FfA783D0C560156142d90', 'to': '0x9e74086457814b6d7A87da12F000c6A91637784A', 'gasUsed': 21000, 'cumulativeGasUsed': 210000, 'contractAddress': None, 'logs': [], 'status': 1, 'logsBloom': HexBytes('0x00000000000000000000000000000000000000000000000000000000000000000000000000000000000000000000000000000000000000000000000000000000000000000000000000000000000000000000000000000000000000000000000000000000000000000000000000000000000000000000000000000000000000000000000000000000000000000000000000000000000000000000000000000000000000000000000000000000000000000000000000000000000000000000000000000000000000000000000000000000000000000000000000000000000000000000000000000000000000000000000000000000000000000000000000000000')})\n"
     ]
    }
   ],
   "source": [
    "tx_hashes = []\n",
    "nonce = w3.eth.getTransactionCount(w3.eth.coinbase)\n",
    "for i in range(10):\n",
    "    signed_txn = w3.eth.account.signTransaction(dict(\n",
    "        nonce=nonce,\n",
    "        gasPrice = w3.eth.gasPrice, \n",
    "        gas = 100000,\n",
    "        to=test_public_address,\n",
    "        value=Web3.toWei(1,'ether')\n",
    "      ),\n",
    "      Web3.toBytes(0x67f549fdaf5e0173cb71fcc6dd66a19aac0e63c5a09acb287007dd98b0571f51))\n",
    "\n",
    "    tx_hash = w3.eth.sendRawTransaction(signed_txn.rawTransaction)\n",
    "    tx_hashes.append(tx_hash)\n",
    "    nonce+=1\n",
    "tx_receipt = w3.eth.waitForTransactionReceipt(tx_hash)\n",
    "print(tx_receipt)"
   ]
  },
  {
   "cell_type": "markdown",
   "metadata": {},
   "source": [
    "# check 10 transaction blocks"
   ]
  },
  {
   "cell_type": "code",
   "execution_count": 8,
   "metadata": {},
   "outputs": [
    {
     "name": "stdout",
     "output_type": "stream",
     "text": [
      "12\n",
      "12\n",
      "12\n",
      "12\n",
      "12\n",
      "12\n",
      "12\n",
      "12\n",
      "12\n",
      "12\n"
     ]
    }
   ],
   "source": [
    "for i in range(10):\n",
    "    print(w3.eth.getTransactionReceipt(tx_hashes[i]).blockNumber)"
   ]
  },
  {
   "cell_type": "code",
   "execution_count": 9,
   "metadata": {},
   "outputs": [
    {
     "data": {
      "text/plain": [
       "[HexBytes('0x17b4797281337e0fba45b807bef9d6b3633a3828e29f58488a5a48ca86374c0e'),\n",
       " HexBytes('0x1f12629f096c915b927707bb09696cdd22e0f500a7ac6d241593162099b7a569'),\n",
       " HexBytes('0x0c21b51149336a58b00d0de034b4e3bf688c651c568743ac30d17372ffa27fa4'),\n",
       " HexBytes('0x4e2120596196fd8be2a71be2e55e841e9b5dadf14a67e99e5e7e7e680ee6a563'),\n",
       " HexBytes('0xee0e2fe394df57c729d98b5136202099855b6346d98cbb9f2cc113f52aba251a'),\n",
       " HexBytes('0xc614f2b857903151af7f5d78b29b301d275f437da94cff1c7b3b5759baea6577'),\n",
       " HexBytes('0xf7d8e2ec32d8147c7cb43b91597b4aa4cb6d382398a53ad8792bb3c9711a7ec5'),\n",
       " HexBytes('0x8a0df4838e849c8061ceeb7802748f1834c836027aa02009a9290a37e89a5814'),\n",
       " HexBytes('0x3b80bd120d4fcdfb831055ecac8e2495ddc3de0d5380f85f92b9d6f8908d1181'),\n",
       " HexBytes('0xa2bc610bee58dbf8c9cd98f724a085a58d3c371105d8119aa0ebb8bcadfabdcf')]"
      ]
     },
     "execution_count": 9,
     "metadata": {},
     "output_type": "execute_result"
    }
   ],
   "source": [
    "tx_hashes"
   ]
  },
  {
   "cell_type": "code",
   "execution_count": null,
   "metadata": {},
   "outputs": [],
   "source": []
  },
  {
   "cell_type": "code",
   "execution_count": null,
   "metadata": {},
   "outputs": [],
   "source": []
  },
  {
   "cell_type": "code",
   "execution_count": null,
   "metadata": {},
   "outputs": [],
   "source": []
  },
  {
   "cell_type": "code",
   "execution_count": null,
   "metadata": {},
   "outputs": [],
   "source": []
  },
  {
   "cell_type": "code",
   "execution_count": null,
   "metadata": {},
   "outputs": [],
   "source": []
  },
  {
   "cell_type": "code",
   "execution_count": null,
   "metadata": {},
   "outputs": [],
   "source": []
  },
  {
   "cell_type": "code",
   "execution_count": null,
   "metadata": {},
   "outputs": [],
   "source": []
  },
  {
   "cell_type": "code",
   "execution_count": null,
   "metadata": {},
   "outputs": [],
   "source": []
  },
  {
   "cell_type": "code",
   "execution_count": null,
   "metadata": {},
   "outputs": [],
   "source": []
  },
  {
   "cell_type": "code",
   "execution_count": null,
   "metadata": {},
   "outputs": [],
   "source": []
  },
  {
   "cell_type": "code",
   "execution_count": null,
   "metadata": {},
   "outputs": [],
   "source": []
  },
  {
   "cell_type": "code",
   "execution_count": null,
   "metadata": {},
   "outputs": [],
   "source": []
  }
 ],
 "metadata": {
  "kernelspec": {
   "display_name": "Python 3",
   "language": "python",
   "name": "python3"
  },
  "language_info": {
   "codemirror_mode": {
    "name": "ipython",
    "version": 3
   },
   "file_extension": ".py",
   "mimetype": "text/x-python",
   "name": "python",
   "nbconvert_exporter": "python",
   "pygments_lexer": "ipython3",
   "version": "3.8.5"
  }
 },
 "nbformat": 4,
 "nbformat_minor": 4
}
