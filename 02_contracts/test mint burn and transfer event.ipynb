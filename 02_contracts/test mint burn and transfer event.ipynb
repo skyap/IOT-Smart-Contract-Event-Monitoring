{
 "cells": [
  {
   "cell_type": "code",
   "execution_count": 20,
   "metadata": {},
   "outputs": [],
   "source": [
    "import web3\n",
    "from web3 import Web3\n",
    "\n",
    "from web3.middleware import geth_poa_middleware\n",
    "from eth_keys import keys\n",
    "\n",
    "from solcx import compile_files,get_solc_version,get_installed_solc_versions,set_solc_version\n",
    "import json\n",
    "\n",
    "from utils import get_w3,get_key_pair,sign_transaction,check_transaction_successful"
   ]
  },
  {
   "cell_type": "code",
   "execution_count": 21,
   "metadata": {},
   "outputs": [
    {
     "name": "stdout",
     "output_type": "stream",
     "text": [
      "Blockchain Connection: True\n"
     ]
    }
   ],
   "source": [
    "url = \"http://127.0.0.1:8545\"\n",
    "w3 = get_w3(url)\n",
    "\n",
    "with open(\"contracts.txt\",\"r\") as f:\n",
    "    contract_address = f.read()\n",
    "with open(\"abi.txt\",\"r\") as f:\n",
    "    abi = f.read()\n",
    "contract = w3.eth.contract(address=contract_address,abi=abi)"
   ]
  },
  {
   "cell_type": "code",
   "execution_count": 22,
   "metadata": {},
   "outputs": [],
   "source": [
    "public_address, private_key = get_key_pair(\"0x67f549fdaf5e0173cb71fcc6dd66a19aac0e63c5a09acb287007dd98b0571f51\")"
   ]
  },
  {
   "cell_type": "markdown",
   "metadata": {},
   "source": [
    "# Create Token"
   ]
  },
  {
   "cell_type": "code",
   "execution_count": 34,
   "metadata": {},
   "outputs": [
    {
     "data": {
      "text/plain": [
       "AttributeDict({'transactionHash': HexBytes('0x8f76278d065f4cb2b999beeddbc29b6693219e7f2522133c68f5b858e3d4e8d4'),\n",
       " 'transactionIndex': 0,\n",
       " 'blockHash': HexBytes('0xf2a83735fb0fef7d1cbcc32d248aa0efbea3dd8db5f831510a5cfb430576b554'),\n",
       " 'blockNumber': 272,\n",
       " 'from': '0x0981D20D34A0FC96e73FfA783D0C560156142d90',\n",
       " 'to': '0xF4C53fb1134Bc69fE0deF1fe3A47C05E82f5F3bb',\n",
       " 'gasUsed': 147230,\n",
       " 'cumulativeGasUsed': 147230,\n",
       " 'contractAddress': None,\n",
       " 'logs': [AttributeDict({'logIndex': 0,\n",
       "   'transactionIndex': 0,\n",
       "   'transactionHash': HexBytes('0x8f76278d065f4cb2b999beeddbc29b6693219e7f2522133c68f5b858e3d4e8d4'),\n",
       "   'blockHash': HexBytes('0xf2a83735fb0fef7d1cbcc32d248aa0efbea3dd8db5f831510a5cfb430576b554'),\n",
       "   'blockNumber': 272,\n",
       "   'address': '0xF4C53fb1134Bc69fE0deF1fe3A47C05E82f5F3bb',\n",
       "   'data': '0x',\n",
       "   'topics': [HexBytes('0xddf252ad1be2c89b69c2b068fc378daa952ba7f163c4a11628f55a4df523b3ef'),\n",
       "    HexBytes('0x0000000000000000000000000000000000000000000000000000000000000000'),\n",
       "    HexBytes('0x0000000000000000000000000981d20d34a0fc96e73ffa783d0c560156142d90'),\n",
       "    HexBytes('0x0000000000000000000000000000000000000000000000000000000000000002')],\n",
       "   'type': 'mined',\n",
       "   'removed': False})],\n",
       " 'status': 1,\n",
       " 'logsBloom': HexBytes('0x04000004000000000000000000000000000000000000000000000000000000000000000000000000000000000000000000000000000000000000000000000000000000100000000000000008000000000000000000000000000000000000000000000000020000000000000000000800000000000000000000000010000000000000000000000000000000000000000000000000000000000000000000000000000000000000000000000100000000000000000000000000000000000400000000000002000000000004000000400000000000000000000000000000000020000000000000000000000200000000000000000000008000000000000000000000')})"
      ]
     },
     "execution_count": 34,
     "metadata": {},
     "output_type": "execute_result"
    }
   ],
   "source": [
    "nonce = w3.eth.getTransactionCount(public_address)\n",
    "token = [123,[\"abc\"]]\n",
    "signed_rawTransaction = sign_transaction(w3,contract.functions.create_token,[],public_address,private_key,nonce)\n",
    "tx_hash = w3.eth.sendRawTransaction(signed_rawTransaction)\n",
    "w3.eth.waitForTransactionReceipt(tx_hash)"
   ]
  },
  {
   "cell_type": "markdown",
   "metadata": {},
   "source": [
    "# Topics"
   ]
  },
  {
   "cell_type": "code",
   "execution_count": 25,
   "metadata": {},
   "outputs": [
    {
     "data": {
      "text/plain": [
       "'0xddf252ad1be2c89b69c2b068fc378daa952ba7f163c4a11628f55a4df523b3ef'"
      ]
     },
     "execution_count": 25,
     "metadata": {},
     "output_type": "execute_result"
    }
   ],
   "source": [
    "Web3.keccak(text=\"Transfer(address,address,uint256)\").hex()"
   ]
  },
  {
   "cell_type": "code",
   "execution_count": 20,
   "metadata": {},
   "outputs": [
    {
     "data": {
      "text/plain": [
       "AttributeDict({'transactionHash': HexBytes('0xeeb57029f84747d2316c1ef220c3814c21a9a4c13fe25ca000b52093ddf2b3c1'),\n",
       " 'transactionIndex': 0,\n",
       " 'blockHash': HexBytes('0x09388c2ed51ee9f5a619f4db7eb13921a7c5800f452523f81fc111cd944a1174'),\n",
       " 'blockNumber': 241,\n",
       " 'from': '0x0981D20D34A0FC96e73FfA783D0C560156142d90',\n",
       " 'to': '0xF4C53fb1134Bc69fE0deF1fe3A47C05E82f5F3bb',\n",
       " 'gasUsed': 43045,\n",
       " 'cumulativeGasUsed': 43045,\n",
       " 'contractAddress': None,\n",
       " 'logs': [AttributeDict({'logIndex': 0,\n",
       "   'transactionIndex': 0,\n",
       "   'transactionHash': HexBytes('0xeeb57029f84747d2316c1ef220c3814c21a9a4c13fe25ca000b52093ddf2b3c1'),\n",
       "   'blockHash': HexBytes('0x09388c2ed51ee9f5a619f4db7eb13921a7c5800f452523f81fc111cd944a1174'),\n",
       "   'blockNumber': 241,\n",
       "   'address': '0xF4C53fb1134Bc69fE0deF1fe3A47C05E82f5F3bb',\n",
       "   'data': '0x',\n",
       "   'topics': [HexBytes('0x8c5be1e5ebec7d5bd14f71427d1e84f3dd0314c0f7b2291e5b200ac8c7c3b925'),\n",
       "    HexBytes('0x0000000000000000000000000981d20d34a0fc96e73ffa783d0c560156142d90'),\n",
       "    HexBytes('0x0000000000000000000000000000000000000000000000000000000000000000'),\n",
       "    HexBytes('0x0000000000000000000000000000000000000000000000000000000000000002')],\n",
       "   'type': 'mined',\n",
       "   'removed': False}),\n",
       "  AttributeDict({'logIndex': 1,\n",
       "   'transactionIndex': 0,\n",
       "   'transactionHash': HexBytes('0xeeb57029f84747d2316c1ef220c3814c21a9a4c13fe25ca000b52093ddf2b3c1'),\n",
       "   'blockHash': HexBytes('0x09388c2ed51ee9f5a619f4db7eb13921a7c5800f452523f81fc111cd944a1174'),\n",
       "   'blockNumber': 241,\n",
       "   'address': '0xF4C53fb1134Bc69fE0deF1fe3A47C05E82f5F3bb',\n",
       "   'data': '0x',\n",
       "   'topics': [HexBytes('0xddf252ad1be2c89b69c2b068fc378daa952ba7f163c4a11628f55a4df523b3ef'),\n",
       "    HexBytes('0x0000000000000000000000000981d20d34a0fc96e73ffa783d0c560156142d90'),\n",
       "    HexBytes('0x0000000000000000000000000000000000000000000000000000000000000000'),\n",
       "    HexBytes('0x0000000000000000000000000000000000000000000000000000000000000002')],\n",
       "   'type': 'mined',\n",
       "   'removed': False})],\n",
       " 'status': 1,\n",
       " 'logsBloom': HexBytes('0x04000004000000000000000000000000000000000000000000000000000000000000000000000000000000000000000000000000000000000000000000200000000000100000000000000008000000000000000000000000000000000000000000000000020000000000000000000800000000000000000000000010000000000000000000000000000000000000000000000000000000000000000000000000020000000000000000000100000000000000000000000000000000000400000000000002000000000004000000400000000000000000000000000000000020000010000000000000000200000000000000000000008000000000000000000000')})"
      ]
     },
     "execution_count": 20,
     "metadata": {},
     "output_type": "execute_result"
    }
   ],
   "source": [
    "nonce = w3.eth.getTransactionCount(public_address)\n",
    "signed_rawTransaction = sign_transaction(w3,contract.functions.deactive_token,[2],public_address,private_key,nonce)\n",
    "tx_hash = w3.eth.sendRawTransaction(signed_rawTransaction)\n",
    "w3.eth.waitForTransactionReceipt(tx_hash)"
   ]
  },
  {
   "cell_type": "markdown",
   "metadata": {},
   "source": [
    "# Add activity"
   ]
  },
  {
   "cell_type": "code",
   "execution_count": 35,
   "metadata": {},
   "outputs": [
    {
     "data": {
      "text/plain": [
       "AttributeDict({'transactionHash': HexBytes('0x80c9e23b1c64116e4e65c3ac6277f0326c943747922260658a1c555628e2e256'),\n",
       " 'transactionIndex': 0,\n",
       " 'blockHash': HexBytes('0xa412cc2429ed43d5d88e07f182ee1212a0a9706914a07cdf62ee99ebd523e375'),\n",
       " 'blockNumber': 275,\n",
       " 'from': '0x0981D20D34A0FC96e73FfA783D0C560156142d90',\n",
       " 'to': '0xF4C53fb1134Bc69fE0deF1fe3A47C05E82f5F3bb',\n",
       " 'gasUsed': 48341,\n",
       " 'cumulativeGasUsed': 48341,\n",
       " 'contractAddress': None,\n",
       " 'logs': [AttributeDict({'logIndex': 0,\n",
       "   'transactionIndex': 0,\n",
       "   'transactionHash': HexBytes('0x80c9e23b1c64116e4e65c3ac6277f0326c943747922260658a1c555628e2e256'),\n",
       "   'blockHash': HexBytes('0xa412cc2429ed43d5d88e07f182ee1212a0a9706914a07cdf62ee99ebd523e375'),\n",
       "   'blockNumber': 275,\n",
       "   'address': '0xF4C53fb1134Bc69fE0deF1fe3A47C05E82f5F3bb',\n",
       "   'data': '0x00000000000000000000000000000000000000000000000000000000000000200000000000000000000000000000000000000000000000000000000000000003000000000000000000000000000000000000000000000000000000000000006000000000000000000000000000000000000000000000000000000000000000a000000000000000000000000000000000000000000000000000000000000000e0000000000000000000000000000000000000000000000000000000000000000161000000000000000000000000000000000000000000000000000000000000000000000000000000000000000000000000000000000000000000000000000001620000000000000000000000000000000000000000000000000000000000000000000000000000000000000000000000000000000000000000000000000000016300000000000000000000000000000000000000000000000000000000000000',\n",
       "   'topics': [HexBytes('0xcf094b73301d4f0f08d7cbd294682671b5737b780f9399ecca4d8cd7f0264e70'),\n",
       "    HexBytes('0x0000000000000000000000000000000000000000000000000000000000000002')],\n",
       "   'type': 'mined',\n",
       "   'removed': False}),\n",
       "  AttributeDict({'logIndex': 1,\n",
       "   'transactionIndex': 0,\n",
       "   'transactionHash': HexBytes('0x80c9e23b1c64116e4e65c3ac6277f0326c943747922260658a1c555628e2e256'),\n",
       "   'blockHash': HexBytes('0xa412cc2429ed43d5d88e07f182ee1212a0a9706914a07cdf62ee99ebd523e375'),\n",
       "   'blockNumber': 275,\n",
       "   'address': '0xF4C53fb1134Bc69fE0deF1fe3A47C05E82f5F3bb',\n",
       "   'data': '0x00000000000000000000000000000000000000000000000000000000000000200000000000000000000000000000000000000000000000000000000000000003000000000000000000000000000000000000000000000000000000000000006000000000000000000000000000000000000000000000000000000000000000a000000000000000000000000000000000000000000000000000000000000000e0000000000000000000000000000000000000000000000000000000000000000161000000000000000000000000000000000000000000000000000000000000000000000000000000000000000000000000000000000000000000000000000001620000000000000000000000000000000000000000000000000000000000000000000000000000000000000000000000000000000000000000000000000000016300000000000000000000000000000000000000000000000000000000000000',\n",
       "   'topics': [HexBytes('0xcf094b73301d4f0f08d7cbd294682671b5737b780f9399ecca4d8cd7f0264e70'),\n",
       "    HexBytes('0x0000000000000000000000000000000000000000000000000000000000000002')],\n",
       "   'type': 'mined',\n",
       "   'removed': False}),\n",
       "  AttributeDict({'logIndex': 2,\n",
       "   'transactionIndex': 0,\n",
       "   'transactionHash': HexBytes('0x80c9e23b1c64116e4e65c3ac6277f0326c943747922260658a1c555628e2e256'),\n",
       "   'blockHash': HexBytes('0xa412cc2429ed43d5d88e07f182ee1212a0a9706914a07cdf62ee99ebd523e375'),\n",
       "   'blockNumber': 275,\n",
       "   'address': '0xF4C53fb1134Bc69fE0deF1fe3A47C05E82f5F3bb',\n",
       "   'data': '0x00000000000000000000000000000000000000000000000000000000000000200000000000000000000000000000000000000000000000000000000000000003000000000000000000000000000000000000000000000000000000000000006000000000000000000000000000000000000000000000000000000000000000a000000000000000000000000000000000000000000000000000000000000000e0000000000000000000000000000000000000000000000000000000000000000161000000000000000000000000000000000000000000000000000000000000000000000000000000000000000000000000000000000000000000000000000001620000000000000000000000000000000000000000000000000000000000000000000000000000000000000000000000000000000000000000000000000000016300000000000000000000000000000000000000000000000000000000000000',\n",
       "   'topics': [HexBytes('0xcf094b73301d4f0f08d7cbd294682671b5737b780f9399ecca4d8cd7f0264e70'),\n",
       "    HexBytes('0x0000000000000000000000000000000000000000000000000000000000000002')],\n",
       "   'type': 'mined',\n",
       "   'removed': False})],\n",
       " 'status': 1,\n",
       " 'logsBloom': HexBytes('0x04000000000000000000000000000000000000000000000000000000000000000000000000000000000000000000000000000000000000000000000000000000000200000000000000000000000000000000000000000000000000000000000000000000000000000000000000000000000000000040000000000000000000000000000000000000000000000000000000000000000000000000000000000000000000000000000000000100000000000000000000000000000000000400000000000000000000000004000000400000000000000000000000000000000000000000000000000000000000000000000000000000008000000000010000000000')})"
      ]
     },
     "execution_count": 35,
     "metadata": {},
     "output_type": "execute_result"
    }
   ],
   "source": [
    "nonce = w3.eth.getTransactionCount(public_address)\n",
    "signed_rawTransaction = sign_transaction(w3,contract.functions.add_token_activity,[2,[\"a\",\"b\",\"c\"]],public_address,private_key,nonce)\n",
    "tx_hash = w3.eth.sendRawTransaction(signed_rawTransaction)\n",
    "w3.eth.waitForTransactionReceipt(tx_hash)"
   ]
  },
  {
   "cell_type": "code",
   "execution_count": 33,
   "metadata": {},
   "outputs": [
    {
     "data": {
      "text/plain": [
       "True"
      ]
     },
     "execution_count": 33,
     "metadata": {},
     "output_type": "execute_result"
    }
   ],
   "source": [
    "int(w3.eth.getBlock(191).transactions[0].hex(),16) == 0x1f3b228b61ad6e7604b887354431586558c9aa7cf7536ae2e0f6d50b93f6b4d0"
   ]
  },
  {
   "cell_type": "markdown",
   "metadata": {},
   "source": [
    "# deactive_token"
   ]
  },
  {
   "cell_type": "code",
   "execution_count": 37,
   "metadata": {},
   "outputs": [
    {
     "ename": "ValueError",
     "evalue": "{'message': 'VM Exception while processing transaction: revert ERC721: owner query for nonexistent token', 'code': -32000, 'data': {'stack': 'c: VM Exception while processing transaction: revert ERC721: owner query for nonexistent token\\n    at Function.c.fromResults (/home/skyap/.nvm/versions/node/v14.15.1/lib/node_modules/ganache-cli/build/ganache-core.node.cli.js:4:192416)\\n    at e.exports (/home/skyap/.nvm/versions/node/v14.15.1/lib/node_modules/ganache-cli/build/ganache-core.node.cli.js:55:2089395)', 'name': 'c'}}",
     "output_type": "error",
     "traceback": [
      "\u001b[0;31m---------------------------------------------------------------------------\u001b[0m",
      "\u001b[0;31mValueError\u001b[0m                                Traceback (most recent call last)",
      "\u001b[0;32m<ipython-input-37-ca2e50259df1>\u001b[0m in \u001b[0;36m<module>\u001b[0;34m\u001b[0m\n\u001b[1;32m      1\u001b[0m \u001b[0mnonce\u001b[0m \u001b[0;34m=\u001b[0m \u001b[0mw3\u001b[0m\u001b[0;34m.\u001b[0m\u001b[0meth\u001b[0m\u001b[0;34m.\u001b[0m\u001b[0mgetTransactionCount\u001b[0m\u001b[0;34m(\u001b[0m\u001b[0mpublic_address\u001b[0m\u001b[0;34m)\u001b[0m\u001b[0;34m\u001b[0m\u001b[0;34m\u001b[0m\u001b[0m\n\u001b[0;32m----> 2\u001b[0;31m \u001b[0msigned_rawTransaction\u001b[0m \u001b[0;34m=\u001b[0m \u001b[0msign_transaction\u001b[0m\u001b[0;34m(\u001b[0m\u001b[0mw3\u001b[0m\u001b[0;34m,\u001b[0m\u001b[0mcontract\u001b[0m\u001b[0;34m.\u001b[0m\u001b[0mfunctions\u001b[0m\u001b[0;34m.\u001b[0m\u001b[0mdeactive_token\u001b[0m\u001b[0;34m,\u001b[0m\u001b[0;34m[\u001b[0m\u001b[0;36m1\u001b[0m\u001b[0;34m]\u001b[0m\u001b[0;34m,\u001b[0m\u001b[0mpublic_address\u001b[0m\u001b[0;34m,\u001b[0m\u001b[0mprivate_key\u001b[0m\u001b[0;34m,\u001b[0m\u001b[0mnonce\u001b[0m\u001b[0;34m)\u001b[0m\u001b[0;34m\u001b[0m\u001b[0;34m\u001b[0m\u001b[0m\n\u001b[0m\u001b[1;32m      3\u001b[0m \u001b[0mtx_hash\u001b[0m \u001b[0;34m=\u001b[0m \u001b[0mw3\u001b[0m\u001b[0;34m.\u001b[0m\u001b[0meth\u001b[0m\u001b[0;34m.\u001b[0m\u001b[0msendRawTransaction\u001b[0m\u001b[0;34m(\u001b[0m\u001b[0msigned_rawTransaction\u001b[0m\u001b[0;34m)\u001b[0m\u001b[0;34m\u001b[0m\u001b[0;34m\u001b[0m\u001b[0m\n\u001b[1;32m      4\u001b[0m \u001b[0mw3\u001b[0m\u001b[0;34m.\u001b[0m\u001b[0meth\u001b[0m\u001b[0;34m.\u001b[0m\u001b[0mwaitForTransactionReceipt\u001b[0m\u001b[0;34m(\u001b[0m\u001b[0mtx_hash\u001b[0m\u001b[0;34m)\u001b[0m\u001b[0;34m\u001b[0m\u001b[0;34m\u001b[0m\u001b[0m\n",
      "\u001b[0;32m/mnt/storage/20_projects/24_webapp/01_project_20210408/02_contracts/utils.py\u001b[0m in \u001b[0;36msign_transaction\u001b[0;34m(w3, function, data, public_address, private_key, nonce)\u001b[0m\n\u001b[1;32m     40\u001b[0m \u001b[0;34m\u001b[0m\u001b[0m\n\u001b[1;32m     41\u001b[0m \u001b[0;32mdef\u001b[0m \u001b[0msign_transaction\u001b[0m\u001b[0;34m(\u001b[0m\u001b[0mw3\u001b[0m\u001b[0;34m,\u001b[0m\u001b[0mfunction\u001b[0m\u001b[0;34m,\u001b[0m\u001b[0mdata\u001b[0m\u001b[0;34m,\u001b[0m\u001b[0mpublic_address\u001b[0m\u001b[0;34m,\u001b[0m\u001b[0mprivate_key\u001b[0m\u001b[0;34m,\u001b[0m\u001b[0mnonce\u001b[0m\u001b[0;34m)\u001b[0m\u001b[0;34m:\u001b[0m\u001b[0;34m\u001b[0m\u001b[0;34m\u001b[0m\u001b[0m\n\u001b[0;32m---> 42\u001b[0;31m     transaction = function(*data).buildTransaction({\n\u001b[0m\u001b[1;32m     43\u001b[0m         \u001b[0;34m\"from\"\u001b[0m\u001b[0;34m:\u001b[0m \u001b[0mpublic_address\u001b[0m\u001b[0;34m,\u001b[0m\u001b[0;34m\u001b[0m\u001b[0;34m\u001b[0m\u001b[0m\n\u001b[1;32m     44\u001b[0m         \"nonce\": nonce})   \n",
      "\u001b[0;32m~/.local/lib/python3.8/site-packages/web3/contract.py\u001b[0m in \u001b[0;36mbuildTransaction\u001b[0;34m(self, transaction)\u001b[0m\n\u001b[1;32m   1073\u001b[0m             )\n\u001b[1;32m   1074\u001b[0m \u001b[0;34m\u001b[0m\u001b[0m\n\u001b[0;32m-> 1075\u001b[0;31m         return build_transaction_for_function(\n\u001b[0m\u001b[1;32m   1076\u001b[0m             \u001b[0mself\u001b[0m\u001b[0;34m.\u001b[0m\u001b[0maddress\u001b[0m\u001b[0;34m,\u001b[0m\u001b[0;34m\u001b[0m\u001b[0;34m\u001b[0m\u001b[0m\n\u001b[1;32m   1077\u001b[0m             \u001b[0mself\u001b[0m\u001b[0;34m.\u001b[0m\u001b[0mweb3\u001b[0m\u001b[0;34m,\u001b[0m\u001b[0;34m\u001b[0m\u001b[0;34m\u001b[0m\u001b[0m\n",
      "\u001b[0;32m~/.local/lib/python3.8/site-packages/web3/contract.py\u001b[0m in \u001b[0;36mbuild_transaction_for_function\u001b[0;34m(address, web3, function_name, transaction, contract_abi, fn_abi, *args, **kwargs)\u001b[0m\n\u001b[1;32m   1645\u001b[0m     )\n\u001b[1;32m   1646\u001b[0m \u001b[0;34m\u001b[0m\u001b[0m\n\u001b[0;32m-> 1647\u001b[0;31m     \u001b[0mprepared_transaction\u001b[0m \u001b[0;34m=\u001b[0m \u001b[0mfill_transaction_defaults\u001b[0m\u001b[0;34m(\u001b[0m\u001b[0mweb3\u001b[0m\u001b[0;34m,\u001b[0m \u001b[0mprepared_transaction\u001b[0m\u001b[0;34m)\u001b[0m\u001b[0;34m\u001b[0m\u001b[0;34m\u001b[0m\u001b[0m\n\u001b[0m\u001b[1;32m   1648\u001b[0m \u001b[0;34m\u001b[0m\u001b[0m\n\u001b[1;32m   1649\u001b[0m     \u001b[0;32mreturn\u001b[0m \u001b[0mprepared_transaction\u001b[0m\u001b[0;34m\u001b[0m\u001b[0;34m\u001b[0m\u001b[0m\n",
      "\u001b[0;32m~/.local/lib/python3.8/site-packages/cytoolz/functoolz.pyx\u001b[0m in \u001b[0;36mcytoolz.functoolz.curry.__call__\u001b[0;34m()\u001b[0m\n",
      "\u001b[0;32m~/.local/lib/python3.8/site-packages/web3/_utils/transactions.py\u001b[0m in \u001b[0;36mfill_transaction_defaults\u001b[0;34m(web3, transaction)\u001b[0m\n\u001b[1;32m     85\u001b[0m             \u001b[0;32mif\u001b[0m \u001b[0mcallable\u001b[0m\u001b[0;34m(\u001b[0m\u001b[0mdefault_getter\u001b[0m\u001b[0;34m)\u001b[0m\u001b[0;34m:\u001b[0m\u001b[0;34m\u001b[0m\u001b[0;34m\u001b[0m\u001b[0m\n\u001b[1;32m     86\u001b[0m                 \u001b[0;32mif\u001b[0m \u001b[0mweb3\u001b[0m \u001b[0;32mis\u001b[0m \u001b[0;32mnot\u001b[0m \u001b[0;32mNone\u001b[0m\u001b[0;34m:\u001b[0m\u001b[0;34m\u001b[0m\u001b[0;34m\u001b[0m\u001b[0m\n\u001b[0;32m---> 87\u001b[0;31m                     \u001b[0mdefault_val\u001b[0m \u001b[0;34m=\u001b[0m \u001b[0mdefault_getter\u001b[0m\u001b[0;34m(\u001b[0m\u001b[0mweb3\u001b[0m\u001b[0;34m,\u001b[0m \u001b[0mtransaction\u001b[0m\u001b[0;34m)\u001b[0m\u001b[0;34m\u001b[0m\u001b[0;34m\u001b[0m\u001b[0m\n\u001b[0m\u001b[1;32m     88\u001b[0m                 \u001b[0;32melse\u001b[0m\u001b[0;34m:\u001b[0m\u001b[0;34m\u001b[0m\u001b[0;34m\u001b[0m\u001b[0m\n\u001b[1;32m     89\u001b[0m                     \u001b[0;32mraise\u001b[0m \u001b[0mValueError\u001b[0m\u001b[0;34m(\u001b[0m\u001b[0;34m\"You must specify %s in the transaction\"\u001b[0m \u001b[0;34m%\u001b[0m \u001b[0mkey\u001b[0m\u001b[0;34m)\u001b[0m\u001b[0;34m\u001b[0m\u001b[0;34m\u001b[0m\u001b[0m\n",
      "\u001b[0;32m~/.local/lib/python3.8/site-packages/web3/_utils/transactions.py\u001b[0m in \u001b[0;36m<lambda>\u001b[0;34m(web3, tx)\u001b[0m\n\u001b[1;32m     53\u001b[0m     \u001b[0;34m'value'\u001b[0m\u001b[0;34m:\u001b[0m \u001b[0;36m0\u001b[0m\u001b[0;34m,\u001b[0m\u001b[0;34m\u001b[0m\u001b[0;34m\u001b[0m\u001b[0m\n\u001b[1;32m     54\u001b[0m     \u001b[0;34m'data'\u001b[0m\u001b[0;34m:\u001b[0m \u001b[0;34mb''\u001b[0m\u001b[0;34m,\u001b[0m\u001b[0;34m\u001b[0m\u001b[0;34m\u001b[0m\u001b[0m\n\u001b[0;32m---> 55\u001b[0;31m     \u001b[0;34m'gas'\u001b[0m\u001b[0;34m:\u001b[0m \u001b[0;32mlambda\u001b[0m \u001b[0mweb3\u001b[0m\u001b[0;34m,\u001b[0m \u001b[0mtx\u001b[0m\u001b[0;34m:\u001b[0m \u001b[0mweb3\u001b[0m\u001b[0;34m.\u001b[0m\u001b[0meth\u001b[0m\u001b[0;34m.\u001b[0m\u001b[0mestimateGas\u001b[0m\u001b[0;34m(\u001b[0m\u001b[0mtx\u001b[0m\u001b[0;34m)\u001b[0m\u001b[0;34m,\u001b[0m\u001b[0;34m\u001b[0m\u001b[0;34m\u001b[0m\u001b[0m\n\u001b[0m\u001b[1;32m     56\u001b[0m     \u001b[0;34m'gasPrice'\u001b[0m\u001b[0;34m:\u001b[0m \u001b[0;32mlambda\u001b[0m \u001b[0mweb3\u001b[0m\u001b[0;34m,\u001b[0m \u001b[0mtx\u001b[0m\u001b[0;34m:\u001b[0m \u001b[0mweb3\u001b[0m\u001b[0;34m.\u001b[0m\u001b[0meth\u001b[0m\u001b[0;34m.\u001b[0m\u001b[0mgenerateGasPrice\u001b[0m\u001b[0;34m(\u001b[0m\u001b[0mtx\u001b[0m\u001b[0;34m)\u001b[0m \u001b[0;32mor\u001b[0m \u001b[0mweb3\u001b[0m\u001b[0;34m.\u001b[0m\u001b[0meth\u001b[0m\u001b[0;34m.\u001b[0m\u001b[0mgasPrice\u001b[0m\u001b[0;34m,\u001b[0m\u001b[0;34m\u001b[0m\u001b[0;34m\u001b[0m\u001b[0m\n\u001b[1;32m     57\u001b[0m     \u001b[0;34m'chainId'\u001b[0m\u001b[0;34m:\u001b[0m \u001b[0;32mlambda\u001b[0m \u001b[0mweb3\u001b[0m\u001b[0;34m,\u001b[0m \u001b[0mtx\u001b[0m\u001b[0;34m:\u001b[0m \u001b[0mweb3\u001b[0m\u001b[0;34m.\u001b[0m\u001b[0meth\u001b[0m\u001b[0;34m.\u001b[0m\u001b[0mchainId\u001b[0m\u001b[0;34m,\u001b[0m\u001b[0;34m\u001b[0m\u001b[0;34m\u001b[0m\u001b[0m\n",
      "\u001b[0;32m~/.local/lib/python3.8/site-packages/web3/eth.py\u001b[0m in \u001b[0;36mestimateGas\u001b[0;34m(self, transaction, block_identifier)\u001b[0m\n\u001b[1;32m    446\u001b[0m             \u001b[0mparams\u001b[0m \u001b[0;34m=\u001b[0m \u001b[0;34m[\u001b[0m\u001b[0mtransaction\u001b[0m\u001b[0;34m,\u001b[0m \u001b[0mblock_identifier\u001b[0m\u001b[0;34m]\u001b[0m\u001b[0;34m\u001b[0m\u001b[0;34m\u001b[0m\u001b[0m\n\u001b[1;32m    447\u001b[0m \u001b[0;34m\u001b[0m\u001b[0m\n\u001b[0;32m--> 448\u001b[0;31m         return self.web3.manager.request_blocking(\n\u001b[0m\u001b[1;32m    449\u001b[0m             \u001b[0mRPC\u001b[0m\u001b[0;34m.\u001b[0m\u001b[0meth_estimateGas\u001b[0m\u001b[0;34m,\u001b[0m\u001b[0;34m\u001b[0m\u001b[0;34m\u001b[0m\u001b[0m\n\u001b[1;32m    450\u001b[0m             \u001b[0mparams\u001b[0m\u001b[0;34m,\u001b[0m\u001b[0;34m\u001b[0m\u001b[0;34m\u001b[0m\u001b[0m\n",
      "\u001b[0;32m~/.local/lib/python3.8/site-packages/web3/manager.py\u001b[0m in \u001b[0;36mrequest_blocking\u001b[0;34m(self, method, params, error_formatters)\u001b[0m\n\u001b[1;32m    151\u001b[0m         \u001b[0;32mif\u001b[0m \u001b[0;34m\"error\"\u001b[0m \u001b[0;32min\u001b[0m \u001b[0mresponse\u001b[0m\u001b[0;34m:\u001b[0m\u001b[0;34m\u001b[0m\u001b[0;34m\u001b[0m\u001b[0m\n\u001b[1;32m    152\u001b[0m             \u001b[0mapply_error_formatters\u001b[0m\u001b[0;34m(\u001b[0m\u001b[0merror_formatters\u001b[0m\u001b[0;34m,\u001b[0m \u001b[0mresponse\u001b[0m\u001b[0;34m)\u001b[0m\u001b[0;34m\u001b[0m\u001b[0;34m\u001b[0m\u001b[0m\n\u001b[0;32m--> 153\u001b[0;31m             \u001b[0;32mraise\u001b[0m \u001b[0mValueError\u001b[0m\u001b[0;34m(\u001b[0m\u001b[0mresponse\u001b[0m\u001b[0;34m[\u001b[0m\u001b[0;34m\"error\"\u001b[0m\u001b[0;34m]\u001b[0m\u001b[0;34m)\u001b[0m\u001b[0;34m\u001b[0m\u001b[0;34m\u001b[0m\u001b[0m\n\u001b[0m\u001b[1;32m    154\u001b[0m \u001b[0;34m\u001b[0m\u001b[0m\n\u001b[1;32m    155\u001b[0m         \u001b[0;32mreturn\u001b[0m \u001b[0mresponse\u001b[0m\u001b[0;34m[\u001b[0m\u001b[0;34m'result'\u001b[0m\u001b[0;34m]\u001b[0m\u001b[0;34m\u001b[0m\u001b[0;34m\u001b[0m\u001b[0m\n",
      "\u001b[0;31mValueError\u001b[0m: {'message': 'VM Exception while processing transaction: revert ERC721: owner query for nonexistent token', 'code': -32000, 'data': {'stack': 'c: VM Exception while processing transaction: revert ERC721: owner query for nonexistent token\\n    at Function.c.fromResults (/home/skyap/.nvm/versions/node/v14.15.1/lib/node_modules/ganache-cli/build/ganache-core.node.cli.js:4:192416)\\n    at e.exports (/home/skyap/.nvm/versions/node/v14.15.1/lib/node_modules/ganache-cli/build/ganache-core.node.cli.js:55:2089395)', 'name': 'c'}}"
     ]
    }
   ],
   "source": [
    "nonce = w3.eth.getTransactionCount(public_address)\n",
    "signed_rawTransaction = sign_transaction(w3,contract.functions.deactive_token,[1],public_address,private_key,nonce)\n",
    "tx_hash = w3.eth.sendRawTransaction(signed_rawTransaction)\n",
    "w3.eth.waitForTransactionReceipt(tx_hash)"
   ]
  },
  {
   "cell_type": "code",
   "execution_count": null,
   "metadata": {},
   "outputs": [],
   "source": []
  },
  {
   "cell_type": "code",
   "execution_count": null,
   "metadata": {},
   "outputs": [],
   "source": []
  }
 ],
 "metadata": {
  "kernelspec": {
   "display_name": "Python 3",
   "language": "python",
   "name": "python3"
  },
  "language_info": {
   "codemirror_mode": {
    "name": "ipython",
    "version": 3
   },
   "file_extension": ".py",
   "mimetype": "text/x-python",
   "name": "python",
   "nbconvert_exporter": "python",
   "pygments_lexer": "ipython3",
   "version": "3.8.5"
  }
 },
 "nbformat": 4,
 "nbformat_minor": 4
}
