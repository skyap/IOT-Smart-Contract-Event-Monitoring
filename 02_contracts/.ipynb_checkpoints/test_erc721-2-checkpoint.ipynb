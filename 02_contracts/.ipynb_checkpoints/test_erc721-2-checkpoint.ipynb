{
 "cells": [
  {
   "cell_type": "markdown",
   "metadata": {},
   "source": [
    "# Deploy Contracts"
   ]
  },
  {
   "cell_type": "markdown",
   "metadata": {},
   "source": [
    "## Connect to Node"
   ]
  },
  {
   "cell_type": "code",
   "execution_count": 1,
   "metadata": {},
   "outputs": [],
   "source": [
    "import plotly.io as pio\n",
    "pio.renderers.default='notebook'"
   ]
  },
  {
   "cell_type": "code",
   "execution_count": 1,
   "metadata": {},
   "outputs": [],
   "source": [
    "import web3\n",
    "from web3 import Web3\n",
    "import json\n",
    "import random\n",
    "import time"
   ]
  },
  {
   "cell_type": "code",
   "execution_count": 2,
   "metadata": {},
   "outputs": [
    {
     "name": "stdout",
     "output_type": "stream",
     "text": [
      "Connection: True\n"
     ]
    }
   ],
   "source": [
    "url = \"http://0.0.0.0:7545\"\n",
    "w3 = Web3(Web3.HTTPProvider(url))\n",
    "print(\"Connection:\",w3.isConnected())"
   ]
  },
  {
   "cell_type": "markdown",
   "metadata": {},
   "source": [
    "# Set Account Manager"
   ]
  },
  {
   "cell_type": "code",
   "execution_count": 3,
   "metadata": {},
   "outputs": [
    {
     "data": {
      "text/plain": [
       "['0x9D697a5260E8CA37Ed108aD0aD6C1db89372215a',\n",
       " '0x9CE16D3FD6ff57fdB0fAc87A26d68eA1aba1CD84',\n",
       " '0x8b209A17cF107aa6D4533AF8388818F67d9eC6E0',\n",
       " '0x163C48d98c3Bf043dC0AcE13CaDc879dEcceBdDe',\n",
       " '0x3279A2bE5ea3403c1E1670553A589f94F5410E63',\n",
       " '0xf73f1cc9E75C21C700c16Eb7b36BE3079371faa9',\n",
       " '0xc782ee0842eeC2Eac393bfb49cdc6dD616Bc21dc',\n",
       " '0x7Bdb0135CaDD8CfAB414B9A3c2E24B7368A23B18',\n",
       " '0xa9b41829dae8F062Ae7CF56Eb45B84BDe1F2b89D',\n",
       " '0xDC8D2De2fEEEd6abb85df1877CDe6566623a9fcA']"
      ]
     },
     "execution_count": 3,
     "metadata": {},
     "output_type": "execute_result"
    }
   ],
   "source": [
    "w3.eth.accounts"
   ]
  },
  {
   "cell_type": "code",
   "execution_count": 4,
   "metadata": {},
   "outputs": [
    {
     "name": "stdout",
     "output_type": "stream",
     "text": [
      "100000000000000000000\n",
      "100000000000000000000\n"
     ]
    }
   ],
   "source": [
    "print(w3.eth.getBalance(w3.eth.accounts[0]))\n",
    "print(w3.eth.getBalance(w3.eth.accounts[1]))"
   ]
  },
  {
   "cell_type": "code",
   "execution_count": 5,
   "metadata": {},
   "outputs": [],
   "source": [
    "manager = w3.eth.accounts[0]\n",
    "w3.eth.defaultAccount = manager"
   ]
  },
  {
   "cell_type": "markdown",
   "metadata": {},
   "source": [
    "## Compile Contracts"
   ]
  },
  {
   "cell_type": "code",
   "execution_count": 6,
   "metadata": {},
   "outputs": [],
   "source": [
    "from solcx import compile_files,get_solc_version,get_installed_solc_versions"
   ]
  },
  {
   "cell_type": "code",
   "execution_count": 7,
   "metadata": {},
   "outputs": [
    {
     "name": "stdout",
     "output_type": "stream",
     "text": [
      "0.6.9+commit.3e3065ac.Linux.gpp\n",
      "['v0.6.10', 'v0.6.9']\n"
     ]
    }
   ],
   "source": [
    "print(get_solc_version())\n",
    "print(get_installed_solc_versions())"
   ]
  },
  {
   "cell_type": "code",
   "execution_count": 8,
   "metadata": {},
   "outputs": [],
   "source": [
    "contracts = compile_files([\"./ERC721-2.sol\"])"
   ]
  },
  {
   "cell_type": "code",
   "execution_count": 9,
   "metadata": {},
   "outputs": [
    {
     "data": {
      "text/plain": [
       "dict_keys(['./ERC721-2.sol:Address', './ERC721-2.sol:AgliveCore', './ERC721-2.sol:Context', './ERC721-2.sol:Counters', './ERC721-2.sol:ERC165', './ERC721-2.sol:ERC721', './ERC721-2.sol:EnumerableMap', './ERC721-2.sol:EnumerableSet', './ERC721-2.sol:IERC165', './ERC721-2.sol:IERC721', './ERC721-2.sol:IERC721Enumerable', './ERC721-2.sol:IERC721Metadata', './ERC721-2.sol:IERC721Receiver', './ERC721-2.sol:Ownable', './ERC721-2.sol:SafeMath', './ERC721-2.sol:StringAndBytes', './ERC721-2.sol:Strings'])"
      ]
     },
     "execution_count": 9,
     "metadata": {},
     "output_type": "execute_result"
    }
   ],
   "source": [
    "contracts.keys()"
   ]
  },
  {
   "cell_type": "code",
   "execution_count": 10,
   "metadata": {},
   "outputs": [],
   "source": [
    "deployment_compiled = contracts[\"./ERC721-2.sol:AgliveCore\"]"
   ]
  },
  {
   "cell_type": "markdown",
   "metadata": {},
   "source": [
    "## Save Abi and Bytecode for Future Use"
   ]
  },
  {
   "cell_type": "code",
   "execution_count": 11,
   "metadata": {},
   "outputs": [],
   "source": [
    "with open(\"abi.txt\",\"w\") as f:\n",
    "    json.dump(deployment_compiled['abi'],f)\n",
    "with open(\"bytecode.txt\",\"w\") as f:\n",
    "    f.write(deployment_compiled['bin'])"
   ]
  },
  {
   "cell_type": "markdown",
   "metadata": {},
   "source": [
    "## Deploy Contract"
   ]
  },
  {
   "cell_type": "code",
   "execution_count": 12,
   "metadata": {},
   "outputs": [
    {
     "name": "stdout",
     "output_type": "stream",
     "text": [
      "gas: 3,368,548\n",
      "ether: 0.0033685480000000003\n",
      "USD: 0.8084515200000001\n"
     ]
    }
   ],
   "source": [
    "deployment = w3.eth.contract(abi = deployment_compiled['abi'],bytecode = deployment_compiled['bin'])\n",
    "estimate_gas = deployment.constructor().estimateGas(transaction=None)\n",
    "print(f'gas: {estimate_gas:,}')\n",
    "print(f'ether: {estimate_gas*0.000000001:,}')\n",
    "print(f'USD: {estimate_gas*0.000000001*240:,}')"
   ]
  },
  {
   "cell_type": "code",
   "execution_count": 13,
   "metadata": {},
   "outputs": [],
   "source": [
    "from web3.middleware import geth_poa_middleware\n",
    "if web3.__version__.split(\".\")[0] == \"4\":\n",
    "    w3.middleware_stack.inject(geth_poa_middleware,layer=0)\n",
    "else:\n",
    "    w3.middleware_onion.inject(geth_poa_middleware,layer=0)"
   ]
  },
  {
   "cell_type": "code",
   "execution_count": 14,
   "metadata": {},
   "outputs": [
    {
     "name": "stdout",
     "output_type": "stream",
     "text": [
      "Contract Address: 0x2a801728D0210F3CaAb046205ebEf955639C72b2\n"
     ]
    }
   ],
   "source": [
    "tx_hash = deployment.constructor().transact()\n",
    "tx_receipt = w3.eth.waitForTransactionReceipt(tx_hash)\n",
    "print(\"Contract Address:\",tx_receipt.contractAddress)"
   ]
  },
  {
   "cell_type": "code",
   "execution_count": 15,
   "metadata": {},
   "outputs": [
    {
     "data": {
      "text/plain": [
       "3368548"
      ]
     },
     "execution_count": 15,
     "metadata": {},
     "output_type": "execute_result"
    }
   ],
   "source": [
    "tx_receipt['gasUsed']"
   ]
  },
  {
   "cell_type": "markdown",
   "metadata": {},
   "source": [
    "## Save contract address"
   ]
  },
  {
   "cell_type": "code",
   "execution_count": 16,
   "metadata": {},
   "outputs": [],
   "source": [
    "with open(\"contracts.txt\",\"w\") as f:\n",
    "    f.write(tx_receipt.contractAddress)"
   ]
  },
  {
   "cell_type": "code",
   "execution_count": null,
   "metadata": {},
   "outputs": [],
   "source": []
  },
  {
   "cell_type": "markdown",
   "metadata": {},
   "source": [
    "# Interact with Contract In Ethereum Blockchain Using Contract Address and ABI\n",
    "some time you wanna continue transactions without restart the whole process above"
   ]
  },
  {
   "cell_type": "code",
   "execution_count": 1,
   "metadata": {},
   "outputs": [],
   "source": [
    "from web3 import Web3\n",
    "import json\n",
    "import random\n",
    "import time\n",
    "import web3"
   ]
  },
  {
   "cell_type": "code",
   "execution_count": 2,
   "metadata": {},
   "outputs": [
    {
     "name": "stdout",
     "output_type": "stream",
     "text": [
      "Connection: True\n"
     ]
    }
   ],
   "source": [
    "url = \"http://0.0.0.0:7545\"\n",
    "w3 = Web3(Web3.HTTPProvider(url))\n",
    "print(\"Connection:\",w3.isConnected())"
   ]
  },
  {
   "cell_type": "code",
   "execution_count": 3,
   "metadata": {},
   "outputs": [],
   "source": [
    "from web3.middleware import geth_poa_middleware\n",
    "if web3.__version__.split(\".\")[0] == \"4\":\n",
    "    w3.middleware_stack.inject(geth_poa_middleware,layer=0)\n",
    "else:\n",
    "    w3.middleware_onion.inject(geth_poa_middleware,layer=0)"
   ]
  },
  {
   "cell_type": "code",
   "execution_count": 4,
   "metadata": {},
   "outputs": [],
   "source": [
    "manager = w3.eth.accounts[0]\n",
    "w3.eth.defaultAccount = manager"
   ]
  },
  {
   "cell_type": "code",
   "execution_count": 5,
   "metadata": {},
   "outputs": [],
   "source": [
    "with open(\"contracts.txt\",\"r\") as f:\n",
    "    contract_address = f.read()\n",
    "with open(\"abi.txt\",\"r\") as f:\n",
    "    abi = f.read()"
   ]
  },
  {
   "cell_type": "markdown",
   "metadata": {},
   "source": [
    "## List of Functions in the Contract"
   ]
  },
  {
   "cell_type": "code",
   "execution_count": 6,
   "metadata": {},
   "outputs": [
    {
     "data": {
      "text/plain": [
       "['abi',\n",
       " 'add_token_activity',\n",
       " 'address',\n",
       " 'approve',\n",
       " 'balanceOf',\n",
       " 'baseURI',\n",
       " 'create_token',\n",
       " 'deactive_token',\n",
       " 'getApproved',\n",
       " 'get_token_by_id',\n",
       " 'isApprovedForAll',\n",
       " 'name',\n",
       " 'owner',\n",
       " 'ownerOf',\n",
       " 'safeTransferFrom',\n",
       " 'setApprovalForAll',\n",
       " 'supportsInterface',\n",
       " 'symbol',\n",
       " 'tokenByIndex',\n",
       " 'tokenOfOwnerByIndex',\n",
       " 'tokenURI',\n",
       " 'totalSupply',\n",
       " 'total_supply',\n",
       " 'transferFrom',\n",
       " 'transferOwnership',\n",
       " 'update_token_detail',\n",
       " 'web3']"
      ]
     },
     "execution_count": 6,
     "metadata": {},
     "output_type": "execute_result"
    }
   ],
   "source": [
    "contract = w3.eth.contract(address=contract_address,abi=abi)\n",
    "[a for a in dir(contract.functions) if a[0]!=\"_\"]"
   ]
  },
  {
   "cell_type": "code",
   "execution_count": 7,
   "metadata": {},
   "outputs": [
    {
     "data": {
      "text/plain": [
       "'2407500600'"
      ]
     },
     "execution_count": 7,
     "metadata": {},
     "output_type": "execute_result"
    }
   ],
   "source": [
    "import random\n",
    "import string\n",
    "import numpy as np\n",
    "import json\n",
    "trump = open('speeches.txt', encoding='utf8').read()\n",
    "\n",
    "corpus = trump.encode(\"ascii\", \"ignore\").decode().replace(\"\\\"\",\"\").split()\n",
    "\n",
    "def make_pairs(corpus):\n",
    "    for i in range(len(corpus)-1):\n",
    "        yield (corpus[i], corpus[i+1])\n",
    "        \n",
    "pairs = make_pairs(corpus)\n",
    "\n",
    "word_dict = {}\n",
    "\n",
    "for word_1, word_2 in pairs:\n",
    "    if word_1 in word_dict.keys():\n",
    "        word_dict[word_1].append(word_2)\n",
    "    else:\n",
    "        word_dict[word_1] = [word_2] \n",
    "        \n",
    "def random_text(n_words):\n",
    "    first_word = np.random.choice(corpus)\n",
    "\n",
    "    while first_word.islower():\n",
    "        first_word = np.random.choice(corpus)\n",
    "\n",
    "    chain = [first_word]\n",
    "\n",
    "    for i in range(n_words):\n",
    "        chain.append(np.random.choice(word_dict[chain[-1]]))\n",
    "\n",
    "    return ' '.join(chain)   \n",
    "\n",
    "def token_type(x=4):\n",
    "    return random.randint(0,x)\n",
    "\n",
    "def token_external_id(lettersCount=0, digitsCount=10):\n",
    "    sampleStr = ''.join((random.choice(string.ascii_letters) for i in range(lettersCount)))\n",
    "    sampleStr += ''.join((random.choice(string.digits) for i in range(digitsCount)))\n",
    "    sampleList = list(sampleStr)\n",
    "    random.shuffle(sampleList)\n",
    "    finalString = ''.join(sampleList)\n",
    "    return finalString     \n",
    "\n",
    "def token_detail():\n",
    "    return random_text(random.randint(10,20))\n",
    "    \n",
    "def token_activity():\n",
    "    activity_data = {}\n",
    "    for i in range(random.randint(1,10)):\n",
    "        activity_data[i] = random_text(random.randint(1,10))\n",
    "\n",
    "    return [str(f\"{i},{v}\") for i,v in activity_data.items()]\n",
    "\n",
    "token_external_id()    "
   ]
  },
  {
   "cell_type": "code",
   "execution_count": 8,
   "metadata": {},
   "outputs": [
    {
     "data": {
      "text/plain": [
       "{'a': 1, 'b': {'c': 3}}"
      ]
     },
     "execution_count": 8,
     "metadata": {},
     "output_type": "execute_result"
    }
   ],
   "source": [
    "a={\"a\":1,\"b\":{\"c\":3}}\n",
    "b = a.__str__()\n",
    "json.loads(b.replace(\"'\", \"\\\"\"))"
   ]
  },
  {
   "cell_type": "code",
   "execution_count": 9,
   "metadata": {},
   "outputs": [
    {
     "data": {
      "text/plain": [
       "1.0"
      ]
     },
     "execution_count": 9,
     "metadata": {},
     "output_type": "execute_result"
    }
   ],
   "source": [
    "p_new_token = 0.5\n",
    "p_update_token_activity = 0.45\n",
    "p_update_token_detail = 0.04\n",
    "p_deactivate_token = 0.01\n",
    "processes_probability_distribution = [p_deactivate_token,p_update_token_detail,p_update_token_activity,p_new_token]\n",
    "sum(processes_probability_distribution)"
   ]
  },
  {
   "cell_type": "code",
   "execution_count": 10,
   "metadata": {},
   "outputs": [
    {
     "name": "stdout",
     "output_type": "stream",
     "text": [
      "create_token=>token_id 1\n",
      "add_token_activity=>token_id 1\n",
      "add_token_activity=>token_id 1\n",
      "add_token_activity=>token_id 1\n",
      "add_token_activity=>token_id 1\n",
      "create_token=>token_id 2\n",
      "add_token_activity=>token_id 2\n",
      "add_token_activity=>token_id 1\n",
      "create_token=>token_id 3\n",
      "add_token_activity=>token_id 2\n",
      "create_token=>token_id 4\n",
      "add_token_activity=>token_id 1\n",
      "create_token=>token_id 5\n",
      "create_token=>token_id 6\n",
      "add_token_activity=>token_id 2\n",
      "add_token_activity=>token_id 1\n",
      "add_token_activity=>token_id 2\n",
      "update_token_detail=>token_id 2\n",
      "create_token=>token_id 7\n",
      "create_token=>token_id 8\n",
      "create_token=>token_id 9\n",
      "add_token_activity=>token_id 6\n",
      "create_token=>token_id 10\n",
      "create_token=>token_id 11\n",
      "create_token=>token_id 12\n",
      "create_token=>token_id 13\n",
      "add_token_activity=>token_id 4\n",
      "create_token=>token_id 14\n",
      "add_token_activity=>token_id 7\n",
      "create_token=>token_id 15\n",
      "create_token=>token_id 16\n",
      "create_token=>token_id 17\n",
      "create_token=>token_id 18\n",
      "add_token_activity=>token_id 1\n",
      "add_token_activity=>token_id 5\n",
      "add_token_activity=>token_id 11\n",
      "create_token=>token_id 19\n",
      "add_token_activity=>token_id 12\n",
      "add_token_activity=>token_id 4\n",
      "create_token=>token_id 20\n",
      "create_token=>token_id 21\n",
      "create_token=>token_id 22\n",
      "create_token=>token_id 23\n",
      "add_token_activity=>token_id 12\n",
      "create_token=>token_id 24\n",
      "create_token=>token_id 25\n",
      "create_token=>token_id 26\n",
      "create_token=>token_id 27\n",
      "update_token_detail=>token_id 3\n",
      "create_token=>token_id 28\n",
      "update_token_detail=>token_id 23\n",
      "add_token_activity=>token_id 1\n",
      "create_token=>token_id 29\n",
      "add_token_activity=>token_id 20\n",
      "add_token_activity=>token_id 25\n",
      "create_token=>token_id 30\n",
      "add_token_activity=>token_id 11\n",
      "add_token_activity=>token_id 21\n",
      "create_token=>token_id 31\n",
      "create_token=>token_id 32\n",
      "create_token=>token_id 33\n",
      "create_token=>token_id 34\n",
      "add_token_activity=>token_id 34\n",
      "create_token=>token_id 35\n",
      "create_token=>token_id 36\n",
      "add_token_activity=>token_id 16\n",
      "add_token_activity=>token_id 13\n",
      "create_token=>token_id 37\n",
      "create_token=>token_id 38\n",
      "create_token=>token_id 39\n",
      "create_token=>token_id 40\n",
      "create_token=>token_id 41\n",
      "add_token_activity=>token_id 6\n",
      "add_token_activity=>token_id 31\n",
      "create_token=>token_id 42\n",
      "add_token_activity=>token_id 7\n",
      "add_token_activity=>token_id 36\n",
      "add_token_activity=>token_id 23\n",
      "create_token=>token_id 43\n",
      "add_token_activity=>token_id 23\n",
      "add_token_activity=>token_id 43\n",
      "add_token_activity=>token_id 5\n",
      "create_token=>token_id 44\n",
      "create_token=>token_id 45\n",
      "add_token_activity=>token_id 8\n",
      "create_token=>token_id 46\n",
      "add_token_activity=>token_id 12\n",
      "add_token_activity=>token_id 40\n",
      "create_token=>token_id 47\n",
      "update_token_detail=>token_id 31\n",
      "create_token=>token_id 48\n",
      "create_token=>token_id 49\n",
      "create_token=>token_id 50\n",
      "add_token_activity=>token_id 13\n",
      "add_token_activity=>token_id 15\n",
      "create_token=>token_id 51\n",
      "create_token=>token_id 52\n",
      "create_token=>token_id 53\n",
      "add_token_activity=>token_id 5\n",
      "add_token_activity=>token_id 15\n",
      "create_token=>token_id 54\n",
      "create_token=>token_id 55\n",
      "create_token=>token_id 56\n",
      "create_token=>token_id 57\n",
      "add_token_activity=>token_id 57\n",
      "create_token=>token_id 58\n",
      "add_token_activity=>token_id 54\n",
      "create_token=>token_id 59\n",
      "create_token=>token_id 60\n",
      "add_token_activity=>token_id 57\n",
      "create_token=>token_id 61\n",
      "create_token=>token_id 62\n",
      "add_token_activity=>token_id 2\n",
      "create_token=>token_id 63\n",
      "create_token=>token_id 64\n",
      "create_token=>token_id 65\n",
      "add_token_activity=>token_id 22\n",
      "create_token=>token_id 66\n",
      "add_token_activity=>token_id 50\n",
      "create_token=>token_id 67\n",
      "create_token=>token_id 68\n",
      "add_token_activity=>token_id 62\n",
      "add_token_activity=>token_id 52\n",
      "add_token_activity=>token_id 39\n",
      "create_token=>token_id 69\n",
      "add_token_activity=>token_id 57\n",
      "add_token_activity=>token_id 26\n",
      "create_token=>token_id 70\n",
      "create_token=>token_id 71\n",
      "add_token_activity=>token_id 48\n",
      "create_token=>token_id 72\n",
      "create_token=>token_id 73\n",
      "add_token_activity=>token_id 66\n",
      "add_token_activity=>token_id 16\n",
      "add_token_activity=>token_id 24\n",
      "add_token_activity=>token_id 9\n",
      "add_token_activity=>token_id 18\n",
      "create_token=>token_id 74\n",
      "create_token=>token_id 75\n",
      "create_token=>token_id 76\n",
      "add_token_activity=>token_id 64\n",
      "create_token=>token_id 77\n",
      "add_token_activity=>token_id 58\n",
      "add_token_activity=>token_id 61\n",
      "add_token_activity=>token_id 3\n",
      "create_token=>token_id 78\n",
      "create_token=>token_id 79\n",
      "add_token_activity=>token_id 6\n",
      "create_token=>token_id 80\n",
      "add_token_activity=>token_id 48\n",
      "add_token_activity=>token_id 61\n",
      "add_token_activity=>token_id 29\n",
      "add_token_activity=>token_id 69\n",
      "create_token=>token_id 81\n",
      "add_token_activity=>token_id 46\n",
      "add_token_activity=>token_id 36\n",
      "add_token_activity=>token_id 35\n",
      "create_token=>token_id 82\n",
      "create_token=>token_id 83\n",
      "create_token=>token_id 84\n",
      "create_token=>token_id 85\n",
      "add_token_activity=>token_id 2\n",
      "add_token_activity=>token_id 19\n",
      "create_token=>token_id 86\n",
      "create_token=>token_id 87\n",
      "add_token_activity=>token_id 78\n",
      "create_token=>token_id 88\n",
      "create_token=>token_id 89\n",
      "add_token_activity=>token_id 37\n",
      "create_token=>token_id 90\n",
      "add_token_activity=>token_id 7\n",
      "create_token=>token_id 91\n",
      "create_token=>token_id 92\n",
      "create_token=>token_id 93\n",
      "create_token=>token_id 94\n",
      "create_token=>token_id 95\n",
      "create_token=>token_id 96\n",
      "add_token_activity=>token_id 21\n",
      "add_token_activity=>token_id 84\n",
      "add_token_activity=>token_id 61\n",
      "create_token=>token_id 97\n",
      "create_token=>token_id 98\n",
      "create_token=>token_id 99\n",
      "create_token=>token_id 100\n",
      "add_token_activity=>token_id 16\n",
      "add_token_activity=>token_id 24\n",
      "create_token=>token_id 101\n",
      "add_token_activity=>token_id 35\n",
      "create_token=>token_id 102\n",
      "add_token_activity=>token_id 56\n",
      "add_token_activity=>token_id 55\n",
      "create_token=>token_id 103\n",
      "create_token=>token_id 104\n",
      "add_token_activity=>token_id 3\n",
      "create_token=>token_id 105\n",
      "update_token_detail=>token_id 40\n",
      "add_token_activity=>token_id 21\n",
      "create_token=>token_id 106\n",
      "create_token=>token_id 107\n",
      "add_token_activity=>token_id 34\n",
      "create_token=>token_id 108\n",
      "add_token_activity=>token_id 83\n",
      "add_token_activity=>token_id 53\n",
      "add_token_activity=>token_id 80\n",
      "create_token=>token_id 109\n",
      "create_token=>token_id 110\n",
      "create_token=>token_id 111\n",
      "create_token=>token_id 112\n",
      "create_token=>token_id 113\n",
      "add_token_activity=>token_id 57\n",
      "create_token=>token_id 114\n",
      "add_token_activity=>token_id 29\n",
      "add_token_activity=>token_id 71\n",
      "add_token_activity=>token_id 35\n",
      "add_token_activity=>token_id 111\n",
      "add_token_activity=>token_id 114\n",
      "create_token=>token_id 115\n",
      "create_token=>token_id 116\n",
      "add_token_activity=>token_id 58\n",
      "create_token=>token_id 117\n",
      "create_token=>token_id 118\n",
      "add_token_activity=>token_id 27\n",
      "add_token_activity=>token_id 46\n",
      "add_token_activity=>token_id 11\n",
      "create_token=>token_id 119\n",
      "create_token=>token_id 120\n",
      "add_token_activity=>token_id 24\n",
      "create_token=>token_id 121\n",
      "add_token_activity=>token_id 56\n",
      "add_token_activity=>token_id 26\n",
      "update_token_detail=>token_id 3\n",
      "add_token_activity=>token_id 82\n",
      "add_token_activity=>token_id 76\n",
      "add_token_activity=>token_id 75\n",
      "update_token_detail=>token_id 28\n",
      "create_token=>token_id 122\n",
      "add_token_activity=>token_id 66\n",
      "create_token=>token_id 123\n",
      "add_token_activity=>token_id 65\n",
      "create_token=>token_id 124\n",
      "create_token=>token_id 125\n",
      "update_token_detail=>token_id 31\n",
      "add_token_activity=>token_id 86\n",
      "add_token_activity=>token_id 27\n",
      "add_token_activity=>token_id 123\n",
      "create_token=>token_id 126\n",
      "create_token=>token_id 127\n",
      "create_token=>token_id 128\n",
      "update_token_detail=>token_id 17\n",
      "add_token_activity=>token_id 75\n",
      "create_token=>token_id 129\n",
      "create_token=>token_id 130\n",
      "add_token_activity=>token_id 93\n",
      "add_token_activity=>token_id 122\n",
      "create_token=>token_id 131\n",
      "create_token=>token_id 132\n",
      "add_token_activity=>token_id 94\n",
      "add_token_activity=>token_id 71\n",
      "add_token_activity=>token_id 113\n",
      "add_token_activity=>token_id 77\n",
      "add_token_activity=>token_id 48\n",
      "add_token_activity=>token_id 29\n",
      "create_token=>token_id 133\n",
      "create_token=>token_id 134\n",
      "create_token=>token_id 135\n",
      "create_token=>token_id 136\n",
      "add_token_activity=>token_id 113\n",
      "add_token_activity=>token_id 15\n",
      "create_token=>token_id 137\n",
      "create_token=>token_id 138\n",
      "create_token=>token_id 139\n",
      "add_token_activity=>token_id 3\n",
      "add_token_activity=>token_id 120\n",
      "create_token=>token_id 140\n",
      "create_token=>token_id 141\n",
      "create_token=>token_id 142\n",
      "add_token_activity=>token_id 106\n",
      "create_token=>token_id 143\n",
      "add_token_activity=>token_id 34\n",
      "create_token=>token_id 144\n",
      "create_token=>token_id 145\n",
      "create_token=>token_id 146\n",
      "update_token_detail=>token_id 16\n"
     ]
    },
    {
     "name": "stdout",
     "output_type": "stream",
     "text": [
      "create_token=>token_id 147\n",
      "add_token_activity=>token_id 21\n",
      "create_token=>token_id 148\n",
      "create_token=>token_id 149\n",
      "add_token_activity=>token_id 116\n",
      "create_token=>token_id 150\n",
      "add_token_activity=>token_id 14\n",
      "add_token_activity=>token_id 24\n",
      "create_token=>token_id 151\n",
      "create_token=>token_id 152\n",
      "add_token_activity=>token_id 115\n",
      "create_token=>token_id 153\n",
      "add_token_activity=>token_id 63\n",
      "add_token_activity=>token_id 115\n",
      "create_token=>token_id 154\n",
      "create_token=>token_id 155\n",
      "add_token_activity=>token_id 83\n",
      "create_token=>token_id 156\n",
      "add_token_activity=>token_id 21\n",
      "add_token_activity=>token_id 88\n",
      "add_token_activity=>token_id 15\n",
      "create_token=>token_id 157\n",
      "create_token=>token_id 158\n",
      "add_token_activity=>token_id 36\n",
      "create_token=>token_id 159\n",
      "add_token_activity=>token_id 57\n",
      "create_token=>token_id 160\n",
      "create_token=>token_id 161\n",
      "add_token_activity=>token_id 98\n",
      "add_token_activity=>token_id 136\n",
      "create_token=>token_id 162\n",
      "create_token=>token_id 163\n",
      "create_token=>token_id 164\n",
      "create_token=>token_id 165\n",
      "add_token_activity=>token_id 110\n",
      "deactive_token=>token_id 61\n",
      "add_token_activity=>token_id 2\n",
      "create_token=>token_id 166\n",
      "add_token_activity=>token_id 20\n",
      "add_token_activity=>token_id 131\n",
      "add_token_activity=>token_id 157\n",
      "create_token=>token_id 167\n",
      "create_token=>token_id 168\n",
      "add_token_activity=>token_id 156\n",
      "create_token=>token_id 169\n",
      "add_token_activity=>token_id 69\n",
      "add_token_activity=>token_id 146\n",
      "add_token_activity=>token_id 98\n",
      "create_token=>token_id 170\n",
      "add_token_activity=>token_id 125\n",
      "add_token_activity=>token_id 108\n",
      "add_token_activity=>token_id 137\n",
      "create_token=>token_id 171\n",
      "add_token_activity=>token_id 94\n",
      "create_token=>token_id 172\n",
      "add_token_activity=>token_id 95\n",
      "create_token=>token_id 173\n",
      "add_token_activity=>token_id 2\n",
      "create_token=>token_id 174\n",
      "add_token_activity=>token_id 22\n",
      "create_token=>token_id 175\n",
      "create_token=>token_id 176\n",
      "create_token=>token_id 177\n",
      "create_token=>token_id 178\n",
      "add_token_activity=>token_id 173\n",
      "create_token=>token_id 179\n",
      "create_token=>token_id 180\n",
      "create_token=>token_id 181\n",
      "add_token_activity=>token_id 10\n",
      "create_token=>token_id 182\n",
      "create_token=>token_id 183\n",
      "update_token_detail=>token_id 72\n",
      "add_token_activity=>token_id 68\n",
      "create_token=>token_id 184\n",
      "add_token_activity=>token_id 80\n",
      "create_token=>token_id 185\n",
      "add_token_activity=>token_id 181\n",
      "create_token=>token_id 186\n",
      "create_token=>token_id 187\n",
      "create_token=>token_id 188\n",
      "create_token=>token_id 189\n",
      "create_token=>token_id 190\n",
      "create_token=>token_id 191\n",
      "create_token=>token_id 192\n",
      "create_token=>token_id 193\n",
      "create_token=>token_id 194\n",
      "create_token=>token_id 195\n",
      "create_token=>token_id 196\n",
      "create_token=>token_id 197\n",
      "update_token_detail=>token_id 25\n",
      "create_token=>token_id 198\n",
      "add_token_activity=>token_id 97\n",
      "add_token_activity=>token_id 22\n",
      "add_token_activity=>token_id 187\n",
      "add_token_activity=>token_id 146\n",
      "add_token_activity=>token_id 140\n",
      "add_token_activity=>token_id 20\n",
      "add_token_activity=>token_id 78\n",
      "add_token_activity=>token_id 127\n",
      "create_token=>token_id 199\n",
      "add_token_activity=>token_id 112\n",
      "add_token_activity=>token_id 173\n",
      "add_token_activity=>token_id 132\n",
      "deactive_token=>token_id 112\n",
      "create_token=>token_id 200\n",
      "update_token_detail=>token_id 159\n",
      "add_token_activity=>token_id 114\n",
      "add_token_activity=>token_id 159\n",
      "add_token_activity=>token_id 39\n",
      "create_token=>token_id 201\n",
      "add_token_activity=>token_id 124\n",
      "add_token_activity=>token_id 88\n",
      "create_token=>token_id 202\n",
      "add_token_activity=>token_id 71\n",
      "create_token=>token_id 203\n",
      "create_token=>token_id 204\n",
      "create_token=>token_id 205\n",
      "add_token_activity=>token_id 155\n",
      "add_token_activity=>token_id 183\n",
      "create_token=>token_id 206\n",
      "add_token_activity=>token_id 136\n",
      "add_token_activity=>token_id 66\n",
      "create_token=>token_id 207\n",
      "create_token=>token_id 208\n",
      "create_token=>token_id 209\n",
      "create_token=>token_id 210\n",
      "add_token_activity=>token_id 21\n",
      "add_token_activity=>token_id 113\n",
      "create_token=>token_id 211\n",
      "add_token_activity=>token_id 13\n",
      "create_token=>token_id 212\n",
      "create_token=>token_id 213\n",
      "create_token=>token_id 214\n",
      "add_token_activity=>token_id 60\n",
      "create_token=>token_id 215\n",
      "add_token_activity=>token_id 158\n",
      "add_token_activity=>token_id 52\n",
      "create_token=>token_id 216\n",
      "create_token=>token_id 217\n",
      "create_token=>token_id 218\n",
      "create_token=>token_id 219\n",
      "create_token=>token_id 220\n",
      "add_token_activity=>token_id 70\n",
      "create_token=>token_id 221\n",
      "create_token=>token_id 222\n",
      "create_token=>token_id 223\n",
      "create_token=>token_id 224\n",
      "create_token=>token_id 225\n",
      "add_token_activity=>token_id 169\n",
      "add_token_activity=>token_id 160\n",
      "add_token_activity=>token_id 56\n",
      "create_token=>token_id 226\n",
      "add_token_activity=>token_id 169\n",
      "create_token=>token_id 227\n",
      "create_token=>token_id 228\n",
      "create_token=>token_id 229\n",
      "create_token=>token_id 230\n",
      "add_token_activity=>token_id 149\n",
      "create_token=>token_id 231\n",
      "add_token_activity=>token_id 158\n",
      "add_token_activity=>token_id 18\n",
      "add_token_activity=>token_id 23\n",
      "add_token_activity=>token_id 167\n",
      "create_token=>token_id 232\n",
      "add_token_activity=>token_id 213\n",
      "add_token_activity=>token_id 103\n",
      "create_token=>token_id 233\n",
      "create_token=>token_id 234\n",
      "update_token_detail=>token_id 213\n",
      "create_token=>token_id 235\n",
      "create_token=>token_id 236\n",
      "create_token=>token_id 237\n",
      "add_token_activity=>token_id 227\n",
      "add_token_activity=>token_id 215\n",
      "add_token_activity=>token_id 2\n",
      "create_token=>token_id 238\n",
      "update_token_detail=>token_id 176\n",
      "add_token_activity=>token_id 235\n",
      "create_token=>token_id 239\n",
      "create_token=>token_id 240\n",
      "add_token_activity=>token_id 21\n",
      "create_token=>token_id 241\n",
      "add_token_activity=>token_id 70\n",
      "add_token_activity=>token_id 213\n",
      "add_token_activity=>token_id 119\n",
      "create_token=>token_id 242\n",
      "create_token=>token_id 243\n",
      "create_token=>token_id 244\n",
      "add_token_activity=>token_id 82\n",
      "add_token_activity=>token_id 173\n",
      "create_token=>token_id 245\n",
      "create_token=>token_id 246\n",
      "add_token_activity=>token_id 127\n",
      "create_token=>token_id 247\n",
      "create_token=>token_id 248\n",
      "update_token_detail=>token_id 64\n",
      "create_token=>token_id 249\n",
      "add_token_activity=>token_id 104\n",
      "add_token_activity=>token_id 18\n",
      "create_token=>token_id 250\n",
      "add_token_activity=>token_id 44\n",
      "create_token=>token_id 251\n",
      "create_token=>token_id 252\n",
      "add_token_activity=>token_id 97\n",
      "add_token_activity=>token_id 127\n",
      "create_token=>token_id 253\n",
      "add_token_activity=>token_id 195\n",
      "create_token=>token_id 254\n",
      "add_token_activity=>token_id 2\n",
      "add_token_activity=>token_id 252\n",
      "add_token_activity=>token_id 79\n",
      "add_token_activity=>token_id 30\n",
      "add_token_activity=>token_id 251\n",
      "create_token=>token_id 255\n",
      "create_token=>token_id 256\n",
      "add_token_activity=>token_id 195\n",
      "add_token_activity=>token_id 33\n",
      "create_token=>token_id 257\n",
      "add_token_activity=>token_id 187\n",
      "create_token=>token_id 258\n",
      "add_token_activity=>token_id 165\n",
      "create_token=>token_id 259\n",
      "add_token_activity=>token_id 188\n",
      "create_token=>token_id 260\n",
      "add_token_activity=>token_id 76\n",
      "add_token_activity=>token_id 26\n",
      "add_token_activity=>token_id 247\n",
      "create_token=>token_id 261\n",
      "create_token=>token_id 262\n",
      "add_token_activity=>token_id 162\n",
      "update_token_detail=>token_id 231\n",
      "add_token_activity=>token_id 68\n",
      "create_token=>token_id 263\n",
      "add_token_activity=>token_id 155\n",
      "create_token=>token_id 264\n",
      "create_token=>token_id 265\n",
      "add_token_activity=>token_id 239\n",
      "update_token_detail=>token_id 257\n",
      "add_token_activity=>token_id 211\n",
      "create_token=>token_id 266\n",
      "create_token=>token_id 267\n",
      "add_token_activity=>token_id 85\n",
      "add_token_activity=>token_id 245\n",
      "deactive_token=>token_id 108\n",
      "add_token_activity=>token_id 110\n",
      "add_token_activity=>token_id 128\n",
      "update_token_detail=>token_id 31\n",
      "create_token=>token_id 268\n",
      "create_token=>token_id 269\n",
      "create_token=>token_id 270\n",
      "add_token_activity=>token_id 127\n",
      "create_token=>token_id 271\n",
      "create_token=>token_id 272\n",
      "add_token_activity=>token_id 268\n",
      "create_token=>token_id 273\n",
      "create_token=>token_id 274\n",
      "add_token_activity=>token_id 223\n",
      "create_token=>token_id 275\n",
      "update_token_detail=>token_id 12\n",
      "create_token=>token_id 276\n",
      "create_token=>token_id 277\n",
      "add_token_activity=>token_id 245\n",
      "create_token=>token_id 278\n",
      "create_token=>token_id 279\n",
      "add_token_activity=>token_id 140\n",
      "create_token=>token_id 280\n",
      "add_token_activity=>token_id 102\n",
      "add_token_activity=>token_id 204\n",
      "add_token_activity=>token_id 233\n",
      "add_token_activity=>token_id 167\n",
      "create_token=>token_id 281\n",
      "add_token_activity=>token_id 226\n",
      "create_token=>token_id 282\n",
      "create_token=>token_id 283\n",
      "create_token=>token_id 284\n",
      "create_token=>token_id 285\n"
     ]
    },
    {
     "name": "stdout",
     "output_type": "stream",
     "text": [
      "create_token=>token_id 286\n",
      "add_token_activity=>token_id 147\n",
      "add_token_activity=>token_id 262\n",
      "create_token=>token_id 287\n",
      "add_token_activity=>token_id 282\n",
      "add_token_activity=>token_id 7\n",
      "create_token=>token_id 288\n",
      "create_token=>token_id 289\n",
      "create_token=>token_id 290\n",
      "create_token=>token_id 291\n",
      "add_token_activity=>token_id 11\n",
      "add_token_activity=>token_id 79\n",
      "create_token=>token_id 292\n",
      "create_token=>token_id 293\n",
      "add_token_activity=>token_id 3\n",
      "deactive_token=>token_id 242\n",
      "create_token=>token_id 294\n",
      "create_token=>token_id 295\n",
      "add_token_activity=>token_id 4\n",
      "add_token_activity=>token_id 91\n",
      "add_token_activity=>token_id 197\n",
      "add_token_activity=>token_id 76\n",
      "add_token_activity=>token_id 42\n",
      "create_token=>token_id 296\n",
      "add_token_activity=>token_id 137\n",
      "create_token=>token_id 297\n",
      "create_token=>token_id 298\n",
      "create_token=>token_id 299\n",
      "add_token_activity=>token_id 109\n",
      "create_token=>token_id 300\n",
      "add_token_activity=>token_id 8\n",
      "add_token_activity=>token_id 286\n",
      "add_token_activity=>token_id 276\n",
      "create_token=>token_id 301\n",
      "add_token_activity=>token_id 294\n",
      "create_token=>token_id 302\n",
      "add_token_activity=>token_id 203\n",
      "add_token_activity=>token_id 131\n",
      "create_token=>token_id 303\n",
      "create_token=>token_id 304\n",
      "add_token_activity=>token_id 80\n",
      "create_token=>token_id 305\n",
      "create_token=>token_id 306\n",
      "create_token=>token_id 307\n",
      "create_token=>token_id 308\n",
      "create_token=>token_id 309\n",
      "create_token=>token_id 310\n",
      "create_token=>token_id 311\n",
      "add_token_activity=>token_id 74\n",
      "add_token_activity=>token_id 77\n",
      "add_token_activity=>token_id 254\n",
      "create_token=>token_id 312\n",
      "create_token=>token_id 313\n",
      "create_token=>token_id 314\n",
      "update_token_detail=>token_id 219\n",
      "add_token_activity=>token_id 265\n",
      "add_token_activity=>token_id 2\n",
      "add_token_activity=>token_id 241\n",
      "update_token_detail=>token_id 95\n",
      "create_token=>token_id 315\n",
      "create_token=>token_id 316\n",
      "add_token_activity=>token_id 316\n",
      "add_token_activity=>token_id 125\n",
      "add_token_activity=>token_id 92\n",
      "create_token=>token_id 317\n",
      "create_token=>token_id 318\n",
      "create_token=>token_id 319\n",
      "add_token_activity=>token_id 81\n",
      "update_token_detail=>token_id 113\n",
      "create_token=>token_id 320\n",
      "add_token_activity=>token_id 101\n",
      "create_token=>token_id 321\n",
      "add_token_activity=>token_id 157\n",
      "create_token=>token_id 322\n",
      "add_token_activity=>token_id 123\n",
      "create_token=>token_id 323\n",
      "add_token_activity=>token_id 44\n",
      "create_token=>token_id 324\n",
      "create_token=>token_id 325\n",
      "add_token_activity=>token_id 18\n",
      "create_token=>token_id 326\n",
      "create_token=>token_id 327\n",
      "add_token_activity=>token_id 31\n",
      "create_token=>token_id 328\n",
      "create_token=>token_id 329\n",
      "create_token=>token_id 330\n",
      "create_token=>token_id 331\n",
      "create_token=>token_id 332\n",
      "create_token=>token_id 333\n",
      "add_token_activity=>token_id 22\n",
      "add_token_activity=>token_id 307\n",
      "create_token=>token_id 334\n",
      "update_token_detail=>token_id 326\n",
      "add_token_activity=>token_id 114\n",
      "create_token=>token_id 335\n",
      "add_token_activity=>token_id 76\n",
      "add_token_activity=>token_id 333\n",
      "create_token=>token_id 336\n",
      "add_token_activity=>token_id 310\n",
      "create_token=>token_id 337\n",
      "create_token=>token_id 338\n",
      "create_token=>token_id 339\n",
      "update_token_detail=>token_id 54\n",
      "add_token_activity=>token_id 136\n",
      "add_token_activity=>token_id 27\n",
      "add_token_activity=>token_id 271\n",
      "create_token=>token_id 340\n",
      "add_token_activity=>token_id 308\n",
      "create_token=>token_id 341\n",
      "add_token_activity=>token_id 32\n",
      "deactive_token=>token_id 54\n",
      "add_token_activity=>token_id 210\n",
      "add_token_activity=>token_id 188\n",
      "update_token_detail=>token_id 94\n",
      "create_token=>token_id 342\n",
      "create_token=>token_id 343\n",
      "create_token=>token_id 344\n",
      "update_token_detail=>token_id 319\n",
      "add_token_activity=>token_id 252\n",
      "create_token=>token_id 345\n",
      "create_token=>token_id 346\n",
      "add_token_activity=>token_id 9\n",
      "create_token=>token_id 347\n",
      "create_token=>token_id 348\n",
      "update_token_detail=>token_id 320\n",
      "add_token_activity=>token_id 152\n",
      "add_token_activity=>token_id 220\n",
      "create_token=>token_id 349\n",
      "add_token_activity=>token_id 132\n",
      "update_token_detail=>token_id 158\n",
      "add_token_activity=>token_id 39\n",
      "add_token_activity=>token_id 18\n",
      "create_token=>token_id 350\n",
      "create_token=>token_id 351\n",
      "add_token_activity=>token_id 184\n",
      "create_token=>token_id 352\n",
      "create_token=>token_id 353\n",
      "create_token=>token_id 354\n",
      "deactive_token=>token_id 117\n",
      "create_token=>token_id 355\n",
      "add_token_activity=>token_id 205\n",
      "add_token_activity=>token_id 346\n",
      "create_token=>token_id 356\n",
      "add_token_activity=>token_id 220\n",
      "create_token=>token_id 357\n",
      "update_token_detail=>token_id 222\n",
      "add_token_activity=>token_id 146\n",
      "add_token_activity=>token_id 41\n",
      "add_token_activity=>token_id 349\n",
      "add_token_activity=>token_id 243\n",
      "add_token_activity=>token_id 101\n",
      "update_token_detail=>token_id 21\n",
      "add_token_activity=>token_id 320\n",
      "create_token=>token_id 358\n",
      "create_token=>token_id 359\n",
      "add_token_activity=>token_id 180\n",
      "add_token_activity=>token_id 308\n",
      "create_token=>token_id 360\n",
      "create_token=>token_id 361\n",
      "add_token_activity=>token_id 114\n",
      "create_token=>token_id 362\n",
      "create_token=>token_id 363\n",
      "add_token_activity=>token_id 303\n",
      "update_token_detail=>token_id 3\n",
      "create_token=>token_id 364\n",
      "add_token_activity=>token_id 292\n",
      "add_token_activity=>token_id 110\n",
      "create_token=>token_id 365\n",
      "create_token=>token_id 366\n",
      "create_token=>token_id 367\n",
      "create_token=>token_id 368\n",
      "add_token_activity=>token_id 309\n",
      "create_token=>token_id 369\n",
      "create_token=>token_id 370\n",
      "create_token=>token_id 371\n",
      "update_token_detail=>token_id 22\n",
      "add_token_activity=>token_id 369\n",
      "create_token=>token_id 372\n",
      "create_token=>token_id 373\n",
      "create_token=>token_id 374\n",
      "add_token_activity=>token_id 365\n",
      "create_token=>token_id 375\n",
      "add_token_activity=>token_id 346\n",
      "add_token_activity=>token_id 371\n",
      "add_token_activity=>token_id 191\n",
      "add_token_activity=>token_id 246\n",
      "create_token=>token_id 376\n",
      "create_token=>token_id 377\n",
      "add_token_activity=>token_id 238\n",
      "create_token=>token_id 378\n",
      "add_token_activity=>token_id 128\n",
      "add_token_activity=>token_id 238\n",
      "add_token_activity=>token_id 96\n",
      "add_token_activity=>token_id 106\n",
      "create_token=>token_id 379\n",
      "create_token=>token_id 380\n",
      "add_token_activity=>token_id 229\n",
      "create_token=>token_id 381\n",
      "create_token=>token_id 382\n",
      "add_token_activity=>token_id 310\n",
      "create_token=>token_id 383\n",
      "create_token=>token_id 384\n",
      "create_token=>token_id 385\n",
      "add_token_activity=>token_id 372\n",
      "add_token_activity=>token_id 196\n",
      "create_token=>token_id 386\n",
      "create_token=>token_id 387\n",
      "create_token=>token_id 388\n",
      "create_token=>token_id 389\n",
      "add_token_activity=>token_id 140\n",
      "create_token=>token_id 390\n",
      "add_token_activity=>token_id 372\n",
      "add_token_activity=>token_id 16\n",
      "create_token=>token_id 391\n",
      "add_token_activity=>token_id 362\n",
      "create_token=>token_id 392\n",
      "create_token=>token_id 393\n",
      "create_token=>token_id 394\n",
      "create_token=>token_id 395\n",
      "update_token_detail=>token_id 241\n",
      "add_token_activity=>token_id 305\n",
      "add_token_activity=>token_id 320\n",
      "add_token_activity=>token_id 199\n",
      "create_token=>token_id 396\n",
      "update_token_detail=>token_id 9\n",
      "create_token=>token_id 397\n",
      "add_token_activity=>token_id 202\n",
      "update_token_detail=>token_id 166\n",
      "add_token_activity=>token_id 219\n",
      "create_token=>token_id 398\n",
      "add_token_activity=>token_id 296\n",
      "add_token_activity=>token_id 320\n",
      "add_token_activity=>token_id 58\n",
      "create_token=>token_id 399\n",
      "create_token=>token_id 400\n",
      "create_token=>token_id 401\n",
      "create_token=>token_id 402\n",
      "create_token=>token_id 403\n",
      "create_token=>token_id 404\n",
      "add_token_activity=>token_id 352\n",
      "add_token_activity=>token_id 225\n",
      "create_token=>token_id 405\n",
      "create_token=>token_id 406\n",
      "add_token_activity=>token_id 402\n",
      "add_token_activity=>token_id 384\n",
      "add_token_activity=>token_id 232\n",
      "create_token=>token_id 407\n",
      "add_token_activity=>token_id 387\n",
      "create_token=>token_id 408\n",
      "create_token=>token_id 409\n",
      "create_token=>token_id 410\n",
      "create_token=>token_id 411\n",
      "add_token_activity=>token_id 185\n",
      "create_token=>token_id 412\n",
      "add_token_activity=>token_id 330\n",
      "add_token_activity=>token_id 67\n",
      "add_token_activity=>token_id 140\n",
      "create_token=>token_id 413\n",
      "add_token_activity=>token_id 218\n",
      "create_token=>token_id 414\n",
      "create_token=>token_id 415\n",
      "add_token_activity=>token_id 261\n",
      "add_token_activity=>token_id 262\n",
      "add_token_activity=>token_id 6\n",
      "create_token=>token_id 416\n",
      "update_token_detail=>token_id 208\n",
      "add_token_activity=>token_id 412\n",
      "create_token=>token_id 417\n",
      "add_token_activity=>token_id 166\n",
      "create_token=>token_id 418\n",
      "create_token=>token_id 419\n",
      "add_token_activity=>token_id 218\n",
      "add_token_activity=>token_id 41\n",
      "create_token=>token_id 420\n",
      "update_token_detail=>token_id 404\n"
     ]
    },
    {
     "name": "stdout",
     "output_type": "stream",
     "text": [
      "create_token=>token_id 421\n",
      "create_token=>token_id 422\n",
      "create_token=>token_id 423\n",
      "create_token=>token_id 424\n",
      "add_token_activity=>token_id 238\n",
      "create_token=>token_id 425\n",
      "add_token_activity=>token_id 188\n",
      "add_token_activity=>token_id 344\n",
      "add_token_activity=>token_id 389\n",
      "update_token_detail=>token_id 421\n",
      "add_token_activity=>token_id 370\n",
      "add_token_activity=>token_id 126\n",
      "create_token=>token_id 426\n",
      "add_token_activity=>token_id 2\n",
      "add_token_activity=>token_id 60\n",
      "create_token=>token_id 427\n",
      "add_token_activity=>token_id 322\n",
      "create_token=>token_id 428\n",
      "add_token_activity=>token_id 192\n",
      "deactive_token=>token_id 25\n",
      "add_token_activity=>token_id 134\n",
      "update_token_detail=>token_id 127\n",
      "create_token=>token_id 429\n",
      "update_token_detail=>token_id 114\n",
      "create_token=>token_id 430\n",
      "add_token_activity=>token_id 425\n",
      "create_token=>token_id 431\n",
      "add_token_activity=>token_id 46\n",
      "add_token_activity=>token_id 290\n",
      "create_token=>token_id 432\n",
      "create_token=>token_id 433\n",
      "create_token=>token_id 434\n",
      "add_token_activity=>token_id 158\n",
      "add_token_activity=>token_id 17\n",
      "create_token=>token_id 435\n",
      "add_token_activity=>token_id 164\n",
      "create_token=>token_id 436\n",
      "create_token=>token_id 437\n",
      "add_token_activity=>token_id 88\n",
      "add_token_activity=>token_id 364\n",
      "update_token_detail=>token_id 43\n",
      "create_token=>token_id 438\n",
      "create_token=>token_id 439\n",
      "add_token_activity=>token_id 51\n",
      "add_token_activity=>token_id 82\n",
      "create_token=>token_id 440\n",
      "create_token=>token_id 441\n",
      "add_token_activity=>token_id 99\n",
      "add_token_activity=>token_id 90\n",
      "create_token=>token_id 442\n",
      "add_token_activity=>token_id 338\n",
      "create_token=>token_id 443\n",
      "add_token_activity=>token_id 65\n",
      "create_token=>token_id 444\n",
      "add_token_activity=>token_id 158\n",
      "add_token_activity=>token_id 383\n",
      "add_token_activity=>token_id 437\n",
      "update_token_detail=>token_id 122\n",
      "create_token=>token_id 445\n",
      "create_token=>token_id 446\n",
      "update_token_detail=>token_id 273\n",
      "add_token_activity=>token_id 387\n",
      "add_token_activity=>token_id 355\n",
      "add_token_activity=>token_id 314\n",
      "add_token_activity=>token_id 147\n",
      "create_token=>token_id 447\n",
      "add_token_activity=>token_id 24\n",
      "create_token=>token_id 448\n",
      "add_token_activity=>token_id 273\n",
      "add_token_activity=>token_id 376\n",
      "add_token_activity=>token_id 4\n",
      "add_token_activity=>token_id 36\n",
      "create_token=>token_id 449\n",
      "add_token_activity=>token_id 341\n",
      "add_token_activity=>token_id 157\n",
      "create_token=>token_id 450\n",
      "create_token=>token_id 451\n",
      "add_token_activity=>token_id 47\n",
      "add_token_activity=>token_id 347\n",
      "add_token_activity=>token_id 284\n",
      "create_token=>token_id 452\n",
      "create_token=>token_id 453\n",
      "add_token_activity=>token_id 295\n",
      "create_token=>token_id 454\n",
      "add_token_activity=>token_id 374\n",
      "create_token=>token_id 455\n",
      "create_token=>token_id 456\n",
      "create_token=>token_id 457\n",
      "add_token_activity=>token_id 369\n",
      "create_token=>token_id 458\n",
      "create_token=>token_id 459\n",
      "create_token=>token_id 460\n",
      "add_token_activity=>token_id 295\n",
      "create_token=>token_id 461\n",
      "create_token=>token_id 462\n",
      "add_token_activity=>token_id 21\n",
      "create_token=>token_id 463\n",
      "create_token=>token_id 464\n",
      "create_token=>token_id 465\n",
      "create_token=>token_id 466\n",
      "create_token=>token_id 467\n",
      "create_token=>token_id 468\n",
      "add_token_activity=>token_id 462\n",
      "create_token=>token_id 469\n",
      "create_token=>token_id 470\n",
      "add_token_activity=>token_id 356\n",
      "create_token=>token_id 471\n",
      "create_token=>token_id 472\n",
      "add_token_activity=>token_id 345\n",
      "create_token=>token_id 473\n",
      "create_token=>token_id 474\n",
      "add_token_activity=>token_id 153\n",
      "create_token=>token_id 475\n",
      "create_token=>token_id 476\n",
      "add_token_activity=>token_id 419\n",
      "add_token_activity=>token_id 163\n",
      "add_token_activity=>token_id 319\n",
      "add_token_activity=>token_id 377\n",
      "create_token=>token_id 477\n",
      "add_token_activity=>token_id 168\n",
      "add_token_activity=>token_id 384\n",
      "create_token=>token_id 478\n",
      "update_token_detail=>token_id 351\n",
      "add_token_activity=>token_id 321\n",
      "create_token=>token_id 479\n",
      "add_token_activity=>token_id 203\n",
      "create_token=>token_id 480\n",
      "update_token_detail=>token_id 479\n",
      "create_token=>token_id 481\n",
      "add_token_activity=>token_id 52\n",
      "add_token_activity=>token_id 126\n",
      "add_token_activity=>token_id 362\n",
      "create_token=>token_id 482\n",
      "add_token_activity=>token_id 202\n",
      "add_token_activity=>token_id 199\n",
      "create_token=>token_id 483\n",
      "add_token_activity=>token_id 467\n",
      "add_token_activity=>token_id 335\n",
      "create_token=>token_id 484\n",
      "update_token_detail=>token_id 354\n",
      "add_token_activity=>token_id 343\n",
      "create_token=>token_id 485\n",
      "create_token=>token_id 486\n",
      "create_token=>token_id 487\n",
      "add_token_activity=>token_id 111\n",
      "create_token=>token_id 488\n",
      "create_token=>token_id 489\n",
      "add_token_activity=>token_id 97\n",
      "create_token=>token_id 490\n",
      "create_token=>token_id 491\n",
      "create_token=>token_id 492\n",
      "create_token=>token_id 493\n",
      "add_token_activity=>token_id 306\n",
      "create_token=>token_id 494\n",
      "add_token_activity=>token_id 170\n",
      "create_token=>token_id 495\n",
      "add_token_activity=>token_id 137\n",
      "create_token=>token_id 496\n",
      "add_token_activity=>token_id 201\n",
      "add_token_activity=>token_id 440\n",
      "add_token_activity=>token_id 86\n",
      "add_token_activity=>token_id 462\n",
      "add_token_activity=>token_id 395\n"
     ]
    }
   ],
   "source": [
    "action = lambda : np.random.choice([\"deactive_token\",\"update_token_detail\",\"add_token_activity\",\"create_token\"], 1,p=processes_probability_distribution)\n",
    "token_qty = 0\n",
    "token_list = []\n",
    "token_activity_list = {}\n",
    "token_active_list = []\n",
    "token_detail_list = {}\n",
    "idx = 0\n",
    "for i in range(1000):\n",
    "    k = action()[0]\n",
    "    if k == \"create_token\":\n",
    "        idx+=1\n",
    "        token_list.append(idx)\n",
    "        token_activity_list[idx] = []\n",
    "        token_active_list.append(1)\n",
    "        token_detail_list[idx] = random_text(random.randint(10,20))\n",
    "        token = [token_type(),int(token_external_id()),token_detail(),token_activity()]\n",
    "        tx_hash = contract.functions.create_token(token).transact({\"from\":w3.eth.accounts[0]})\n",
    "        tx_receipt = w3.eth.waitForTransactionReceipt(tx_hash)\n",
    "        print(k, end=\"=>\")\n",
    "        print(\"token_id\",idx)\n",
    "        token_qty+=1\n",
    "    elif k == \"deactive_token\":\n",
    "        n = len(token_list)\n",
    "        if n==0:\n",
    "            continue\n",
    "        d = random.choice(token_list)\n",
    "        print(k, end=\"=>\")\n",
    "        print(\"token_id\",d)\n",
    "        tx_hash = contract.functions.deactive_token(d).transact({\"from\":w3.eth.accounts[0]})\n",
    "        tx_receipt = w3.eth.waitForTransactionReceipt(tx_hash)\n",
    "        token_list.remove(d)\n",
    "        token_activity_list[d].append(\"terminated\")\n",
    "        token_qty-=1\n",
    "    elif k == \"update_token_detail\":\n",
    "        n = len(token_list)\n",
    "        if n==0:\n",
    "            continue\n",
    "        d = random.choice(token_list)\n",
    "        print(k, end=\"=>\")\n",
    "        print(\"token_id\",d)\n",
    "        token_detail_list[d] = random_text(random.randint(10,20))\n",
    "        tx_hash = contract.functions.update_token_detail(d,token_detail_list[d]).transact({\"from\":w3.eth.accounts[0]})\n",
    "        tx_receipt = w3.eth.waitForTransactionReceipt(tx_hash)\n",
    "    elif k == \"add_token_activity\":\n",
    "        n = len(token_list)\n",
    "        if n==0:\n",
    "            continue        \n",
    "        d = random.choice(token_list)\n",
    "        print(k, end=\"=>\")\n",
    "        print(\"token_id\",d)\n",
    "        new_token_activity = token_activity()\n",
    "        token_activity_list[d].append(new_token_activity)\n",
    "        tx_hash = contract.functions.add_token_activity(d,new_token_activity).transact({\"from\":w3.eth.accounts[0]})\n",
    "        tx_receipt = w3.eth.waitForTransactionReceipt(tx_hash)\n",
    "        n = len(token_activity_list[d])\n"
   ]
  },
  {
   "cell_type": "code",
   "execution_count": null,
   "metadata": {},
   "outputs": [],
   "source": []
  },
  {
   "cell_type": "code",
   "execution_count": null,
   "metadata": {},
   "outputs": [],
   "source": []
  },
  {
   "cell_type": "code",
   "execution_count": 11,
   "metadata": {},
   "outputs": [
    {
     "data": {
      "text/plain": [
       "[0,\n",
       " 8303658899,\n",
       " 'Spring of America into the word stupid people are worth of the world but I lose, who are',\n",
       " ['0,The beauty of throwing it',\n",
       "  '1,For three months ago. But the kind of the meaning',\n",
       "  '2,Cruzs campaign',\n",
       "  '3,My Jeb and on.',\n",
       "  '4,Theyre not',\n",
       "  '5,Pretty good friend of thousands and its',\n",
       "  '6,I have some really appreciate it. They devalue']]"
      ]
     },
     "execution_count": 11,
     "metadata": {},
     "output_type": "execute_result"
    }
   ],
   "source": [
    "token"
   ]
  },
  {
   "cell_type": "code",
   "execution_count": 12,
   "metadata": {},
   "outputs": [
    {
     "data": {
      "text/plain": [
       "AttributeDict({'transactionHash': HexBytes('0x4f00a64a4f92626f8ec30961e3cbb2b74b048d96f167b6b520732a0e4923aafa'),\n",
       " 'transactionIndex': 0,\n",
       " 'blockHash': HexBytes('0x2a4c94cb69a31cd9a46f806f0a852f08e2b7a61f09de549d96cba43dc5b2de2d'),\n",
       " 'blockNumber': 998,\n",
       " 'from': '0x9D697a5260E8CA37Ed108aD0aD6C1db89372215a',\n",
       " 'to': '0x2a801728D0210F3CaAb046205ebEf955639C72b2',\n",
       " 'gasUsed': 188208,\n",
       " 'cumulativeGasUsed': 188208,\n",
       " 'contractAddress': None,\n",
       " 'logs': [AttributeDict({'logIndex': 0,\n",
       "   'transactionIndex': 0,\n",
       "   'transactionHash': HexBytes('0x4f00a64a4f92626f8ec30961e3cbb2b74b048d96f167b6b520732a0e4923aafa'),\n",
       "   'blockHash': HexBytes('0x2a4c94cb69a31cd9a46f806f0a852f08e2b7a61f09de549d96cba43dc5b2de2d'),\n",
       "   'blockNumber': 998,\n",
       "   'address': '0x2a801728D0210F3CaAb046205ebEf955639C72b2',\n",
       "   'data': '0x00000000000000000000000000000000000000000000000000000000000000200000000000000000000000000000000000000000000000000000000000000003000000000000000000000000000000000000000000000000000000000000006000000000000000000000000000000000000000000000000000000000000000a00000000000000000000000000000000000000000000000000000000000000100000000000000000000000000000000000000000000000000000000000000000c302c5345432c2077686963680000000000000000000000000000000000000000000000000000000000000000000000000000000000000000000000000000002d312c4e65766164612e20416e6420796f75207468617420696e20436f6e67726573732e205269676874206e6f77000000000000000000000000000000000000000000000000000000000000000000000000000000000000000000000000000025322c4974732062656175746966756c206261627920766572792070726f7564206f66206974000000000000000000000000000000000000000000000000000000',\n",
       "   'topics': [HexBytes('0xcf094b73301d4f0f08d7cbd294682671b5737b780f9399ecca4d8cd7f0264e70'),\n",
       "    HexBytes('0x000000000000000000000000000000000000000000000000000000000000018b')],\n",
       "   'type': 'mined'})],\n",
       " 'status': 1,\n",
       " 'logsBloom': HexBytes('0x00000000000000000000000000000000000000000000000000000000000000000000000000000000800000000000000000000000000000000000000000000000000200000000000000000000000000000000000000000000000000000000000000000000000000000010000000000000000000000040000000000000000080000000000000000000000000000000000000000000000000000000000000000000000000000000000000000000000000000000000000000000000000000000000000000000000000000000080000000000000000000000000000000000000000000000000000004000000000000000000000000000000000000000010000010000')})"
      ]
     },
     "execution_count": 12,
     "metadata": {},
     "output_type": "execute_result"
    }
   ],
   "source": [
    "tx_receipt"
   ]
  },
  {
   "cell_type": "markdown",
   "metadata": {},
   "source": [
    "# Data Extraction"
   ]
  },
  {
   "cell_type": "code",
   "execution_count": 7,
   "metadata": {},
   "outputs": [
    {
     "name": "stdout",
     "output_type": "stream",
     "text": [
      "Connection: True\n"
     ]
    }
   ],
   "source": [
    "from web3 import Web3\n",
    "import json\n",
    "import random\n",
    "import time\n",
    "import web3\n",
    "url = \"http://0.0.0.0:7545\"\n",
    "w3 = Web3(Web3.HTTPProvider(url))\n",
    "print(\"Connection:\",w3.isConnected())\n",
    "from web3.middleware import geth_poa_middleware\n",
    "if web3.__version__.split(\".\")[0] == \"4\":\n",
    "    w3.middleware_stack.inject(geth_poa_middleware,layer=0)\n",
    "else:\n",
    "    w3.middleware_onion.inject(geth_poa_middleware,layer=0)\n",
    "    \n",
    "manager = w3.eth.accounts[0]\n",
    "w3.eth.defaultAccount = manager\n",
    "\n",
    "with open(\"contracts.txt\",\"r\") as f:\n",
    "    contract_address = f.read()\n",
    "with open(\"abi.txt\",\"r\") as f:\n",
    "    abi = f.read()   \n",
    "contract = w3.eth.contract(address=contract_address,abi=abi)"
   ]
  },
  {
   "cell_type": "code",
   "execution_count": 13,
   "metadata": {},
   "outputs": [
    {
     "name": "stdout",
     "output_type": "stream",
     "text": [
      "AttributeDict({'number': 901, 'hash': HexBytes('0x068fea34bbad54392dbb1c906c95c74b5370bc05502501ee61f8b976fff17b43'), 'parentHash': HexBytes('0x1bbfc089148786407c5e7c4e41fddb635a5a396b5f6f37d87a4bbd3234348f34'), 'mixHash': HexBytes('0x0000000000000000000000000000000000000000000000000000000000000000'), 'nonce': HexBytes('0x0000000000000000'), 'sha3Uncles': HexBytes('0x1dcc4de8dec75d7aab85b567b6ccd41ad312451b948a7413f0a142fd40d49347'), 'logsBloom': HexBytes('0x00000000000000000000000000010000000000000000000000000000000000000000000000000000800000080000000000000000000000000000000000000001000000000000000000000000000000000000000000000000000000000000000000000000000000000000000000000000000000100000000000000000010080000000000000000000000000000000000000000000000000000000000000000000000000000000000000000000000000000000000000000000000000000000000000000000000000000000000000000000000000000000000000000000000000100000000000004000000000000000000000000000000000000000000000000000'), 'transactionsRoot': HexBytes('0x6987f30d0695d961270560f866807d8a9fff9a55e03dd5465642e9c24572202b'), 'stateRoot': HexBytes('0x7e0a4cf27a0e54c8f6b8114f7b1c36366ec9d5e3dad7f379e6d9c8bbf9546f6f'), 'receiptsRoot': HexBytes('0x11cc8bd8de849fe3bc75ce76700a4be287de7bba7709fde6edb41c95fa0e774f'), 'miner': '0x0000000000000000000000000000000000000000', 'difficulty': 0, 'totalDifficulty': 0, 'proofOfAuthorityData': HexBytes('0x'), 'size': 1000, 'gasLimit': 6721975, 'gasUsed': 445705, 'timestamp': 1593071413, 'transactions': [HexBytes('0xb8bf5746fbdf30d6b8505656b50bcf100814db1f2d306424cc80455602ae2845')], 'uncles': []})\n",
      "----------------------------------------------------------------------------------------------------\n",
      "AttributeDict({'number': 998, 'hash': HexBytes('0x2a4c94cb69a31cd9a46f806f0a852f08e2b7a61f09de549d96cba43dc5b2de2d'), 'parentHash': HexBytes('0x89a2c89c3a56f43428a5c9a2b86be0ce3fde1f22b850b8c0d9087774833bebe0'), 'mixHash': HexBytes('0x0000000000000000000000000000000000000000000000000000000000000000'), 'nonce': HexBytes('0x0000000000000000'), 'sha3Uncles': HexBytes('0x1dcc4de8dec75d7aab85b567b6ccd41ad312451b948a7413f0a142fd40d49347'), 'logsBloom': HexBytes('0x00000000000000000000000000000000000000000000000000000000000000000000000000000000800000000000000000000000000000000000000000000000000200000000000000000000000000000000000000000000000000000000000000000000000000000010000000000000000000000040000000000000000080000000000000000000000000000000000000000000000000000000000000000000000000000000000000000000000000000000000000000000000000000000000000000000000000000000080000000000000000000000000000000000000000000000000000004000000000000000000000000000000000000000010000010000'), 'transactionsRoot': HexBytes('0x5848baaae8797231b573dafbf7608dcad6334c3ddc8aef34e285fe5ad4070ae1'), 'stateRoot': HexBytes('0xcae66e72722ec8325659f4c0cd9ca45e6a2101ed0396fa8814cdc604715b5b4c'), 'receiptsRoot': HexBytes('0x0a26b05f4e9a09ab4a29f8281b6b5094095f5cfae8cd2b32fd948622c73747f0'), 'miner': '0x0000000000000000000000000000000000000000', 'difficulty': 0, 'totalDifficulty': 0, 'proofOfAuthorityData': HexBytes('0x'), 'size': 1000, 'gasLimit': 6721975, 'gasUsed': 188208, 'timestamp': 1593071461, 'transactions': [HexBytes('0x4f00a64a4f92626f8ec30961e3cbb2b74b048d96f167b6b520732a0e4923aafa')], 'uncles': []})\n"
     ]
    }
   ],
   "source": [
    "print(w3.eth.getBlock(901))\n",
    "print(\"-\"*100)\n",
    "print(w3.eth.getBlock(\"latest\"))"
   ]
  },
  {
   "cell_type": "code",
   "execution_count": 14,
   "metadata": {},
   "outputs": [
    {
     "name": "stdout",
     "output_type": "stream",
     "text": [
      "1593070974\n",
      "3\n",
      "1\n",
      "['0,I dont want you go into your head of all. And', '1,ENDORSED ME. RICHARD ENDORSED ME TELL', '2,Trump is inside,', '3,ISIS is going to']\n",
      "1593070974\n",
      "4\n",
      "1\n",
      "['0,Ben. Ben Carson was a sudden', '1,Iowa please? Would you', '2,30 seconds. And he should admit', '3,Thats even though they add them $10,000, OK? Not surprisingly,', '4,THAT YOU MEAN YOU LOOK AT']\n",
      "1593070975\n",
      "5\n",
      "1\n",
      "['0,Social Security without us its about twisted, heres', '1,I said, Mr. Trump 48%. Cruz said,', '2,LIKE, I am I talk about', '3,And we have. Greater then the weirdest deal was', \"4,REMEMBER THAT THEY HAVE, THAT ARE OVER. THEY'RE\", '5,But were smarter than the war against the flood. I dont', '6,I love it Obamas talking as']\n",
      "1593070976\n",
      "6\n",
      "1\n",
      "['0,Wait, wait, wait. Bill and', '1,And we negotiate a tremendous success. And now', '2,Is anybody they are taking over the bravest woman or', '3,Jeb Bush and', '4,Im the', \"5,DIDN'T THEY DON'T WORK. EXCEPT FOR TRUMP. THEY DON'T STOP. THEY\", '6,$20 million. Might even believe but they talk to really', '7,FOR OUR POLICE. IF I really', '8,Carson, who have millions', '9,WE WANT']\n",
      "1593070977\n",
      "8\n",
      "2\n",
      "['0,Because I employ thousands of them. Youve']\n",
      "1593070977\n",
      "9\n",
      "1\n",
      "['0,OUR PEOPLE TO TAKE THAT. I wanted to see', '1,They have foreign policy helped to be allowed to all', '2,You know the years ago. And I will say those', '3,I read a great reporter. Of course not.', '4,And we will be killed. Young. Unbelievable. I bring', '5,TELL IT IS SO NOW IT OUT. HE KNOWS BORDERS, WE', '6,I meet with']\n"
     ]
    }
   ],
   "source": [
    "event_filter = contract.events.add_token_activity_event.createFilter(fromBlock=1,toBlock=10)\n",
    "j = 0\n",
    "for i in event_filter.get_all_entries():\n",
    "    print(w3.eth.getBlock(i['blockNumber']).timestamp)\n",
    "    print(i['blockNumber'])\n",
    "    print(i['args']['token_id'])\n",
    "    print(i['args']['token_activity'])"
   ]
  },
  {
   "cell_type": "code",
   "execution_count": 15,
   "metadata": {},
   "outputs": [
    {
     "data": {
      "text/plain": [
       "(1,\n",
       " 9616746754,\n",
       " \"Oh, you crack 50% to allow this was all of the state's history. Our real focus. I BELIEVE THAT. WE HAVE\",\n",
       " ['0,Itd be the right now and whos',\n",
       "  '0,I dont want you go into your head of all. And',\n",
       "  '1,ENDORSED ME. RICHARD ENDORSED ME TELL',\n",
       "  '2,Trump is inside,',\n",
       "  '3,ISIS is going to',\n",
       "  '0,Ben. Ben Carson was a sudden',\n",
       "  '1,Iowa please? Would you',\n",
       "  '2,30 seconds. And he should admit',\n",
       "  '3,Thats even though they add them $10,000, OK? Not surprisingly,',\n",
       "  '4,THAT YOU MEAN YOU LOOK AT',\n",
       "  '0,Social Security without us its about twisted, heres',\n",
       "  '1,I said, Mr. Trump 48%. Cruz said,',\n",
       "  '2,LIKE, I am I talk about',\n",
       "  '3,And we have. Greater then the weirdest deal was',\n",
       "  \"4,REMEMBER THAT THEY HAVE, THAT ARE OVER. THEY'RE\",\n",
       "  '5,But were smarter than the war against the flood. I dont',\n",
       "  '6,I love it Obamas talking as',\n",
       "  '0,Wait, wait, wait. Bill and',\n",
       "  '1,And we negotiate a tremendous success. And now',\n",
       "  '2,Is anybody they are taking over the bravest woman or',\n",
       "  '3,Jeb Bush and',\n",
       "  '4,Im the',\n",
       "  \"5,DIDN'T THEY DON'T WORK. EXCEPT FOR TRUMP. THEY DON'T STOP. THEY\",\n",
       "  '6,$20 million. Might even believe but they talk to really',\n",
       "  '7,FOR OUR POLICE. IF I really',\n",
       "  '8,Carson, who have millions',\n",
       "  '9,WE WANT',\n",
       "  '0,OUR PEOPLE TO TAKE THAT. I wanted to see',\n",
       "  '1,They have foreign policy helped to be allowed to all',\n",
       "  '2,You know the years ago. And I will say those',\n",
       "  '3,I read a great reporter. Of course not.',\n",
       "  '4,And we will be killed. Young. Unbelievable. I bring',\n",
       "  '5,TELL IT IS SO NOW IT OUT. HE KNOWS BORDERS, WE',\n",
       "  '6,I meet with',\n",
       "  '0,Department of you know what? Its not sending them back.',\n",
       "  '1,Remember I',\n",
       "  '2,Im going to pay any deal you on American to',\n",
       "  '3,HAVE A',\n",
       "  '4,We have in because',\n",
       "  '5,English and prosperous society but they cant move to thank you',\n",
       "  '6,PRESIDENT. SO OLD, AND I thought they would',\n",
       "  '0,Ive toured New York, going to see whats',\n",
       "  '1,Marco until I guarantee you, youll not',\n",
       "  '2,He went to happen. Its hard on the head of our',\n",
       "  '3,Medicare and',\n",
       "  '0,HELP US. AND MR. TRUMP. I',\n",
       "  '1,FREE TRADE. A man I',\n",
       "  '2,Mexico $45 to',\n",
       "  '3,But theres a little while ago, they',\n",
       "  \"0,YOU'RE ON THE STORY. I have\",\n",
       "  \"1,I won't say Merry Christmas. But were going to\",\n",
       "  '2,WHO DID NOTHING BY COMPARISON TO YOU',\n",
       "  '3,They left me is'])"
      ]
     },
     "execution_count": 15,
     "metadata": {},
     "output_type": "execute_result"
    }
   ],
   "source": [
    "contract.functions.get_token_by_id(1).call({\"from\":w3.eth.accounts[0]})"
   ]
  },
  {
   "cell_type": "code",
   "execution_count": 6,
   "metadata": {},
   "outputs": [],
   "source": [
    "import matplotlib.pyplot as plt\n",
    "from datetime import datetime"
   ]
  },
  {
   "cell_type": "code",
   "execution_count": 8,
   "metadata": {},
   "outputs": [],
   "source": [
    "tokens = {}\n",
    "event_filter = contract.events.add_token_activity_event.createFilter(fromBlock=\"earliest\",toBlock=\"latest\")\n",
    "j = 0\n",
    "for i in event_filter.get_all_entries():\n",
    "    ids = i['args']['token_id']\n",
    "    if ids not in tokens:\n",
    "        tokens[ids] = {\"timestamp\":[],\"activity_count\":[],\"gasUsed\":[]}\n",
    "\n",
    "    tokens[ids][\"timestamp\"].append(w3.eth.getBlock(i['blockNumber']).timestamp)\n",
    "    tokens[ids][\"activity_count\"].append(len(i['args']['token_activity']))\n",
    "    tokens[ids][\"gasUsed\"].append(w3.eth.getTransactionReceipt(i['transactionHash'])['gasUsed'])\n",
    "#         print(w3.eth.getBlock(i['blockNumber']).timestamp)\n",
    "#         print(i['blockNumber'])\n",
    "#         print(i['args']['token_id'])\n",
    "#         print(i['args']['token_activity'])"
   ]
  },
  {
   "cell_type": "code",
   "execution_count": 9,
   "metadata": {},
   "outputs": [
    {
     "data": {
      "text/plain": [
       "{4: {'timestamp': [1594952224], 'activity_count': [5], 'gasUsed': [239632]},\n",
       " 22: {'timestamp': [1594952240], 'activity_count': [6], 'gasUsed': [306021]},\n",
       " 31: {'timestamp': [1594952270], 'activity_count': [2], 'gasUsed': [121747]},\n",
       " 39: {'timestamp': [1594952271], 'activity_count': [5], 'gasUsed': [321863]},\n",
       " 8: {'timestamp': [1594952302], 'activity_count': [7], 'gasUsed': [434911]},\n",
       " 32: {'timestamp': [1594952308], 'activity_count': [10], 'gasUsed': [552295]},\n",
       " 68: {'timestamp': [1594952360], 'activity_count': [2], 'gasUsed': [163013]},\n",
       " 84: {'timestamp': [1594952393], 'activity_count': [7], 'gasUsed': [373083]}}"
      ]
     },
     "execution_count": 9,
     "metadata": {},
     "output_type": "execute_result"
    }
   ],
   "source": [
    "tokens"
   ]
  },
  {
   "cell_type": "code",
   "execution_count": 8,
   "metadata": {},
   "outputs": [
    {
     "data": {
      "image/png": "[encoded data removed]",
      "text/plain": [
       "<Figure size 1440x720 with 1 Axes>"
      ]
     },
     "metadata": {
      "needs_background": "light"
     },
     "output_type": "display_data"
    }
   ],
   "source": [
    "plt.subplots(figsize=(20,10))\n",
    "for i in tokens:\n",
    "    if len(tokens[i][\"activity_count\"])>5:\n",
    "        plt.plot(list(map(datetime.fromtimestamp,tokens[i][\"timestamp\"])),tokens[i][\"activity_count\"])\n",
    "# plt.ticklabel_format(useOffset=False)\n",
    "plt.show()"
   ]
  },
  {
   "cell_type": "code",
   "execution_count": 55,
   "metadata": {},
   "outputs": [
    {
     "data": {
      "application/vnd.plotly.v1+json": {
       "config": {
        "plotlyServerURL": "https://plot.ly"
       },
       "data": [
        {
         "name": "token 2",
         "type": "scatter",
         "x": [
          "2020-06-25T15:42:57",
          "2020-06-25T15:42:58",
          "2020-06-25T15:43:02",
          "2020-06-25T15:43:02",
          "2020-06-25T15:43:48",
          "2020-06-25T15:44:16",
          "2020-06-25T15:45:36",
          "2020-06-25T15:45:45",
          "2020-06-25T15:46:41",
          "2020-06-25T15:46:55",
          "2020-06-25T15:47:55",
          "2020-06-25T15:49:51"
         ],
         "y": [
          1,
          9,
          1,
          6,
          8,
          7,
          8,
          3,
          1,
          2,
          5,
          4
         ]
        }
       ],
       "layout": {
        "template": {
         "data": {
          "bar": [
           {
            "error_x": {
             "color": "#2a3f5f"
            },
            "error_y": {
             "color": "#2a3f5f"
            },
            "marker": {
             "line": {
              "color": "#E5ECF6",
              "width": 0.5
             }
            },
            "type": "bar"
           }
          ],
          "barpolar": [
           {
            "marker": {
             "line": {
              "color": "#E5ECF6",
              "width": 0.5
             }
            },
            "type": "barpolar"
           }
          ],
          "carpet": [
           {
            "aaxis": {
             "endlinecolor": "#2a3f5f",
             "gridcolor": "white",
             "linecolor": "white",
             "minorgridcolor": "white",
             "startlinecolor": "#2a3f5f"
            },
            "baxis": {
             "endlinecolor": "#2a3f5f",
             "gridcolor": "white",
             "linecolor": "white",
             "minorgridcolor": "white",
             "startlinecolor": "#2a3f5f"
            },
            "type": "carpet"
           }
          ],
          "choropleth": [
           {
            "colorbar": {
             "outlinewidth": 0,
             "ticks": ""
            },
            "type": "choropleth"
           }
          ],
          "contour": [
           {
            "colorbar": {
             "outlinewidth": 0,
             "ticks": ""
            },
            "colorscale": [
             [
              0,
              "#0d0887"
             ],
             [
              0.1111111111111111,
              "#46039f"
             ],
             [
              0.2222222222222222,
              "#7201a8"
             ],
             [
              0.3333333333333333,
              "#9c179e"
             ],
             [
              0.4444444444444444,
              "#bd3786"
             ],
             [
              0.5555555555555556,
              "#d8576b"
             ],
             [
              0.6666666666666666,
              "#ed7953"
             ],
             [
              0.7777777777777778,
              "#fb9f3a"
             ],
             [
              0.8888888888888888,
              "#fdca26"
             ],
             [
              1,
              "#f0f921"
             ]
            ],
            "type": "contour"
           }
          ],
          "contourcarpet": [
           {
            "colorbar": {
             "outlinewidth": 0,
             "ticks": ""
            },
            "type": "contourcarpet"
           }
          ],
          "heatmap": [
           {
            "colorbar": {
             "outlinewidth": 0,
             "ticks": ""
            },
            "colorscale": [
             [
              0,
              "#0d0887"
             ],
             [
              0.1111111111111111,
              "#46039f"
             ],
             [
              0.2222222222222222,
              "#7201a8"
             ],
             [
              0.3333333333333333,
              "#9c179e"
             ],
             [
              0.4444444444444444,
              "#bd3786"
             ],
             [
              0.5555555555555556,
              "#d8576b"
             ],
             [
              0.6666666666666666,
              "#ed7953"
             ],
             [
              0.7777777777777778,
              "#fb9f3a"
             ],
             [
              0.8888888888888888,
              "#fdca26"
             ],
             [
              1,
              "#f0f921"
             ]
            ],
            "type": "heatmap"
           }
          ],
          "heatmapgl": [
           {
            "colorbar": {
             "outlinewidth": 0,
             "ticks": ""
            },
            "colorscale": [
             [
              0,
              "#0d0887"
             ],
             [
              0.1111111111111111,
              "#46039f"
             ],
             [
              0.2222222222222222,
              "#7201a8"
             ],
             [
              0.3333333333333333,
              "#9c179e"
             ],
             [
              0.4444444444444444,
              "#bd3786"
             ],
             [
              0.5555555555555556,
              "#d8576b"
             ],
             [
              0.6666666666666666,
              "#ed7953"
             ],
             [
              0.7777777777777778,
              "#fb9f3a"
             ],
             [
              0.8888888888888888,
              "#fdca26"
             ],
             [
              1,
              "#f0f921"
             ]
            ],
            "type": "heatmapgl"
           }
          ],
          "histogram": [
           {
            "marker": {
             "colorbar": {
              "outlinewidth": 0,
              "ticks": ""
             }
            },
            "type": "histogram"
           }
          ],
          "histogram2d": [
           {
            "colorbar": {
             "outlinewidth": 0,
             "ticks": ""
            },
            "colorscale": [
             [
              0,
              "#0d0887"
             ],
             [
              0.1111111111111111,
              "#46039f"
             ],
             [
              0.2222222222222222,
              "#7201a8"
             ],
             [
              0.3333333333333333,
              "#9c179e"
             ],
             [
              0.4444444444444444,
              "#bd3786"
             ],
             [
              0.5555555555555556,
              "#d8576b"
             ],
             [
              0.6666666666666666,
              "#ed7953"
             ],
             [
              0.7777777777777778,
              "#fb9f3a"
             ],
             [
              0.8888888888888888,
              "#fdca26"
             ],
             [
              1,
              "#f0f921"
             ]
            ],
            "type": "histogram2d"
           }
          ],
          "histogram2dcontour": [
           {
            "colorbar": {
             "outlinewidth": 0,
             "ticks": ""
            },
            "colorscale": [
             [
              0,
              "#0d0887"
             ],
             [
              0.1111111111111111,
              "#46039f"
             ],
             [
              0.2222222222222222,
              "#7201a8"
             ],
             [
              0.3333333333333333,
              "#9c179e"
             ],
             [
              0.4444444444444444,
              "#bd3786"
             ],
             [
              0.5555555555555556,
              "#d8576b"
             ],
             [
              0.6666666666666666,
              "#ed7953"
             ],
             [
              0.7777777777777778,
              "#fb9f3a"
             ],
             [
              0.8888888888888888,
              "#fdca26"
             ],
             [
              1,
              "#f0f921"
             ]
            ],
            "type": "histogram2dcontour"
           }
          ],
          "mesh3d": [
           {
            "colorbar": {
             "outlinewidth": 0,
             "ticks": ""
            },
            "type": "mesh3d"
           }
          ],
          "parcoords": [
           {
            "line": {
             "colorbar": {
              "outlinewidth": 0,
              "ticks": ""
             }
            },
            "type": "parcoords"
           }
          ],
          "pie": [
           {
            "automargin": true,
            "type": "pie"
           }
          ],
          "scatter": [
           {
            "marker": {
             "colorbar": {
              "outlinewidth": 0,
              "ticks": ""
             }
            },
            "type": "scatter"
           }
          ],
          "scatter3d": [
           {
            "line": {
             "colorbar": {
              "outlinewidth": 0,
              "ticks": ""
             }
            },
            "marker": {
             "colorbar": {
              "outlinewidth": 0,
              "ticks": ""
             }
            },
            "type": "scatter3d"
           }
          ],
          "scattercarpet": [
           {
            "marker": {
             "colorbar": {
              "outlinewidth": 0,
              "ticks": ""
             }
            },
            "type": "scattercarpet"
           }
          ],
          "scattergeo": [
           {
            "marker": {
             "colorbar": {
              "outlinewidth": 0,
              "ticks": ""
             }
            },
            "type": "scattergeo"
           }
          ],
          "scattergl": [
           {
            "marker": {
             "colorbar": {
              "outlinewidth": 0,
              "ticks": ""
             }
            },
            "type": "scattergl"
           }
          ],
          "scattermapbox": [
           {
            "marker": {
             "colorbar": {
              "outlinewidth": 0,
              "ticks": ""
             }
            },
            "type": "scattermapbox"
           }
          ],
          "scatterpolar": [
           {
            "marker": {
             "colorbar": {
              "outlinewidth": 0,
              "ticks": ""
             }
            },
            "type": "scatterpolar"
           }
          ],
          "scatterpolargl": [
           {
            "marker": {
             "colorbar": {
              "outlinewidth": 0,
              "ticks": ""
             }
            },
            "type": "scatterpolargl"
           }
          ],
          "scatterternary": [
           {
            "marker": {
             "colorbar": {
              "outlinewidth": 0,
              "ticks": ""
             }
            },
            "type": "scatterternary"
           }
          ],
          "surface": [
           {
            "colorbar": {
             "outlinewidth": 0,
             "ticks": ""
            },
            "colorscale": [
             [
              0,
              "#0d0887"
             ],
             [
              0.1111111111111111,
              "#46039f"
             ],
             [
              0.2222222222222222,
              "#7201a8"
             ],
             [
              0.3333333333333333,
              "#9c179e"
             ],
             [
              0.4444444444444444,
              "#bd3786"
             ],
             [
              0.5555555555555556,
              "#d8576b"
             ],
             [
              0.6666666666666666,
              "#ed7953"
             ],
             [
              0.7777777777777778,
              "#fb9f3a"
             ],
             [
              0.8888888888888888,
              "#fdca26"
             ],
             [
              1,
              "#f0f921"
             ]
            ],
            "type": "surface"
           }
          ],
          "table": [
           {
            "cells": {
             "fill": {
              "color": "#EBF0F8"
             },
             "line": {
              "color": "white"
             }
            },
            "header": {
             "fill": {
              "color": "#C8D4E3"
             },
             "line": {
              "color": "white"
             }
            },
            "type": "table"
           }
          ]
         },
         "layout": {
          "annotationdefaults": {
           "arrowcolor": "#2a3f5f",
           "arrowhead": 0,
           "arrowwidth": 1
          },
          "coloraxis": {
           "colorbar": {
            "outlinewidth": 0,
            "ticks": ""
           }
          },
          "colorscale": {
           "diverging": [
            [
             0,
             "#8e0152"
            ],
            [
             0.1,
             "#c51b7d"
            ],
            [
             0.2,
             "#de77ae"
            ],
            [
             0.3,
             "#f1b6da"
            ],
            [
             0.4,
             "#fde0ef"
            ],
            [
             0.5,
             "#f7f7f7"
            ],
            [
             0.6,
             "#e6f5d0"
            ],
            [
             0.7,
             "#b8e186"
            ],
            [
             0.8,
             "#7fbc41"
            ],
            [
             0.9,
             "#4d9221"
            ],
            [
             1,
             "#276419"
            ]
           ],
           "sequential": [
            [
             0,
             "#0d0887"
            ],
            [
             0.1111111111111111,
             "#46039f"
            ],
            [
             0.2222222222222222,
             "#7201a8"
            ],
            [
             0.3333333333333333,
             "#9c179e"
            ],
            [
             0.4444444444444444,
             "#bd3786"
            ],
            [
             0.5555555555555556,
             "#d8576b"
            ],
            [
             0.6666666666666666,
             "#ed7953"
            ],
            [
             0.7777777777777778,
             "#fb9f3a"
            ],
            [
             0.8888888888888888,
             "#fdca26"
            ],
            [
             1,
             "#f0f921"
            ]
           ],
           "sequentialminus": [
            [
             0,
             "#0d0887"
            ],
            [
             0.1111111111111111,
             "#46039f"
            ],
            [
             0.2222222222222222,
             "#7201a8"
            ],
            [
             0.3333333333333333,
             "#9c179e"
            ],
            [
             0.4444444444444444,
             "#bd3786"
            ],
            [
             0.5555555555555556,
             "#d8576b"
            ],
            [
             0.6666666666666666,
             "#ed7953"
            ],
            [
             0.7777777777777778,
             "#fb9f3a"
            ],
            [
             0.8888888888888888,
             "#fdca26"
            ],
            [
             1,
             "#f0f921"
            ]
           ]
          },
          "colorway": [
           "#636efa",
           "#EF553B",
           "#00cc96",
           "#ab63fa",
           "#FFA15A",
           "#19d3f3",
           "#FF6692",
           "#B6E880",
           "#FF97FF",
           "#FECB52"
          ],
          "font": {
           "color": "#2a3f5f"
          },
          "geo": {
           "bgcolor": "white",
           "lakecolor": "white",
           "landcolor": "#E5ECF6",
           "showlakes": true,
           "showland": true,
           "subunitcolor": "white"
          },
          "hoverlabel": {
           "align": "left"
          },
          "hovermode": "closest",
          "mapbox": {
           "style": "light"
          },
          "paper_bgcolor": "white",
          "plot_bgcolor": "#E5ECF6",
          "polar": {
           "angularaxis": {
            "gridcolor": "white",
            "linecolor": "white",
            "ticks": ""
           },
           "bgcolor": "#E5ECF6",
           "radialaxis": {
            "gridcolor": "white",
            "linecolor": "white",
            "ticks": ""
           }
          },
          "scene": {
           "xaxis": {
            "backgroundcolor": "#E5ECF6",
            "gridcolor": "white",
            "gridwidth": 2,
            "linecolor": "white",
            "showbackground": true,
            "ticks": "",
            "zerolinecolor": "white"
           },
           "yaxis": {
            "backgroundcolor": "#E5ECF6",
            "gridcolor": "white",
            "gridwidth": 2,
            "linecolor": "white",
            "showbackground": true,
            "ticks": "",
            "zerolinecolor": "white"
           },
           "zaxis": {
            "backgroundcolor": "#E5ECF6",
            "gridcolor": "white",
            "gridwidth": 2,
            "linecolor": "white",
            "showbackground": true,
            "ticks": "",
            "zerolinecolor": "white"
           }
          },
          "shapedefaults": {
           "line": {
            "color": "#2a3f5f"
           }
          },
          "ternary": {
           "aaxis": {
            "gridcolor": "white",
            "linecolor": "white",
            "ticks": ""
           },
           "baxis": {
            "gridcolor": "white",
            "linecolor": "white",
            "ticks": ""
           },
           "bgcolor": "#E5ECF6",
           "caxis": {
            "gridcolor": "white",
            "linecolor": "white",
            "ticks": ""
           }
          },
          "title": {
           "x": 0.05
          },
          "xaxis": {
           "automargin": true,
           "gridcolor": "white",
           "linecolor": "white",
           "ticks": "",
           "title": {
            "standoff": 15
           },
           "zerolinecolor": "white",
           "zerolinewidth": 2
          },
          "yaxis": {
           "automargin": true,
           "gridcolor": "white",
           "linecolor": "white",
           "ticks": "",
           "title": {
            "standoff": 15
           },
           "zerolinecolor": "white",
           "zerolinewidth": 2
          }
         }
        }
       }
      },
      "text/html": [
       "<div>\n",
       "        \n",
       "        \n",
       "            <div id=\"b60d49a3-bf4b-4662-a0bc-aa2c5b16da04\" class=\"plotly-graph-div\" style=\"height:525px; width:100%;\"></div>\n",
       "            <script type=\"text/javascript\">\n",
       "                require([\"plotly\"], function(Plotly) {\n",
       "                    window.PLOTLYENV=window.PLOTLYENV || {};\n",
       "                    \n",
       "                if (document.getElementById(\"b60d49a3-bf4b-4662-a0bc-aa2c5b16da04\")) {\n",
       "                    Plotly.newPlot(\n",
       "                        'b60d49a3-bf4b-4662-a0bc-aa2c5b16da04',\n",
       "                        [{\"name\": \"token 2\", \"type\": \"scatter\", \"x\": [\"2020-06-25T15:42:57\", \"2020-06-25T15:42:58\", \"2020-06-25T15:43:02\", \"2020-06-25T15:43:02\", \"2020-06-25T15:43:48\", \"2020-06-25T15:44:16\", \"2020-06-25T15:45:36\", \"2020-06-25T15:45:45\", \"2020-06-25T15:46:41\", \"2020-06-25T15:46:55\", \"2020-06-25T15:47:55\", \"2020-06-25T15:49:51\"], \"y\": [1, 9, 1, 6, 8, 7, 8, 3, 1, 2, 5, 4]}],\n",
       "                        {\"template\": {\"data\": {\"bar\": [{\"error_x\": {\"color\": \"#2a3f5f\"}, \"error_y\": {\"color\": \"#2a3f5f\"}, \"marker\": {\"line\": {\"color\": \"#E5ECF6\", \"width\": 0.5}}, \"type\": \"bar\"}], \"barpolar\": [{\"marker\": {\"line\": {\"color\": \"#E5ECF6\", \"width\": 0.5}}, \"type\": \"barpolar\"}], \"carpet\": [{\"aaxis\": {\"endlinecolor\": \"#2a3f5f\", \"gridcolor\": \"white\", \"linecolor\": \"white\", \"minorgridcolor\": \"white\", \"startlinecolor\": \"#2a3f5f\"}, \"baxis\": {\"endlinecolor\": \"#2a3f5f\", \"gridcolor\": \"white\", \"linecolor\": \"white\", \"minorgridcolor\": \"white\", \"startlinecolor\": \"#2a3f5f\"}, \"type\": \"carpet\"}], \"choropleth\": [{\"colorbar\": {\"outlinewidth\": 0, \"ticks\": \"\"}, \"type\": \"choropleth\"}], \"contour\": [{\"colorbar\": {\"outlinewidth\": 0, \"ticks\": \"\"}, \"colorscale\": [[0.0, \"#0d0887\"], [0.1111111111111111, \"#46039f\"], [0.2222222222222222, \"#7201a8\"], [0.3333333333333333, \"#9c179e\"], [0.4444444444444444, \"#bd3786\"], [0.5555555555555556, \"#d8576b\"], [0.6666666666666666, \"#ed7953\"], [0.7777777777777778, \"#fb9f3a\"], [0.8888888888888888, \"#fdca26\"], [1.0, \"#f0f921\"]], \"type\": \"contour\"}], \"contourcarpet\": [{\"colorbar\": {\"outlinewidth\": 0, \"ticks\": \"\"}, \"type\": \"contourcarpet\"}], \"heatmap\": [{\"colorbar\": {\"outlinewidth\": 0, \"ticks\": \"\"}, \"colorscale\": [[0.0, \"#0d0887\"], [0.1111111111111111, \"#46039f\"], [0.2222222222222222, \"#7201a8\"], [0.3333333333333333, \"#9c179e\"], [0.4444444444444444, \"#bd3786\"], [0.5555555555555556, \"#d8576b\"], [0.6666666666666666, \"#ed7953\"], [0.7777777777777778, \"#fb9f3a\"], [0.8888888888888888, \"#fdca26\"], [1.0, \"#f0f921\"]], \"type\": \"heatmap\"}], \"heatmapgl\": [{\"colorbar\": {\"outlinewidth\": 0, \"ticks\": \"\"}, \"colorscale\": [[0.0, \"#0d0887\"], [0.1111111111111111, \"#46039f\"], [0.2222222222222222, \"#7201a8\"], [0.3333333333333333, \"#9c179e\"], [0.4444444444444444, \"#bd3786\"], [0.5555555555555556, \"#d8576b\"], [0.6666666666666666, \"#ed7953\"], [0.7777777777777778, \"#fb9f3a\"], [0.8888888888888888, \"#fdca26\"], [1.0, \"#f0f921\"]], \"type\": \"heatmapgl\"}], \"histogram\": [{\"marker\": {\"colorbar\": {\"outlinewidth\": 0, \"ticks\": \"\"}}, \"type\": \"histogram\"}], \"histogram2d\": [{\"colorbar\": {\"outlinewidth\": 0, \"ticks\": \"\"}, \"colorscale\": [[0.0, \"#0d0887\"], [0.1111111111111111, \"#46039f\"], [0.2222222222222222, \"#7201a8\"], [0.3333333333333333, \"#9c179e\"], [0.4444444444444444, \"#bd3786\"], [0.5555555555555556, \"#d8576b\"], [0.6666666666666666, \"#ed7953\"], [0.7777777777777778, \"#fb9f3a\"], [0.8888888888888888, \"#fdca26\"], [1.0, \"#f0f921\"]], \"type\": \"histogram2d\"}], \"histogram2dcontour\": [{\"colorbar\": {\"outlinewidth\": 0, \"ticks\": \"\"}, \"colorscale\": [[0.0, \"#0d0887\"], [0.1111111111111111, \"#46039f\"], [0.2222222222222222, \"#7201a8\"], [0.3333333333333333, \"#9c179e\"], [0.4444444444444444, \"#bd3786\"], [0.5555555555555556, \"#d8576b\"], [0.6666666666666666, \"#ed7953\"], [0.7777777777777778, \"#fb9f3a\"], [0.8888888888888888, \"#fdca26\"], [1.0, \"#f0f921\"]], \"type\": \"histogram2dcontour\"}], \"mesh3d\": [{\"colorbar\": {\"outlinewidth\": 0, \"ticks\": \"\"}, \"type\": \"mesh3d\"}], \"parcoords\": [{\"line\": {\"colorbar\": {\"outlinewidth\": 0, \"ticks\": \"\"}}, \"type\": \"parcoords\"}], \"pie\": [{\"automargin\": true, \"type\": \"pie\"}], \"scatter\": [{\"marker\": {\"colorbar\": {\"outlinewidth\": 0, \"ticks\": \"\"}}, \"type\": \"scatter\"}], \"scatter3d\": [{\"line\": {\"colorbar\": {\"outlinewidth\": 0, \"ticks\": \"\"}}, \"marker\": {\"colorbar\": {\"outlinewidth\": 0, \"ticks\": \"\"}}, \"type\": \"scatter3d\"}], \"scattercarpet\": [{\"marker\": {\"colorbar\": {\"outlinewidth\": 0, \"ticks\": \"\"}}, \"type\": \"scattercarpet\"}], \"scattergeo\": [{\"marker\": {\"colorbar\": {\"outlinewidth\": 0, \"ticks\": \"\"}}, \"type\": \"scattergeo\"}], \"scattergl\": [{\"marker\": {\"colorbar\": {\"outlinewidth\": 0, \"ticks\": \"\"}}, \"type\": \"scattergl\"}], \"scattermapbox\": [{\"marker\": {\"colorbar\": {\"outlinewidth\": 0, \"ticks\": \"\"}}, \"type\": \"scattermapbox\"}], \"scatterpolar\": [{\"marker\": {\"colorbar\": {\"outlinewidth\": 0, \"ticks\": \"\"}}, \"type\": \"scatterpolar\"}], \"scatterpolargl\": [{\"marker\": {\"colorbar\": {\"outlinewidth\": 0, \"ticks\": \"\"}}, \"type\": \"scatterpolargl\"}], \"scatterternary\": [{\"marker\": {\"colorbar\": {\"outlinewidth\": 0, \"ticks\": \"\"}}, \"type\": \"scatterternary\"}], \"surface\": [{\"colorbar\": {\"outlinewidth\": 0, \"ticks\": \"\"}, \"colorscale\": [[0.0, \"#0d0887\"], [0.1111111111111111, \"#46039f\"], [0.2222222222222222, \"#7201a8\"], [0.3333333333333333, \"#9c179e\"], [0.4444444444444444, \"#bd3786\"], [0.5555555555555556, \"#d8576b\"], [0.6666666666666666, \"#ed7953\"], [0.7777777777777778, \"#fb9f3a\"], [0.8888888888888888, \"#fdca26\"], [1.0, \"#f0f921\"]], \"type\": \"surface\"}], \"table\": [{\"cells\": {\"fill\": {\"color\": \"#EBF0F8\"}, \"line\": {\"color\": \"white\"}}, \"header\": {\"fill\": {\"color\": \"#C8D4E3\"}, \"line\": {\"color\": \"white\"}}, \"type\": \"table\"}]}, \"layout\": {\"annotationdefaults\": {\"arrowcolor\": \"#2a3f5f\", \"arrowhead\": 0, \"arrowwidth\": 1}, \"coloraxis\": {\"colorbar\": {\"outlinewidth\": 0, \"ticks\": \"\"}}, \"colorscale\": {\"diverging\": [[0, \"#8e0152\"], [0.1, \"#c51b7d\"], [0.2, \"#de77ae\"], [0.3, \"#f1b6da\"], [0.4, \"#fde0ef\"], [0.5, \"#f7f7f7\"], [0.6, \"#e6f5d0\"], [0.7, \"#b8e186\"], [0.8, \"#7fbc41\"], [0.9, \"#4d9221\"], [1, \"#276419\"]], \"sequential\": [[0.0, \"#0d0887\"], [0.1111111111111111, \"#46039f\"], [0.2222222222222222, \"#7201a8\"], [0.3333333333333333, \"#9c179e\"], [0.4444444444444444, \"#bd3786\"], [0.5555555555555556, \"#d8576b\"], [0.6666666666666666, \"#ed7953\"], [0.7777777777777778, \"#fb9f3a\"], [0.8888888888888888, \"#fdca26\"], [1.0, \"#f0f921\"]], \"sequentialminus\": [[0.0, \"#0d0887\"], [0.1111111111111111, \"#46039f\"], [0.2222222222222222, \"#7201a8\"], [0.3333333333333333, \"#9c179e\"], [0.4444444444444444, \"#bd3786\"], [0.5555555555555556, \"#d8576b\"], [0.6666666666666666, \"#ed7953\"], [0.7777777777777778, \"#fb9f3a\"], [0.8888888888888888, \"#fdca26\"], [1.0, \"#f0f921\"]]}, \"colorway\": [\"#636efa\", \"#EF553B\", \"#00cc96\", \"#ab63fa\", \"#FFA15A\", \"#19d3f3\", \"#FF6692\", \"#B6E880\", \"#FF97FF\", \"#FECB52\"], \"font\": {\"color\": \"#2a3f5f\"}, \"geo\": {\"bgcolor\": \"white\", \"lakecolor\": \"white\", \"landcolor\": \"#E5ECF6\", \"showlakes\": true, \"showland\": true, \"subunitcolor\": \"white\"}, \"hoverlabel\": {\"align\": \"left\"}, \"hovermode\": \"closest\", \"mapbox\": {\"style\": \"light\"}, \"paper_bgcolor\": \"white\", \"plot_bgcolor\": \"#E5ECF6\", \"polar\": {\"angularaxis\": {\"gridcolor\": \"white\", \"linecolor\": \"white\", \"ticks\": \"\"}, \"bgcolor\": \"#E5ECF6\", \"radialaxis\": {\"gridcolor\": \"white\", \"linecolor\": \"white\", \"ticks\": \"\"}}, \"scene\": {\"xaxis\": {\"backgroundcolor\": \"#E5ECF6\", \"gridcolor\": \"white\", \"gridwidth\": 2, \"linecolor\": \"white\", \"showbackground\": true, \"ticks\": \"\", \"zerolinecolor\": \"white\"}, \"yaxis\": {\"backgroundcolor\": \"#E5ECF6\", \"gridcolor\": \"white\", \"gridwidth\": 2, \"linecolor\": \"white\", \"showbackground\": true, \"ticks\": \"\", \"zerolinecolor\": \"white\"}, \"zaxis\": {\"backgroundcolor\": \"#E5ECF6\", \"gridcolor\": \"white\", \"gridwidth\": 2, \"linecolor\": \"white\", \"showbackground\": true, \"ticks\": \"\", \"zerolinecolor\": \"white\"}}, \"shapedefaults\": {\"line\": {\"color\": \"#2a3f5f\"}}, \"ternary\": {\"aaxis\": {\"gridcolor\": \"white\", \"linecolor\": \"white\", \"ticks\": \"\"}, \"baxis\": {\"gridcolor\": \"white\", \"linecolor\": \"white\", \"ticks\": \"\"}, \"bgcolor\": \"#E5ECF6\", \"caxis\": {\"gridcolor\": \"white\", \"linecolor\": \"white\", \"ticks\": \"\"}}, \"title\": {\"x\": 0.05}, \"xaxis\": {\"automargin\": true, \"gridcolor\": \"white\", \"linecolor\": \"white\", \"ticks\": \"\", \"title\": {\"standoff\": 15}, \"zerolinecolor\": \"white\", \"zerolinewidth\": 2}, \"yaxis\": {\"automargin\": true, \"gridcolor\": \"white\", \"linecolor\": \"white\", \"ticks\": \"\", \"title\": {\"standoff\": 15}, \"zerolinecolor\": \"white\", \"zerolinewidth\": 2}}}},\n",
       "                        {\"responsive\": true}\n",
       "                    ).then(function(){\n",
       "                            \n",
       "var gd = document.getElementById('b60d49a3-bf4b-4662-a0bc-aa2c5b16da04');\n",
       "var x = new MutationObserver(function (mutations, observer) {{\n",
       "        var display = window.getComputedStyle(gd).display;\n",
       "        if (!display || display === 'none') {{\n",
       "            console.log([gd, 'removed!']);\n",
       "            Plotly.purge(gd);\n",
       "            observer.disconnect();\n",
       "        }}\n",
       "}});\n",
       "\n",
       "// Listen for the removal of the full notebook cells\n",
       "var notebookContainer = gd.closest('#notebook-container');\n",
       "if (notebookContainer) {{\n",
       "    x.observe(notebookContainer, {childList: true});\n",
       "}}\n",
       "\n",
       "// Listen for the clearing of the current output cell\n",
       "var outputEl = gd.closest('.output');\n",
       "if (outputEl) {{\n",
       "    x.observe(outputEl, {childList: true});\n",
       "}}\n",
       "\n",
       "                        })\n",
       "                };\n",
       "                });\n",
       "            </script>\n",
       "        </div>"
      ]
     },
     "metadata": {},
     "output_type": "display_data"
    }
   ],
   "source": [
    "import plotly.graph_objects as go\n",
    "\n",
    "fig = go.Figure()\n",
    "for i in tokens:\n",
    "    if len(tokens[i][\"activity_count\"])>10:\n",
    "        fig.add_trace(go.Scatter(x=list(map(datetime.fromtimestamp,tokens[i][\"timestamp\"])),\n",
    "                                 y=tokens[i][\"activity_count\"],\n",
    "                                name = f'token {i}'))\n",
    "fig.show()"
   ]
  },
  {
   "cell_type": "code",
   "execution_count": 56,
   "metadata": {},
   "outputs": [
    {
     "name": "stdout",
     "output_type": "stream",
     "text": [
      "[0, 142, 53, 33, 14, 3, 0, 0, 1, 1, 0, 0, 1, 0, 0, 0, 0, 0, 0, 0]\n"
     ]
    }
   ],
   "source": [
    "activity = [0]*20\n",
    "for i in tokens:\n",
    "    activity[len(tokens[i][\"activity_count\"])]+=1\n",
    "print(activity)"
   ]
  },
  {
   "cell_type": "code",
   "execution_count": 57,
   "metadata": {},
   "outputs": [
    {
     "data": {
      "application/vnd.plotly.v1+json": {
       "config": {
        "plotlyServerURL": "https://plot.ly"
       },
       "data": [
        {
         "labels": [
          1,
          2,
          3,
          4,
          5,
          8,
          9,
          12
         ],
         "type": "pie",
         "values": [
          142,
          53,
          33,
          14,
          3,
          1,
          1,
          1
         ]
        }
       ],
       "layout": {
        "template": {
         "data": {
          "bar": [
           {
            "error_x": {
             "color": "#2a3f5f"
            },
            "error_y": {
             "color": "#2a3f5f"
            },
            "marker": {
             "line": {
              "color": "#E5ECF6",
              "width": 0.5
             }
            },
            "type": "bar"
           }
          ],
          "barpolar": [
           {
            "marker": {
             "line": {
              "color": "#E5ECF6",
              "width": 0.5
             }
            },
            "type": "barpolar"
           }
          ],
          "carpet": [
           {
            "aaxis": {
             "endlinecolor": "#2a3f5f",
             "gridcolor": "white",
             "linecolor": "white",
             "minorgridcolor": "white",
             "startlinecolor": "#2a3f5f"
            },
            "baxis": {
             "endlinecolor": "#2a3f5f",
             "gridcolor": "white",
             "linecolor": "white",
             "minorgridcolor": "white",
             "startlinecolor": "#2a3f5f"
            },
            "type": "carpet"
           }
          ],
          "choropleth": [
           {
            "colorbar": {
             "outlinewidth": 0,
             "ticks": ""
            },
            "type": "choropleth"
           }
          ],
          "contour": [
           {
            "colorbar": {
             "outlinewidth": 0,
             "ticks": ""
            },
            "colorscale": [
             [
              0,
              "#0d0887"
             ],
             [
              0.1111111111111111,
              "#46039f"
             ],
             [
              0.2222222222222222,
              "#7201a8"
             ],
             [
              0.3333333333333333,
              "#9c179e"
             ],
             [
              0.4444444444444444,
              "#bd3786"
             ],
             [
              0.5555555555555556,
              "#d8576b"
             ],
             [
              0.6666666666666666,
              "#ed7953"
             ],
             [
              0.7777777777777778,
              "#fb9f3a"
             ],
             [
              0.8888888888888888,
              "#fdca26"
             ],
             [
              1,
              "#f0f921"
             ]
            ],
            "type": "contour"
           }
          ],
          "contourcarpet": [
           {
            "colorbar": {
             "outlinewidth": 0,
             "ticks": ""
            },
            "type": "contourcarpet"
           }
          ],
          "heatmap": [
           {
            "colorbar": {
             "outlinewidth": 0,
             "ticks": ""
            },
            "colorscale": [
             [
              0,
              "#0d0887"
             ],
             [
              0.1111111111111111,
              "#46039f"
             ],
             [
              0.2222222222222222,
              "#7201a8"
             ],
             [
              0.3333333333333333,
              "#9c179e"
             ],
             [
              0.4444444444444444,
              "#bd3786"
             ],
             [
              0.5555555555555556,
              "#d8576b"
             ],
             [
              0.6666666666666666,
              "#ed7953"
             ],
             [
              0.7777777777777778,
              "#fb9f3a"
             ],
             [
              0.8888888888888888,
              "#fdca26"
             ],
             [
              1,
              "#f0f921"
             ]
            ],
            "type": "heatmap"
           }
          ],
          "heatmapgl": [
           {
            "colorbar": {
             "outlinewidth": 0,
             "ticks": ""
            },
            "colorscale": [
             [
              0,
              "#0d0887"
             ],
             [
              0.1111111111111111,
              "#46039f"
             ],
             [
              0.2222222222222222,
              "#7201a8"
             ],
             [
              0.3333333333333333,
              "#9c179e"
             ],
             [
              0.4444444444444444,
              "#bd3786"
             ],
             [
              0.5555555555555556,
              "#d8576b"
             ],
             [
              0.6666666666666666,
              "#ed7953"
             ],
             [
              0.7777777777777778,
              "#fb9f3a"
             ],
             [
              0.8888888888888888,
              "#fdca26"
             ],
             [
              1,
              "#f0f921"
             ]
            ],
            "type": "heatmapgl"
           }
          ],
          "histogram": [
           {
            "marker": {
             "colorbar": {
              "outlinewidth": 0,
              "ticks": ""
             }
            },
            "type": "histogram"
           }
          ],
          "histogram2d": [
           {
            "colorbar": {
             "outlinewidth": 0,
             "ticks": ""
            },
            "colorscale": [
             [
              0,
              "#0d0887"
             ],
             [
              0.1111111111111111,
              "#46039f"
             ],
             [
              0.2222222222222222,
              "#7201a8"
             ],
             [
              0.3333333333333333,
              "#9c179e"
             ],
             [
              0.4444444444444444,
              "#bd3786"
             ],
             [
              0.5555555555555556,
              "#d8576b"
             ],
             [
              0.6666666666666666,
              "#ed7953"
             ],
             [
              0.7777777777777778,
              "#fb9f3a"
             ],
             [
              0.8888888888888888,
              "#fdca26"
             ],
             [
              1,
              "#f0f921"
             ]
            ],
            "type": "histogram2d"
           }
          ],
          "histogram2dcontour": [
           {
            "colorbar": {
             "outlinewidth": 0,
             "ticks": ""
            },
            "colorscale": [
             [
              0,
              "#0d0887"
             ],
             [
              0.1111111111111111,
              "#46039f"
             ],
             [
              0.2222222222222222,
              "#7201a8"
             ],
             [
              0.3333333333333333,
              "#9c179e"
             ],
             [
              0.4444444444444444,
              "#bd3786"
             ],
             [
              0.5555555555555556,
              "#d8576b"
             ],
             [
              0.6666666666666666,
              "#ed7953"
             ],
             [
              0.7777777777777778,
              "#fb9f3a"
             ],
             [
              0.8888888888888888,
              "#fdca26"
             ],
             [
              1,
              "#f0f921"
             ]
            ],
            "type": "histogram2dcontour"
           }
          ],
          "mesh3d": [
           {
            "colorbar": {
             "outlinewidth": 0,
             "ticks": ""
            },
            "type": "mesh3d"
           }
          ],
          "parcoords": [
           {
            "line": {
             "colorbar": {
              "outlinewidth": 0,
              "ticks": ""
             }
            },
            "type": "parcoords"
           }
          ],
          "pie": [
           {
            "automargin": true,
            "type": "pie"
           }
          ],
          "scatter": [
           {
            "marker": {
             "colorbar": {
              "outlinewidth": 0,
              "ticks": ""
             }
            },
            "type": "scatter"
           }
          ],
          "scatter3d": [
           {
            "line": {
             "colorbar": {
              "outlinewidth": 0,
              "ticks": ""
             }
            },
            "marker": {
             "colorbar": {
              "outlinewidth": 0,
              "ticks": ""
             }
            },
            "type": "scatter3d"
           }
          ],
          "scattercarpet": [
           {
            "marker": {
             "colorbar": {
              "outlinewidth": 0,
              "ticks": ""
             }
            },
            "type": "scattercarpet"
           }
          ],
          "scattergeo": [
           {
            "marker": {
             "colorbar": {
              "outlinewidth": 0,
              "ticks": ""
             }
            },
            "type": "scattergeo"
           }
          ],
          "scattergl": [
           {
            "marker": {
             "colorbar": {
              "outlinewidth": 0,
              "ticks": ""
             }
            },
            "type": "scattergl"
           }
          ],
          "scattermapbox": [
           {
            "marker": {
             "colorbar": {
              "outlinewidth": 0,
              "ticks": ""
             }
            },
            "type": "scattermapbox"
           }
          ],
          "scatterpolar": [
           {
            "marker": {
             "colorbar": {
              "outlinewidth": 0,
              "ticks": ""
             }
            },
            "type": "scatterpolar"
           }
          ],
          "scatterpolargl": [
           {
            "marker": {
             "colorbar": {
              "outlinewidth": 0,
              "ticks": ""
             }
            },
            "type": "scatterpolargl"
           }
          ],
          "scatterternary": [
           {
            "marker": {
             "colorbar": {
              "outlinewidth": 0,
              "ticks": ""
             }
            },
            "type": "scatterternary"
           }
          ],
          "surface": [
           {
            "colorbar": {
             "outlinewidth": 0,
             "ticks": ""
            },
            "colorscale": [
             [
              0,
              "#0d0887"
             ],
             [
              0.1111111111111111,
              "#46039f"
             ],
             [
              0.2222222222222222,
              "#7201a8"
             ],
             [
              0.3333333333333333,
              "#9c179e"
             ],
             [
              0.4444444444444444,
              "#bd3786"
             ],
             [
              0.5555555555555556,
              "#d8576b"
             ],
             [
              0.6666666666666666,
              "#ed7953"
             ],
             [
              0.7777777777777778,
              "#fb9f3a"
             ],
             [
              0.8888888888888888,
              "#fdca26"
             ],
             [
              1,
              "#f0f921"
             ]
            ],
            "type": "surface"
           }
          ],
          "table": [
           {
            "cells": {
             "fill": {
              "color": "#EBF0F8"
             },
             "line": {
              "color": "white"
             }
            },
            "header": {
             "fill": {
              "color": "#C8D4E3"
             },
             "line": {
              "color": "white"
             }
            },
            "type": "table"
           }
          ]
         },
         "layout": {
          "annotationdefaults": {
           "arrowcolor": "#2a3f5f",
           "arrowhead": 0,
           "arrowwidth": 1
          },
          "coloraxis": {
           "colorbar": {
            "outlinewidth": 0,
            "ticks": ""
           }
          },
          "colorscale": {
           "diverging": [
            [
             0,
             "#8e0152"
            ],
            [
             0.1,
             "#c51b7d"
            ],
            [
             0.2,
             "#de77ae"
            ],
            [
             0.3,
             "#f1b6da"
            ],
            [
             0.4,
             "#fde0ef"
            ],
            [
             0.5,
             "#f7f7f7"
            ],
            [
             0.6,
             "#e6f5d0"
            ],
            [
             0.7,
             "#b8e186"
            ],
            [
             0.8,
             "#7fbc41"
            ],
            [
             0.9,
             "#4d9221"
            ],
            [
             1,
             "#276419"
            ]
           ],
           "sequential": [
            [
             0,
             "#0d0887"
            ],
            [
             0.1111111111111111,
             "#46039f"
            ],
            [
             0.2222222222222222,
             "#7201a8"
            ],
            [
             0.3333333333333333,
             "#9c179e"
            ],
            [
             0.4444444444444444,
             "#bd3786"
            ],
            [
             0.5555555555555556,
             "#d8576b"
            ],
            [
             0.6666666666666666,
             "#ed7953"
            ],
            [
             0.7777777777777778,
             "#fb9f3a"
            ],
            [
             0.8888888888888888,
             "#fdca26"
            ],
            [
             1,
             "#f0f921"
            ]
           ],
           "sequentialminus": [
            [
             0,
             "#0d0887"
            ],
            [
             0.1111111111111111,
             "#46039f"
            ],
            [
             0.2222222222222222,
             "#7201a8"
            ],
            [
             0.3333333333333333,
             "#9c179e"
            ],
            [
             0.4444444444444444,
             "#bd3786"
            ],
            [
             0.5555555555555556,
             "#d8576b"
            ],
            [
             0.6666666666666666,
             "#ed7953"
            ],
            [
             0.7777777777777778,
             "#fb9f3a"
            ],
            [
             0.8888888888888888,
             "#fdca26"
            ],
            [
             1,
             "#f0f921"
            ]
           ]
          },
          "colorway": [
           "#636efa",
           "#EF553B",
           "#00cc96",
           "#ab63fa",
           "#FFA15A",
           "#19d3f3",
           "#FF6692",
           "#B6E880",
           "#FF97FF",
           "#FECB52"
          ],
          "font": {
           "color": "#2a3f5f"
          },
          "geo": {
           "bgcolor": "white",
           "lakecolor": "white",
           "landcolor": "#E5ECF6",
           "showlakes": true,
           "showland": true,
           "subunitcolor": "white"
          },
          "hoverlabel": {
           "align": "left"
          },
          "hovermode": "closest",
          "mapbox": {
           "style": "light"
          },
          "paper_bgcolor": "white",
          "plot_bgcolor": "#E5ECF6",
          "polar": {
           "angularaxis": {
            "gridcolor": "white",
            "linecolor": "white",
            "ticks": ""
           },
           "bgcolor": "#E5ECF6",
           "radialaxis": {
            "gridcolor": "white",
            "linecolor": "white",
            "ticks": ""
           }
          },
          "scene": {
           "xaxis": {
            "backgroundcolor": "#E5ECF6",
            "gridcolor": "white",
            "gridwidth": 2,
            "linecolor": "white",
            "showbackground": true,
            "ticks": "",
            "zerolinecolor": "white"
           },
           "yaxis": {
            "backgroundcolor": "#E5ECF6",
            "gridcolor": "white",
            "gridwidth": 2,
            "linecolor": "white",
            "showbackground": true,
            "ticks": "",
            "zerolinecolor": "white"
           },
           "zaxis": {
            "backgroundcolor": "#E5ECF6",
            "gridcolor": "white",
            "gridwidth": 2,
            "linecolor": "white",
            "showbackground": true,
            "ticks": "",
            "zerolinecolor": "white"
           }
          },
          "shapedefaults": {
           "line": {
            "color": "#2a3f5f"
           }
          },
          "ternary": {
           "aaxis": {
            "gridcolor": "white",
            "linecolor": "white",
            "ticks": ""
           },
           "baxis": {
            "gridcolor": "white",
            "linecolor": "white",
            "ticks": ""
           },
           "bgcolor": "#E5ECF6",
           "caxis": {
            "gridcolor": "white",
            "linecolor": "white",
            "ticks": ""
           }
          },
          "title": {
           "x": 0.05
          },
          "xaxis": {
           "automargin": true,
           "gridcolor": "white",
           "linecolor": "white",
           "ticks": "",
           "title": {
            "standoff": 15
           },
           "zerolinecolor": "white",
           "zerolinewidth": 2
          },
          "yaxis": {
           "automargin": true,
           "gridcolor": "white",
           "linecolor": "white",
           "ticks": "",
           "title": {
            "standoff": 15
           },
           "zerolinecolor": "white",
           "zerolinewidth": 2
          }
         }
        }
       }
      },
      "text/html": [
       "<div>\n",
       "        \n",
       "        \n",
       "            <div id=\"7e21edf5-b95a-4144-b61a-cf5c99c9b415\" class=\"plotly-graph-div\" style=\"height:525px; width:100%;\"></div>\n",
       "            <script type=\"text/javascript\">\n",
       "                require([\"plotly\"], function(Plotly) {\n",
       "                    window.PLOTLYENV=window.PLOTLYENV || {};\n",
       "                    \n",
       "                if (document.getElementById(\"7e21edf5-b95a-4144-b61a-cf5c99c9b415\")) {\n",
       "                    Plotly.newPlot(\n",
       "                        '7e21edf5-b95a-4144-b61a-cf5c99c9b415',\n",
       "                        [{\"labels\": [1, 2, 3, 4, 5, 8, 9, 12], \"type\": \"pie\", \"values\": [142, 53, 33, 14, 3, 1, 1, 1]}],\n",
       "                        {\"template\": {\"data\": {\"bar\": [{\"error_x\": {\"color\": \"#2a3f5f\"}, \"error_y\": {\"color\": \"#2a3f5f\"}, \"marker\": {\"line\": {\"color\": \"#E5ECF6\", \"width\": 0.5}}, \"type\": \"bar\"}], \"barpolar\": [{\"marker\": {\"line\": {\"color\": \"#E5ECF6\", \"width\": 0.5}}, \"type\": \"barpolar\"}], \"carpet\": [{\"aaxis\": {\"endlinecolor\": \"#2a3f5f\", \"gridcolor\": \"white\", \"linecolor\": \"white\", \"minorgridcolor\": \"white\", \"startlinecolor\": \"#2a3f5f\"}, \"baxis\": {\"endlinecolor\": \"#2a3f5f\", \"gridcolor\": \"white\", \"linecolor\": \"white\", \"minorgridcolor\": \"white\", \"startlinecolor\": \"#2a3f5f\"}, \"type\": \"carpet\"}], \"choropleth\": [{\"colorbar\": {\"outlinewidth\": 0, \"ticks\": \"\"}, \"type\": \"choropleth\"}], \"contour\": [{\"colorbar\": {\"outlinewidth\": 0, \"ticks\": \"\"}, \"colorscale\": [[0.0, \"#0d0887\"], [0.1111111111111111, \"#46039f\"], [0.2222222222222222, \"#7201a8\"], [0.3333333333333333, \"#9c179e\"], [0.4444444444444444, \"#bd3786\"], [0.5555555555555556, \"#d8576b\"], [0.6666666666666666, \"#ed7953\"], [0.7777777777777778, \"#fb9f3a\"], [0.8888888888888888, \"#fdca26\"], [1.0, \"#f0f921\"]], \"type\": \"contour\"}], \"contourcarpet\": [{\"colorbar\": {\"outlinewidth\": 0, \"ticks\": \"\"}, \"type\": \"contourcarpet\"}], \"heatmap\": [{\"colorbar\": {\"outlinewidth\": 0, \"ticks\": \"\"}, \"colorscale\": [[0.0, \"#0d0887\"], [0.1111111111111111, \"#46039f\"], [0.2222222222222222, \"#7201a8\"], [0.3333333333333333, \"#9c179e\"], [0.4444444444444444, \"#bd3786\"], [0.5555555555555556, \"#d8576b\"], [0.6666666666666666, \"#ed7953\"], [0.7777777777777778, \"#fb9f3a\"], [0.8888888888888888, \"#fdca26\"], [1.0, \"#f0f921\"]], \"type\": \"heatmap\"}], \"heatmapgl\": [{\"colorbar\": {\"outlinewidth\": 0, \"ticks\": \"\"}, \"colorscale\": [[0.0, \"#0d0887\"], [0.1111111111111111, \"#46039f\"], [0.2222222222222222, \"#7201a8\"], [0.3333333333333333, \"#9c179e\"], [0.4444444444444444, \"#bd3786\"], [0.5555555555555556, \"#d8576b\"], [0.6666666666666666, \"#ed7953\"], [0.7777777777777778, \"#fb9f3a\"], [0.8888888888888888, \"#fdca26\"], [1.0, \"#f0f921\"]], \"type\": \"heatmapgl\"}], \"histogram\": [{\"marker\": {\"colorbar\": {\"outlinewidth\": 0, \"ticks\": \"\"}}, \"type\": \"histogram\"}], \"histogram2d\": [{\"colorbar\": {\"outlinewidth\": 0, \"ticks\": \"\"}, \"colorscale\": [[0.0, \"#0d0887\"], [0.1111111111111111, \"#46039f\"], [0.2222222222222222, \"#7201a8\"], [0.3333333333333333, \"#9c179e\"], [0.4444444444444444, \"#bd3786\"], [0.5555555555555556, \"#d8576b\"], [0.6666666666666666, \"#ed7953\"], [0.7777777777777778, \"#fb9f3a\"], [0.8888888888888888, \"#fdca26\"], [1.0, \"#f0f921\"]], \"type\": \"histogram2d\"}], \"histogram2dcontour\": [{\"colorbar\": {\"outlinewidth\": 0, \"ticks\": \"\"}, \"colorscale\": [[0.0, \"#0d0887\"], [0.1111111111111111, \"#46039f\"], [0.2222222222222222, \"#7201a8\"], [0.3333333333333333, \"#9c179e\"], [0.4444444444444444, \"#bd3786\"], [0.5555555555555556, \"#d8576b\"], [0.6666666666666666, \"#ed7953\"], [0.7777777777777778, \"#fb9f3a\"], [0.8888888888888888, \"#fdca26\"], [1.0, \"#f0f921\"]], \"type\": \"histogram2dcontour\"}], \"mesh3d\": [{\"colorbar\": {\"outlinewidth\": 0, \"ticks\": \"\"}, \"type\": \"mesh3d\"}], \"parcoords\": [{\"line\": {\"colorbar\": {\"outlinewidth\": 0, \"ticks\": \"\"}}, \"type\": \"parcoords\"}], \"pie\": [{\"automargin\": true, \"type\": \"pie\"}], \"scatter\": [{\"marker\": {\"colorbar\": {\"outlinewidth\": 0, \"ticks\": \"\"}}, \"type\": \"scatter\"}], \"scatter3d\": [{\"line\": {\"colorbar\": {\"outlinewidth\": 0, \"ticks\": \"\"}}, \"marker\": {\"colorbar\": {\"outlinewidth\": 0, \"ticks\": \"\"}}, \"type\": \"scatter3d\"}], \"scattercarpet\": [{\"marker\": {\"colorbar\": {\"outlinewidth\": 0, \"ticks\": \"\"}}, \"type\": \"scattercarpet\"}], \"scattergeo\": [{\"marker\": {\"colorbar\": {\"outlinewidth\": 0, \"ticks\": \"\"}}, \"type\": \"scattergeo\"}], \"scattergl\": [{\"marker\": {\"colorbar\": {\"outlinewidth\": 0, \"ticks\": \"\"}}, \"type\": \"scattergl\"}], \"scattermapbox\": [{\"marker\": {\"colorbar\": {\"outlinewidth\": 0, \"ticks\": \"\"}}, \"type\": \"scattermapbox\"}], \"scatterpolar\": [{\"marker\": {\"colorbar\": {\"outlinewidth\": 0, \"ticks\": \"\"}}, \"type\": \"scatterpolar\"}], \"scatterpolargl\": [{\"marker\": {\"colorbar\": {\"outlinewidth\": 0, \"ticks\": \"\"}}, \"type\": \"scatterpolargl\"}], \"scatterternary\": [{\"marker\": {\"colorbar\": {\"outlinewidth\": 0, \"ticks\": \"\"}}, \"type\": \"scatterternary\"}], \"surface\": [{\"colorbar\": {\"outlinewidth\": 0, \"ticks\": \"\"}, \"colorscale\": [[0.0, \"#0d0887\"], [0.1111111111111111, \"#46039f\"], [0.2222222222222222, \"#7201a8\"], [0.3333333333333333, \"#9c179e\"], [0.4444444444444444, \"#bd3786\"], [0.5555555555555556, \"#d8576b\"], [0.6666666666666666, \"#ed7953\"], [0.7777777777777778, \"#fb9f3a\"], [0.8888888888888888, \"#fdca26\"], [1.0, \"#f0f921\"]], \"type\": \"surface\"}], \"table\": [{\"cells\": {\"fill\": {\"color\": \"#EBF0F8\"}, \"line\": {\"color\": \"white\"}}, \"header\": {\"fill\": {\"color\": \"#C8D4E3\"}, \"line\": {\"color\": \"white\"}}, \"type\": \"table\"}]}, \"layout\": {\"annotationdefaults\": {\"arrowcolor\": \"#2a3f5f\", \"arrowhead\": 0, \"arrowwidth\": 1}, \"coloraxis\": {\"colorbar\": {\"outlinewidth\": 0, \"ticks\": \"\"}}, \"colorscale\": {\"diverging\": [[0, \"#8e0152\"], [0.1, \"#c51b7d\"], [0.2, \"#de77ae\"], [0.3, \"#f1b6da\"], [0.4, \"#fde0ef\"], [0.5, \"#f7f7f7\"], [0.6, \"#e6f5d0\"], [0.7, \"#b8e186\"], [0.8, \"#7fbc41\"], [0.9, \"#4d9221\"], [1, \"#276419\"]], \"sequential\": [[0.0, \"#0d0887\"], [0.1111111111111111, \"#46039f\"], [0.2222222222222222, \"#7201a8\"], [0.3333333333333333, \"#9c179e\"], [0.4444444444444444, \"#bd3786\"], [0.5555555555555556, \"#d8576b\"], [0.6666666666666666, \"#ed7953\"], [0.7777777777777778, \"#fb9f3a\"], [0.8888888888888888, \"#fdca26\"], [1.0, \"#f0f921\"]], \"sequentialminus\": [[0.0, \"#0d0887\"], [0.1111111111111111, \"#46039f\"], [0.2222222222222222, \"#7201a8\"], [0.3333333333333333, \"#9c179e\"], [0.4444444444444444, \"#bd3786\"], [0.5555555555555556, \"#d8576b\"], [0.6666666666666666, \"#ed7953\"], [0.7777777777777778, \"#fb9f3a\"], [0.8888888888888888, \"#fdca26\"], [1.0, \"#f0f921\"]]}, \"colorway\": [\"#636efa\", \"#EF553B\", \"#00cc96\", \"#ab63fa\", \"#FFA15A\", \"#19d3f3\", \"#FF6692\", \"#B6E880\", \"#FF97FF\", \"#FECB52\"], \"font\": {\"color\": \"#2a3f5f\"}, \"geo\": {\"bgcolor\": \"white\", \"lakecolor\": \"white\", \"landcolor\": \"#E5ECF6\", \"showlakes\": true, \"showland\": true, \"subunitcolor\": \"white\"}, \"hoverlabel\": {\"align\": \"left\"}, \"hovermode\": \"closest\", \"mapbox\": {\"style\": \"light\"}, \"paper_bgcolor\": \"white\", \"plot_bgcolor\": \"#E5ECF6\", \"polar\": {\"angularaxis\": {\"gridcolor\": \"white\", \"linecolor\": \"white\", \"ticks\": \"\"}, \"bgcolor\": \"#E5ECF6\", \"radialaxis\": {\"gridcolor\": \"white\", \"linecolor\": \"white\", \"ticks\": \"\"}}, \"scene\": {\"xaxis\": {\"backgroundcolor\": \"#E5ECF6\", \"gridcolor\": \"white\", \"gridwidth\": 2, \"linecolor\": \"white\", \"showbackground\": true, \"ticks\": \"\", \"zerolinecolor\": \"white\"}, \"yaxis\": {\"backgroundcolor\": \"#E5ECF6\", \"gridcolor\": \"white\", \"gridwidth\": 2, \"linecolor\": \"white\", \"showbackground\": true, \"ticks\": \"\", \"zerolinecolor\": \"white\"}, \"zaxis\": {\"backgroundcolor\": \"#E5ECF6\", \"gridcolor\": \"white\", \"gridwidth\": 2, \"linecolor\": \"white\", \"showbackground\": true, \"ticks\": \"\", \"zerolinecolor\": \"white\"}}, \"shapedefaults\": {\"line\": {\"color\": \"#2a3f5f\"}}, \"ternary\": {\"aaxis\": {\"gridcolor\": \"white\", \"linecolor\": \"white\", \"ticks\": \"\"}, \"baxis\": {\"gridcolor\": \"white\", \"linecolor\": \"white\", \"ticks\": \"\"}, \"bgcolor\": \"#E5ECF6\", \"caxis\": {\"gridcolor\": \"white\", \"linecolor\": \"white\", \"ticks\": \"\"}}, \"title\": {\"x\": 0.05}, \"xaxis\": {\"automargin\": true, \"gridcolor\": \"white\", \"linecolor\": \"white\", \"ticks\": \"\", \"title\": {\"standoff\": 15}, \"zerolinecolor\": \"white\", \"zerolinewidth\": 2}, \"yaxis\": {\"automargin\": true, \"gridcolor\": \"white\", \"linecolor\": \"white\", \"ticks\": \"\", \"title\": {\"standoff\": 15}, \"zerolinecolor\": \"white\", \"zerolinewidth\": 2}}}},\n",
       "                        {\"responsive\": true}\n",
       "                    ).then(function(){\n",
       "                            \n",
       "var gd = document.getElementById('7e21edf5-b95a-4144-b61a-cf5c99c9b415');\n",
       "var x = new MutationObserver(function (mutations, observer) {{\n",
       "        var display = window.getComputedStyle(gd).display;\n",
       "        if (!display || display === 'none') {{\n",
       "            console.log([gd, 'removed!']);\n",
       "            Plotly.purge(gd);\n",
       "            observer.disconnect();\n",
       "        }}\n",
       "}});\n",
       "\n",
       "// Listen for the removal of the full notebook cells\n",
       "var notebookContainer = gd.closest('#notebook-container');\n",
       "if (notebookContainer) {{\n",
       "    x.observe(notebookContainer, {childList: true});\n",
       "}}\n",
       "\n",
       "// Listen for the clearing of the current output cell\n",
       "var outputEl = gd.closest('.output');\n",
       "if (outputEl) {{\n",
       "    x.observe(outputEl, {childList: true});\n",
       "}}\n",
       "\n",
       "                        })\n",
       "                };\n",
       "                });\n",
       "            </script>\n",
       "        </div>"
      ]
     },
     "metadata": {},
     "output_type": "display_data"
    }
   ],
   "source": [
    "import plotly.graph_objects as go\n",
    "\n",
    "labels = [i for i in range(20) if activity[i]>0]\n",
    "values = [i for i in activity if i>0]\n",
    "fig = go.Figure(data=[go.Pie(labels=labels, values=values)])\n",
    "fig.show()"
   ]
  },
  {
   "cell_type": "code",
   "execution_count": 54,
   "metadata": {},
   "outputs": [
    {
     "data": {
      "text/plain": [
       "{'timestamp': [1593070974,\n",
       "  1593070974,\n",
       "  1593070975,\n",
       "  1593070976,\n",
       "  1593070977,\n",
       "  1593070980,\n",
       "  1593070982,\n",
       "  1593070991,\n",
       "  1593071000],\n",
       " 'activity_count': [4, 5, 7, 10, 7, 7, 4, 4, 4],\n",
       " 'gasUsed': [213956,\n",
       "  240025,\n",
       "  414217,\n",
       "  470879,\n",
       "  454858,\n",
       "  373020,\n",
       "  254849,\n",
       "  173039,\n",
       "  214076]}"
      ]
     },
     "execution_count": 54,
     "metadata": {},
     "output_type": "execute_result"
    }
   ],
   "source": [
    "tokens[1]"
   ]
  },
  {
   "cell_type": "code",
   "execution_count": null,
   "metadata": {},
   "outputs": [],
   "source": []
  },
  {
   "cell_type": "code",
   "execution_count": null,
   "metadata": {},
   "outputs": [],
   "source": []
  },
  {
   "cell_type": "code",
   "execution_count": null,
   "metadata": {},
   "outputs": [],
   "source": []
  },
  {
   "cell_type": "code",
   "execution_count": null,
   "metadata": {},
   "outputs": [],
   "source": []
  },
  {
   "cell_type": "code",
   "execution_count": 18,
   "metadata": {},
   "outputs": [
    {
     "name": "stdout",
     "output_type": "stream",
     "text": [
      "1593071135 320 61\n",
      "1593071165 388 112\n",
      "1593071232 528 108\n",
      "1593071255 576 242\n",
      "1593071298 671 54\n",
      "1593071311 699 117\n",
      "1593071393 855 25\n"
     ]
    }
   ],
   "source": [
    "event_filter = contract.events.deactive_token_event.createFilter(fromBlock=\"earliest\",toBlock=\"latest\")\n",
    "j = 0\n",
    "deactive = []\n",
    "for i in event_filter.get_all_entries():\n",
    "    print(w3.eth.getBlock(i['blockNumber']).timestamp,i['blockNumber'],i['args']['token_id'])\n",
    "    deactive.append((w3.eth.getBlock(i['blockNumber']).timestamp,i['blockNumber'],i['args']['token_id']))"
   ]
  },
  {
   "cell_type": "code",
   "execution_count": 20,
   "metadata": {},
   "outputs": [
    {
     "name": "stdout",
     "output_type": "stream",
     "text": [
      "[61, 112, 108, 242, 54, 117, 25]\n",
      "1593070998 47 25\n",
      "1593071021 102 54\n",
      "1593071027 112 61\n",
      "1593071077 202 108\n",
      "1593071080 209 112\n",
      "1593071086 221 117\n",
      "1593071206 470 242\n"
     ]
    }
   ],
   "source": [
    "event_filter = contract.events.create_token_event.createFilter(fromBlock=\"earliest\",toBlock=\"latest\")\n",
    "j = 0\n",
    "find = [i[2] for i in deactive]\n",
    "print(find)\n",
    "start = []\n",
    "for i in event_filter.get_all_entries():\n",
    "    if i['args']['token_id'] in find:\n",
    "        print(w3.eth.getBlock(i['blockNumber']).timestamp,i['blockNumber'],i['args']['token_id'])\n",
    "        start.append((w3.eth.getBlock(i['blockNumber']).timestamp,i['blockNumber'],i['args']['token_id']))"
   ]
  },
  {
   "cell_type": "code",
   "execution_count": 21,
   "metadata": {},
   "outputs": [],
   "source": [
    "deactive.sort(key=lambda x:x[2])\n",
    "start.sort(key=lambda x:x[2])"
   ]
  },
  {
   "cell_type": "code",
   "execution_count": 33,
   "metadata": {},
   "outputs": [
    {
     "data": {
      "application/vnd.plotly.v1+json": {
       "config": {
        "plotlyServerURL": "https://plot.ly"
       },
       "data": [
        {
         "fill": "toself",
         "fillcolor": "rgb(140, 86, 75)",
         "hoverinfo": "name",
         "legendgroup": "rgb(140, 86, 75)",
         "mode": "none",
         "name": "117",
         "type": "scatter",
         "x": [
          "2020-06-25T15:44:46",
          "2020-06-25T15:48:31",
          "2020-06-25T15:48:31",
          "2020-06-25T15:44:46"
         ],
         "y": [
          4.8,
          4.8,
          5.2,
          5.2
         ]
        },
        {
         "fill": "toself",
         "fillcolor": "rgb(148, 103, 189)",
         "hoverinfo": "name",
         "legendgroup": "rgb(148, 103, 189)",
         "mode": "none",
         "name": "112",
         "type": "scatter",
         "x": [
          "2020-06-25T15:44:40",
          "2020-06-25T15:46:05",
          "2020-06-25T15:46:05",
          "2020-06-25T15:44:40"
         ],
         "y": [
          3.8,
          3.8,
          4.2,
          4.2
         ]
        },
        {
         "fill": "toself",
         "fillcolor": "rgb(214, 39, 40)",
         "hoverinfo": "name",
         "legendgroup": "rgb(214, 39, 40)",
         "mode": "none",
         "name": "108",
         "type": "scatter",
         "x": [
          "2020-06-25T15:44:37",
          "2020-06-25T15:47:12",
          "2020-06-25T15:47:12",
          "2020-06-25T15:44:37"
         ],
         "y": [
          2.8,
          2.8,
          3.2,
          3.2
         ]
        },
        {
         "fill": "toself",
         "fillcolor": "rgb(227, 119, 194)",
         "hoverinfo": "name",
         "legendgroup": "rgb(227, 119, 194)",
         "mode": "none",
         "name": "242",
         "type": "scatter",
         "x": [
          "2020-06-25T15:46:46",
          "2020-06-25T15:47:35",
          "2020-06-25T15:47:35",
          "2020-06-25T15:46:46"
         ],
         "y": [
          5.8,
          5.8,
          6.2,
          6.2
         ]
        },
        {
         "fill": "toself",
         "fillcolor": "rgb(255, 127, 14)",
         "hoverinfo": "name",
         "legendgroup": "rgb(255, 127, 14)",
         "mode": "none",
         "name": "54",
         "type": "scatter",
         "x": [
          "2020-06-25T15:43:41",
          "2020-06-25T15:48:18",
          "2020-06-25T15:48:18",
          "2020-06-25T15:43:41"
         ],
         "y": [
          0.8,
          0.8,
          1.2,
          1.2
         ]
        },
        {
         "fill": "toself",
         "fillcolor": "rgb(31, 119, 180)",
         "hoverinfo": "name",
         "legendgroup": "rgb(31, 119, 180)",
         "mode": "none",
         "name": "25",
         "type": "scatter",
         "x": [
          "2020-06-25T15:43:18",
          "2020-06-25T15:49:53",
          "2020-06-25T15:49:53",
          "2020-06-25T15:43:18"
         ],
         "y": [
          -0.2,
          -0.2,
          0.2,
          0.2
         ]
        },
        {
         "fill": "toself",
         "fillcolor": "rgb(44, 160, 44)",
         "hoverinfo": "name",
         "legendgroup": "rgb(44, 160, 44)",
         "mode": "none",
         "name": "61",
         "type": "scatter",
         "x": [
          "2020-06-25T15:43:47",
          "2020-06-25T15:45:35",
          "2020-06-25T15:45:35",
          "2020-06-25T15:43:47"
         ],
         "y": [
          1.8,
          1.8,
          2.2,
          2.2
         ]
        },
        {
         "legendgroup": "rgb(140, 86, 75)",
         "marker": {
          "color": "rgb(140, 86, 75)",
          "opacity": 0,
          "size": 1
         },
         "mode": "markers",
         "name": "",
         "showlegend": false,
         "text": [
          null,
          null
         ],
         "type": "scatter",
         "x": [
          "2020-06-25T15:44:46",
          "2020-06-25T15:48:31"
         ],
         "y": [
          5,
          5
         ]
        },
        {
         "legendgroup": "rgb(148, 103, 189)",
         "marker": {
          "color": "rgb(148, 103, 189)",
          "opacity": 0,
          "size": 1
         },
         "mode": "markers",
         "name": "",
         "showlegend": false,
         "text": [
          null,
          null
         ],
         "type": "scatter",
         "x": [
          "2020-06-25T15:44:40",
          "2020-06-25T15:46:05"
         ],
         "y": [
          4,
          4
         ]
        },
        {
         "legendgroup": "rgb(214, 39, 40)",
         "marker": {
          "color": "rgb(214, 39, 40)",
          "opacity": 0,
          "size": 1
         },
         "mode": "markers",
         "name": "",
         "showlegend": false,
         "text": [
          null,
          null
         ],
         "type": "scatter",
         "x": [
          "2020-06-25T15:44:37",
          "2020-06-25T15:47:12"
         ],
         "y": [
          3,
          3
         ]
        },
        {
         "legendgroup": "rgb(227, 119, 194)",
         "marker": {
          "color": "rgb(227, 119, 194)",
          "opacity": 0,
          "size": 1
         },
         "mode": "markers",
         "name": "",
         "showlegend": false,
         "text": [
          null,
          null
         ],
         "type": "scatter",
         "x": [
          "2020-06-25T15:46:46",
          "2020-06-25T15:47:35"
         ],
         "y": [
          6,
          6
         ]
        },
        {
         "legendgroup": "rgb(255, 127, 14)",
         "marker": {
          "color": "rgb(255, 127, 14)",
          "opacity": 0,
          "size": 1
         },
         "mode": "markers",
         "name": "",
         "showlegend": false,
         "text": [
          null,
          null
         ],
         "type": "scatter",
         "x": [
          "2020-06-25T15:43:41",
          "2020-06-25T15:48:18"
         ],
         "y": [
          1,
          1
         ]
        },
        {
         "legendgroup": "rgb(31, 119, 180)",
         "marker": {
          "color": "rgb(31, 119, 180)",
          "opacity": 0,
          "size": 1
         },
         "mode": "markers",
         "name": "",
         "showlegend": false,
         "text": [
          null,
          null
         ],
         "type": "scatter",
         "x": [
          "2020-06-25T15:43:18",
          "2020-06-25T15:49:53"
         ],
         "y": [
          0,
          0
         ]
        },
        {
         "legendgroup": "rgb(44, 160, 44)",
         "marker": {
          "color": "rgb(44, 160, 44)",
          "opacity": 0,
          "size": 1
         },
         "mode": "markers",
         "name": "",
         "showlegend": false,
         "text": [
          null,
          null
         ],
         "type": "scatter",
         "x": [
          "2020-06-25T15:43:47",
          "2020-06-25T15:45:35"
         ],
         "y": [
          2,
          2
         ]
        }
       ],
       "layout": {
        "height": 600,
        "hovermode": "closest",
        "showlegend": false,
        "template": {
         "data": {
          "bar": [
           {
            "error_x": {
             "color": "#2a3f5f"
            },
            "error_y": {
             "color": "#2a3f5f"
            },
            "marker": {
             "line": {
              "color": "#E5ECF6",
              "width": 0.5
             }
            },
            "type": "bar"
           }
          ],
          "barpolar": [
           {
            "marker": {
             "line": {
              "color": "#E5ECF6",
              "width": 0.5
             }
            },
            "type": "barpolar"
           }
          ],
          "carpet": [
           {
            "aaxis": {
             "endlinecolor": "#2a3f5f",
             "gridcolor": "white",
             "linecolor": "white",
             "minorgridcolor": "white",
             "startlinecolor": "#2a3f5f"
            },
            "baxis": {
             "endlinecolor": "#2a3f5f",
             "gridcolor": "white",
             "linecolor": "white",
             "minorgridcolor": "white",
             "startlinecolor": "#2a3f5f"
            },
            "type": "carpet"
           }
          ],
          "choropleth": [
           {
            "colorbar": {
             "outlinewidth": 0,
             "ticks": ""
            },
            "type": "choropleth"
           }
          ],
          "contour": [
           {
            "colorbar": {
             "outlinewidth": 0,
             "ticks": ""
            },
            "colorscale": [
             [
              0,
              "#0d0887"
             ],
             [
              0.1111111111111111,
              "#46039f"
             ],
             [
              0.2222222222222222,
              "#7201a8"
             ],
             [
              0.3333333333333333,
              "#9c179e"
             ],
             [
              0.4444444444444444,
              "#bd3786"
             ],
             [
              0.5555555555555556,
              "#d8576b"
             ],
             [
              0.6666666666666666,
              "#ed7953"
             ],
             [
              0.7777777777777778,
              "#fb9f3a"
             ],
             [
              0.8888888888888888,
              "#fdca26"
             ],
             [
              1,
              "#f0f921"
             ]
            ],
            "type": "contour"
           }
          ],
          "contourcarpet": [
           {
            "colorbar": {
             "outlinewidth": 0,
             "ticks": ""
            },
            "type": "contourcarpet"
           }
          ],
          "heatmap": [
           {
            "colorbar": {
             "outlinewidth": 0,
             "ticks": ""
            },
            "colorscale": [
             [
              0,
              "#0d0887"
             ],
             [
              0.1111111111111111,
              "#46039f"
             ],
             [
              0.2222222222222222,
              "#7201a8"
             ],
             [
              0.3333333333333333,
              "#9c179e"
             ],
             [
              0.4444444444444444,
              "#bd3786"
             ],
             [
              0.5555555555555556,
              "#d8576b"
             ],
             [
              0.6666666666666666,
              "#ed7953"
             ],
             [
              0.7777777777777778,
              "#fb9f3a"
             ],
             [
              0.8888888888888888,
              "#fdca26"
             ],
             [
              1,
              "#f0f921"
             ]
            ],
            "type": "heatmap"
           }
          ],
          "heatmapgl": [
           {
            "colorbar": {
             "outlinewidth": 0,
             "ticks": ""
            },
            "colorscale": [
             [
              0,
              "#0d0887"
             ],
             [
              0.1111111111111111,
              "#46039f"
             ],
             [
              0.2222222222222222,
              "#7201a8"
             ],
             [
              0.3333333333333333,
              "#9c179e"
             ],
             [
              0.4444444444444444,
              "#bd3786"
             ],
             [
              0.5555555555555556,
              "#d8576b"
             ],
             [
              0.6666666666666666,
              "#ed7953"
             ],
             [
              0.7777777777777778,
              "#fb9f3a"
             ],
             [
              0.8888888888888888,
              "#fdca26"
             ],
             [
              1,
              "#f0f921"
             ]
            ],
            "type": "heatmapgl"
           }
          ],
          "histogram": [
           {
            "marker": {
             "colorbar": {
              "outlinewidth": 0,
              "ticks": ""
             }
            },
            "type": "histogram"
           }
          ],
          "histogram2d": [
           {
            "colorbar": {
             "outlinewidth": 0,
             "ticks": ""
            },
            "colorscale": [
             [
              0,
              "#0d0887"
             ],
             [
              0.1111111111111111,
              "#46039f"
             ],
             [
              0.2222222222222222,
              "#7201a8"
             ],
             [
              0.3333333333333333,
              "#9c179e"
             ],
             [
              0.4444444444444444,
              "#bd3786"
             ],
             [
              0.5555555555555556,
              "#d8576b"
             ],
             [
              0.6666666666666666,
              "#ed7953"
             ],
             [
              0.7777777777777778,
              "#fb9f3a"
             ],
             [
              0.8888888888888888,
              "#fdca26"
             ],
             [
              1,
              "#f0f921"
             ]
            ],
            "type": "histogram2d"
           }
          ],
          "histogram2dcontour": [
           {
            "colorbar": {
             "outlinewidth": 0,
             "ticks": ""
            },
            "colorscale": [
             [
              0,
              "#0d0887"
             ],
             [
              0.1111111111111111,
              "#46039f"
             ],
             [
              0.2222222222222222,
              "#7201a8"
             ],
             [
              0.3333333333333333,
              "#9c179e"
             ],
             [
              0.4444444444444444,
              "#bd3786"
             ],
             [
              0.5555555555555556,
              "#d8576b"
             ],
             [
              0.6666666666666666,
              "#ed7953"
             ],
             [
              0.7777777777777778,
              "#fb9f3a"
             ],
             [
              0.8888888888888888,
              "#fdca26"
             ],
             [
              1,
              "#f0f921"
             ]
            ],
            "type": "histogram2dcontour"
           }
          ],
          "mesh3d": [
           {
            "colorbar": {
             "outlinewidth": 0,
             "ticks": ""
            },
            "type": "mesh3d"
           }
          ],
          "parcoords": [
           {
            "line": {
             "colorbar": {
              "outlinewidth": 0,
              "ticks": ""
             }
            },
            "type": "parcoords"
           }
          ],
          "pie": [
           {
            "automargin": true,
            "type": "pie"
           }
          ],
          "scatter": [
           {
            "marker": {
             "colorbar": {
              "outlinewidth": 0,
              "ticks": ""
             }
            },
            "type": "scatter"
           }
          ],
          "scatter3d": [
           {
            "line": {
             "colorbar": {
              "outlinewidth": 0,
              "ticks": ""
             }
            },
            "marker": {
             "colorbar": {
              "outlinewidth": 0,
              "ticks": ""
             }
            },
            "type": "scatter3d"
           }
          ],
          "scattercarpet": [
           {
            "marker": {
             "colorbar": {
              "outlinewidth": 0,
              "ticks": ""
             }
            },
            "type": "scattercarpet"
           }
          ],
          "scattergeo": [
           {
            "marker": {
             "colorbar": {
              "outlinewidth": 0,
              "ticks": ""
             }
            },
            "type": "scattergeo"
           }
          ],
          "scattergl": [
           {
            "marker": {
             "colorbar": {
              "outlinewidth": 0,
              "ticks": ""
             }
            },
            "type": "scattergl"
           }
          ],
          "scattermapbox": [
           {
            "marker": {
             "colorbar": {
              "outlinewidth": 0,
              "ticks": ""
             }
            },
            "type": "scattermapbox"
           }
          ],
          "scatterpolar": [
           {
            "marker": {
             "colorbar": {
              "outlinewidth": 0,
              "ticks": ""
             }
            },
            "type": "scatterpolar"
           }
          ],
          "scatterpolargl": [
           {
            "marker": {
             "colorbar": {
              "outlinewidth": 0,
              "ticks": ""
             }
            },
            "type": "scatterpolargl"
           }
          ],
          "scatterternary": [
           {
            "marker": {
             "colorbar": {
              "outlinewidth": 0,
              "ticks": ""
             }
            },
            "type": "scatterternary"
           }
          ],
          "surface": [
           {
            "colorbar": {
             "outlinewidth": 0,
             "ticks": ""
            },
            "colorscale": [
             [
              0,
              "#0d0887"
             ],
             [
              0.1111111111111111,
              "#46039f"
             ],
             [
              0.2222222222222222,
              "#7201a8"
             ],
             [
              0.3333333333333333,
              "#9c179e"
             ],
             [
              0.4444444444444444,
              "#bd3786"
             ],
             [
              0.5555555555555556,
              "#d8576b"
             ],
             [
              0.6666666666666666,
              "#ed7953"
             ],
             [
              0.7777777777777778,
              "#fb9f3a"
             ],
             [
              0.8888888888888888,
              "#fdca26"
             ],
             [
              1,
              "#f0f921"
             ]
            ],
            "type": "surface"
           }
          ],
          "table": [
           {
            "cells": {
             "fill": {
              "color": "#EBF0F8"
             },
             "line": {
              "color": "white"
             }
            },
            "header": {
             "fill": {
              "color": "#C8D4E3"
             },
             "line": {
              "color": "white"
             }
            },
            "type": "table"
           }
          ]
         },
         "layout": {
          "annotationdefaults": {
           "arrowcolor": "#2a3f5f",
           "arrowhead": 0,
           "arrowwidth": 1
          },
          "coloraxis": {
           "colorbar": {
            "outlinewidth": 0,
            "ticks": ""
           }
          },
          "colorscale": {
           "diverging": [
            [
             0,
             "#8e0152"
            ],
            [
             0.1,
             "#c51b7d"
            ],
            [
             0.2,
             "#de77ae"
            ],
            [
             0.3,
             "#f1b6da"
            ],
            [
             0.4,
             "#fde0ef"
            ],
            [
             0.5,
             "#f7f7f7"
            ],
            [
             0.6,
             "#e6f5d0"
            ],
            [
             0.7,
             "#b8e186"
            ],
            [
             0.8,
             "#7fbc41"
            ],
            [
             0.9,
             "#4d9221"
            ],
            [
             1,
             "#276419"
            ]
           ],
           "sequential": [
            [
             0,
             "#0d0887"
            ],
            [
             0.1111111111111111,
             "#46039f"
            ],
            [
             0.2222222222222222,
             "#7201a8"
            ],
            [
             0.3333333333333333,
             "#9c179e"
            ],
            [
             0.4444444444444444,
             "#bd3786"
            ],
            [
             0.5555555555555556,
             "#d8576b"
            ],
            [
             0.6666666666666666,
             "#ed7953"
            ],
            [
             0.7777777777777778,
             "#fb9f3a"
            ],
            [
             0.8888888888888888,
             "#fdca26"
            ],
            [
             1,
             "#f0f921"
            ]
           ],
           "sequentialminus": [
            [
             0,
             "#0d0887"
            ],
            [
             0.1111111111111111,
             "#46039f"
            ],
            [
             0.2222222222222222,
             "#7201a8"
            ],
            [
             0.3333333333333333,
             "#9c179e"
            ],
            [
             0.4444444444444444,
             "#bd3786"
            ],
            [
             0.5555555555555556,
             "#d8576b"
            ],
            [
             0.6666666666666666,
             "#ed7953"
            ],
            [
             0.7777777777777778,
             "#fb9f3a"
            ],
            [
             0.8888888888888888,
             "#fdca26"
            ],
            [
             1,
             "#f0f921"
            ]
           ]
          },
          "colorway": [
           "#636efa",
           "#EF553B",
           "#00cc96",
           "#ab63fa",
           "#FFA15A",
           "#19d3f3",
           "#FF6692",
           "#B6E880",
           "#FF97FF",
           "#FECB52"
          ],
          "font": {
           "color": "#2a3f5f"
          },
          "geo": {
           "bgcolor": "white",
           "lakecolor": "white",
           "landcolor": "#E5ECF6",
           "showlakes": true,
           "showland": true,
           "subunitcolor": "white"
          },
          "hoverlabel": {
           "align": "left"
          },
          "hovermode": "closest",
          "mapbox": {
           "style": "light"
          },
          "paper_bgcolor": "white",
          "plot_bgcolor": "#E5ECF6",
          "polar": {
           "angularaxis": {
            "gridcolor": "white",
            "linecolor": "white",
            "ticks": ""
           },
           "bgcolor": "#E5ECF6",
           "radialaxis": {
            "gridcolor": "white",
            "linecolor": "white",
            "ticks": ""
           }
          },
          "scene": {
           "xaxis": {
            "backgroundcolor": "#E5ECF6",
            "gridcolor": "white",
            "gridwidth": 2,
            "linecolor": "white",
            "showbackground": true,
            "ticks": "",
            "zerolinecolor": "white"
           },
           "yaxis": {
            "backgroundcolor": "#E5ECF6",
            "gridcolor": "white",
            "gridwidth": 2,
            "linecolor": "white",
            "showbackground": true,
            "ticks": "",
            "zerolinecolor": "white"
           },
           "zaxis": {
            "backgroundcolor": "#E5ECF6",
            "gridcolor": "white",
            "gridwidth": 2,
            "linecolor": "white",
            "showbackground": true,
            "ticks": "",
            "zerolinecolor": "white"
           }
          },
          "shapedefaults": {
           "line": {
            "color": "#2a3f5f"
           }
          },
          "ternary": {
           "aaxis": {
            "gridcolor": "white",
            "linecolor": "white",
            "ticks": ""
           },
           "baxis": {
            "gridcolor": "white",
            "linecolor": "white",
            "ticks": ""
           },
           "bgcolor": "#E5ECF6",
           "caxis": {
            "gridcolor": "white",
            "linecolor": "white",
            "ticks": ""
           }
          },
          "title": {
           "x": 0.05
          },
          "xaxis": {
           "automargin": true,
           "gridcolor": "white",
           "linecolor": "white",
           "ticks": "",
           "title": {
            "standoff": 15
           },
           "zerolinecolor": "white",
           "zerolinewidth": 2
          },
          "yaxis": {
           "automargin": true,
           "gridcolor": "white",
           "linecolor": "white",
           "ticks": "",
           "title": {
            "standoff": 15
           },
           "zerolinecolor": "white",
           "zerolinewidth": 2
          }
         }
        },
        "title": {
         "text": "Gantt Chart"
        },
        "xaxis": {
         "rangeselector": {
          "buttons": [
           {
            "count": 7,
            "label": "1w",
            "step": "day",
            "stepmode": "backward"
           },
           {
            "count": 1,
            "label": "1m",
            "step": "month",
            "stepmode": "backward"
           },
           {
            "count": 6,
            "label": "6m",
            "step": "month",
            "stepmode": "backward"
           },
           {
            "count": 1,
            "label": "YTD",
            "step": "year",
            "stepmode": "todate"
           },
           {
            "count": 1,
            "label": "1y",
            "step": "year",
            "stepmode": "backward"
           },
           {
            "step": "all"
           }
          ]
         },
         "showgrid": false,
         "type": "date",
         "zeroline": false
        },
        "yaxis": {
         "autorange": false,
         "range": [
          -1,
          8
         ],
         "showgrid": false,
         "ticktext": [
          "25",
          "54",
          "61",
          "108",
          "112",
          "117",
          "242"
         ],
         "tickvals": [
          0,
          1,
          2,
          3,
          4,
          5,
          6
         ],
         "zeroline": false
        }
       }
      },
      "text/html": [
       "<div>\n",
       "        \n",
       "        \n",
       "            <div id=\"d090dd09-70dc-40b7-a09b-0f1a9bcc1ff0\" class=\"plotly-graph-div\" style=\"height:600px; width:100%;\"></div>\n",
       "            <script type=\"text/javascript\">\n",
       "                require([\"plotly\"], function(Plotly) {\n",
       "                    window.PLOTLYENV=window.PLOTLYENV || {};\n",
       "                    \n",
       "                if (document.getElementById(\"d090dd09-70dc-40b7-a09b-0f1a9bcc1ff0\")) {\n",
       "                    Plotly.newPlot(\n",
       "                        'd090dd09-70dc-40b7-a09b-0f1a9bcc1ff0',\n",
       "                        [{\"fill\": \"toself\", \"fillcolor\": \"rgb(140, 86, 75)\", \"hoverinfo\": \"name\", \"legendgroup\": \"rgb(140, 86, 75)\", \"mode\": \"none\", \"name\": \"117\", \"type\": \"scatter\", \"x\": [\"2020-06-25T15:44:46\", \"2020-06-25T15:48:31\", \"2020-06-25T15:48:31\", \"2020-06-25T15:44:46\"], \"y\": [4.8, 4.8, 5.2, 5.2]}, {\"fill\": \"toself\", \"fillcolor\": \"rgb(148, 103, 189)\", \"hoverinfo\": \"name\", \"legendgroup\": \"rgb(148, 103, 189)\", \"mode\": \"none\", \"name\": \"112\", \"type\": \"scatter\", \"x\": [\"2020-06-25T15:44:40\", \"2020-06-25T15:46:05\", \"2020-06-25T15:46:05\", \"2020-06-25T15:44:40\"], \"y\": [3.8, 3.8, 4.2, 4.2]}, {\"fill\": \"toself\", \"fillcolor\": \"rgb(214, 39, 40)\", \"hoverinfo\": \"name\", \"legendgroup\": \"rgb(214, 39, 40)\", \"mode\": \"none\", \"name\": \"108\", \"type\": \"scatter\", \"x\": [\"2020-06-25T15:44:37\", \"2020-06-25T15:47:12\", \"2020-06-25T15:47:12\", \"2020-06-25T15:44:37\"], \"y\": [2.8, 2.8, 3.2, 3.2]}, {\"fill\": \"toself\", \"fillcolor\": \"rgb(227, 119, 194)\", \"hoverinfo\": \"name\", \"legendgroup\": \"rgb(227, 119, 194)\", \"mode\": \"none\", \"name\": \"242\", \"type\": \"scatter\", \"x\": [\"2020-06-25T15:46:46\", \"2020-06-25T15:47:35\", \"2020-06-25T15:47:35\", \"2020-06-25T15:46:46\"], \"y\": [5.8, 5.8, 6.2, 6.2]}, {\"fill\": \"toself\", \"fillcolor\": \"rgb(255, 127, 14)\", \"hoverinfo\": \"name\", \"legendgroup\": \"rgb(255, 127, 14)\", \"mode\": \"none\", \"name\": \"54\", \"type\": \"scatter\", \"x\": [\"2020-06-25T15:43:41\", \"2020-06-25T15:48:18\", \"2020-06-25T15:48:18\", \"2020-06-25T15:43:41\"], \"y\": [0.8, 0.8, 1.2, 1.2]}, {\"fill\": \"toself\", \"fillcolor\": \"rgb(31, 119, 180)\", \"hoverinfo\": \"name\", \"legendgroup\": \"rgb(31, 119, 180)\", \"mode\": \"none\", \"name\": \"25\", \"type\": \"scatter\", \"x\": [\"2020-06-25T15:43:18\", \"2020-06-25T15:49:53\", \"2020-06-25T15:49:53\", \"2020-06-25T15:43:18\"], \"y\": [-0.2, -0.2, 0.2, 0.2]}, {\"fill\": \"toself\", \"fillcolor\": \"rgb(44, 160, 44)\", \"hoverinfo\": \"name\", \"legendgroup\": \"rgb(44, 160, 44)\", \"mode\": \"none\", \"name\": \"61\", \"type\": \"scatter\", \"x\": [\"2020-06-25T15:43:47\", \"2020-06-25T15:45:35\", \"2020-06-25T15:45:35\", \"2020-06-25T15:43:47\"], \"y\": [1.8, 1.8, 2.2, 2.2]}, {\"legendgroup\": \"rgb(140, 86, 75)\", \"marker\": {\"color\": \"rgb(140, 86, 75)\", \"opacity\": 0, \"size\": 1}, \"mode\": \"markers\", \"name\": \"\", \"showlegend\": false, \"text\": [null, null], \"type\": \"scatter\", \"x\": [\"2020-06-25T15:44:46\", \"2020-06-25T15:48:31\"], \"y\": [5, 5]}, {\"legendgroup\": \"rgb(148, 103, 189)\", \"marker\": {\"color\": \"rgb(148, 103, 189)\", \"opacity\": 0, \"size\": 1}, \"mode\": \"markers\", \"name\": \"\", \"showlegend\": false, \"text\": [null, null], \"type\": \"scatter\", \"x\": [\"2020-06-25T15:44:40\", \"2020-06-25T15:46:05\"], \"y\": [4, 4]}, {\"legendgroup\": \"rgb(214, 39, 40)\", \"marker\": {\"color\": \"rgb(214, 39, 40)\", \"opacity\": 0, \"size\": 1}, \"mode\": \"markers\", \"name\": \"\", \"showlegend\": false, \"text\": [null, null], \"type\": \"scatter\", \"x\": [\"2020-06-25T15:44:37\", \"2020-06-25T15:47:12\"], \"y\": [3, 3]}, {\"legendgroup\": \"rgb(227, 119, 194)\", \"marker\": {\"color\": \"rgb(227, 119, 194)\", \"opacity\": 0, \"size\": 1}, \"mode\": \"markers\", \"name\": \"\", \"showlegend\": false, \"text\": [null, null], \"type\": \"scatter\", \"x\": [\"2020-06-25T15:46:46\", \"2020-06-25T15:47:35\"], \"y\": [6, 6]}, {\"legendgroup\": \"rgb(255, 127, 14)\", \"marker\": {\"color\": \"rgb(255, 127, 14)\", \"opacity\": 0, \"size\": 1}, \"mode\": \"markers\", \"name\": \"\", \"showlegend\": false, \"text\": [null, null], \"type\": \"scatter\", \"x\": [\"2020-06-25T15:43:41\", \"2020-06-25T15:48:18\"], \"y\": [1, 1]}, {\"legendgroup\": \"rgb(31, 119, 180)\", \"marker\": {\"color\": \"rgb(31, 119, 180)\", \"opacity\": 0, \"size\": 1}, \"mode\": \"markers\", \"name\": \"\", \"showlegend\": false, \"text\": [null, null], \"type\": \"scatter\", \"x\": [\"2020-06-25T15:43:18\", \"2020-06-25T15:49:53\"], \"y\": [0, 0]}, {\"legendgroup\": \"rgb(44, 160, 44)\", \"marker\": {\"color\": \"rgb(44, 160, 44)\", \"opacity\": 0, \"size\": 1}, \"mode\": \"markers\", \"name\": \"\", \"showlegend\": false, \"text\": [null, null], \"type\": \"scatter\", \"x\": [\"2020-06-25T15:43:47\", \"2020-06-25T15:45:35\"], \"y\": [2, 2]}],\n",
       "                        {\"height\": 600, \"hovermode\": \"closest\", \"showlegend\": false, \"template\": {\"data\": {\"bar\": [{\"error_x\": {\"color\": \"#2a3f5f\"}, \"error_y\": {\"color\": \"#2a3f5f\"}, \"marker\": {\"line\": {\"color\": \"#E5ECF6\", \"width\": 0.5}}, \"type\": \"bar\"}], \"barpolar\": [{\"marker\": {\"line\": {\"color\": \"#E5ECF6\", \"width\": 0.5}}, \"type\": \"barpolar\"}], \"carpet\": [{\"aaxis\": {\"endlinecolor\": \"#2a3f5f\", \"gridcolor\": \"white\", \"linecolor\": \"white\", \"minorgridcolor\": \"white\", \"startlinecolor\": \"#2a3f5f\"}, \"baxis\": {\"endlinecolor\": \"#2a3f5f\", \"gridcolor\": \"white\", \"linecolor\": \"white\", \"minorgridcolor\": \"white\", \"startlinecolor\": \"#2a3f5f\"}, \"type\": \"carpet\"}], \"choropleth\": [{\"colorbar\": {\"outlinewidth\": 0, \"ticks\": \"\"}, \"type\": \"choropleth\"}], \"contour\": [{\"colorbar\": {\"outlinewidth\": 0, \"ticks\": \"\"}, \"colorscale\": [[0.0, \"#0d0887\"], [0.1111111111111111, \"#46039f\"], [0.2222222222222222, \"#7201a8\"], [0.3333333333333333, \"#9c179e\"], [0.4444444444444444, \"#bd3786\"], [0.5555555555555556, \"#d8576b\"], [0.6666666666666666, \"#ed7953\"], [0.7777777777777778, \"#fb9f3a\"], [0.8888888888888888, \"#fdca26\"], [1.0, \"#f0f921\"]], \"type\": \"contour\"}], \"contourcarpet\": [{\"colorbar\": {\"outlinewidth\": 0, \"ticks\": \"\"}, \"type\": \"contourcarpet\"}], \"heatmap\": [{\"colorbar\": {\"outlinewidth\": 0, \"ticks\": \"\"}, \"colorscale\": [[0.0, \"#0d0887\"], [0.1111111111111111, \"#46039f\"], [0.2222222222222222, \"#7201a8\"], [0.3333333333333333, \"#9c179e\"], [0.4444444444444444, \"#bd3786\"], [0.5555555555555556, \"#d8576b\"], [0.6666666666666666, \"#ed7953\"], [0.7777777777777778, \"#fb9f3a\"], [0.8888888888888888, \"#fdca26\"], [1.0, \"#f0f921\"]], \"type\": \"heatmap\"}], \"heatmapgl\": [{\"colorbar\": {\"outlinewidth\": 0, \"ticks\": \"\"}, \"colorscale\": [[0.0, \"#0d0887\"], [0.1111111111111111, \"#46039f\"], [0.2222222222222222, \"#7201a8\"], [0.3333333333333333, \"#9c179e\"], [0.4444444444444444, \"#bd3786\"], [0.5555555555555556, \"#d8576b\"], [0.6666666666666666, \"#ed7953\"], [0.7777777777777778, \"#fb9f3a\"], [0.8888888888888888, \"#fdca26\"], [1.0, \"#f0f921\"]], \"type\": \"heatmapgl\"}], \"histogram\": [{\"marker\": {\"colorbar\": {\"outlinewidth\": 0, \"ticks\": \"\"}}, \"type\": \"histogram\"}], \"histogram2d\": [{\"colorbar\": {\"outlinewidth\": 0, \"ticks\": \"\"}, \"colorscale\": [[0.0, \"#0d0887\"], [0.1111111111111111, \"#46039f\"], [0.2222222222222222, \"#7201a8\"], [0.3333333333333333, \"#9c179e\"], [0.4444444444444444, \"#bd3786\"], [0.5555555555555556, \"#d8576b\"], [0.6666666666666666, \"#ed7953\"], [0.7777777777777778, \"#fb9f3a\"], [0.8888888888888888, \"#fdca26\"], [1.0, \"#f0f921\"]], \"type\": \"histogram2d\"}], \"histogram2dcontour\": [{\"colorbar\": {\"outlinewidth\": 0, \"ticks\": \"\"}, \"colorscale\": [[0.0, \"#0d0887\"], [0.1111111111111111, \"#46039f\"], [0.2222222222222222, \"#7201a8\"], [0.3333333333333333, \"#9c179e\"], [0.4444444444444444, \"#bd3786\"], [0.5555555555555556, \"#d8576b\"], [0.6666666666666666, \"#ed7953\"], [0.7777777777777778, \"#fb9f3a\"], [0.8888888888888888, \"#fdca26\"], [1.0, \"#f0f921\"]], \"type\": \"histogram2dcontour\"}], \"mesh3d\": [{\"colorbar\": {\"outlinewidth\": 0, \"ticks\": \"\"}, \"type\": \"mesh3d\"}], \"parcoords\": [{\"line\": {\"colorbar\": {\"outlinewidth\": 0, \"ticks\": \"\"}}, \"type\": \"parcoords\"}], \"pie\": [{\"automargin\": true, \"type\": \"pie\"}], \"scatter\": [{\"marker\": {\"colorbar\": {\"outlinewidth\": 0, \"ticks\": \"\"}}, \"type\": \"scatter\"}], \"scatter3d\": [{\"line\": {\"colorbar\": {\"outlinewidth\": 0, \"ticks\": \"\"}}, \"marker\": {\"colorbar\": {\"outlinewidth\": 0, \"ticks\": \"\"}}, \"type\": \"scatter3d\"}], \"scattercarpet\": [{\"marker\": {\"colorbar\": {\"outlinewidth\": 0, \"ticks\": \"\"}}, \"type\": \"scattercarpet\"}], \"scattergeo\": [{\"marker\": {\"colorbar\": {\"outlinewidth\": 0, \"ticks\": \"\"}}, \"type\": \"scattergeo\"}], \"scattergl\": [{\"marker\": {\"colorbar\": {\"outlinewidth\": 0, \"ticks\": \"\"}}, \"type\": \"scattergl\"}], \"scattermapbox\": [{\"marker\": {\"colorbar\": {\"outlinewidth\": 0, \"ticks\": \"\"}}, \"type\": \"scattermapbox\"}], \"scatterpolar\": [{\"marker\": {\"colorbar\": {\"outlinewidth\": 0, \"ticks\": \"\"}}, \"type\": \"scatterpolar\"}], \"scatterpolargl\": [{\"marker\": {\"colorbar\": {\"outlinewidth\": 0, \"ticks\": \"\"}}, \"type\": \"scatterpolargl\"}], \"scatterternary\": [{\"marker\": {\"colorbar\": {\"outlinewidth\": 0, \"ticks\": \"\"}}, \"type\": \"scatterternary\"}], \"surface\": [{\"colorbar\": {\"outlinewidth\": 0, \"ticks\": \"\"}, \"colorscale\": [[0.0, \"#0d0887\"], [0.1111111111111111, \"#46039f\"], [0.2222222222222222, \"#7201a8\"], [0.3333333333333333, \"#9c179e\"], [0.4444444444444444, \"#bd3786\"], [0.5555555555555556, \"#d8576b\"], [0.6666666666666666, \"#ed7953\"], [0.7777777777777778, \"#fb9f3a\"], [0.8888888888888888, \"#fdca26\"], [1.0, \"#f0f921\"]], \"type\": \"surface\"}], \"table\": [{\"cells\": {\"fill\": {\"color\": \"#EBF0F8\"}, \"line\": {\"color\": \"white\"}}, \"header\": {\"fill\": {\"color\": \"#C8D4E3\"}, \"line\": {\"color\": \"white\"}}, \"type\": \"table\"}]}, \"layout\": {\"annotationdefaults\": {\"arrowcolor\": \"#2a3f5f\", \"arrowhead\": 0, \"arrowwidth\": 1}, \"coloraxis\": {\"colorbar\": {\"outlinewidth\": 0, \"ticks\": \"\"}}, \"colorscale\": {\"diverging\": [[0, \"#8e0152\"], [0.1, \"#c51b7d\"], [0.2, \"#de77ae\"], [0.3, \"#f1b6da\"], [0.4, \"#fde0ef\"], [0.5, \"#f7f7f7\"], [0.6, \"#e6f5d0\"], [0.7, \"#b8e186\"], [0.8, \"#7fbc41\"], [0.9, \"#4d9221\"], [1, \"#276419\"]], \"sequential\": [[0.0, \"#0d0887\"], [0.1111111111111111, \"#46039f\"], [0.2222222222222222, \"#7201a8\"], [0.3333333333333333, \"#9c179e\"], [0.4444444444444444, \"#bd3786\"], [0.5555555555555556, \"#d8576b\"], [0.6666666666666666, \"#ed7953\"], [0.7777777777777778, \"#fb9f3a\"], [0.8888888888888888, \"#fdca26\"], [1.0, \"#f0f921\"]], \"sequentialminus\": [[0.0, \"#0d0887\"], [0.1111111111111111, \"#46039f\"], [0.2222222222222222, \"#7201a8\"], [0.3333333333333333, \"#9c179e\"], [0.4444444444444444, \"#bd3786\"], [0.5555555555555556, \"#d8576b\"], [0.6666666666666666, \"#ed7953\"], [0.7777777777777778, \"#fb9f3a\"], [0.8888888888888888, \"#fdca26\"], [1.0, \"#f0f921\"]]}, \"colorway\": [\"#636efa\", \"#EF553B\", \"#00cc96\", \"#ab63fa\", \"#FFA15A\", \"#19d3f3\", \"#FF6692\", \"#B6E880\", \"#FF97FF\", \"#FECB52\"], \"font\": {\"color\": \"#2a3f5f\"}, \"geo\": {\"bgcolor\": \"white\", \"lakecolor\": \"white\", \"landcolor\": \"#E5ECF6\", \"showlakes\": true, \"showland\": true, \"subunitcolor\": \"white\"}, \"hoverlabel\": {\"align\": \"left\"}, \"hovermode\": \"closest\", \"mapbox\": {\"style\": \"light\"}, \"paper_bgcolor\": \"white\", \"plot_bgcolor\": \"#E5ECF6\", \"polar\": {\"angularaxis\": {\"gridcolor\": \"white\", \"linecolor\": \"white\", \"ticks\": \"\"}, \"bgcolor\": \"#E5ECF6\", \"radialaxis\": {\"gridcolor\": \"white\", \"linecolor\": \"white\", \"ticks\": \"\"}}, \"scene\": {\"xaxis\": {\"backgroundcolor\": \"#E5ECF6\", \"gridcolor\": \"white\", \"gridwidth\": 2, \"linecolor\": \"white\", \"showbackground\": true, \"ticks\": \"\", \"zerolinecolor\": \"white\"}, \"yaxis\": {\"backgroundcolor\": \"#E5ECF6\", \"gridcolor\": \"white\", \"gridwidth\": 2, \"linecolor\": \"white\", \"showbackground\": true, \"ticks\": \"\", \"zerolinecolor\": \"white\"}, \"zaxis\": {\"backgroundcolor\": \"#E5ECF6\", \"gridcolor\": \"white\", \"gridwidth\": 2, \"linecolor\": \"white\", \"showbackground\": true, \"ticks\": \"\", \"zerolinecolor\": \"white\"}}, \"shapedefaults\": {\"line\": {\"color\": \"#2a3f5f\"}}, \"ternary\": {\"aaxis\": {\"gridcolor\": \"white\", \"linecolor\": \"white\", \"ticks\": \"\"}, \"baxis\": {\"gridcolor\": \"white\", \"linecolor\": \"white\", \"ticks\": \"\"}, \"bgcolor\": \"#E5ECF6\", \"caxis\": {\"gridcolor\": \"white\", \"linecolor\": \"white\", \"ticks\": \"\"}}, \"title\": {\"x\": 0.05}, \"xaxis\": {\"automargin\": true, \"gridcolor\": \"white\", \"linecolor\": \"white\", \"ticks\": \"\", \"title\": {\"standoff\": 15}, \"zerolinecolor\": \"white\", \"zerolinewidth\": 2}, \"yaxis\": {\"automargin\": true, \"gridcolor\": \"white\", \"linecolor\": \"white\", \"ticks\": \"\", \"title\": {\"standoff\": 15}, \"zerolinecolor\": \"white\", \"zerolinewidth\": 2}}}, \"title\": {\"text\": \"Gantt Chart\"}, \"xaxis\": {\"rangeselector\": {\"buttons\": [{\"count\": 7, \"label\": \"1w\", \"step\": \"day\", \"stepmode\": \"backward\"}, {\"count\": 1, \"label\": \"1m\", \"step\": \"month\", \"stepmode\": \"backward\"}, {\"count\": 6, \"label\": \"6m\", \"step\": \"month\", \"stepmode\": \"backward\"}, {\"count\": 1, \"label\": \"YTD\", \"step\": \"year\", \"stepmode\": \"todate\"}, {\"count\": 1, \"label\": \"1y\", \"step\": \"year\", \"stepmode\": \"backward\"}, {\"step\": \"all\"}]}, \"showgrid\": false, \"type\": \"date\", \"zeroline\": false}, \"yaxis\": {\"autorange\": false, \"range\": [-1, 8], \"showgrid\": false, \"ticktext\": [\"25\", \"54\", \"61\", \"108\", \"112\", \"117\", \"242\"], \"tickvals\": [0, 1, 2, 3, 4, 5, 6], \"zeroline\": false}},\n",
       "                        {\"responsive\": true}\n",
       "                    ).then(function(){\n",
       "                            \n",
       "var gd = document.getElementById('d090dd09-70dc-40b7-a09b-0f1a9bcc1ff0');\n",
       "var x = new MutationObserver(function (mutations, observer) {{\n",
       "        var display = window.getComputedStyle(gd).display;\n",
       "        if (!display || display === 'none') {{\n",
       "            console.log([gd, 'removed!']);\n",
       "            Plotly.purge(gd);\n",
       "            observer.disconnect();\n",
       "        }}\n",
       "}});\n",
       "\n",
       "// Listen for the removal of the full notebook cells\n",
       "var notebookContainer = gd.closest('#notebook-container');\n",
       "if (notebookContainer) {{\n",
       "    x.observe(notebookContainer, {childList: true});\n",
       "}}\n",
       "\n",
       "// Listen for the clearing of the current output cell\n",
       "var outputEl = gd.closest('.output');\n",
       "if (outputEl) {{\n",
       "    x.observe(outputEl, {childList: true});\n",
       "}}\n",
       "\n",
       "                        })\n",
       "                };\n",
       "                });\n",
       "            </script>\n",
       "        </div>"
      ]
     },
     "metadata": {},
     "output_type": "display_data"
    }
   ],
   "source": [
    "import plotly.figure_factory as ff\n",
    "df = [dict(Task=f\"{i[2]}\",Start=datetime.fromtimestamp(i[0]),Finish=datetime.fromtimestamp(j[0])) for i,j in zip(start,deactive)]\n",
    "fig = ff.create_gantt(df)\n",
    "fig.show()"
   ]
  },
  {
   "cell_type": "code",
   "execution_count": null,
   "metadata": {},
   "outputs": [],
   "source": []
  },
  {
   "cell_type": "markdown",
   "metadata": {},
   "source": [
    "```\n",
    "p = head\n",
    "while p:\n",
    "    if p.val == k:\n",
    "        return p\n",
    "    p = p.next\n",
    "```"
   ]
  },
  {
   "cell_type": "code",
   "execution_count": null,
   "metadata": {},
   "outputs": [],
   "source": []
  },
  {
   "cell_type": "code",
   "execution_count": null,
   "metadata": {},
   "outputs": [],
   "source": []
  },
  {
   "cell_type": "code",
   "execution_count": null,
   "metadata": {},
   "outputs": [],
   "source": []
  },
  {
   "cell_type": "code",
   "execution_count": null,
   "metadata": {},
   "outputs": [],
   "source": []
  },
  {
   "cell_type": "code",
   "execution_count": null,
   "metadata": {},
   "outputs": [],
   "source": []
  },
  {
   "cell_type": "code",
   "execution_count": null,
   "metadata": {},
   "outputs": [],
   "source": []
  },
  {
   "cell_type": "code",
   "execution_count": 11,
   "metadata": {},
   "outputs": [],
   "source": [
    "# increase timestamp by 1 day, so the next block will be one day from the last block.\n",
    "def daytosecond(x):\n",
    "    return x*24*3600"
   ]
  },
  {
   "cell_type": "markdown",
   "metadata": {},
   "source": [
    "## Reading Event, Get TokenID from event and getTokenById\n",
    "This way ensure that calling function getTokenById will never fail  \n",
    "Another way is to call tokenID until getTokenById return error"
   ]
  },
  {
   "cell_type": "code",
   "execution_count": 15,
   "metadata": {},
   "outputs": [
    {
     "name": "stdout",
     "output_type": "stream",
     "text": [
      "1 0x3db056cd 0x7f825a6e\n",
      "2 0x8abcda2f 0x77aef3db\n",
      "3 0xc3014b87 0xc06a7b08\n",
      "4 0x07c14193 0xc9c395ad\n",
      "5 0x55ccd108 0x3d7dc6f6\n",
      "6 0x39fe6cc4 0xce11c3a9\n",
      "7 0x9aa15d5b 0xf6a06698\n",
      "8 0x90d555a1 0x43e8ab5f\n",
      "9 0x9ee9eba2 0x282db99a\n",
      "10 0x66d492e9 0xc06a7b08\n",
      "11 0xc0ad3392 0xc9c395ad\n",
      "12 0x0cb02233 0xf1682952\n",
      "13 0x5eec736a 0x69989f9e\n",
      "14 0x6fef27b8 0xfc35dbe2\n",
      "15 0x41a38f1a 0x976fd2e8\n",
      "16 0x328e9c25 0x0aabb169\n",
      "17 0x7013339f 0xfd25b320\n",
      "18 0xf3e7acf8 0xc9c395ad\n",
      "19 0xd1a623d8 0xffc152a7\n",
      "20 0xb93d1746 0x69989f9e\n",
      "21 0x95620edd 0x4ba7a4f7\n",
      "22 0x7171a5bc 0x69c9d575\n",
      "23 0x9d76dabc 0x6fd687c5\n",
      "24 0xcd9cd62d 0x368a1d4e\n",
      "25 0x897535c3 0xc9c395ad\n",
      "26 0xeeded523 0x0a251caf\n",
      "27 0x1fab1e37 0x69989f9e\n",
      "28 0xb99db75d 0x82560622\n",
      "29 0x6b2e5998 0xd456dbed\n",
      "30 0xad13295c 0x774e80fd\n",
      "31 0x730bbc68 0x219b2c6a\n",
      "32 0x31a4a089 0xc9c395ad\n",
      "33 0xb570790f 0xe9dc74be\n",
      "34 0x827817ac 0xfc17fc9c\n",
      "35 0x81d6be1b 0x79dc178d\n",
      "36 0x94120290 0xce81d149\n",
      "37 0x366d4109 0x33ef1efc\n",
      "38 0xa05be555 0xbe39c270\n",
      "39 0xf1cd92ee 0xc9c395ad\n",
      "40 0x7c6da5ba 0x9f9bfd3e\n",
      "41 0xa19d43cf 0x103c5752\n",
      "42 0x1322977b 0x33458620\n",
      "43 0x3db056cd 0x7f825a6e\n",
      "44 0x8abcda2f 0x77aef3db\n",
      "45 0xc3014b87 0xc06a7b08\n",
      "46 0x07c14193 0xc9c395ad\n",
      "47 0x55ccd108 0x3d7dc6f6\n",
      "48 0x39fe6cc4 0xce11c3a9\n",
      "49 0x9aa15d5b 0xf6a06698\n",
      "50 0x90d555a1 0x43e8ab5f\n",
      "51 0x9ee9eba2 0x282db99a\n",
      "52 0x66d492e9 0xc06a7b08\n",
      "53 0xc0ad3392 0xc9c395ad\n",
      "54 0x0cb02233 0xf1682952\n",
      "55 0x5eec736a 0x69989f9e\n",
      "56 0x6fef27b8 0xfc35dbe2\n",
      "57 0x41a38f1a 0x976fd2e8\n",
      "58 0x328e9c25 0x0aabb169\n",
      "59 0x7013339f 0xfd25b320\n",
      "60 0xf3e7acf8 0xc9c395ad\n",
      "61 0xd1a623d8 0xffc152a7\n",
      "62 0xb93d1746 0x69989f9e\n",
      "63 0x95620edd 0x4ba7a4f7\n",
      "64 0x7171a5bc 0x69c9d575\n",
      "65 0x9d76dabc 0x6fd687c5\n",
      "66 0xcd9cd62d 0x368a1d4e\n",
      "67 0x897535c3 0xc9c395ad\n",
      "68 0xeeded523 0x0a251caf\n",
      "69 0x1fab1e37 0x69989f9e\n",
      "70 0xb99db75d 0x82560622\n",
      "71 0x6b2e5998 0xd456dbed\n",
      "72 0xad13295c 0x774e80fd\n",
      "73 0x730bbc68 0x219b2c6a\n",
      "74 0x31a4a089 0xc9c395ad\n",
      "75 0xb570790f 0xe9dc74be\n",
      "76 0x827817ac 0xfc17fc9c\n",
      "77 0x81d6be1b 0x79dc178d\n",
      "78 0x94120290 0xce81d149\n",
      "79 0x366d4109 0x33ef1efc\n",
      "80 0xa05be555 0xbe39c270\n",
      "81 0xf1cd92ee 0xc9c395ad\n",
      "82 0x7c6da5ba 0x9f9bfd3e\n",
      "83 0xa19d43cf 0x103c5752\n",
      "84 0x1322977b 0x33458620\n"
     ]
    }
   ],
   "source": [
    "event_filter = contract.events.AssetCreated.createFilter(fromBlock='earliest',toBlock='latest')\n",
    "for i in event_filter.get_all_entries():\n",
    "    tokenId = i['args']['tokenId']\n",
    "    token = contract.functions.getTokenById(tokenId).call({\"from\":w3.eth.accounts[0]})\n",
    "    a,[b] = token\n",
    "    print(tokenId,Web3.toHex(a)[:10],Web3.toHex(b)[:10])"
   ]
  },
  {
   "cell_type": "markdown",
   "metadata": {},
   "source": [
    "# Ethereum - ETL  \n",
    "below is the testing of majority of the function provided by ethereum-etl."
   ]
  },
  {
   "cell_type": "markdown",
   "metadata": {},
   "source": [
    "## export blocks and transactions"
   ]
  },
  {
   "cell_type": "code",
   "execution_count": 3,
   "metadata": {
    "scrolled": true
   },
   "outputs": [
    {
     "name": "stderr",
     "output_type": "stream",
     "text": [
      "Symbolic Execution not available: No module named 'mythril'\n",
      "pyetherchain not available: No module named 'pyetherchain'\n",
      "2020-06-16 15:38:16,939 - ProgressLogger [INFO] - Started work. Items to process: 1001.\n",
      "2020-06-16 15:38:16,948 - BatchWorkExecutor [ERROR] - An exception occurred while executing work_handler.\n",
      "Traceback (most recent call last):\n",
      "  File \"/media/skyap/8419d487-cb26-4b9d-8359-17eec418147f/20_projects/20_export_non_standard_ERC721_token_attributes/project_folder/venv/lib/python3.8/site-packages/ethereum_etl-1.4.0-py3.8.egg/ethereumetl/executors/batch_work_executor.py\", line 63, in _fail_safe_execute\n",
      "    work_handler(batch)\n",
      "  File \"/media/skyap/8419d487-cb26-4b9d-8359-17eec418147f/20_projects/20_export_non_standard_ERC721_token_attributes/project_folder/venv/lib/python3.8/site-packages/ethereum_etl-1.4.0-py3.8.egg/ethereumetl/jobs/export_blocks_job.py\", line 77, in _export_batch\n",
      "    blocks = [self.block_mapper.json_dict_to_block(result) for result in results]\n",
      "  File \"/media/skyap/8419d487-cb26-4b9d-8359-17eec418147f/20_projects/20_export_non_standard_ERC721_token_attributes/project_folder/venv/lib/python3.8/site-packages/ethereum_etl-1.4.0-py3.8.egg/ethereumetl/jobs/export_blocks_job.py\", line 77, in <listcomp>\n",
      "    blocks = [self.block_mapper.json_dict_to_block(result) for result in results]\n",
      "  File \"/media/skyap/8419d487-cb26-4b9d-8359-17eec418147f/20_projects/20_export_non_standard_ERC721_token_attributes/project_folder/venv/lib/python3.8/site-packages/ethereum_etl-1.4.0-py3.8.egg/ethereumetl/utils.py\", line 71, in rpc_response_batch_to_results\n",
      "    yield rpc_response_to_result(response_item)\n",
      "  File \"/media/skyap/8419d487-cb26-4b9d-8359-17eec418147f/20_projects/20_export_non_standard_ERC721_token_attributes/project_folder/venv/lib/python3.8/site-packages/ethereum_etl-1.4.0-py3.8.egg/ethereumetl/utils.py\", line 82, in rpc_response_to_result\n",
      "    raise RetriableValueError(error_message)\n",
      "ethereumetl.misc.retriable_value_error.RetriableValueError: result is None in response {'jsonrpc': '2.0', 'id': 0, 'result': None}. Make sure Ethereum node is synced.\n",
      "2020-06-16 15:38:16,949 - BatchWorkExecutor [INFO] - Reducing batch size to 50.\n",
      "2020-06-16 15:38:16,949 - BatchWorkExecutor [INFO] - The batch of size 100 will be retried one item at a time.\n",
      "2020-06-16 15:38:16,951 - BatchWorkExecutor [ERROR] - An exception occurred while executing work_handler.\n",
      "Traceback (most recent call last):\n",
      "  File \"/media/skyap/8419d487-cb26-4b9d-8359-17eec418147f/20_projects/20_export_non_standard_ERC721_token_attributes/project_folder/venv/lib/python3.8/site-packages/ethereum_etl-1.4.0-py3.8.egg/ethereumetl/executors/batch_work_executor.py\", line 63, in _fail_safe_execute\n",
      "    work_handler(batch)\n",
      "  File \"/media/skyap/8419d487-cb26-4b9d-8359-17eec418147f/20_projects/20_export_non_standard_ERC721_token_attributes/project_folder/venv/lib/python3.8/site-packages/ethereum_etl-1.4.0-py3.8.egg/ethereumetl/jobs/export_blocks_job.py\", line 77, in _export_batch\n",
      "    blocks = [self.block_mapper.json_dict_to_block(result) for result in results]\n",
      "  File \"/media/skyap/8419d487-cb26-4b9d-8359-17eec418147f/20_projects/20_export_non_standard_ERC721_token_attributes/project_folder/venv/lib/python3.8/site-packages/ethereum_etl-1.4.0-py3.8.egg/ethereumetl/jobs/export_blocks_job.py\", line 77, in <listcomp>\n",
      "    blocks = [self.block_mapper.json_dict_to_block(result) for result in results]\n",
      "  File \"/media/skyap/8419d487-cb26-4b9d-8359-17eec418147f/20_projects/20_export_non_standard_ERC721_token_attributes/project_folder/venv/lib/python3.8/site-packages/ethereum_etl-1.4.0-py3.8.egg/ethereumetl/utils.py\", line 71, in rpc_response_batch_to_results\n",
      "    yield rpc_response_to_result(response_item)\n",
      "  File \"/media/skyap/8419d487-cb26-4b9d-8359-17eec418147f/20_projects/20_export_non_standard_ERC721_token_attributes/project_folder/venv/lib/python3.8/site-packages/ethereum_etl-1.4.0-py3.8.egg/ethereumetl/utils.py\", line 82, in rpc_response_to_result\n",
      "    raise RetriableValueError(error_message)\n",
      "ethereumetl.misc.retriable_value_error.RetriableValueError: result is None in response {'jsonrpc': '2.0', 'id': 0, 'result': None}. Make sure Ethereum node is synced.\n",
      "2020-06-16 15:38:16,952 - BatchWorkExecutor [ERROR] - An exception occurred while executing work_handler.\n",
      "Traceback (most recent call last):\n",
      "  File \"/media/skyap/8419d487-cb26-4b9d-8359-17eec418147f/20_projects/20_export_non_standard_ERC721_token_attributes/project_folder/venv/lib/python3.8/site-packages/ethereum_etl-1.4.0-py3.8.egg/ethereumetl/executors/batch_work_executor.py\", line 63, in _fail_safe_execute\n",
      "    work_handler(batch)\n",
      "  File \"/media/skyap/8419d487-cb26-4b9d-8359-17eec418147f/20_projects/20_export_non_standard_ERC721_token_attributes/project_folder/venv/lib/python3.8/site-packages/ethereum_etl-1.4.0-py3.8.egg/ethereumetl/jobs/export_blocks_job.py\", line 77, in _export_batch\n",
      "    blocks = [self.block_mapper.json_dict_to_block(result) for result in results]\n",
      "  File \"/media/skyap/8419d487-cb26-4b9d-8359-17eec418147f/20_projects/20_export_non_standard_ERC721_token_attributes/project_folder/venv/lib/python3.8/site-packages/ethereum_etl-1.4.0-py3.8.egg/ethereumetl/jobs/export_blocks_job.py\", line 77, in <listcomp>\n",
      "    blocks = [self.block_mapper.json_dict_to_block(result) for result in results]\n",
      "  File \"/media/skyap/8419d487-cb26-4b9d-8359-17eec418147f/20_projects/20_export_non_standard_ERC721_token_attributes/project_folder/venv/lib/python3.8/site-packages/ethereum_etl-1.4.0-py3.8.egg/ethereumetl/utils.py\", line 71, in rpc_response_batch_to_results\n",
      "    yield rpc_response_to_result(response_item)\n",
      "  File \"/media/skyap/8419d487-cb26-4b9d-8359-17eec418147f/20_projects/20_export_non_standard_ERC721_token_attributes/project_folder/venv/lib/python3.8/site-packages/ethereum_etl-1.4.0-py3.8.egg/ethereumetl/utils.py\", line 82, in rpc_response_to_result\n",
      "    raise RetriableValueError(error_message)\n",
      "ethereumetl.misc.retriable_value_error.RetriableValueError: result is None in response {'jsonrpc': '2.0', 'id': 0, 'result': None}. Make sure Ethereum node is synced.\n",
      "2020-06-16 15:38:16,952 - root [ERROR] - An exception occurred while executing execute_with_retries. Retry #0\n",
      "Traceback (most recent call last):\n",
      "  File \"/media/skyap/8419d487-cb26-4b9d-8359-17eec418147f/20_projects/20_export_non_standard_ERC721_token_attributes/project_folder/venv/lib/python3.8/site-packages/ethereum_etl-1.4.0-py3.8.egg/ethereumetl/executors/batch_work_executor.py\", line 63, in _fail_safe_execute\n",
      "    work_handler(batch)\n",
      "  File \"/media/skyap/8419d487-cb26-4b9d-8359-17eec418147f/20_projects/20_export_non_standard_ERC721_token_attributes/project_folder/venv/lib/python3.8/site-packages/ethereum_etl-1.4.0-py3.8.egg/ethereumetl/jobs/export_blocks_job.py\", line 77, in _export_batch\n",
      "    blocks = [self.block_mapper.json_dict_to_block(result) for result in results]\n",
      "  File \"/media/skyap/8419d487-cb26-4b9d-8359-17eec418147f/20_projects/20_export_non_standard_ERC721_token_attributes/project_folder/venv/lib/python3.8/site-packages/ethereum_etl-1.4.0-py3.8.egg/ethereumetl/jobs/export_blocks_job.py\", line 77, in <listcomp>\n",
      "    blocks = [self.block_mapper.json_dict_to_block(result) for result in results]\n",
      "  File \"/media/skyap/8419d487-cb26-4b9d-8359-17eec418147f/20_projects/20_export_non_standard_ERC721_token_attributes/project_folder/venv/lib/python3.8/site-packages/ethereum_etl-1.4.0-py3.8.egg/ethereumetl/utils.py\", line 71, in rpc_response_batch_to_results\n",
      "    yield rpc_response_to_result(response_item)\n",
      "  File \"/media/skyap/8419d487-cb26-4b9d-8359-17eec418147f/20_projects/20_export_non_standard_ERC721_token_attributes/project_folder/venv/lib/python3.8/site-packages/ethereum_etl-1.4.0-py3.8.egg/ethereumetl/utils.py\", line 82, in rpc_response_to_result\n",
      "    raise RetriableValueError(error_message)\n",
      "ethereumetl.misc.retriable_value_error.RetriableValueError: result is None in response {'jsonrpc': '2.0', 'id': 0, 'result': None}. Make sure Ethereum node is synced.\n",
      "\n",
      "During handling of the above exception, another exception occurred:\n",
      "\n",
      "Traceback (most recent call last):\n",
      "  File \"/media/skyap/8419d487-cb26-4b9d-8359-17eec418147f/20_projects/20_export_non_standard_ERC721_token_attributes/project_folder/venv/lib/python3.8/site-packages/ethereum_etl-1.4.0-py3.8.egg/ethereumetl/executors/batch_work_executor.py\", line 104, in execute_with_retries\n",
      "    return func(*args)\n",
      "  File \"/media/skyap/8419d487-cb26-4b9d-8359-17eec418147f/20_projects/20_export_non_standard_ERC721_token_attributes/project_folder/venv/lib/python3.8/site-packages/ethereum_etl-1.4.0-py3.8.egg/ethereumetl/jobs/export_blocks_job.py\", line 77, in _export_batch\n",
      "    blocks = [self.block_mapper.json_dict_to_block(result) for result in results]\n",
      "  File \"/media/skyap/8419d487-cb26-4b9d-8359-17eec418147f/20_projects/20_export_non_standard_ERC721_token_attributes/project_folder/venv/lib/python3.8/site-packages/ethereum_etl-1.4.0-py3.8.egg/ethereumetl/jobs/export_blocks_job.py\", line 77, in <listcomp>\n",
      "    blocks = [self.block_mapper.json_dict_to_block(result) for result in results]\n",
      "  File \"/media/skyap/8419d487-cb26-4b9d-8359-17eec418147f/20_projects/20_export_non_standard_ERC721_token_attributes/project_folder/venv/lib/python3.8/site-packages/ethereum_etl-1.4.0-py3.8.egg/ethereumetl/utils.py\", line 71, in rpc_response_batch_to_results\n",
      "    yield rpc_response_to_result(response_item)\n",
      "  File \"/media/skyap/8419d487-cb26-4b9d-8359-17eec418147f/20_projects/20_export_non_standard_ERC721_token_attributes/project_folder/venv/lib/python3.8/site-packages/ethereum_etl-1.4.0-py3.8.egg/ethereumetl/utils.py\", line 82, in rpc_response_to_result\n",
      "    raise RetriableValueError(error_message)\n",
      "ethereumetl.misc.retriable_value_error.RetriableValueError: result is None in response {'jsonrpc': '2.0', 'id': 0, 'result': None}. Make sure Ethereum node is synced.\n",
      "2020-06-16 15:38:16,952 - BatchWorkExecutor [INFO] - The batch of size 100 will be retried one item at a time.\n",
      "2020-06-16 15:38:16,952 - BatchWorkExecutor [ERROR] - An exception occurred while executing work_handler.\n",
      "Traceback (most recent call last):\n",
      "  File \"/media/skyap/8419d487-cb26-4b9d-8359-17eec418147f/20_projects/20_export_non_standard_ERC721_token_attributes/project_folder/venv/lib/python3.8/site-packages/ethereum_etl-1.4.0-py3.8.egg/ethereumetl/executors/batch_work_executor.py\", line 63, in _fail_safe_execute\n",
      "    work_handler(batch)\n",
      "  File \"/media/skyap/8419d487-cb26-4b9d-8359-17eec418147f/20_projects/20_export_non_standard_ERC721_token_attributes/project_folder/venv/lib/python3.8/site-packages/ethereum_etl-1.4.0-py3.8.egg/ethereumetl/jobs/export_blocks_job.py\", line 77, in _export_batch\n",
      "    blocks = [self.block_mapper.json_dict_to_block(result) for result in results]\n",
      "  File \"/media/skyap/8419d487-cb26-4b9d-8359-17eec418147f/20_projects/20_export_non_standard_ERC721_token_attributes/project_folder/venv/lib/python3.8/site-packages/ethereum_etl-1.4.0-py3.8.egg/ethereumetl/jobs/export_blocks_job.py\", line 77, in <listcomp>\n",
      "    blocks = [self.block_mapper.json_dict_to_block(result) for result in results]\n",
      "  File \"/media/skyap/8419d487-cb26-4b9d-8359-17eec418147f/20_projects/20_export_non_standard_ERC721_token_attributes/project_folder/venv/lib/python3.8/site-packages/ethereum_etl-1.4.0-py3.8.egg/ethereumetl/utils.py\", line 71, in rpc_response_batch_to_results\n",
      "    yield rpc_response_to_result(response_item)\n",
      "  File \"/media/skyap/8419d487-cb26-4b9d-8359-17eec418147f/20_projects/20_export_non_standard_ERC721_token_attributes/project_folder/venv/lib/python3.8/site-packages/ethereum_etl-1.4.0-py3.8.egg/ethereumetl/utils.py\", line 82, in rpc_response_to_result\n",
      "    raise RetriableValueError(error_message)\n",
      "ethereumetl.misc.retriable_value_error.RetriableValueError: result is None in response {'jsonrpc': '2.0', 'id': 0, 'result': None}. Make sure Ethereum node is synced.\n",
      "2020-06-16 15:38:16,953 - BatchWorkExecutor [INFO] - The batch of size 100 will be retried one item at a time.\n",
      "2020-06-16 15:38:16,953 - root [INFO] - The request will be retried after 1 seconds. Retry #0\n",
      "2020-06-16 15:38:16,955 - BatchWorkExecutor [INFO] - The batch of size 100 will be retried one item at a time.\n",
      "2020-06-16 15:38:16,956 - root [ERROR] - An exception occurred while executing execute_with_retries. Retry #0\n",
      "Traceback (most recent call last):\n",
      "  File \"/media/skyap/8419d487-cb26-4b9d-8359-17eec418147f/20_projects/20_export_non_standard_ERC721_token_attributes/project_folder/venv/lib/python3.8/site-packages/ethereum_etl-1.4.0-py3.8.egg/ethereumetl/executors/batch_work_executor.py\", line 63, in _fail_safe_execute\n",
      "    work_handler(batch)\n",
      "  File \"/media/skyap/8419d487-cb26-4b9d-8359-17eec418147f/20_projects/20_export_non_standard_ERC721_token_attributes/project_folder/venv/lib/python3.8/site-packages/ethereum_etl-1.4.0-py3.8.egg/ethereumetl/jobs/export_blocks_job.py\", line 77, in _export_batch\n",
      "    blocks = [self.block_mapper.json_dict_to_block(result) for result in results]\n",
      "  File \"/media/skyap/8419d487-cb26-4b9d-8359-17eec418147f/20_projects/20_export_non_standard_ERC721_token_attributes/project_folder/venv/lib/python3.8/site-packages/ethereum_etl-1.4.0-py3.8.egg/ethereumetl/jobs/export_blocks_job.py\", line 77, in <listcomp>\n",
      "    blocks = [self.block_mapper.json_dict_to_block(result) for result in results]\n",
      "  File \"/media/skyap/8419d487-cb26-4b9d-8359-17eec418147f/20_projects/20_export_non_standard_ERC721_token_attributes/project_folder/venv/lib/python3.8/site-packages/ethereum_etl-1.4.0-py3.8.egg/ethereumetl/utils.py\", line 71, in rpc_response_batch_to_results\n",
      "    yield rpc_response_to_result(response_item)\n",
      "  File \"/media/skyap/8419d487-cb26-4b9d-8359-17eec418147f/20_projects/20_export_non_standard_ERC721_token_attributes/project_folder/venv/lib/python3.8/site-packages/ethereum_etl-1.4.0-py3.8.egg/ethereumetl/utils.py\", line 82, in rpc_response_to_result\n",
      "    raise RetriableValueError(error_message)\n",
      "ethereumetl.misc.retriable_value_error.RetriableValueError: result is None in response {'jsonrpc': '2.0', 'id': 0, 'result': None}. Make sure Ethereum node is synced.\n",
      "\n",
      "During handling of the above exception, another exception occurred:\n",
      "\n",
      "Traceback (most recent call last):\n",
      "  File \"/media/skyap/8419d487-cb26-4b9d-8359-17eec418147f/20_projects/20_export_non_standard_ERC721_token_attributes/project_folder/venv/lib/python3.8/site-packages/ethereum_etl-1.4.0-py3.8.egg/ethereumetl/executors/batch_work_executor.py\", line 104, in execute_with_retries\n",
      "    return func(*args)\n",
      "  File \"/media/skyap/8419d487-cb26-4b9d-8359-17eec418147f/20_projects/20_export_non_standard_ERC721_token_attributes/project_folder/venv/lib/python3.8/site-packages/ethereum_etl-1.4.0-py3.8.egg/ethereumetl/jobs/export_blocks_job.py\", line 77, in _export_batch\n",
      "    blocks = [self.block_mapper.json_dict_to_block(result) for result in results]\n",
      "  File \"/media/skyap/8419d487-cb26-4b9d-8359-17eec418147f/20_projects/20_export_non_standard_ERC721_token_attributes/project_folder/venv/lib/python3.8/site-packages/ethereum_etl-1.4.0-py3.8.egg/ethereumetl/jobs/export_blocks_job.py\", line 77, in <listcomp>\n",
      "    blocks = [self.block_mapper.json_dict_to_block(result) for result in results]\n",
      "  File \"/media/skyap/8419d487-cb26-4b9d-8359-17eec418147f/20_projects/20_export_non_standard_ERC721_token_attributes/project_folder/venv/lib/python3.8/site-packages/ethereum_etl-1.4.0-py3.8.egg/ethereumetl/utils.py\", line 71, in rpc_response_batch_to_results\n",
      "    yield rpc_response_to_result(response_item)\n",
      "  File \"/media/skyap/8419d487-cb26-4b9d-8359-17eec418147f/20_projects/20_export_non_standard_ERC721_token_attributes/project_folder/venv/lib/python3.8/site-packages/ethereum_etl-1.4.0-py3.8.egg/ethereumetl/utils.py\", line 82, in rpc_response_to_result\n",
      "    raise RetriableValueError(error_message)\n",
      "ethereumetl.misc.retriable_value_error.RetriableValueError: result is None in response {'jsonrpc': '2.0', 'id': 0, 'result': None}. Make sure Ethereum node is synced.\n",
      "2020-06-16 15:38:16,957 - root [ERROR] - An exception occurred while executing execute_with_retries. Retry #0\n",
      "Traceback (most recent call last):\n",
      "  File \"/media/skyap/8419d487-cb26-4b9d-8359-17eec418147f/20_projects/20_export_non_standard_ERC721_token_attributes/project_folder/venv/lib/python3.8/site-packages/ethereum_etl-1.4.0-py3.8.egg/ethereumetl/executors/batch_work_executor.py\", line 63, in _fail_safe_execute\n",
      "    work_handler(batch)\n",
      "  File \"/media/skyap/8419d487-cb26-4b9d-8359-17eec418147f/20_projects/20_export_non_standard_ERC721_token_attributes/project_folder/venv/lib/python3.8/site-packages/ethereum_etl-1.4.0-py3.8.egg/ethereumetl/jobs/export_blocks_job.py\", line 77, in _export_batch\n",
      "    blocks = [self.block_mapper.json_dict_to_block(result) for result in results]\n",
      "  File \"/media/skyap/8419d487-cb26-4b9d-8359-17eec418147f/20_projects/20_export_non_standard_ERC721_token_attributes/project_folder/venv/lib/python3.8/site-packages/ethereum_etl-1.4.0-py3.8.egg/ethereumetl/jobs/export_blocks_job.py\", line 77, in <listcomp>\n",
      "    blocks = [self.block_mapper.json_dict_to_block(result) for result in results]\n",
      "  File \"/media/skyap/8419d487-cb26-4b9d-8359-17eec418147f/20_projects/20_export_non_standard_ERC721_token_attributes/project_folder/venv/lib/python3.8/site-packages/ethereum_etl-1.4.0-py3.8.egg/ethereumetl/utils.py\", line 71, in rpc_response_batch_to_results\n",
      "    yield rpc_response_to_result(response_item)\n",
      "  File \"/media/skyap/8419d487-cb26-4b9d-8359-17eec418147f/20_projects/20_export_non_standard_ERC721_token_attributes/project_folder/venv/lib/python3.8/site-packages/ethereum_etl-1.4.0-py3.8.egg/ethereumetl/utils.py\", line 82, in rpc_response_to_result\n",
      "    raise RetriableValueError(error_message)\n",
      "ethereumetl.misc.retriable_value_error.RetriableValueError: result is None in response {'jsonrpc': '2.0', 'id': 0, 'result': None}. Make sure Ethereum node is synced.\n",
      "\n",
      "During handling of the above exception, another exception occurred:\n",
      "\n",
      "Traceback (most recent call last):\n",
      "  File \"/media/skyap/8419d487-cb26-4b9d-8359-17eec418147f/20_projects/20_export_non_standard_ERC721_token_attributes/project_folder/venv/lib/python3.8/site-packages/ethereum_etl-1.4.0-py3.8.egg/ethereumetl/executors/batch_work_executor.py\", line 104, in execute_with_retries\n",
      "    return func(*args)\n",
      "  File \"/media/skyap/8419d487-cb26-4b9d-8359-17eec418147f/20_projects/20_export_non_standard_ERC721_token_attributes/project_folder/venv/lib/python3.8/site-packages/ethereum_etl-1.4.0-py3.8.egg/ethereumetl/jobs/export_blocks_job.py\", line 77, in _export_batch\n",
      "    blocks = [self.block_mapper.json_dict_to_block(result) for result in results]\n",
      "  File \"/media/skyap/8419d487-cb26-4b9d-8359-17eec418147f/20_projects/20_export_non_standard_ERC721_token_attributes/project_folder/venv/lib/python3.8/site-packages/ethereum_etl-1.4.0-py3.8.egg/ethereumetl/jobs/export_blocks_job.py\", line 77, in <listcomp>\n",
      "    blocks = [self.block_mapper.json_dict_to_block(result) for result in results]\n",
      "  File \"/media/skyap/8419d487-cb26-4b9d-8359-17eec418147f/20_projects/20_export_non_standard_ERC721_token_attributes/project_folder/venv/lib/python3.8/site-packages/ethereum_etl-1.4.0-py3.8.egg/ethereumetl/utils.py\", line 71, in rpc_response_batch_to_results\n",
      "    yield rpc_response_to_result(response_item)\n",
      "  File \"/media/skyap/8419d487-cb26-4b9d-8359-17eec418147f/20_projects/20_export_non_standard_ERC721_token_attributes/project_folder/venv/lib/python3.8/site-packages/ethereum_etl-1.4.0-py3.8.egg/ethereumetl/utils.py\", line 82, in rpc_response_to_result\n",
      "    raise RetriableValueError(error_message)\n",
      "ethereumetl.misc.retriable_value_error.RetriableValueError: result is None in response {'jsonrpc': '2.0', 'id': 0, 'result': None}. Make sure Ethereum node is synced.\n",
      "2020-06-16 15:38:16,958 - root [INFO] - The request will be retried after 1 seconds. Retry #0\n",
      "2020-06-16 15:38:16,959 - root [ERROR] - An exception occurred while executing execute_with_retries. Retry #0\n",
      "Traceback (most recent call last):\n",
      "  File \"/media/skyap/8419d487-cb26-4b9d-8359-17eec418147f/20_projects/20_export_non_standard_ERC721_token_attributes/project_folder/venv/lib/python3.8/site-packages/ethereum_etl-1.4.0-py3.8.egg/ethereumetl/executors/batch_work_executor.py\", line 63, in _fail_safe_execute\n",
      "    work_handler(batch)\n",
      "  File \"/media/skyap/8419d487-cb26-4b9d-8359-17eec418147f/20_projects/20_export_non_standard_ERC721_token_attributes/project_folder/venv/lib/python3.8/site-packages/ethereum_etl-1.4.0-py3.8.egg/ethereumetl/jobs/export_blocks_job.py\", line 77, in _export_batch\n",
      "    blocks = [self.block_mapper.json_dict_to_block(result) for result in results]\n",
      "  File \"/media/skyap/8419d487-cb26-4b9d-8359-17eec418147f/20_projects/20_export_non_standard_ERC721_token_attributes/project_folder/venv/lib/python3.8/site-packages/ethereum_etl-1.4.0-py3.8.egg/ethereumetl/jobs/export_blocks_job.py\", line 77, in <listcomp>\n",
      "    blocks = [self.block_mapper.json_dict_to_block(result) for result in results]\n",
      "  File \"/media/skyap/8419d487-cb26-4b9d-8359-17eec418147f/20_projects/20_export_non_standard_ERC721_token_attributes/project_folder/venv/lib/python3.8/site-packages/ethereum_etl-1.4.0-py3.8.egg/ethereumetl/utils.py\", line 71, in rpc_response_batch_to_results\n",
      "    yield rpc_response_to_result(response_item)\n",
      "  File \"/media/skyap/8419d487-cb26-4b9d-8359-17eec418147f/20_projects/20_export_non_standard_ERC721_token_attributes/project_folder/venv/lib/python3.8/site-packages/ethereum_etl-1.4.0-py3.8.egg/ethereumetl/utils.py\", line 82, in rpc_response_to_result\n",
      "    raise RetriableValueError(error_message)\n",
      "ethereumetl.misc.retriable_value_error.RetriableValueError: result is None in response {'jsonrpc': '2.0', 'id': 0, 'result': None}. Make sure Ethereum node is synced.\n",
      "\n",
      "During handling of the above exception, another exception occurred:\n",
      "\n",
      "Traceback (most recent call last):\n",
      "  File \"/media/skyap/8419d487-cb26-4b9d-8359-17eec418147f/20_projects/20_export_non_standard_ERC721_token_attributes/project_folder/venv/lib/python3.8/site-packages/ethereum_etl-1.4.0-py3.8.egg/ethereumetl/executors/batch_work_executor.py\", line 104, in execute_with_retries\n",
      "    return func(*args)\n",
      "  File \"/media/skyap/8419d487-cb26-4b9d-8359-17eec418147f/20_projects/20_export_non_standard_ERC721_token_attributes/project_folder/venv/lib/python3.8/site-packages/ethereum_etl-1.4.0-py3.8.egg/ethereumetl/jobs/export_blocks_job.py\", line 77, in _export_batch\n",
      "    blocks = [self.block_mapper.json_dict_to_block(result) for result in results]\n",
      "  File \"/media/skyap/8419d487-cb26-4b9d-8359-17eec418147f/20_projects/20_export_non_standard_ERC721_token_attributes/project_folder/venv/lib/python3.8/site-packages/ethereum_etl-1.4.0-py3.8.egg/ethereumetl/jobs/export_blocks_job.py\", line 77, in <listcomp>\n",
      "    blocks = [self.block_mapper.json_dict_to_block(result) for result in results]\n",
      "  File \"/media/skyap/8419d487-cb26-4b9d-8359-17eec418147f/20_projects/20_export_non_standard_ERC721_token_attributes/project_folder/venv/lib/python3.8/site-packages/ethereum_etl-1.4.0-py3.8.egg/ethereumetl/utils.py\", line 71, in rpc_response_batch_to_results\n",
      "    yield rpc_response_to_result(response_item)\n",
      "  File \"/media/skyap/8419d487-cb26-4b9d-8359-17eec418147f/20_projects/20_export_non_standard_ERC721_token_attributes/project_folder/venv/lib/python3.8/site-packages/ethereum_etl-1.4.0-py3.8.egg/ethereumetl/utils.py\", line 82, in rpc_response_to_result\n",
      "    raise RetriableValueError(error_message)\n",
      "ethereumetl.misc.retriable_value_error.RetriableValueError: result is None in response {'jsonrpc': '2.0', 'id': 0, 'result': None}. Make sure Ethereum node is synced.\n",
      "2020-06-16 15:38:16,959 - root [INFO] - The request will be retried after 1 seconds. Retry #0\n",
      "2020-06-16 15:38:16,960 - root [INFO] - The request will be retried after 1 seconds. Retry #0\n",
      "2020-06-16 15:38:16,964 - BatchWorkExecutor [ERROR] - An exception occurred while executing work_handler.\n",
      "Traceback (most recent call last):\n",
      "  File \"/media/skyap/8419d487-cb26-4b9d-8359-17eec418147f/20_projects/20_export_non_standard_ERC721_token_attributes/project_folder/venv/lib/python3.8/site-packages/ethereum_etl-1.4.0-py3.8.egg/ethereumetl/executors/batch_work_executor.py\", line 63, in _fail_safe_execute\n",
      "    work_handler(batch)\n",
      "  File \"/media/skyap/8419d487-cb26-4b9d-8359-17eec418147f/20_projects/20_export_non_standard_ERC721_token_attributes/project_folder/venv/lib/python3.8/site-packages/ethereum_etl-1.4.0-py3.8.egg/ethereumetl/jobs/export_blocks_job.py\", line 77, in _export_batch\n",
      "    blocks = [self.block_mapper.json_dict_to_block(result) for result in results]\n",
      "  File \"/media/skyap/8419d487-cb26-4b9d-8359-17eec418147f/20_projects/20_export_non_standard_ERC721_token_attributes/project_folder/venv/lib/python3.8/site-packages/ethereum_etl-1.4.0-py3.8.egg/ethereumetl/jobs/export_blocks_job.py\", line 77, in <listcomp>\n",
      "    blocks = [self.block_mapper.json_dict_to_block(result) for result in results]\n",
      "  File \"/media/skyap/8419d487-cb26-4b9d-8359-17eec418147f/20_projects/20_export_non_standard_ERC721_token_attributes/project_folder/venv/lib/python3.8/site-packages/ethereum_etl-1.4.0-py3.8.egg/ethereumetl/utils.py\", line 71, in rpc_response_batch_to_results\n",
      "    yield rpc_response_to_result(response_item)\n",
      "  File \"/media/skyap/8419d487-cb26-4b9d-8359-17eec418147f/20_projects/20_export_non_standard_ERC721_token_attributes/project_folder/venv/lib/python3.8/site-packages/ethereum_etl-1.4.0-py3.8.egg/ethereumetl/utils.py\", line 82, in rpc_response_to_result\n",
      "    raise RetriableValueError(error_message)\n",
      "ethereumetl.misc.retriable_value_error.RetriableValueError: result is None in response {'jsonrpc': '2.0', 'id': 97, 'result': None}. Make sure Ethereum node is synced.\n",
      "2020-06-16 15:38:16,964 - BatchWorkExecutor [INFO] - The batch of size 100 will be retried one item at a time.\n",
      "2020-06-16 15:38:17,113 - root [ERROR] - An exception occurred while executing execute_with_retries. Retry #0\n",
      "Traceback (most recent call last):\n",
      "  File \"/media/skyap/8419d487-cb26-4b9d-8359-17eec418147f/20_projects/20_export_non_standard_ERC721_token_attributes/project_folder/venv/lib/python3.8/site-packages/ethereum_etl-1.4.0-py3.8.egg/ethereumetl/executors/batch_work_executor.py\", line 63, in _fail_safe_execute\n",
      "    work_handler(batch)\n",
      "  File \"/media/skyap/8419d487-cb26-4b9d-8359-17eec418147f/20_projects/20_export_non_standard_ERC721_token_attributes/project_folder/venv/lib/python3.8/site-packages/ethereum_etl-1.4.0-py3.8.egg/ethereumetl/jobs/export_blocks_job.py\", line 77, in _export_batch\n",
      "    blocks = [self.block_mapper.json_dict_to_block(result) for result in results]\n",
      "  File \"/media/skyap/8419d487-cb26-4b9d-8359-17eec418147f/20_projects/20_export_non_standard_ERC721_token_attributes/project_folder/venv/lib/python3.8/site-packages/ethereum_etl-1.4.0-py3.8.egg/ethereumetl/jobs/export_blocks_job.py\", line 77, in <listcomp>\n",
      "    blocks = [self.block_mapper.json_dict_to_block(result) for result in results]\n",
      "  File \"/media/skyap/8419d487-cb26-4b9d-8359-17eec418147f/20_projects/20_export_non_standard_ERC721_token_attributes/project_folder/venv/lib/python3.8/site-packages/ethereum_etl-1.4.0-py3.8.egg/ethereumetl/utils.py\", line 71, in rpc_response_batch_to_results\n",
      "    yield rpc_response_to_result(response_item)\n",
      "  File \"/media/skyap/8419d487-cb26-4b9d-8359-17eec418147f/20_projects/20_export_non_standard_ERC721_token_attributes/project_folder/venv/lib/python3.8/site-packages/ethereum_etl-1.4.0-py3.8.egg/ethereumetl/utils.py\", line 82, in rpc_response_to_result\n",
      "    raise RetriableValueError(error_message)\n",
      "ethereumetl.misc.retriable_value_error.RetriableValueError: result is None in response {'jsonrpc': '2.0', 'id': 97, 'result': None}. Make sure Ethereum node is synced.\n",
      "\n",
      "During handling of the above exception, another exception occurred:\n",
      "\n",
      "Traceback (most recent call last):\n",
      "  File \"/media/skyap/8419d487-cb26-4b9d-8359-17eec418147f/20_projects/20_export_non_standard_ERC721_token_attributes/project_folder/venv/lib/python3.8/site-packages/ethereum_etl-1.4.0-py3.8.egg/ethereumetl/executors/batch_work_executor.py\", line 104, in execute_with_retries\n",
      "    return func(*args)\n",
      "  File \"/media/skyap/8419d487-cb26-4b9d-8359-17eec418147f/20_projects/20_export_non_standard_ERC721_token_attributes/project_folder/venv/lib/python3.8/site-packages/ethereum_etl-1.4.0-py3.8.egg/ethereumetl/jobs/export_blocks_job.py\", line 77, in _export_batch\n",
      "    blocks = [self.block_mapper.json_dict_to_block(result) for result in results]\n",
      "  File \"/media/skyap/8419d487-cb26-4b9d-8359-17eec418147f/20_projects/20_export_non_standard_ERC721_token_attributes/project_folder/venv/lib/python3.8/site-packages/ethereum_etl-1.4.0-py3.8.egg/ethereumetl/jobs/export_blocks_job.py\", line 77, in <listcomp>\n",
      "    blocks = [self.block_mapper.json_dict_to_block(result) for result in results]\n",
      "  File \"/media/skyap/8419d487-cb26-4b9d-8359-17eec418147f/20_projects/20_export_non_standard_ERC721_token_attributes/project_folder/venv/lib/python3.8/site-packages/ethereum_etl-1.4.0-py3.8.egg/ethereumetl/utils.py\", line 71, in rpc_response_batch_to_results\n",
      "    yield rpc_response_to_result(response_item)\n",
      "  File \"/media/skyap/8419d487-cb26-4b9d-8359-17eec418147f/20_projects/20_export_non_standard_ERC721_token_attributes/project_folder/venv/lib/python3.8/site-packages/ethereum_etl-1.4.0-py3.8.egg/ethereumetl/utils.py\", line 82, in rpc_response_to_result\n",
      "    raise RetriableValueError(error_message)\n",
      "ethereumetl.misc.retriable_value_error.RetriableValueError: result is None in response {'jsonrpc': '2.0', 'id': 0, 'result': None}. Make sure Ethereum node is synced.\n",
      "2020-06-16 15:38:17,114 - root [INFO] - The request will be retried after 1 seconds. Retry #0\n",
      "2020-06-16 15:38:17,971 - root [ERROR] - An exception occurred while executing execute_with_retries. Retry #1\n",
      "Traceback (most recent call last):\n",
      "  File \"/media/skyap/8419d487-cb26-4b9d-8359-17eec418147f/20_projects/20_export_non_standard_ERC721_token_attributes/project_folder/venv/lib/python3.8/site-packages/ethereum_etl-1.4.0-py3.8.egg/ethereumetl/executors/batch_work_executor.py\", line 63, in _fail_safe_execute\n",
      "    work_handler(batch)\n",
      "  File \"/media/skyap/8419d487-cb26-4b9d-8359-17eec418147f/20_projects/20_export_non_standard_ERC721_token_attributes/project_folder/venv/lib/python3.8/site-packages/ethereum_etl-1.4.0-py3.8.egg/ethereumetl/jobs/export_blocks_job.py\", line 77, in _export_batch\n",
      "    blocks = [self.block_mapper.json_dict_to_block(result) for result in results]\n",
      "  File \"/media/skyap/8419d487-cb26-4b9d-8359-17eec418147f/20_projects/20_export_non_standard_ERC721_token_attributes/project_folder/venv/lib/python3.8/site-packages/ethereum_etl-1.4.0-py3.8.egg/ethereumetl/jobs/export_blocks_job.py\", line 77, in <listcomp>\n",
      "    blocks = [self.block_mapper.json_dict_to_block(result) for result in results]\n",
      "  File \"/media/skyap/8419d487-cb26-4b9d-8359-17eec418147f/20_projects/20_export_non_standard_ERC721_token_attributes/project_folder/venv/lib/python3.8/site-packages/ethereum_etl-1.4.0-py3.8.egg/ethereumetl/utils.py\", line 71, in rpc_response_batch_to_results\n",
      "    yield rpc_response_to_result(response_item)\n",
      "  File \"/media/skyap/8419d487-cb26-4b9d-8359-17eec418147f/20_projects/20_export_non_standard_ERC721_token_attributes/project_folder/venv/lib/python3.8/site-packages/ethereum_etl-1.4.0-py3.8.egg/ethereumetl/utils.py\", line 82, in rpc_response_to_result\n",
      "    raise RetriableValueError(error_message)\n",
      "ethereumetl.misc.retriable_value_error.RetriableValueError: result is None in response {'jsonrpc': '2.0', 'id': 0, 'result': None}. Make sure Ethereum node is synced.\n",
      "\n",
      "During handling of the above exception, another exception occurred:\n",
      "\n",
      "Traceback (most recent call last):\n",
      "  File \"/media/skyap/8419d487-cb26-4b9d-8359-17eec418147f/20_projects/20_export_non_standard_ERC721_token_attributes/project_folder/venv/lib/python3.8/site-packages/ethereum_etl-1.4.0-py3.8.egg/ethereumetl/executors/batch_work_executor.py\", line 104, in execute_with_retries\n",
      "    return func(*args)\n",
      "  File \"/media/skyap/8419d487-cb26-4b9d-8359-17eec418147f/20_projects/20_export_non_standard_ERC721_token_attributes/project_folder/venv/lib/python3.8/site-packages/ethereum_etl-1.4.0-py3.8.egg/ethereumetl/jobs/export_blocks_job.py\", line 77, in _export_batch\n",
      "    blocks = [self.block_mapper.json_dict_to_block(result) for result in results]\n",
      "  File \"/media/skyap/8419d487-cb26-4b9d-8359-17eec418147f/20_projects/20_export_non_standard_ERC721_token_attributes/project_folder/venv/lib/python3.8/site-packages/ethereum_etl-1.4.0-py3.8.egg/ethereumetl/jobs/export_blocks_job.py\", line 77, in <listcomp>\n",
      "    blocks = [self.block_mapper.json_dict_to_block(result) for result in results]\n",
      "  File \"/media/skyap/8419d487-cb26-4b9d-8359-17eec418147f/20_projects/20_export_non_standard_ERC721_token_attributes/project_folder/venv/lib/python3.8/site-packages/ethereum_etl-1.4.0-py3.8.egg/ethereumetl/utils.py\", line 71, in rpc_response_batch_to_results\n",
      "    yield rpc_response_to_result(response_item)\n",
      "  File \"/media/skyap/8419d487-cb26-4b9d-8359-17eec418147f/20_projects/20_export_non_standard_ERC721_token_attributes/project_folder/venv/lib/python3.8/site-packages/ethereum_etl-1.4.0-py3.8.egg/ethereumetl/utils.py\", line 82, in rpc_response_to_result\n",
      "    raise RetriableValueError(error_message)\n",
      "ethereumetl.misc.retriable_value_error.RetriableValueError: result is None in response {'jsonrpc': '2.0', 'id': 0, 'result': None}. Make sure Ethereum node is synced.\n",
      "2020-06-16 15:38:17,972 - root [INFO] - The request will be retried after 1 seconds. Retry #1\n",
      "2020-06-16 15:38:17,972 - root [ERROR] - An exception occurred while executing execute_with_retries. Retry #1\n",
      "Traceback (most recent call last):\n",
      "  File \"/media/skyap/8419d487-cb26-4b9d-8359-17eec418147f/20_projects/20_export_non_standard_ERC721_token_attributes/project_folder/venv/lib/python3.8/site-packages/ethereum_etl-1.4.0-py3.8.egg/ethereumetl/executors/batch_work_executor.py\", line 63, in _fail_safe_execute\n",
      "    work_handler(batch)\n",
      "  File \"/media/skyap/8419d487-cb26-4b9d-8359-17eec418147f/20_projects/20_export_non_standard_ERC721_token_attributes/project_folder/venv/lib/python3.8/site-packages/ethereum_etl-1.4.0-py3.8.egg/ethereumetl/jobs/export_blocks_job.py\", line 77, in _export_batch\n",
      "    blocks = [self.block_mapper.json_dict_to_block(result) for result in results]\n",
      "  File \"/media/skyap/8419d487-cb26-4b9d-8359-17eec418147f/20_projects/20_export_non_standard_ERC721_token_attributes/project_folder/venv/lib/python3.8/site-packages/ethereum_etl-1.4.0-py3.8.egg/ethereumetl/jobs/export_blocks_job.py\", line 77, in <listcomp>\n",
      "    blocks = [self.block_mapper.json_dict_to_block(result) for result in results]\n",
      "  File \"/media/skyap/8419d487-cb26-4b9d-8359-17eec418147f/20_projects/20_export_non_standard_ERC721_token_attributes/project_folder/venv/lib/python3.8/site-packages/ethereum_etl-1.4.0-py3.8.egg/ethereumetl/utils.py\", line 71, in rpc_response_batch_to_results\n",
      "    yield rpc_response_to_result(response_item)\n",
      "  File \"/media/skyap/8419d487-cb26-4b9d-8359-17eec418147f/20_projects/20_export_non_standard_ERC721_token_attributes/project_folder/venv/lib/python3.8/site-packages/ethereum_etl-1.4.0-py3.8.egg/ethereumetl/utils.py\", line 82, in rpc_response_to_result\n",
      "    raise RetriableValueError(error_message)\n",
      "ethereumetl.misc.retriable_value_error.RetriableValueError: result is None in response {'jsonrpc': '2.0', 'id': 0, 'result': None}. Make sure Ethereum node is synced.\n",
      "\n",
      "During handling of the above exception, another exception occurred:\n",
      "\n",
      "Traceback (most recent call last):\n",
      "  File \"/media/skyap/8419d487-cb26-4b9d-8359-17eec418147f/20_projects/20_export_non_standard_ERC721_token_attributes/project_folder/venv/lib/python3.8/site-packages/ethereum_etl-1.4.0-py3.8.egg/ethereumetl/executors/batch_work_executor.py\", line 104, in execute_with_retries\n",
      "    return func(*args)\n",
      "  File \"/media/skyap/8419d487-cb26-4b9d-8359-17eec418147f/20_projects/20_export_non_standard_ERC721_token_attributes/project_folder/venv/lib/python3.8/site-packages/ethereum_etl-1.4.0-py3.8.egg/ethereumetl/jobs/export_blocks_job.py\", line 77, in _export_batch\n",
      "    blocks = [self.block_mapper.json_dict_to_block(result) for result in results]\n",
      "  File \"/media/skyap/8419d487-cb26-4b9d-8359-17eec418147f/20_projects/20_export_non_standard_ERC721_token_attributes/project_folder/venv/lib/python3.8/site-packages/ethereum_etl-1.4.0-py3.8.egg/ethereumetl/jobs/export_blocks_job.py\", line 77, in <listcomp>\n",
      "    blocks = [self.block_mapper.json_dict_to_block(result) for result in results]\n",
      "  File \"/media/skyap/8419d487-cb26-4b9d-8359-17eec418147f/20_projects/20_export_non_standard_ERC721_token_attributes/project_folder/venv/lib/python3.8/site-packages/ethereum_etl-1.4.0-py3.8.egg/ethereumetl/utils.py\", line 71, in rpc_response_batch_to_results\n",
      "    yield rpc_response_to_result(response_item)\n",
      "  File \"/media/skyap/8419d487-cb26-4b9d-8359-17eec418147f/20_projects/20_export_non_standard_ERC721_token_attributes/project_folder/venv/lib/python3.8/site-packages/ethereum_etl-1.4.0-py3.8.egg/ethereumetl/utils.py\", line 82, in rpc_response_to_result\n",
      "    raise RetriableValueError(error_message)\n",
      "ethereumetl.misc.retriable_value_error.RetriableValueError: result is None in response {'jsonrpc': '2.0', 'id': 0, 'result': None}. Make sure Ethereum node is synced.\n",
      "2020-06-16 15:38:17,974 - root [ERROR] - An exception occurred while executing execute_with_retries. Retry #1\n",
      "Traceback (most recent call last):\n",
      "  File \"/media/skyap/8419d487-cb26-4b9d-8359-17eec418147f/20_projects/20_export_non_standard_ERC721_token_attributes/project_folder/venv/lib/python3.8/site-packages/ethereum_etl-1.4.0-py3.8.egg/ethereumetl/executors/batch_work_executor.py\", line 63, in _fail_safe_execute\n",
      "    work_handler(batch)\n",
      "  File \"/media/skyap/8419d487-cb26-4b9d-8359-17eec418147f/20_projects/20_export_non_standard_ERC721_token_attributes/project_folder/venv/lib/python3.8/site-packages/ethereum_etl-1.4.0-py3.8.egg/ethereumetl/jobs/export_blocks_job.py\", line 77, in _export_batch\n",
      "    blocks = [self.block_mapper.json_dict_to_block(result) for result in results]\n",
      "  File \"/media/skyap/8419d487-cb26-4b9d-8359-17eec418147f/20_projects/20_export_non_standard_ERC721_token_attributes/project_folder/venv/lib/python3.8/site-packages/ethereum_etl-1.4.0-py3.8.egg/ethereumetl/jobs/export_blocks_job.py\", line 77, in <listcomp>\n",
      "    blocks = [self.block_mapper.json_dict_to_block(result) for result in results]\n",
      "  File \"/media/skyap/8419d487-cb26-4b9d-8359-17eec418147f/20_projects/20_export_non_standard_ERC721_token_attributes/project_folder/venv/lib/python3.8/site-packages/ethereum_etl-1.4.0-py3.8.egg/ethereumetl/utils.py\", line 71, in rpc_response_batch_to_results\n",
      "    yield rpc_response_to_result(response_item)\n",
      "  File \"/media/skyap/8419d487-cb26-4b9d-8359-17eec418147f/20_projects/20_export_non_standard_ERC721_token_attributes/project_folder/venv/lib/python3.8/site-packages/ethereum_etl-1.4.0-py3.8.egg/ethereumetl/utils.py\", line 82, in rpc_response_to_result\n",
      "    raise RetriableValueError(error_message)\n",
      "ethereumetl.misc.retriable_value_error.RetriableValueError: result is None in response {'jsonrpc': '2.0', 'id': 0, 'result': None}. Make sure Ethereum node is synced.\n",
      "\n",
      "During handling of the above exception, another exception occurred:\n",
      "\n",
      "Traceback (most recent call last):\n",
      "  File \"/media/skyap/8419d487-cb26-4b9d-8359-17eec418147f/20_projects/20_export_non_standard_ERC721_token_attributes/project_folder/venv/lib/python3.8/site-packages/ethereum_etl-1.4.0-py3.8.egg/ethereumetl/executors/batch_work_executor.py\", line 104, in execute_with_retries\n",
      "    return func(*args)\n",
      "  File \"/media/skyap/8419d487-cb26-4b9d-8359-17eec418147f/20_projects/20_export_non_standard_ERC721_token_attributes/project_folder/venv/lib/python3.8/site-packages/ethereum_etl-1.4.0-py3.8.egg/ethereumetl/jobs/export_blocks_job.py\", line 77, in _export_batch\n",
      "    blocks = [self.block_mapper.json_dict_to_block(result) for result in results]\n",
      "  File \"/media/skyap/8419d487-cb26-4b9d-8359-17eec418147f/20_projects/20_export_non_standard_ERC721_token_attributes/project_folder/venv/lib/python3.8/site-packages/ethereum_etl-1.4.0-py3.8.egg/ethereumetl/jobs/export_blocks_job.py\", line 77, in <listcomp>\n",
      "    blocks = [self.block_mapper.json_dict_to_block(result) for result in results]\n",
      "  File \"/media/skyap/8419d487-cb26-4b9d-8359-17eec418147f/20_projects/20_export_non_standard_ERC721_token_attributes/project_folder/venv/lib/python3.8/site-packages/ethereum_etl-1.4.0-py3.8.egg/ethereumetl/utils.py\", line 71, in rpc_response_batch_to_results\n",
      "    yield rpc_response_to_result(response_item)\n",
      "  File \"/media/skyap/8419d487-cb26-4b9d-8359-17eec418147f/20_projects/20_export_non_standard_ERC721_token_attributes/project_folder/venv/lib/python3.8/site-packages/ethereum_etl-1.4.0-py3.8.egg/ethereumetl/utils.py\", line 82, in rpc_response_to_result\n",
      "    raise RetriableValueError(error_message)\n",
      "ethereumetl.misc.retriable_value_error.RetriableValueError: result is None in response {'jsonrpc': '2.0', 'id': 0, 'result': None}. Make sure Ethereum node is synced.\n",
      "2020-06-16 15:38:17,975 - root [INFO] - The request will be retried after 1 seconds. Retry #1\n",
      "2020-06-16 15:38:17,976 - root [INFO] - The request will be retried after 1 seconds. Retry #1\n",
      "2020-06-16 15:38:17,981 - root [ERROR] - An exception occurred while executing execute_with_retries. Retry #1\n",
      "Traceback (most recent call last):\n",
      "  File \"/media/skyap/8419d487-cb26-4b9d-8359-17eec418147f/20_projects/20_export_non_standard_ERC721_token_attributes/project_folder/venv/lib/python3.8/site-packages/ethereum_etl-1.4.0-py3.8.egg/ethereumetl/executors/batch_work_executor.py\", line 63, in _fail_safe_execute\n",
      "    work_handler(batch)\n",
      "  File \"/media/skyap/8419d487-cb26-4b9d-8359-17eec418147f/20_projects/20_export_non_standard_ERC721_token_attributes/project_folder/venv/lib/python3.8/site-packages/ethereum_etl-1.4.0-py3.8.egg/ethereumetl/jobs/export_blocks_job.py\", line 77, in _export_batch\n",
      "    blocks = [self.block_mapper.json_dict_to_block(result) for result in results]\n",
      "  File \"/media/skyap/8419d487-cb26-4b9d-8359-17eec418147f/20_projects/20_export_non_standard_ERC721_token_attributes/project_folder/venv/lib/python3.8/site-packages/ethereum_etl-1.4.0-py3.8.egg/ethereumetl/jobs/export_blocks_job.py\", line 77, in <listcomp>\n",
      "    blocks = [self.block_mapper.json_dict_to_block(result) for result in results]\n",
      "  File \"/media/skyap/8419d487-cb26-4b9d-8359-17eec418147f/20_projects/20_export_non_standard_ERC721_token_attributes/project_folder/venv/lib/python3.8/site-packages/ethereum_etl-1.4.0-py3.8.egg/ethereumetl/utils.py\", line 71, in rpc_response_batch_to_results\n",
      "    yield rpc_response_to_result(response_item)\n",
      "  File \"/media/skyap/8419d487-cb26-4b9d-8359-17eec418147f/20_projects/20_export_non_standard_ERC721_token_attributes/project_folder/venv/lib/python3.8/site-packages/ethereum_etl-1.4.0-py3.8.egg/ethereumetl/utils.py\", line 82, in rpc_response_to_result\n",
      "    raise RetriableValueError(error_message)\n",
      "ethereumetl.misc.retriable_value_error.RetriableValueError: result is None in response {'jsonrpc': '2.0', 'id': 0, 'result': None}. Make sure Ethereum node is synced.\n",
      "\n",
      "During handling of the above exception, another exception occurred:\n",
      "\n",
      "Traceback (most recent call last):\n",
      "  File \"/media/skyap/8419d487-cb26-4b9d-8359-17eec418147f/20_projects/20_export_non_standard_ERC721_token_attributes/project_folder/venv/lib/python3.8/site-packages/ethereum_etl-1.4.0-py3.8.egg/ethereumetl/executors/batch_work_executor.py\", line 104, in execute_with_retries\n",
      "    return func(*args)\n",
      "  File \"/media/skyap/8419d487-cb26-4b9d-8359-17eec418147f/20_projects/20_export_non_standard_ERC721_token_attributes/project_folder/venv/lib/python3.8/site-packages/ethereum_etl-1.4.0-py3.8.egg/ethereumetl/jobs/export_blocks_job.py\", line 77, in _export_batch\n",
      "    blocks = [self.block_mapper.json_dict_to_block(result) for result in results]\n",
      "  File \"/media/skyap/8419d487-cb26-4b9d-8359-17eec418147f/20_projects/20_export_non_standard_ERC721_token_attributes/project_folder/venv/lib/python3.8/site-packages/ethereum_etl-1.4.0-py3.8.egg/ethereumetl/jobs/export_blocks_job.py\", line 77, in <listcomp>\n",
      "    blocks = [self.block_mapper.json_dict_to_block(result) for result in results]\n",
      "  File \"/media/skyap/8419d487-cb26-4b9d-8359-17eec418147f/20_projects/20_export_non_standard_ERC721_token_attributes/project_folder/venv/lib/python3.8/site-packages/ethereum_etl-1.4.0-py3.8.egg/ethereumetl/utils.py\", line 71, in rpc_response_batch_to_results\n",
      "    yield rpc_response_to_result(response_item)\n",
      "  File \"/media/skyap/8419d487-cb26-4b9d-8359-17eec418147f/20_projects/20_export_non_standard_ERC721_token_attributes/project_folder/venv/lib/python3.8/site-packages/ethereum_etl-1.4.0-py3.8.egg/ethereumetl/utils.py\", line 82, in rpc_response_to_result\n",
      "    raise RetriableValueError(error_message)\n",
      "ethereumetl.misc.retriable_value_error.RetriableValueError: result is None in response {'jsonrpc': '2.0', 'id': 0, 'result': None}. Make sure Ethereum node is synced.\n",
      "2020-06-16 15:38:17,982 - root [INFO] - The request will be retried after 1 seconds. Retry #1\n",
      "2020-06-16 15:38:18,120 - root [ERROR] - An exception occurred while executing execute_with_retries. Retry #1\n",
      "Traceback (most recent call last):\n",
      "  File \"/media/skyap/8419d487-cb26-4b9d-8359-17eec418147f/20_projects/20_export_non_standard_ERC721_token_attributes/project_folder/venv/lib/python3.8/site-packages/ethereum_etl-1.4.0-py3.8.egg/ethereumetl/executors/batch_work_executor.py\", line 63, in _fail_safe_execute\n",
      "    work_handler(batch)\n",
      "  File \"/media/skyap/8419d487-cb26-4b9d-8359-17eec418147f/20_projects/20_export_non_standard_ERC721_token_attributes/project_folder/venv/lib/python3.8/site-packages/ethereum_etl-1.4.0-py3.8.egg/ethereumetl/jobs/export_blocks_job.py\", line 77, in _export_batch\n",
      "    blocks = [self.block_mapper.json_dict_to_block(result) for result in results]\n",
      "  File \"/media/skyap/8419d487-cb26-4b9d-8359-17eec418147f/20_projects/20_export_non_standard_ERC721_token_attributes/project_folder/venv/lib/python3.8/site-packages/ethereum_etl-1.4.0-py3.8.egg/ethereumetl/jobs/export_blocks_job.py\", line 77, in <listcomp>\n",
      "    blocks = [self.block_mapper.json_dict_to_block(result) for result in results]\n",
      "  File \"/media/skyap/8419d487-cb26-4b9d-8359-17eec418147f/20_projects/20_export_non_standard_ERC721_token_attributes/project_folder/venv/lib/python3.8/site-packages/ethereum_etl-1.4.0-py3.8.egg/ethereumetl/utils.py\", line 71, in rpc_response_batch_to_results\n",
      "    yield rpc_response_to_result(response_item)\n",
      "  File \"/media/skyap/8419d487-cb26-4b9d-8359-17eec418147f/20_projects/20_export_non_standard_ERC721_token_attributes/project_folder/venv/lib/python3.8/site-packages/ethereum_etl-1.4.0-py3.8.egg/ethereumetl/utils.py\", line 82, in rpc_response_to_result\n",
      "    raise RetriableValueError(error_message)\n",
      "ethereumetl.misc.retriable_value_error.RetriableValueError: result is None in response {'jsonrpc': '2.0', 'id': 97, 'result': None}. Make sure Ethereum node is synced.\n",
      "\n",
      "During handling of the above exception, another exception occurred:\n",
      "\n",
      "Traceback (most recent call last):\n",
      "  File \"/media/skyap/8419d487-cb26-4b9d-8359-17eec418147f/20_projects/20_export_non_standard_ERC721_token_attributes/project_folder/venv/lib/python3.8/site-packages/ethereum_etl-1.4.0-py3.8.egg/ethereumetl/executors/batch_work_executor.py\", line 104, in execute_with_retries\n",
      "    return func(*args)\n",
      "  File \"/media/skyap/8419d487-cb26-4b9d-8359-17eec418147f/20_projects/20_export_non_standard_ERC721_token_attributes/project_folder/venv/lib/python3.8/site-packages/ethereum_etl-1.4.0-py3.8.egg/ethereumetl/jobs/export_blocks_job.py\", line 77, in _export_batch\n",
      "    blocks = [self.block_mapper.json_dict_to_block(result) for result in results]\n",
      "  File \"/media/skyap/8419d487-cb26-4b9d-8359-17eec418147f/20_projects/20_export_non_standard_ERC721_token_attributes/project_folder/venv/lib/python3.8/site-packages/ethereum_etl-1.4.0-py3.8.egg/ethereumetl/jobs/export_blocks_job.py\", line 77, in <listcomp>\n",
      "    blocks = [self.block_mapper.json_dict_to_block(result) for result in results]\n",
      "  File \"/media/skyap/8419d487-cb26-4b9d-8359-17eec418147f/20_projects/20_export_non_standard_ERC721_token_attributes/project_folder/venv/lib/python3.8/site-packages/ethereum_etl-1.4.0-py3.8.egg/ethereumetl/utils.py\", line 71, in rpc_response_batch_to_results\n",
      "    yield rpc_response_to_result(response_item)\n",
      "  File \"/media/skyap/8419d487-cb26-4b9d-8359-17eec418147f/20_projects/20_export_non_standard_ERC721_token_attributes/project_folder/venv/lib/python3.8/site-packages/ethereum_etl-1.4.0-py3.8.egg/ethereumetl/utils.py\", line 82, in rpc_response_to_result\n",
      "    raise RetriableValueError(error_message)\n",
      "ethereumetl.misc.retriable_value_error.RetriableValueError: result is None in response {'jsonrpc': '2.0', 'id': 0, 'result': None}. Make sure Ethereum node is synced.\n",
      "2020-06-16 15:38:18,121 - root [INFO] - The request will be retried after 1 seconds. Retry #1\n",
      "2020-06-16 15:38:18,975 - root [ERROR] - An exception occurred while executing execute_with_retries. Retry #2\n",
      "Traceback (most recent call last):\n",
      "  File \"/media/skyap/8419d487-cb26-4b9d-8359-17eec418147f/20_projects/20_export_non_standard_ERC721_token_attributes/project_folder/venv/lib/python3.8/site-packages/ethereum_etl-1.4.0-py3.8.egg/ethereumetl/executors/batch_work_executor.py\", line 63, in _fail_safe_execute\n",
      "    work_handler(batch)\n",
      "  File \"/media/skyap/8419d487-cb26-4b9d-8359-17eec418147f/20_projects/20_export_non_standard_ERC721_token_attributes/project_folder/venv/lib/python3.8/site-packages/ethereum_etl-1.4.0-py3.8.egg/ethereumetl/jobs/export_blocks_job.py\", line 77, in _export_batch\n",
      "    blocks = [self.block_mapper.json_dict_to_block(result) for result in results]\n",
      "  File \"/media/skyap/8419d487-cb26-4b9d-8359-17eec418147f/20_projects/20_export_non_standard_ERC721_token_attributes/project_folder/venv/lib/python3.8/site-packages/ethereum_etl-1.4.0-py3.8.egg/ethereumetl/jobs/export_blocks_job.py\", line 77, in <listcomp>\n",
      "    blocks = [self.block_mapper.json_dict_to_block(result) for result in results]\n",
      "  File \"/media/skyap/8419d487-cb26-4b9d-8359-17eec418147f/20_projects/20_export_non_standard_ERC721_token_attributes/project_folder/venv/lib/python3.8/site-packages/ethereum_etl-1.4.0-py3.8.egg/ethereumetl/utils.py\", line 71, in rpc_response_batch_to_results\n",
      "    yield rpc_response_to_result(response_item)\n",
      "  File \"/media/skyap/8419d487-cb26-4b9d-8359-17eec418147f/20_projects/20_export_non_standard_ERC721_token_attributes/project_folder/venv/lib/python3.8/site-packages/ethereum_etl-1.4.0-py3.8.egg/ethereumetl/utils.py\", line 82, in rpc_response_to_result\n",
      "    raise RetriableValueError(error_message)\n",
      "ethereumetl.misc.retriable_value_error.RetriableValueError: result is None in response {'jsonrpc': '2.0', 'id': 0, 'result': None}. Make sure Ethereum node is synced.\n",
      "\n",
      "During handling of the above exception, another exception occurred:\n",
      "\n",
      "Traceback (most recent call last):\n",
      "  File \"/media/skyap/8419d487-cb26-4b9d-8359-17eec418147f/20_projects/20_export_non_standard_ERC721_token_attributes/project_folder/venv/lib/python3.8/site-packages/ethereum_etl-1.4.0-py3.8.egg/ethereumetl/executors/batch_work_executor.py\", line 104, in execute_with_retries\n",
      "    return func(*args)\n",
      "  File \"/media/skyap/8419d487-cb26-4b9d-8359-17eec418147f/20_projects/20_export_non_standard_ERC721_token_attributes/project_folder/venv/lib/python3.8/site-packages/ethereum_etl-1.4.0-py3.8.egg/ethereumetl/jobs/export_blocks_job.py\", line 77, in _export_batch\n",
      "    blocks = [self.block_mapper.json_dict_to_block(result) for result in results]\n",
      "  File \"/media/skyap/8419d487-cb26-4b9d-8359-17eec418147f/20_projects/20_export_non_standard_ERC721_token_attributes/project_folder/venv/lib/python3.8/site-packages/ethereum_etl-1.4.0-py3.8.egg/ethereumetl/jobs/export_blocks_job.py\", line 77, in <listcomp>\n",
      "    blocks = [self.block_mapper.json_dict_to_block(result) for result in results]\n",
      "  File \"/media/skyap/8419d487-cb26-4b9d-8359-17eec418147f/20_projects/20_export_non_standard_ERC721_token_attributes/project_folder/venv/lib/python3.8/site-packages/ethereum_etl-1.4.0-py3.8.egg/ethereumetl/utils.py\", line 71, in rpc_response_batch_to_results\n",
      "    yield rpc_response_to_result(response_item)\n",
      "  File \"/media/skyap/8419d487-cb26-4b9d-8359-17eec418147f/20_projects/20_export_non_standard_ERC721_token_attributes/project_folder/venv/lib/python3.8/site-packages/ethereum_etl-1.4.0-py3.8.egg/ethereumetl/utils.py\", line 82, in rpc_response_to_result\n",
      "    raise RetriableValueError(error_message)\n",
      "ethereumetl.misc.retriable_value_error.RetriableValueError: result is None in response {'jsonrpc': '2.0', 'id': 0, 'result': None}. Make sure Ethereum node is synced.\n",
      "2020-06-16 15:38:18,976 - root [INFO] - The request will be retried after 1 seconds. Retry #2\n",
      "2020-06-16 15:38:18,982 - root [ERROR] - An exception occurred while executing execute_with_retries. Retry #2\n",
      "Traceback (most recent call last):\n",
      "  File \"/media/skyap/8419d487-cb26-4b9d-8359-17eec418147f/20_projects/20_export_non_standard_ERC721_token_attributes/project_folder/venv/lib/python3.8/site-packages/ethereum_etl-1.4.0-py3.8.egg/ethereumetl/executors/batch_work_executor.py\", line 63, in _fail_safe_execute\n",
      "    work_handler(batch)\n",
      "  File \"/media/skyap/8419d487-cb26-4b9d-8359-17eec418147f/20_projects/20_export_non_standard_ERC721_token_attributes/project_folder/venv/lib/python3.8/site-packages/ethereum_etl-1.4.0-py3.8.egg/ethereumetl/jobs/export_blocks_job.py\", line 77, in _export_batch\n",
      "    blocks = [self.block_mapper.json_dict_to_block(result) for result in results]\n",
      "  File \"/media/skyap/8419d487-cb26-4b9d-8359-17eec418147f/20_projects/20_export_non_standard_ERC721_token_attributes/project_folder/venv/lib/python3.8/site-packages/ethereum_etl-1.4.0-py3.8.egg/ethereumetl/jobs/export_blocks_job.py\", line 77, in <listcomp>\n",
      "    blocks = [self.block_mapper.json_dict_to_block(result) for result in results]\n",
      "  File \"/media/skyap/8419d487-cb26-4b9d-8359-17eec418147f/20_projects/20_export_non_standard_ERC721_token_attributes/project_folder/venv/lib/python3.8/site-packages/ethereum_etl-1.4.0-py3.8.egg/ethereumetl/utils.py\", line 71, in rpc_response_batch_to_results\n",
      "    yield rpc_response_to_result(response_item)\n",
      "  File \"/media/skyap/8419d487-cb26-4b9d-8359-17eec418147f/20_projects/20_export_non_standard_ERC721_token_attributes/project_folder/venv/lib/python3.8/site-packages/ethereum_etl-1.4.0-py3.8.egg/ethereumetl/utils.py\", line 82, in rpc_response_to_result\n",
      "    raise RetriableValueError(error_message)\n",
      "ethereumetl.misc.retriable_value_error.RetriableValueError: result is None in response {'jsonrpc': '2.0', 'id': 0, 'result': None}. Make sure Ethereum node is synced.\n",
      "\n",
      "During handling of the above exception, another exception occurred:\n",
      "\n",
      "Traceback (most recent call last):\n",
      "  File \"/media/skyap/8419d487-cb26-4b9d-8359-17eec418147f/20_projects/20_export_non_standard_ERC721_token_attributes/project_folder/venv/lib/python3.8/site-packages/ethereum_etl-1.4.0-py3.8.egg/ethereumetl/executors/batch_work_executor.py\", line 104, in execute_with_retries\n",
      "    return func(*args)\n",
      "  File \"/media/skyap/8419d487-cb26-4b9d-8359-17eec418147f/20_projects/20_export_non_standard_ERC721_token_attributes/project_folder/venv/lib/python3.8/site-packages/ethereum_etl-1.4.0-py3.8.egg/ethereumetl/jobs/export_blocks_job.py\", line 77, in _export_batch\n",
      "    blocks = [self.block_mapper.json_dict_to_block(result) for result in results]\n",
      "  File \"/media/skyap/8419d487-cb26-4b9d-8359-17eec418147f/20_projects/20_export_non_standard_ERC721_token_attributes/project_folder/venv/lib/python3.8/site-packages/ethereum_etl-1.4.0-py3.8.egg/ethereumetl/jobs/export_blocks_job.py\", line 77, in <listcomp>\n",
      "    blocks = [self.block_mapper.json_dict_to_block(result) for result in results]\n",
      "  File \"/media/skyap/8419d487-cb26-4b9d-8359-17eec418147f/20_projects/20_export_non_standard_ERC721_token_attributes/project_folder/venv/lib/python3.8/site-packages/ethereum_etl-1.4.0-py3.8.egg/ethereumetl/utils.py\", line 71, in rpc_response_batch_to_results\n",
      "    yield rpc_response_to_result(response_item)\n",
      "  File \"/media/skyap/8419d487-cb26-4b9d-8359-17eec418147f/20_projects/20_export_non_standard_ERC721_token_attributes/project_folder/venv/lib/python3.8/site-packages/ethereum_etl-1.4.0-py3.8.egg/ethereumetl/utils.py\", line 82, in rpc_response_to_result\n",
      "    raise RetriableValueError(error_message)\n",
      "ethereumetl.misc.retriable_value_error.RetriableValueError: result is None in response {'jsonrpc': '2.0', 'id': 0, 'result': None}. Make sure Ethereum node is synced.\n",
      "2020-06-16 15:38:18,982 - root [INFO] - The request will be retried after 1 seconds. Retry #2\n",
      "2020-06-16 15:38:18,982 - root [ERROR] - An exception occurred while executing execute_with_retries. Retry #2\n",
      "Traceback (most recent call last):\n",
      "  File \"/media/skyap/8419d487-cb26-4b9d-8359-17eec418147f/20_projects/20_export_non_standard_ERC721_token_attributes/project_folder/venv/lib/python3.8/site-packages/ethereum_etl-1.4.0-py3.8.egg/ethereumetl/executors/batch_work_executor.py\", line 63, in _fail_safe_execute\n",
      "    work_handler(batch)\n",
      "  File \"/media/skyap/8419d487-cb26-4b9d-8359-17eec418147f/20_projects/20_export_non_standard_ERC721_token_attributes/project_folder/venv/lib/python3.8/site-packages/ethereum_etl-1.4.0-py3.8.egg/ethereumetl/jobs/export_blocks_job.py\", line 77, in _export_batch\n",
      "    blocks = [self.block_mapper.json_dict_to_block(result) for result in results]\n",
      "  File \"/media/skyap/8419d487-cb26-4b9d-8359-17eec418147f/20_projects/20_export_non_standard_ERC721_token_attributes/project_folder/venv/lib/python3.8/site-packages/ethereum_etl-1.4.0-py3.8.egg/ethereumetl/jobs/export_blocks_job.py\", line 77, in <listcomp>\n",
      "    blocks = [self.block_mapper.json_dict_to_block(result) for result in results]\n",
      "  File \"/media/skyap/8419d487-cb26-4b9d-8359-17eec418147f/20_projects/20_export_non_standard_ERC721_token_attributes/project_folder/venv/lib/python3.8/site-packages/ethereum_etl-1.4.0-py3.8.egg/ethereumetl/utils.py\", line 71, in rpc_response_batch_to_results\n",
      "    yield rpc_response_to_result(response_item)\n",
      "  File \"/media/skyap/8419d487-cb26-4b9d-8359-17eec418147f/20_projects/20_export_non_standard_ERC721_token_attributes/project_folder/venv/lib/python3.8/site-packages/ethereum_etl-1.4.0-py3.8.egg/ethereumetl/utils.py\", line 82, in rpc_response_to_result\n",
      "    raise RetriableValueError(error_message)\n",
      "ethereumetl.misc.retriable_value_error.RetriableValueError: result is None in response {'jsonrpc': '2.0', 'id': 0, 'result': None}. Make sure Ethereum node is synced.\n",
      "\n",
      "During handling of the above exception, another exception occurred:\n",
      "\n",
      "Traceback (most recent call last):\n",
      "  File \"/media/skyap/8419d487-cb26-4b9d-8359-17eec418147f/20_projects/20_export_non_standard_ERC721_token_attributes/project_folder/venv/lib/python3.8/site-packages/ethereum_etl-1.4.0-py3.8.egg/ethereumetl/executors/batch_work_executor.py\", line 104, in execute_with_retries\n",
      "    return func(*args)\n",
      "  File \"/media/skyap/8419d487-cb26-4b9d-8359-17eec418147f/20_projects/20_export_non_standard_ERC721_token_attributes/project_folder/venv/lib/python3.8/site-packages/ethereum_etl-1.4.0-py3.8.egg/ethereumetl/jobs/export_blocks_job.py\", line 77, in _export_batch\n",
      "    blocks = [self.block_mapper.json_dict_to_block(result) for result in results]\n",
      "  File \"/media/skyap/8419d487-cb26-4b9d-8359-17eec418147f/20_projects/20_export_non_standard_ERC721_token_attributes/project_folder/venv/lib/python3.8/site-packages/ethereum_etl-1.4.0-py3.8.egg/ethereumetl/jobs/export_blocks_job.py\", line 77, in <listcomp>\n",
      "    blocks = [self.block_mapper.json_dict_to_block(result) for result in results]\n",
      "  File \"/media/skyap/8419d487-cb26-4b9d-8359-17eec418147f/20_projects/20_export_non_standard_ERC721_token_attributes/project_folder/venv/lib/python3.8/site-packages/ethereum_etl-1.4.0-py3.8.egg/ethereumetl/utils.py\", line 71, in rpc_response_batch_to_results\n",
      "    yield rpc_response_to_result(response_item)\n",
      "  File \"/media/skyap/8419d487-cb26-4b9d-8359-17eec418147f/20_projects/20_export_non_standard_ERC721_token_attributes/project_folder/venv/lib/python3.8/site-packages/ethereum_etl-1.4.0-py3.8.egg/ethereumetl/utils.py\", line 82, in rpc_response_to_result\n",
      "    raise RetriableValueError(error_message)\n",
      "ethereumetl.misc.retriable_value_error.RetriableValueError: result is None in response {'jsonrpc': '2.0', 'id': 0, 'result': None}. Make sure Ethereum node is synced.\n",
      "2020-06-16 15:38:18,982 - root [INFO] - The request will be retried after 1 seconds. Retry #2\n",
      "2020-06-16 15:38:18,985 - root [ERROR] - An exception occurred while executing execute_with_retries. Retry #2\n",
      "Traceback (most recent call last):\n",
      "  File \"/media/skyap/8419d487-cb26-4b9d-8359-17eec418147f/20_projects/20_export_non_standard_ERC721_token_attributes/project_folder/venv/lib/python3.8/site-packages/ethereum_etl-1.4.0-py3.8.egg/ethereumetl/executors/batch_work_executor.py\", line 63, in _fail_safe_execute\n",
      "    work_handler(batch)\n",
      "  File \"/media/skyap/8419d487-cb26-4b9d-8359-17eec418147f/20_projects/20_export_non_standard_ERC721_token_attributes/project_folder/venv/lib/python3.8/site-packages/ethereum_etl-1.4.0-py3.8.egg/ethereumetl/jobs/export_blocks_job.py\", line 77, in _export_batch\n",
      "    blocks = [self.block_mapper.json_dict_to_block(result) for result in results]\n",
      "  File \"/media/skyap/8419d487-cb26-4b9d-8359-17eec418147f/20_projects/20_export_non_standard_ERC721_token_attributes/project_folder/venv/lib/python3.8/site-packages/ethereum_etl-1.4.0-py3.8.egg/ethereumetl/jobs/export_blocks_job.py\", line 77, in <listcomp>\n",
      "    blocks = [self.block_mapper.json_dict_to_block(result) for result in results]\n",
      "  File \"/media/skyap/8419d487-cb26-4b9d-8359-17eec418147f/20_projects/20_export_non_standard_ERC721_token_attributes/project_folder/venv/lib/python3.8/site-packages/ethereum_etl-1.4.0-py3.8.egg/ethereumetl/utils.py\", line 71, in rpc_response_batch_to_results\n",
      "    yield rpc_response_to_result(response_item)\n",
      "  File \"/media/skyap/8419d487-cb26-4b9d-8359-17eec418147f/20_projects/20_export_non_standard_ERC721_token_attributes/project_folder/venv/lib/python3.8/site-packages/ethereum_etl-1.4.0-py3.8.egg/ethereumetl/utils.py\", line 82, in rpc_response_to_result\n",
      "    raise RetriableValueError(error_message)\n",
      "ethereumetl.misc.retriable_value_error.RetriableValueError: result is None in response {'jsonrpc': '2.0', 'id': 0, 'result': None}. Make sure Ethereum node is synced.\n",
      "\n",
      "During handling of the above exception, another exception occurred:\n",
      "\n",
      "Traceback (most recent call last):\n",
      "  File \"/media/skyap/8419d487-cb26-4b9d-8359-17eec418147f/20_projects/20_export_non_standard_ERC721_token_attributes/project_folder/venv/lib/python3.8/site-packages/ethereum_etl-1.4.0-py3.8.egg/ethereumetl/executors/batch_work_executor.py\", line 104, in execute_with_retries\n",
      "    return func(*args)\n",
      "  File \"/media/skyap/8419d487-cb26-4b9d-8359-17eec418147f/20_projects/20_export_non_standard_ERC721_token_attributes/project_folder/venv/lib/python3.8/site-packages/ethereum_etl-1.4.0-py3.8.egg/ethereumetl/jobs/export_blocks_job.py\", line 77, in _export_batch\n",
      "    blocks = [self.block_mapper.json_dict_to_block(result) for result in results]\n",
      "  File \"/media/skyap/8419d487-cb26-4b9d-8359-17eec418147f/20_projects/20_export_non_standard_ERC721_token_attributes/project_folder/venv/lib/python3.8/site-packages/ethereum_etl-1.4.0-py3.8.egg/ethereumetl/jobs/export_blocks_job.py\", line 77, in <listcomp>\n",
      "    blocks = [self.block_mapper.json_dict_to_block(result) for result in results]\n",
      "  File \"/media/skyap/8419d487-cb26-4b9d-8359-17eec418147f/20_projects/20_export_non_standard_ERC721_token_attributes/project_folder/venv/lib/python3.8/site-packages/ethereum_etl-1.4.0-py3.8.egg/ethereumetl/utils.py\", line 71, in rpc_response_batch_to_results\n",
      "    yield rpc_response_to_result(response_item)\n",
      "  File \"/media/skyap/8419d487-cb26-4b9d-8359-17eec418147f/20_projects/20_export_non_standard_ERC721_token_attributes/project_folder/venv/lib/python3.8/site-packages/ethereum_etl-1.4.0-py3.8.egg/ethereumetl/utils.py\", line 82, in rpc_response_to_result\n",
      "    raise RetriableValueError(error_message)\n",
      "ethereumetl.misc.retriable_value_error.RetriableValueError: result is None in response {'jsonrpc': '2.0', 'id': 0, 'result': None}. Make sure Ethereum node is synced.\n",
      "2020-06-16 15:38:18,985 - root [INFO] - The request will be retried after 1 seconds. Retry #2\n",
      "2020-06-16 15:38:19,123 - root [ERROR] - An exception occurred while executing execute_with_retries. Retry #2\n",
      "Traceback (most recent call last):\n",
      "  File \"/media/skyap/8419d487-cb26-4b9d-8359-17eec418147f/20_projects/20_export_non_standard_ERC721_token_attributes/project_folder/venv/lib/python3.8/site-packages/ethereum_etl-1.4.0-py3.8.egg/ethereumetl/executors/batch_work_executor.py\", line 63, in _fail_safe_execute\n",
      "    work_handler(batch)\n",
      "  File \"/media/skyap/8419d487-cb26-4b9d-8359-17eec418147f/20_projects/20_export_non_standard_ERC721_token_attributes/project_folder/venv/lib/python3.8/site-packages/ethereum_etl-1.4.0-py3.8.egg/ethereumetl/jobs/export_blocks_job.py\", line 77, in _export_batch\n",
      "    blocks = [self.block_mapper.json_dict_to_block(result) for result in results]\n",
      "  File \"/media/skyap/8419d487-cb26-4b9d-8359-17eec418147f/20_projects/20_export_non_standard_ERC721_token_attributes/project_folder/venv/lib/python3.8/site-packages/ethereum_etl-1.4.0-py3.8.egg/ethereumetl/jobs/export_blocks_job.py\", line 77, in <listcomp>\n",
      "    blocks = [self.block_mapper.json_dict_to_block(result) for result in results]\n",
      "  File \"/media/skyap/8419d487-cb26-4b9d-8359-17eec418147f/20_projects/20_export_non_standard_ERC721_token_attributes/project_folder/venv/lib/python3.8/site-packages/ethereum_etl-1.4.0-py3.8.egg/ethereumetl/utils.py\", line 71, in rpc_response_batch_to_results\n",
      "    yield rpc_response_to_result(response_item)\n",
      "  File \"/media/skyap/8419d487-cb26-4b9d-8359-17eec418147f/20_projects/20_export_non_standard_ERC721_token_attributes/project_folder/venv/lib/python3.8/site-packages/ethereum_etl-1.4.0-py3.8.egg/ethereumetl/utils.py\", line 82, in rpc_response_to_result\n",
      "    raise RetriableValueError(error_message)\n",
      "ethereumetl.misc.retriable_value_error.RetriableValueError: result is None in response {'jsonrpc': '2.0', 'id': 97, 'result': None}. Make sure Ethereum node is synced.\n",
      "\n",
      "During handling of the above exception, another exception occurred:\n",
      "\n",
      "Traceback (most recent call last):\n",
      "  File \"/media/skyap/8419d487-cb26-4b9d-8359-17eec418147f/20_projects/20_export_non_standard_ERC721_token_attributes/project_folder/venv/lib/python3.8/site-packages/ethereum_etl-1.4.0-py3.8.egg/ethereumetl/executors/batch_work_executor.py\", line 104, in execute_with_retries\n",
      "    return func(*args)\n",
      "  File \"/media/skyap/8419d487-cb26-4b9d-8359-17eec418147f/20_projects/20_export_non_standard_ERC721_token_attributes/project_folder/venv/lib/python3.8/site-packages/ethereum_etl-1.4.0-py3.8.egg/ethereumetl/jobs/export_blocks_job.py\", line 77, in _export_batch\n",
      "    blocks = [self.block_mapper.json_dict_to_block(result) for result in results]\n",
      "  File \"/media/skyap/8419d487-cb26-4b9d-8359-17eec418147f/20_projects/20_export_non_standard_ERC721_token_attributes/project_folder/venv/lib/python3.8/site-packages/ethereum_etl-1.4.0-py3.8.egg/ethereumetl/jobs/export_blocks_job.py\", line 77, in <listcomp>\n",
      "    blocks = [self.block_mapper.json_dict_to_block(result) for result in results]\n",
      "  File \"/media/skyap/8419d487-cb26-4b9d-8359-17eec418147f/20_projects/20_export_non_standard_ERC721_token_attributes/project_folder/venv/lib/python3.8/site-packages/ethereum_etl-1.4.0-py3.8.egg/ethereumetl/utils.py\", line 71, in rpc_response_batch_to_results\n",
      "    yield rpc_response_to_result(response_item)\n",
      "  File \"/media/skyap/8419d487-cb26-4b9d-8359-17eec418147f/20_projects/20_export_non_standard_ERC721_token_attributes/project_folder/venv/lib/python3.8/site-packages/ethereum_etl-1.4.0-py3.8.egg/ethereumetl/utils.py\", line 82, in rpc_response_to_result\n",
      "    raise RetriableValueError(error_message)\n",
      "ethereumetl.misc.retriable_value_error.RetriableValueError: result is None in response {'jsonrpc': '2.0', 'id': 0, 'result': None}. Make sure Ethereum node is synced.\n",
      "2020-06-16 15:38:19,123 - root [INFO] - The request will be retried after 1 seconds. Retry #2\n",
      "2020-06-16 15:38:19,982 - root [ERROR] - An exception occurred while executing execute_with_retries. Retry #3\n",
      "Traceback (most recent call last):\n",
      "  File \"/media/skyap/8419d487-cb26-4b9d-8359-17eec418147f/20_projects/20_export_non_standard_ERC721_token_attributes/project_folder/venv/lib/python3.8/site-packages/ethereum_etl-1.4.0-py3.8.egg/ethereumetl/executors/batch_work_executor.py\", line 63, in _fail_safe_execute\n",
      "    work_handler(batch)\n",
      "  File \"/media/skyap/8419d487-cb26-4b9d-8359-17eec418147f/20_projects/20_export_non_standard_ERC721_token_attributes/project_folder/venv/lib/python3.8/site-packages/ethereum_etl-1.4.0-py3.8.egg/ethereumetl/jobs/export_blocks_job.py\", line 77, in _export_batch\n",
      "    blocks = [self.block_mapper.json_dict_to_block(result) for result in results]\n",
      "  File \"/media/skyap/8419d487-cb26-4b9d-8359-17eec418147f/20_projects/20_export_non_standard_ERC721_token_attributes/project_folder/venv/lib/python3.8/site-packages/ethereum_etl-1.4.0-py3.8.egg/ethereumetl/jobs/export_blocks_job.py\", line 77, in <listcomp>\n",
      "    blocks = [self.block_mapper.json_dict_to_block(result) for result in results]\n",
      "  File \"/media/skyap/8419d487-cb26-4b9d-8359-17eec418147f/20_projects/20_export_non_standard_ERC721_token_attributes/project_folder/venv/lib/python3.8/site-packages/ethereum_etl-1.4.0-py3.8.egg/ethereumetl/utils.py\", line 71, in rpc_response_batch_to_results\n",
      "    yield rpc_response_to_result(response_item)\n",
      "  File \"/media/skyap/8419d487-cb26-4b9d-8359-17eec418147f/20_projects/20_export_non_standard_ERC721_token_attributes/project_folder/venv/lib/python3.8/site-packages/ethereum_etl-1.4.0-py3.8.egg/ethereumetl/utils.py\", line 82, in rpc_response_to_result\n",
      "    raise RetriableValueError(error_message)\n",
      "ethereumetl.misc.retriable_value_error.RetriableValueError: result is None in response {'jsonrpc': '2.0', 'id': 0, 'result': None}. Make sure Ethereum node is synced.\n",
      "\n",
      "During handling of the above exception, another exception occurred:\n",
      "\n",
      "Traceback (most recent call last):\n",
      "  File \"/media/skyap/8419d487-cb26-4b9d-8359-17eec418147f/20_projects/20_export_non_standard_ERC721_token_attributes/project_folder/venv/lib/python3.8/site-packages/ethereum_etl-1.4.0-py3.8.egg/ethereumetl/executors/batch_work_executor.py\", line 104, in execute_with_retries\n",
      "    return func(*args)\n",
      "  File \"/media/skyap/8419d487-cb26-4b9d-8359-17eec418147f/20_projects/20_export_non_standard_ERC721_token_attributes/project_folder/venv/lib/python3.8/site-packages/ethereum_etl-1.4.0-py3.8.egg/ethereumetl/jobs/export_blocks_job.py\", line 77, in _export_batch\n",
      "    blocks = [self.block_mapper.json_dict_to_block(result) for result in results]\n",
      "  File \"/media/skyap/8419d487-cb26-4b9d-8359-17eec418147f/20_projects/20_export_non_standard_ERC721_token_attributes/project_folder/venv/lib/python3.8/site-packages/ethereum_etl-1.4.0-py3.8.egg/ethereumetl/jobs/export_blocks_job.py\", line 77, in <listcomp>\n",
      "    blocks = [self.block_mapper.json_dict_to_block(result) for result in results]\n",
      "  File \"/media/skyap/8419d487-cb26-4b9d-8359-17eec418147f/20_projects/20_export_non_standard_ERC721_token_attributes/project_folder/venv/lib/python3.8/site-packages/ethereum_etl-1.4.0-py3.8.egg/ethereumetl/utils.py\", line 71, in rpc_response_batch_to_results\n",
      "    yield rpc_response_to_result(response_item)\n",
      "  File \"/media/skyap/8419d487-cb26-4b9d-8359-17eec418147f/20_projects/20_export_non_standard_ERC721_token_attributes/project_folder/venv/lib/python3.8/site-packages/ethereum_etl-1.4.0-py3.8.egg/ethereumetl/utils.py\", line 82, in rpc_response_to_result\n",
      "    raise RetriableValueError(error_message)\n",
      "ethereumetl.misc.retriable_value_error.RetriableValueError: result is None in response {'jsonrpc': '2.0', 'id': 0, 'result': None}. Make sure Ethereum node is synced.\n",
      "2020-06-16 15:38:19,983 - root [INFO] - The request will be retried after 1 seconds. Retry #3\n",
      "2020-06-16 15:38:19,992 - root [ERROR] - An exception occurred while executing execute_with_retries. Retry #3\n",
      "Traceback (most recent call last):\n",
      "  File \"/media/skyap/8419d487-cb26-4b9d-8359-17eec418147f/20_projects/20_export_non_standard_ERC721_token_attributes/project_folder/venv/lib/python3.8/site-packages/ethereum_etl-1.4.0-py3.8.egg/ethereumetl/executors/batch_work_executor.py\", line 63, in _fail_safe_execute\n",
      "    work_handler(batch)\n",
      "  File \"/media/skyap/8419d487-cb26-4b9d-8359-17eec418147f/20_projects/20_export_non_standard_ERC721_token_attributes/project_folder/venv/lib/python3.8/site-packages/ethereum_etl-1.4.0-py3.8.egg/ethereumetl/jobs/export_blocks_job.py\", line 77, in _export_batch\n",
      "    blocks = [self.block_mapper.json_dict_to_block(result) for result in results]\n",
      "  File \"/media/skyap/8419d487-cb26-4b9d-8359-17eec418147f/20_projects/20_export_non_standard_ERC721_token_attributes/project_folder/venv/lib/python3.8/site-packages/ethereum_etl-1.4.0-py3.8.egg/ethereumetl/jobs/export_blocks_job.py\", line 77, in <listcomp>\n",
      "    blocks = [self.block_mapper.json_dict_to_block(result) for result in results]\n",
      "  File \"/media/skyap/8419d487-cb26-4b9d-8359-17eec418147f/20_projects/20_export_non_standard_ERC721_token_attributes/project_folder/venv/lib/python3.8/site-packages/ethereum_etl-1.4.0-py3.8.egg/ethereumetl/utils.py\", line 71, in rpc_response_batch_to_results\n",
      "    yield rpc_response_to_result(response_item)\n",
      "  File \"/media/skyap/8419d487-cb26-4b9d-8359-17eec418147f/20_projects/20_export_non_standard_ERC721_token_attributes/project_folder/venv/lib/python3.8/site-packages/ethereum_etl-1.4.0-py3.8.egg/ethereumetl/utils.py\", line 82, in rpc_response_to_result\n",
      "    raise RetriableValueError(error_message)\n",
      "ethereumetl.misc.retriable_value_error.RetriableValueError: result is None in response {'jsonrpc': '2.0', 'id': 0, 'result': None}. Make sure Ethereum node is synced.\n",
      "\n",
      "During handling of the above exception, another exception occurred:\n",
      "\n",
      "Traceback (most recent call last):\n",
      "  File \"/media/skyap/8419d487-cb26-4b9d-8359-17eec418147f/20_projects/20_export_non_standard_ERC721_token_attributes/project_folder/venv/lib/python3.8/site-packages/ethereum_etl-1.4.0-py3.8.egg/ethereumetl/executors/batch_work_executor.py\", line 104, in execute_with_retries\n",
      "    return func(*args)\n",
      "  File \"/media/skyap/8419d487-cb26-4b9d-8359-17eec418147f/20_projects/20_export_non_standard_ERC721_token_attributes/project_folder/venv/lib/python3.8/site-packages/ethereum_etl-1.4.0-py3.8.egg/ethereumetl/jobs/export_blocks_job.py\", line 77, in _export_batch\n",
      "    blocks = [self.block_mapper.json_dict_to_block(result) for result in results]\n",
      "  File \"/media/skyap/8419d487-cb26-4b9d-8359-17eec418147f/20_projects/20_export_non_standard_ERC721_token_attributes/project_folder/venv/lib/python3.8/site-packages/ethereum_etl-1.4.0-py3.8.egg/ethereumetl/jobs/export_blocks_job.py\", line 77, in <listcomp>\n",
      "    blocks = [self.block_mapper.json_dict_to_block(result) for result in results]\n",
      "  File \"/media/skyap/8419d487-cb26-4b9d-8359-17eec418147f/20_projects/20_export_non_standard_ERC721_token_attributes/project_folder/venv/lib/python3.8/site-packages/ethereum_etl-1.4.0-py3.8.egg/ethereumetl/utils.py\", line 71, in rpc_response_batch_to_results\n",
      "    yield rpc_response_to_result(response_item)\n",
      "  File \"/media/skyap/8419d487-cb26-4b9d-8359-17eec418147f/20_projects/20_export_non_standard_ERC721_token_attributes/project_folder/venv/lib/python3.8/site-packages/ethereum_etl-1.4.0-py3.8.egg/ethereumetl/utils.py\", line 82, in rpc_response_to_result\n",
      "    raise RetriableValueError(error_message)\n",
      "ethereumetl.misc.retriable_value_error.RetriableValueError: result is None in response {'jsonrpc': '2.0', 'id': 0, 'result': None}. Make sure Ethereum node is synced.\n",
      "2020-06-16 15:38:19,996 - root [ERROR] - An exception occurred while executing execute_with_retries. Retry #3\n",
      "Traceback (most recent call last):\n",
      "  File \"/media/skyap/8419d487-cb26-4b9d-8359-17eec418147f/20_projects/20_export_non_standard_ERC721_token_attributes/project_folder/venv/lib/python3.8/site-packages/ethereum_etl-1.4.0-py3.8.egg/ethereumetl/executors/batch_work_executor.py\", line 63, in _fail_safe_execute\n",
      "    work_handler(batch)\n",
      "  File \"/media/skyap/8419d487-cb26-4b9d-8359-17eec418147f/20_projects/20_export_non_standard_ERC721_token_attributes/project_folder/venv/lib/python3.8/site-packages/ethereum_etl-1.4.0-py3.8.egg/ethereumetl/jobs/export_blocks_job.py\", line 77, in _export_batch\n",
      "    blocks = [self.block_mapper.json_dict_to_block(result) for result in results]\n",
      "  File \"/media/skyap/8419d487-cb26-4b9d-8359-17eec418147f/20_projects/20_export_non_standard_ERC721_token_attributes/project_folder/venv/lib/python3.8/site-packages/ethereum_etl-1.4.0-py3.8.egg/ethereumetl/jobs/export_blocks_job.py\", line 77, in <listcomp>\n",
      "    blocks = [self.block_mapper.json_dict_to_block(result) for result in results]\n",
      "  File \"/media/skyap/8419d487-cb26-4b9d-8359-17eec418147f/20_projects/20_export_non_standard_ERC721_token_attributes/project_folder/venv/lib/python3.8/site-packages/ethereum_etl-1.4.0-py3.8.egg/ethereumetl/utils.py\", line 71, in rpc_response_batch_to_results\n",
      "    yield rpc_response_to_result(response_item)\n",
      "  File \"/media/skyap/8419d487-cb26-4b9d-8359-17eec418147f/20_projects/20_export_non_standard_ERC721_token_attributes/project_folder/venv/lib/python3.8/site-packages/ethereum_etl-1.4.0-py3.8.egg/ethereumetl/utils.py\", line 82, in rpc_response_to_result\n",
      "    raise RetriableValueError(error_message)\n",
      "ethereumetl.misc.retriable_value_error.RetriableValueError: result is None in response {'jsonrpc': '2.0', 'id': 0, 'result': None}. Make sure Ethereum node is synced.\n",
      "\n",
      "During handling of the above exception, another exception occurred:\n",
      "\n",
      "Traceback (most recent call last):\n",
      "  File \"/media/skyap/8419d487-cb26-4b9d-8359-17eec418147f/20_projects/20_export_non_standard_ERC721_token_attributes/project_folder/venv/lib/python3.8/site-packages/ethereum_etl-1.4.0-py3.8.egg/ethereumetl/executors/batch_work_executor.py\", line 104, in execute_with_retries\n",
      "    return func(*args)\n",
      "  File \"/media/skyap/8419d487-cb26-4b9d-8359-17eec418147f/20_projects/20_export_non_standard_ERC721_token_attributes/project_folder/venv/lib/python3.8/site-packages/ethereum_etl-1.4.0-py3.8.egg/ethereumetl/jobs/export_blocks_job.py\", line 77, in _export_batch\n",
      "    blocks = [self.block_mapper.json_dict_to_block(result) for result in results]\n",
      "  File \"/media/skyap/8419d487-cb26-4b9d-8359-17eec418147f/20_projects/20_export_non_standard_ERC721_token_attributes/project_folder/venv/lib/python3.8/site-packages/ethereum_etl-1.4.0-py3.8.egg/ethereumetl/jobs/export_blocks_job.py\", line 77, in <listcomp>\n",
      "    blocks = [self.block_mapper.json_dict_to_block(result) for result in results]\n",
      "  File \"/media/skyap/8419d487-cb26-4b9d-8359-17eec418147f/20_projects/20_export_non_standard_ERC721_token_attributes/project_folder/venv/lib/python3.8/site-packages/ethereum_etl-1.4.0-py3.8.egg/ethereumetl/utils.py\", line 71, in rpc_response_batch_to_results\n",
      "    yield rpc_response_to_result(response_item)\n",
      "  File \"/media/skyap/8419d487-cb26-4b9d-8359-17eec418147f/20_projects/20_export_non_standard_ERC721_token_attributes/project_folder/venv/lib/python3.8/site-packages/ethereum_etl-1.4.0-py3.8.egg/ethereumetl/utils.py\", line 82, in rpc_response_to_result\n",
      "    raise RetriableValueError(error_message)\n",
      "ethereumetl.misc.retriable_value_error.RetriableValueError: result is None in response {'jsonrpc': '2.0', 'id': 0, 'result': None}. Make sure Ethereum node is synced.\n",
      "2020-06-16 15:38:19,998 - root [ERROR] - An exception occurred while executing execute_with_retries. Retry #3\n",
      "Traceback (most recent call last):\n",
      "  File \"/media/skyap/8419d487-cb26-4b9d-8359-17eec418147f/20_projects/20_export_non_standard_ERC721_token_attributes/project_folder/venv/lib/python3.8/site-packages/ethereum_etl-1.4.0-py3.8.egg/ethereumetl/executors/batch_work_executor.py\", line 63, in _fail_safe_execute\n",
      "    work_handler(batch)\n",
      "  File \"/media/skyap/8419d487-cb26-4b9d-8359-17eec418147f/20_projects/20_export_non_standard_ERC721_token_attributes/project_folder/venv/lib/python3.8/site-packages/ethereum_etl-1.4.0-py3.8.egg/ethereumetl/jobs/export_blocks_job.py\", line 77, in _export_batch\n",
      "    blocks = [self.block_mapper.json_dict_to_block(result) for result in results]\n",
      "  File \"/media/skyap/8419d487-cb26-4b9d-8359-17eec418147f/20_projects/20_export_non_standard_ERC721_token_attributes/project_folder/venv/lib/python3.8/site-packages/ethereum_etl-1.4.0-py3.8.egg/ethereumetl/jobs/export_blocks_job.py\", line 77, in <listcomp>\n",
      "    blocks = [self.block_mapper.json_dict_to_block(result) for result in results]\n",
      "  File \"/media/skyap/8419d487-cb26-4b9d-8359-17eec418147f/20_projects/20_export_non_standard_ERC721_token_attributes/project_folder/venv/lib/python3.8/site-packages/ethereum_etl-1.4.0-py3.8.egg/ethereumetl/utils.py\", line 71, in rpc_response_batch_to_results\n",
      "    yield rpc_response_to_result(response_item)\n",
      "  File \"/media/skyap/8419d487-cb26-4b9d-8359-17eec418147f/20_projects/20_export_non_standard_ERC721_token_attributes/project_folder/venv/lib/python3.8/site-packages/ethereum_etl-1.4.0-py3.8.egg/ethereumetl/utils.py\", line 82, in rpc_response_to_result\n",
      "    raise RetriableValueError(error_message)\n",
      "ethereumetl.misc.retriable_value_error.RetriableValueError: result is None in response {'jsonrpc': '2.0', 'id': 0, 'result': None}. Make sure Ethereum node is synced.\n",
      "\n",
      "During handling of the above exception, another exception occurred:\n",
      "\n",
      "Traceback (most recent call last):\n",
      "  File \"/media/skyap/8419d487-cb26-4b9d-8359-17eec418147f/20_projects/20_export_non_standard_ERC721_token_attributes/project_folder/venv/lib/python3.8/site-packages/ethereum_etl-1.4.0-py3.8.egg/ethereumetl/executors/batch_work_executor.py\", line 104, in execute_with_retries\n",
      "    return func(*args)\n",
      "  File \"/media/skyap/8419d487-cb26-4b9d-8359-17eec418147f/20_projects/20_export_non_standard_ERC721_token_attributes/project_folder/venv/lib/python3.8/site-packages/ethereum_etl-1.4.0-py3.8.egg/ethereumetl/jobs/export_blocks_job.py\", line 77, in _export_batch\n",
      "    blocks = [self.block_mapper.json_dict_to_block(result) for result in results]\n",
      "  File \"/media/skyap/8419d487-cb26-4b9d-8359-17eec418147f/20_projects/20_export_non_standard_ERC721_token_attributes/project_folder/venv/lib/python3.8/site-packages/ethereum_etl-1.4.0-py3.8.egg/ethereumetl/jobs/export_blocks_job.py\", line 77, in <listcomp>\n",
      "    blocks = [self.block_mapper.json_dict_to_block(result) for result in results]\n",
      "  File \"/media/skyap/8419d487-cb26-4b9d-8359-17eec418147f/20_projects/20_export_non_standard_ERC721_token_attributes/project_folder/venv/lib/python3.8/site-packages/ethereum_etl-1.4.0-py3.8.egg/ethereumetl/utils.py\", line 71, in rpc_response_batch_to_results\n",
      "    yield rpc_response_to_result(response_item)\n",
      "  File \"/media/skyap/8419d487-cb26-4b9d-8359-17eec418147f/20_projects/20_export_non_standard_ERC721_token_attributes/project_folder/venv/lib/python3.8/site-packages/ethereum_etl-1.4.0-py3.8.egg/ethereumetl/utils.py\", line 82, in rpc_response_to_result\n",
      "    raise RetriableValueError(error_message)\n",
      "ethereumetl.misc.retriable_value_error.RetriableValueError: result is None in response {'jsonrpc': '2.0', 'id': 0, 'result': None}. Make sure Ethereum node is synced.\n",
      "2020-06-16 15:38:19,999 - root [INFO] - The request will be retried after 1 seconds. Retry #3\n",
      "2020-06-16 15:38:20,000 - root [INFO] - The request will be retried after 1 seconds. Retry #3\n",
      "2020-06-16 15:38:20,001 - root [INFO] - The request will be retried after 1 seconds. Retry #3\n",
      "2020-06-16 15:38:20,131 - root [ERROR] - An exception occurred while executing execute_with_retries. Retry #3\n",
      "Traceback (most recent call last):\n",
      "  File \"/media/skyap/8419d487-cb26-4b9d-8359-17eec418147f/20_projects/20_export_non_standard_ERC721_token_attributes/project_folder/venv/lib/python3.8/site-packages/ethereum_etl-1.4.0-py3.8.egg/ethereumetl/executors/batch_work_executor.py\", line 63, in _fail_safe_execute\n",
      "    work_handler(batch)\n",
      "  File \"/media/skyap/8419d487-cb26-4b9d-8359-17eec418147f/20_projects/20_export_non_standard_ERC721_token_attributes/project_folder/venv/lib/python3.8/site-packages/ethereum_etl-1.4.0-py3.8.egg/ethereumetl/jobs/export_blocks_job.py\", line 77, in _export_batch\n",
      "    blocks = [self.block_mapper.json_dict_to_block(result) for result in results]\n",
      "  File \"/media/skyap/8419d487-cb26-4b9d-8359-17eec418147f/20_projects/20_export_non_standard_ERC721_token_attributes/project_folder/venv/lib/python3.8/site-packages/ethereum_etl-1.4.0-py3.8.egg/ethereumetl/jobs/export_blocks_job.py\", line 77, in <listcomp>\n",
      "    blocks = [self.block_mapper.json_dict_to_block(result) for result in results]\n",
      "  File \"/media/skyap/8419d487-cb26-4b9d-8359-17eec418147f/20_projects/20_export_non_standard_ERC721_token_attributes/project_folder/venv/lib/python3.8/site-packages/ethereum_etl-1.4.0-py3.8.egg/ethereumetl/utils.py\", line 71, in rpc_response_batch_to_results\n",
      "    yield rpc_response_to_result(response_item)\n",
      "  File \"/media/skyap/8419d487-cb26-4b9d-8359-17eec418147f/20_projects/20_export_non_standard_ERC721_token_attributes/project_folder/venv/lib/python3.8/site-packages/ethereum_etl-1.4.0-py3.8.egg/ethereumetl/utils.py\", line 82, in rpc_response_to_result\n",
      "    raise RetriableValueError(error_message)\n",
      "ethereumetl.misc.retriable_value_error.RetriableValueError: result is None in response {'jsonrpc': '2.0', 'id': 97, 'result': None}. Make sure Ethereum node is synced.\n",
      "\n",
      "During handling of the above exception, another exception occurred:\n",
      "\n",
      "Traceback (most recent call last):\n",
      "  File \"/media/skyap/8419d487-cb26-4b9d-8359-17eec418147f/20_projects/20_export_non_standard_ERC721_token_attributes/project_folder/venv/lib/python3.8/site-packages/ethereum_etl-1.4.0-py3.8.egg/ethereumetl/executors/batch_work_executor.py\", line 104, in execute_with_retries\n",
      "    return func(*args)\n",
      "  File \"/media/skyap/8419d487-cb26-4b9d-8359-17eec418147f/20_projects/20_export_non_standard_ERC721_token_attributes/project_folder/venv/lib/python3.8/site-packages/ethereum_etl-1.4.0-py3.8.egg/ethereumetl/jobs/export_blocks_job.py\", line 77, in _export_batch\n",
      "    blocks = [self.block_mapper.json_dict_to_block(result) for result in results]\n",
      "  File \"/media/skyap/8419d487-cb26-4b9d-8359-17eec418147f/20_projects/20_export_non_standard_ERC721_token_attributes/project_folder/venv/lib/python3.8/site-packages/ethereum_etl-1.4.0-py3.8.egg/ethereumetl/jobs/export_blocks_job.py\", line 77, in <listcomp>\n",
      "    blocks = [self.block_mapper.json_dict_to_block(result) for result in results]\n",
      "  File \"/media/skyap/8419d487-cb26-4b9d-8359-17eec418147f/20_projects/20_export_non_standard_ERC721_token_attributes/project_folder/venv/lib/python3.8/site-packages/ethereum_etl-1.4.0-py3.8.egg/ethereumetl/utils.py\", line 71, in rpc_response_batch_to_results\n",
      "    yield rpc_response_to_result(response_item)\n",
      "  File \"/media/skyap/8419d487-cb26-4b9d-8359-17eec418147f/20_projects/20_export_non_standard_ERC721_token_attributes/project_folder/venv/lib/python3.8/site-packages/ethereum_etl-1.4.0-py3.8.egg/ethereumetl/utils.py\", line 82, in rpc_response_to_result\n",
      "    raise RetriableValueError(error_message)\n",
      "ethereumetl.misc.retriable_value_error.RetriableValueError: result is None in response {'jsonrpc': '2.0', 'id': 0, 'result': None}. Make sure Ethereum node is synced.\n",
      "2020-06-16 15:38:20,132 - root [INFO] - The request will be retried after 1 seconds. Retry #3\n",
      "2020-06-16 15:38:20,990 - root [ERROR] - An exception occurred while executing execute_with_retries. Retry #4\n",
      "Traceback (most recent call last):\n",
      "  File \"/media/skyap/8419d487-cb26-4b9d-8359-17eec418147f/20_projects/20_export_non_standard_ERC721_token_attributes/project_folder/venv/lib/python3.8/site-packages/ethereum_etl-1.4.0-py3.8.egg/ethereumetl/executors/batch_work_executor.py\", line 63, in _fail_safe_execute\n",
      "    work_handler(batch)\n",
      "  File \"/media/skyap/8419d487-cb26-4b9d-8359-17eec418147f/20_projects/20_export_non_standard_ERC721_token_attributes/project_folder/venv/lib/python3.8/site-packages/ethereum_etl-1.4.0-py3.8.egg/ethereumetl/jobs/export_blocks_job.py\", line 77, in _export_batch\n",
      "    blocks = [self.block_mapper.json_dict_to_block(result) for result in results]\n",
      "  File \"/media/skyap/8419d487-cb26-4b9d-8359-17eec418147f/20_projects/20_export_non_standard_ERC721_token_attributes/project_folder/venv/lib/python3.8/site-packages/ethereum_etl-1.4.0-py3.8.egg/ethereumetl/jobs/export_blocks_job.py\", line 77, in <listcomp>\n",
      "    blocks = [self.block_mapper.json_dict_to_block(result) for result in results]\n",
      "  File \"/media/skyap/8419d487-cb26-4b9d-8359-17eec418147f/20_projects/20_export_non_standard_ERC721_token_attributes/project_folder/venv/lib/python3.8/site-packages/ethereum_etl-1.4.0-py3.8.egg/ethereumetl/utils.py\", line 71, in rpc_response_batch_to_results\n",
      "    yield rpc_response_to_result(response_item)\n",
      "  File \"/media/skyap/8419d487-cb26-4b9d-8359-17eec418147f/20_projects/20_export_non_standard_ERC721_token_attributes/project_folder/venv/lib/python3.8/site-packages/ethereum_etl-1.4.0-py3.8.egg/ethereumetl/utils.py\", line 82, in rpc_response_to_result\n",
      "    raise RetriableValueError(error_message)\n",
      "ethereumetl.misc.retriable_value_error.RetriableValueError: result is None in response {'jsonrpc': '2.0', 'id': 0, 'result': None}. Make sure Ethereum node is synced.\n",
      "\n",
      "During handling of the above exception, another exception occurred:\n",
      "\n",
      "Traceback (most recent call last):\n",
      "  File \"/media/skyap/8419d487-cb26-4b9d-8359-17eec418147f/20_projects/20_export_non_standard_ERC721_token_attributes/project_folder/venv/lib/python3.8/site-packages/ethereum_etl-1.4.0-py3.8.egg/ethereumetl/executors/batch_work_executor.py\", line 104, in execute_with_retries\n",
      "    return func(*args)\n",
      "  File \"/media/skyap/8419d487-cb26-4b9d-8359-17eec418147f/20_projects/20_export_non_standard_ERC721_token_attributes/project_folder/venv/lib/python3.8/site-packages/ethereum_etl-1.4.0-py3.8.egg/ethereumetl/jobs/export_blocks_job.py\", line 77, in _export_batch\n",
      "    blocks = [self.block_mapper.json_dict_to_block(result) for result in results]\n",
      "  File \"/media/skyap/8419d487-cb26-4b9d-8359-17eec418147f/20_projects/20_export_non_standard_ERC721_token_attributes/project_folder/venv/lib/python3.8/site-packages/ethereum_etl-1.4.0-py3.8.egg/ethereumetl/jobs/export_blocks_job.py\", line 77, in <listcomp>\n",
      "    blocks = [self.block_mapper.json_dict_to_block(result) for result in results]\n",
      "  File \"/media/skyap/8419d487-cb26-4b9d-8359-17eec418147f/20_projects/20_export_non_standard_ERC721_token_attributes/project_folder/venv/lib/python3.8/site-packages/ethereum_etl-1.4.0-py3.8.egg/ethereumetl/utils.py\", line 71, in rpc_response_batch_to_results\n",
      "    yield rpc_response_to_result(response_item)\n",
      "  File \"/media/skyap/8419d487-cb26-4b9d-8359-17eec418147f/20_projects/20_export_non_standard_ERC721_token_attributes/project_folder/venv/lib/python3.8/site-packages/ethereum_etl-1.4.0-py3.8.egg/ethereumetl/utils.py\", line 82, in rpc_response_to_result\n",
      "    raise RetriableValueError(error_message)\n",
      "ethereumetl.misc.retriable_value_error.RetriableValueError: result is None in response {'jsonrpc': '2.0', 'id': 0, 'result': None}. Make sure Ethereum node is synced.\n",
      "2020-06-16 15:38:21,004 - BatchWorkExecutor [ERROR] - An exception occurred while executing work_handler.\n",
      "Traceback (most recent call last):\n",
      "  File \"/media/skyap/8419d487-cb26-4b9d-8359-17eec418147f/20_projects/20_export_non_standard_ERC721_token_attributes/project_folder/venv/lib/python3.8/site-packages/ethereum_etl-1.4.0-py3.8.egg/ethereumetl/executors/batch_work_executor.py\", line 63, in _fail_safe_execute\n",
      "    work_handler(batch)\n",
      "  File \"/media/skyap/8419d487-cb26-4b9d-8359-17eec418147f/20_projects/20_export_non_standard_ERC721_token_attributes/project_folder/venv/lib/python3.8/site-packages/ethereum_etl-1.4.0-py3.8.egg/ethereumetl/jobs/export_blocks_job.py\", line 77, in _export_batch\n",
      "    blocks = [self.block_mapper.json_dict_to_block(result) for result in results]\n",
      "  File \"/media/skyap/8419d487-cb26-4b9d-8359-17eec418147f/20_projects/20_export_non_standard_ERC721_token_attributes/project_folder/venv/lib/python3.8/site-packages/ethereum_etl-1.4.0-py3.8.egg/ethereumetl/jobs/export_blocks_job.py\", line 77, in <listcomp>\n",
      "    blocks = [self.block_mapper.json_dict_to_block(result) for result in results]\n",
      "  File \"/media/skyap/8419d487-cb26-4b9d-8359-17eec418147f/20_projects/20_export_non_standard_ERC721_token_attributes/project_folder/venv/lib/python3.8/site-packages/ethereum_etl-1.4.0-py3.8.egg/ethereumetl/utils.py\", line 71, in rpc_response_batch_to_results\n",
      "    yield rpc_response_to_result(response_item)\n",
      "  File \"/media/skyap/8419d487-cb26-4b9d-8359-17eec418147f/20_projects/20_export_non_standard_ERC721_token_attributes/project_folder/venv/lib/python3.8/site-packages/ethereum_etl-1.4.0-py3.8.egg/ethereumetl/utils.py\", line 82, in rpc_response_to_result\n",
      "    raise RetriableValueError(error_message)\n",
      "ethereumetl.misc.retriable_value_error.RetriableValueError: result is None in response {'jsonrpc': '2.0', 'id': 0, 'result': None}. Make sure Ethereum node is synced.\n",
      "2020-06-16 15:38:21,010 - BatchWorkExecutor [INFO] - The batch of size 100 will be retried one item at a time.\n",
      "2020-06-16 15:38:21,013 - root [ERROR] - An exception occurred while executing execute_with_retries. Retry #4\n",
      "Traceback (most recent call last):\n",
      "  File \"/media/skyap/8419d487-cb26-4b9d-8359-17eec418147f/20_projects/20_export_non_standard_ERC721_token_attributes/project_folder/venv/lib/python3.8/site-packages/ethereum_etl-1.4.0-py3.8.egg/ethereumetl/executors/batch_work_executor.py\", line 63, in _fail_safe_execute\n",
      "    work_handler(batch)\n",
      "  File \"/media/skyap/8419d487-cb26-4b9d-8359-17eec418147f/20_projects/20_export_non_standard_ERC721_token_attributes/project_folder/venv/lib/python3.8/site-packages/ethereum_etl-1.4.0-py3.8.egg/ethereumetl/jobs/export_blocks_job.py\", line 77, in _export_batch\n",
      "    blocks = [self.block_mapper.json_dict_to_block(result) for result in results]\n",
      "  File \"/media/skyap/8419d487-cb26-4b9d-8359-17eec418147f/20_projects/20_export_non_standard_ERC721_token_attributes/project_folder/venv/lib/python3.8/site-packages/ethereum_etl-1.4.0-py3.8.egg/ethereumetl/jobs/export_blocks_job.py\", line 77, in <listcomp>\n",
      "    blocks = [self.block_mapper.json_dict_to_block(result) for result in results]\n",
      "  File \"/media/skyap/8419d487-cb26-4b9d-8359-17eec418147f/20_projects/20_export_non_standard_ERC721_token_attributes/project_folder/venv/lib/python3.8/site-packages/ethereum_etl-1.4.0-py3.8.egg/ethereumetl/utils.py\", line 71, in rpc_response_batch_to_results\n",
      "    yield rpc_response_to_result(response_item)\n",
      "  File \"/media/skyap/8419d487-cb26-4b9d-8359-17eec418147f/20_projects/20_export_non_standard_ERC721_token_attributes/project_folder/venv/lib/python3.8/site-packages/ethereum_etl-1.4.0-py3.8.egg/ethereumetl/utils.py\", line 82, in rpc_response_to_result\n",
      "    raise RetriableValueError(error_message)\n",
      "ethereumetl.misc.retriable_value_error.RetriableValueError: result is None in response {'jsonrpc': '2.0', 'id': 0, 'result': None}. Make sure Ethereum node is synced.\n",
      "\n",
      "During handling of the above exception, another exception occurred:\n",
      "\n",
      "Traceback (most recent call last):\n",
      "  File \"/media/skyap/8419d487-cb26-4b9d-8359-17eec418147f/20_projects/20_export_non_standard_ERC721_token_attributes/project_folder/venv/lib/python3.8/site-packages/ethereum_etl-1.4.0-py3.8.egg/ethereumetl/executors/batch_work_executor.py\", line 104, in execute_with_retries\n",
      "    return func(*args)\n",
      "  File \"/media/skyap/8419d487-cb26-4b9d-8359-17eec418147f/20_projects/20_export_non_standard_ERC721_token_attributes/project_folder/venv/lib/python3.8/site-packages/ethereum_etl-1.4.0-py3.8.egg/ethereumetl/jobs/export_blocks_job.py\", line 77, in _export_batch\n",
      "    blocks = [self.block_mapper.json_dict_to_block(result) for result in results]\n",
      "  File \"/media/skyap/8419d487-cb26-4b9d-8359-17eec418147f/20_projects/20_export_non_standard_ERC721_token_attributes/project_folder/venv/lib/python3.8/site-packages/ethereum_etl-1.4.0-py3.8.egg/ethereumetl/jobs/export_blocks_job.py\", line 77, in <listcomp>\n",
      "    blocks = [self.block_mapper.json_dict_to_block(result) for result in results]\n",
      "  File \"/media/skyap/8419d487-cb26-4b9d-8359-17eec418147f/20_projects/20_export_non_standard_ERC721_token_attributes/project_folder/venv/lib/python3.8/site-packages/ethereum_etl-1.4.0-py3.8.egg/ethereumetl/utils.py\", line 71, in rpc_response_batch_to_results\n",
      "    yield rpc_response_to_result(response_item)\n",
      "  File \"/media/skyap/8419d487-cb26-4b9d-8359-17eec418147f/20_projects/20_export_non_standard_ERC721_token_attributes/project_folder/venv/lib/python3.8/site-packages/ethereum_etl-1.4.0-py3.8.egg/ethereumetl/utils.py\", line 82, in rpc_response_to_result\n",
      "    raise RetriableValueError(error_message)\n",
      "ethereumetl.misc.retriable_value_error.RetriableValueError: result is None in response {'jsonrpc': '2.0', 'id': 0, 'result': None}. Make sure Ethereum node is synced.\n",
      "2020-06-16 15:38:21,017 - root [ERROR] - An exception occurred while executing execute_with_retries. Retry #4\n",
      "Traceback (most recent call last):\n",
      "  File \"/media/skyap/8419d487-cb26-4b9d-8359-17eec418147f/20_projects/20_export_non_standard_ERC721_token_attributes/project_folder/venv/lib/python3.8/site-packages/ethereum_etl-1.4.0-py3.8.egg/ethereumetl/executors/batch_work_executor.py\", line 63, in _fail_safe_execute\n",
      "    work_handler(batch)\n",
      "  File \"/media/skyap/8419d487-cb26-4b9d-8359-17eec418147f/20_projects/20_export_non_standard_ERC721_token_attributes/project_folder/venv/lib/python3.8/site-packages/ethereum_etl-1.4.0-py3.8.egg/ethereumetl/jobs/export_blocks_job.py\", line 77, in _export_batch\n",
      "    blocks = [self.block_mapper.json_dict_to_block(result) for result in results]\n",
      "  File \"/media/skyap/8419d487-cb26-4b9d-8359-17eec418147f/20_projects/20_export_non_standard_ERC721_token_attributes/project_folder/venv/lib/python3.8/site-packages/ethereum_etl-1.4.0-py3.8.egg/ethereumetl/jobs/export_blocks_job.py\", line 77, in <listcomp>\n",
      "    blocks = [self.block_mapper.json_dict_to_block(result) for result in results]\n",
      "  File \"/media/skyap/8419d487-cb26-4b9d-8359-17eec418147f/20_projects/20_export_non_standard_ERC721_token_attributes/project_folder/venv/lib/python3.8/site-packages/ethereum_etl-1.4.0-py3.8.egg/ethereumetl/utils.py\", line 71, in rpc_response_batch_to_results\n",
      "    yield rpc_response_to_result(response_item)\n",
      "  File \"/media/skyap/8419d487-cb26-4b9d-8359-17eec418147f/20_projects/20_export_non_standard_ERC721_token_attributes/project_folder/venv/lib/python3.8/site-packages/ethereum_etl-1.4.0-py3.8.egg/ethereumetl/utils.py\", line 82, in rpc_response_to_result\n",
      "    raise RetriableValueError(error_message)\n",
      "ethereumetl.misc.retriable_value_error.RetriableValueError: result is None in response {'jsonrpc': '2.0', 'id': 0, 'result': None}. Make sure Ethereum node is synced.\n",
      "\n",
      "During handling of the above exception, another exception occurred:\n",
      "\n",
      "Traceback (most recent call last):\n",
      "  File \"/media/skyap/8419d487-cb26-4b9d-8359-17eec418147f/20_projects/20_export_non_standard_ERC721_token_attributes/project_folder/venv/lib/python3.8/site-packages/ethereum_etl-1.4.0-py3.8.egg/ethereumetl/executors/batch_work_executor.py\", line 104, in execute_with_retries\n",
      "    return func(*args)\n",
      "  File \"/media/skyap/8419d487-cb26-4b9d-8359-17eec418147f/20_projects/20_export_non_standard_ERC721_token_attributes/project_folder/venv/lib/python3.8/site-packages/ethereum_etl-1.4.0-py3.8.egg/ethereumetl/jobs/export_blocks_job.py\", line 77, in _export_batch\n",
      "    blocks = [self.block_mapper.json_dict_to_block(result) for result in results]\n",
      "  File \"/media/skyap/8419d487-cb26-4b9d-8359-17eec418147f/20_projects/20_export_non_standard_ERC721_token_attributes/project_folder/venv/lib/python3.8/site-packages/ethereum_etl-1.4.0-py3.8.egg/ethereumetl/jobs/export_blocks_job.py\", line 77, in <listcomp>\n",
      "    blocks = [self.block_mapper.json_dict_to_block(result) for result in results]\n",
      "  File \"/media/skyap/8419d487-cb26-4b9d-8359-17eec418147f/20_projects/20_export_non_standard_ERC721_token_attributes/project_folder/venv/lib/python3.8/site-packages/ethereum_etl-1.4.0-py3.8.egg/ethereumetl/utils.py\", line 71, in rpc_response_batch_to_results\n",
      "    yield rpc_response_to_result(response_item)\n",
      "  File \"/media/skyap/8419d487-cb26-4b9d-8359-17eec418147f/20_projects/20_export_non_standard_ERC721_token_attributes/project_folder/venv/lib/python3.8/site-packages/ethereum_etl-1.4.0-py3.8.egg/ethereumetl/utils.py\", line 82, in rpc_response_to_result\n",
      "    raise RetriableValueError(error_message)\n",
      "ethereumetl.misc.retriable_value_error.RetriableValueError: result is None in response {'jsonrpc': '2.0', 'id': 0, 'result': None}. Make sure Ethereum node is synced.\n",
      "2020-06-16 15:38:21,029 - root [ERROR] - An exception occurred while executing execute_with_retries. Retry #0\n",
      "Traceback (most recent call last):\n",
      "  File \"/media/skyap/8419d487-cb26-4b9d-8359-17eec418147f/20_projects/20_export_non_standard_ERC721_token_attributes/project_folder/venv/lib/python3.8/site-packages/ethereum_etl-1.4.0-py3.8.egg/ethereumetl/executors/batch_work_executor.py\", line 63, in _fail_safe_execute\n",
      "    work_handler(batch)\n",
      "  File \"/media/skyap/8419d487-cb26-4b9d-8359-17eec418147f/20_projects/20_export_non_standard_ERC721_token_attributes/project_folder/venv/lib/python3.8/site-packages/ethereum_etl-1.4.0-py3.8.egg/ethereumetl/jobs/export_blocks_job.py\", line 77, in _export_batch\n",
      "    blocks = [self.block_mapper.json_dict_to_block(result) for result in results]\n",
      "  File \"/media/skyap/8419d487-cb26-4b9d-8359-17eec418147f/20_projects/20_export_non_standard_ERC721_token_attributes/project_folder/venv/lib/python3.8/site-packages/ethereum_etl-1.4.0-py3.8.egg/ethereumetl/jobs/export_blocks_job.py\", line 77, in <listcomp>\n",
      "    blocks = [self.block_mapper.json_dict_to_block(result) for result in results]\n",
      "  File \"/media/skyap/8419d487-cb26-4b9d-8359-17eec418147f/20_projects/20_export_non_standard_ERC721_token_attributes/project_folder/venv/lib/python3.8/site-packages/ethereum_etl-1.4.0-py3.8.egg/ethereumetl/utils.py\", line 71, in rpc_response_batch_to_results\n",
      "    yield rpc_response_to_result(response_item)\n",
      "  File \"/media/skyap/8419d487-cb26-4b9d-8359-17eec418147f/20_projects/20_export_non_standard_ERC721_token_attributes/project_folder/venv/lib/python3.8/site-packages/ethereum_etl-1.4.0-py3.8.egg/ethereumetl/utils.py\", line 82, in rpc_response_to_result\n",
      "    raise RetriableValueError(error_message)\n",
      "ethereumetl.misc.retriable_value_error.RetriableValueError: result is None in response {'jsonrpc': '2.0', 'id': 0, 'result': None}. Make sure Ethereum node is synced.\n",
      "\n",
      "During handling of the above exception, another exception occurred:\n",
      "\n",
      "Traceback (most recent call last):\n",
      "  File \"/media/skyap/8419d487-cb26-4b9d-8359-17eec418147f/20_projects/20_export_non_standard_ERC721_token_attributes/project_folder/venv/lib/python3.8/site-packages/ethereum_etl-1.4.0-py3.8.egg/ethereumetl/executors/batch_work_executor.py\", line 104, in execute_with_retries\n",
      "    return func(*args)\n",
      "  File \"/media/skyap/8419d487-cb26-4b9d-8359-17eec418147f/20_projects/20_export_non_standard_ERC721_token_attributes/project_folder/venv/lib/python3.8/site-packages/ethereum_etl-1.4.0-py3.8.egg/ethereumetl/jobs/export_blocks_job.py\", line 77, in _export_batch\n",
      "    blocks = [self.block_mapper.json_dict_to_block(result) for result in results]\n",
      "  File \"/media/skyap/8419d487-cb26-4b9d-8359-17eec418147f/20_projects/20_export_non_standard_ERC721_token_attributes/project_folder/venv/lib/python3.8/site-packages/ethereum_etl-1.4.0-py3.8.egg/ethereumetl/jobs/export_blocks_job.py\", line 77, in <listcomp>\n",
      "    blocks = [self.block_mapper.json_dict_to_block(result) for result in results]\n",
      "  File \"/media/skyap/8419d487-cb26-4b9d-8359-17eec418147f/20_projects/20_export_non_standard_ERC721_token_attributes/project_folder/venv/lib/python3.8/site-packages/ethereum_etl-1.4.0-py3.8.egg/ethereumetl/utils.py\", line 71, in rpc_response_batch_to_results\n",
      "    yield rpc_response_to_result(response_item)\n",
      "  File \"/media/skyap/8419d487-cb26-4b9d-8359-17eec418147f/20_projects/20_export_non_standard_ERC721_token_attributes/project_folder/venv/lib/python3.8/site-packages/ethereum_etl-1.4.0-py3.8.egg/ethereumetl/utils.py\", line 82, in rpc_response_to_result\n",
      "    raise RetriableValueError(error_message)\n",
      "ethereumetl.misc.retriable_value_error.RetriableValueError: result is None in response {'jsonrpc': '2.0', 'id': 0, 'result': None}. Make sure Ethereum node is synced.\n",
      "2020-06-16 15:38:21,030 - root [ERROR] - An exception occurred while executing execute_with_retries. Retry #4\n",
      "Traceback (most recent call last):\n",
      "  File \"/media/skyap/8419d487-cb26-4b9d-8359-17eec418147f/20_projects/20_export_non_standard_ERC721_token_attributes/project_folder/venv/lib/python3.8/site-packages/ethereum_etl-1.4.0-py3.8.egg/ethereumetl/executors/batch_work_executor.py\", line 63, in _fail_safe_execute\n",
      "    work_handler(batch)\n",
      "  File \"/media/skyap/8419d487-cb26-4b9d-8359-17eec418147f/20_projects/20_export_non_standard_ERC721_token_attributes/project_folder/venv/lib/python3.8/site-packages/ethereum_etl-1.4.0-py3.8.egg/ethereumetl/jobs/export_blocks_job.py\", line 77, in _export_batch\n",
      "    blocks = [self.block_mapper.json_dict_to_block(result) for result in results]\n",
      "  File \"/media/skyap/8419d487-cb26-4b9d-8359-17eec418147f/20_projects/20_export_non_standard_ERC721_token_attributes/project_folder/venv/lib/python3.8/site-packages/ethereum_etl-1.4.0-py3.8.egg/ethereumetl/jobs/export_blocks_job.py\", line 77, in <listcomp>\n",
      "    blocks = [self.block_mapper.json_dict_to_block(result) for result in results]\n",
      "  File \"/media/skyap/8419d487-cb26-4b9d-8359-17eec418147f/20_projects/20_export_non_standard_ERC721_token_attributes/project_folder/venv/lib/python3.8/site-packages/ethereum_etl-1.4.0-py3.8.egg/ethereumetl/utils.py\", line 71, in rpc_response_batch_to_results\n",
      "    yield rpc_response_to_result(response_item)\n",
      "  File \"/media/skyap/8419d487-cb26-4b9d-8359-17eec418147f/20_projects/20_export_non_standard_ERC721_token_attributes/project_folder/venv/lib/python3.8/site-packages/ethereum_etl-1.4.0-py3.8.egg/ethereumetl/utils.py\", line 82, in rpc_response_to_result\n",
      "    raise RetriableValueError(error_message)\n",
      "ethereumetl.misc.retriable_value_error.RetriableValueError: result is None in response {'jsonrpc': '2.0', 'id': 0, 'result': None}. Make sure Ethereum node is synced.\n",
      "\n",
      "During handling of the above exception, another exception occurred:\n",
      "\n",
      "Traceback (most recent call last):\n",
      "  File \"/media/skyap/8419d487-cb26-4b9d-8359-17eec418147f/20_projects/20_export_non_standard_ERC721_token_attributes/project_folder/venv/lib/python3.8/site-packages/ethereum_etl-1.4.0-py3.8.egg/ethereumetl/executors/batch_work_executor.py\", line 104, in execute_with_retries\n",
      "    return func(*args)\n",
      "  File \"/media/skyap/8419d487-cb26-4b9d-8359-17eec418147f/20_projects/20_export_non_standard_ERC721_token_attributes/project_folder/venv/lib/python3.8/site-packages/ethereum_etl-1.4.0-py3.8.egg/ethereumetl/jobs/export_blocks_job.py\", line 77, in _export_batch\n",
      "    blocks = [self.block_mapper.json_dict_to_block(result) for result in results]\n",
      "  File \"/media/skyap/8419d487-cb26-4b9d-8359-17eec418147f/20_projects/20_export_non_standard_ERC721_token_attributes/project_folder/venv/lib/python3.8/site-packages/ethereum_etl-1.4.0-py3.8.egg/ethereumetl/jobs/export_blocks_job.py\", line 77, in <listcomp>\n",
      "    blocks = [self.block_mapper.json_dict_to_block(result) for result in results]\n",
      "  File \"/media/skyap/8419d487-cb26-4b9d-8359-17eec418147f/20_projects/20_export_non_standard_ERC721_token_attributes/project_folder/venv/lib/python3.8/site-packages/ethereum_etl-1.4.0-py3.8.egg/ethereumetl/utils.py\", line 71, in rpc_response_batch_to_results\n",
      "    yield rpc_response_to_result(response_item)\n",
      "  File \"/media/skyap/8419d487-cb26-4b9d-8359-17eec418147f/20_projects/20_export_non_standard_ERC721_token_attributes/project_folder/venv/lib/python3.8/site-packages/ethereum_etl-1.4.0-py3.8.egg/ethereumetl/utils.py\", line 82, in rpc_response_to_result\n",
      "    raise RetriableValueError(error_message)\n",
      "ethereumetl.misc.retriable_value_error.RetriableValueError: result is None in response {'jsonrpc': '2.0', 'id': 0, 'result': None}. Make sure Ethereum node is synced.\n",
      "2020-06-16 15:38:21,032 - root [INFO] - The request will be retried after 1 seconds. Retry #0\n",
      "2020-06-16 15:38:21,035 - BatchWorkExecutor [ERROR] - An exception occurred while executing work_handler.\n",
      "Traceback (most recent call last):\n",
      "  File \"/media/skyap/8419d487-cb26-4b9d-8359-17eec418147f/20_projects/20_export_non_standard_ERC721_token_attributes/project_folder/venv/lib/python3.8/site-packages/ethereum_etl-1.4.0-py3.8.egg/ethereumetl/executors/batch_work_executor.py\", line 63, in _fail_safe_execute\n",
      "    work_handler(batch)\n",
      "  File \"/media/skyap/8419d487-cb26-4b9d-8359-17eec418147f/20_projects/20_export_non_standard_ERC721_token_attributes/project_folder/venv/lib/python3.8/site-packages/ethereum_etl-1.4.0-py3.8.egg/ethereumetl/jobs/export_blocks_job.py\", line 77, in _export_batch\n",
      "    blocks = [self.block_mapper.json_dict_to_block(result) for result in results]\n",
      "  File \"/media/skyap/8419d487-cb26-4b9d-8359-17eec418147f/20_projects/20_export_non_standard_ERC721_token_attributes/project_folder/venv/lib/python3.8/site-packages/ethereum_etl-1.4.0-py3.8.egg/ethereumetl/jobs/export_blocks_job.py\", line 77, in <listcomp>\n",
      "    blocks = [self.block_mapper.json_dict_to_block(result) for result in results]\n",
      "  File \"/media/skyap/8419d487-cb26-4b9d-8359-17eec418147f/20_projects/20_export_non_standard_ERC721_token_attributes/project_folder/venv/lib/python3.8/site-packages/ethereum_etl-1.4.0-py3.8.egg/ethereumetl/utils.py\", line 71, in rpc_response_batch_to_results\n",
      "    yield rpc_response_to_result(response_item)\n",
      "  File \"/media/skyap/8419d487-cb26-4b9d-8359-17eec418147f/20_projects/20_export_non_standard_ERC721_token_attributes/project_folder/venv/lib/python3.8/site-packages/ethereum_etl-1.4.0-py3.8.egg/ethereumetl/utils.py\", line 82, in rpc_response_to_result\n",
      "    raise RetriableValueError(error_message)\n",
      "ethereumetl.misc.retriable_value_error.RetriableValueError: result is None in response {'jsonrpc': '2.0', 'id': 0, 'result': None}. Make sure Ethereum node is synced.\n",
      "2020-06-16 15:38:21,036 - BatchWorkExecutor [INFO] - The batch of size 100 will be retried one item at a time.\n",
      "2020-06-16 15:38:21,041 - root [ERROR] - An exception occurred while executing execute_with_retries. Retry #0\n",
      "Traceback (most recent call last):\n",
      "  File \"/media/skyap/8419d487-cb26-4b9d-8359-17eec418147f/20_projects/20_export_non_standard_ERC721_token_attributes/project_folder/venv/lib/python3.8/site-packages/ethereum_etl-1.4.0-py3.8.egg/ethereumetl/executors/batch_work_executor.py\", line 63, in _fail_safe_execute\n",
      "    work_handler(batch)\n",
      "  File \"/media/skyap/8419d487-cb26-4b9d-8359-17eec418147f/20_projects/20_export_non_standard_ERC721_token_attributes/project_folder/venv/lib/python3.8/site-packages/ethereum_etl-1.4.0-py3.8.egg/ethereumetl/jobs/export_blocks_job.py\", line 77, in _export_batch\n",
      "    blocks = [self.block_mapper.json_dict_to_block(result) for result in results]\n",
      "  File \"/media/skyap/8419d487-cb26-4b9d-8359-17eec418147f/20_projects/20_export_non_standard_ERC721_token_attributes/project_folder/venv/lib/python3.8/site-packages/ethereum_etl-1.4.0-py3.8.egg/ethereumetl/jobs/export_blocks_job.py\", line 77, in <listcomp>\n",
      "    blocks = [self.block_mapper.json_dict_to_block(result) for result in results]\n",
      "  File \"/media/skyap/8419d487-cb26-4b9d-8359-17eec418147f/20_projects/20_export_non_standard_ERC721_token_attributes/project_folder/venv/lib/python3.8/site-packages/ethereum_etl-1.4.0-py3.8.egg/ethereumetl/utils.py\", line 71, in rpc_response_batch_to_results\n",
      "    yield rpc_response_to_result(response_item)\n",
      "  File \"/media/skyap/8419d487-cb26-4b9d-8359-17eec418147f/20_projects/20_export_non_standard_ERC721_token_attributes/project_folder/venv/lib/python3.8/site-packages/ethereum_etl-1.4.0-py3.8.egg/ethereumetl/utils.py\", line 82, in rpc_response_to_result\n",
      "    raise RetriableValueError(error_message)\n",
      "ethereumetl.misc.retriable_value_error.RetriableValueError: result is None in response {'jsonrpc': '2.0', 'id': 0, 'result': None}. Make sure Ethereum node is synced.\n",
      "\n",
      "During handling of the above exception, another exception occurred:\n",
      "\n",
      "Traceback (most recent call last):\n",
      "  File \"/media/skyap/8419d487-cb26-4b9d-8359-17eec418147f/20_projects/20_export_non_standard_ERC721_token_attributes/project_folder/venv/lib/python3.8/site-packages/ethereum_etl-1.4.0-py3.8.egg/ethereumetl/executors/batch_work_executor.py\", line 104, in execute_with_retries\n",
      "    return func(*args)\n",
      "  File \"/media/skyap/8419d487-cb26-4b9d-8359-17eec418147f/20_projects/20_export_non_standard_ERC721_token_attributes/project_folder/venv/lib/python3.8/site-packages/ethereum_etl-1.4.0-py3.8.egg/ethereumetl/jobs/export_blocks_job.py\", line 77, in _export_batch\n",
      "    blocks = [self.block_mapper.json_dict_to_block(result) for result in results]\n",
      "  File \"/media/skyap/8419d487-cb26-4b9d-8359-17eec418147f/20_projects/20_export_non_standard_ERC721_token_attributes/project_folder/venv/lib/python3.8/site-packages/ethereum_etl-1.4.0-py3.8.egg/ethereumetl/jobs/export_blocks_job.py\", line 77, in <listcomp>\n",
      "    blocks = [self.block_mapper.json_dict_to_block(result) for result in results]\n",
      "  File \"/media/skyap/8419d487-cb26-4b9d-8359-17eec418147f/20_projects/20_export_non_standard_ERC721_token_attributes/project_folder/venv/lib/python3.8/site-packages/ethereum_etl-1.4.0-py3.8.egg/ethereumetl/utils.py\", line 71, in rpc_response_batch_to_results\n",
      "    yield rpc_response_to_result(response_item)\n",
      "  File \"/media/skyap/8419d487-cb26-4b9d-8359-17eec418147f/20_projects/20_export_non_standard_ERC721_token_attributes/project_folder/venv/lib/python3.8/site-packages/ethereum_etl-1.4.0-py3.8.egg/ethereumetl/utils.py\", line 82, in rpc_response_to_result\n",
      "    raise RetriableValueError(error_message)\n",
      "ethereumetl.misc.retriable_value_error.RetriableValueError: result is None in response {'jsonrpc': '2.0', 'id': 0, 'result': None}. Make sure Ethereum node is synced.\n",
      "2020-06-16 15:38:21,042 - root [INFO] - The request will be retried after 1 seconds. Retry #0\n",
      "2020-06-16 15:38:21,138 - root [ERROR] - An exception occurred while executing execute_with_retries. Retry #4\n",
      "Traceback (most recent call last):\n",
      "  File \"/media/skyap/8419d487-cb26-4b9d-8359-17eec418147f/20_projects/20_export_non_standard_ERC721_token_attributes/project_folder/venv/lib/python3.8/site-packages/ethereum_etl-1.4.0-py3.8.egg/ethereumetl/executors/batch_work_executor.py\", line 63, in _fail_safe_execute\n",
      "    work_handler(batch)\n",
      "  File \"/media/skyap/8419d487-cb26-4b9d-8359-17eec418147f/20_projects/20_export_non_standard_ERC721_token_attributes/project_folder/venv/lib/python3.8/site-packages/ethereum_etl-1.4.0-py3.8.egg/ethereumetl/jobs/export_blocks_job.py\", line 77, in _export_batch\n",
      "    blocks = [self.block_mapper.json_dict_to_block(result) for result in results]\n",
      "  File \"/media/skyap/8419d487-cb26-4b9d-8359-17eec418147f/20_projects/20_export_non_standard_ERC721_token_attributes/project_folder/venv/lib/python3.8/site-packages/ethereum_etl-1.4.0-py3.8.egg/ethereumetl/jobs/export_blocks_job.py\", line 77, in <listcomp>\n",
      "    blocks = [self.block_mapper.json_dict_to_block(result) for result in results]\n",
      "  File \"/media/skyap/8419d487-cb26-4b9d-8359-17eec418147f/20_projects/20_export_non_standard_ERC721_token_attributes/project_folder/venv/lib/python3.8/site-packages/ethereum_etl-1.4.0-py3.8.egg/ethereumetl/utils.py\", line 71, in rpc_response_batch_to_results\n",
      "    yield rpc_response_to_result(response_item)\n",
      "  File \"/media/skyap/8419d487-cb26-4b9d-8359-17eec418147f/20_projects/20_export_non_standard_ERC721_token_attributes/project_folder/venv/lib/python3.8/site-packages/ethereum_etl-1.4.0-py3.8.egg/ethereumetl/utils.py\", line 82, in rpc_response_to_result\n",
      "    raise RetriableValueError(error_message)\n",
      "ethereumetl.misc.retriable_value_error.RetriableValueError: result is None in response {'jsonrpc': '2.0', 'id': 97, 'result': None}. Make sure Ethereum node is synced.\n",
      "\n",
      "During handling of the above exception, another exception occurred:\n",
      "\n",
      "Traceback (most recent call last):\n",
      "  File \"/media/skyap/8419d487-cb26-4b9d-8359-17eec418147f/20_projects/20_export_non_standard_ERC721_token_attributes/project_folder/venv/lib/python3.8/site-packages/ethereum_etl-1.4.0-py3.8.egg/ethereumetl/executors/batch_work_executor.py\", line 104, in execute_with_retries\n",
      "    return func(*args)\n",
      "  File \"/media/skyap/8419d487-cb26-4b9d-8359-17eec418147f/20_projects/20_export_non_standard_ERC721_token_attributes/project_folder/venv/lib/python3.8/site-packages/ethereum_etl-1.4.0-py3.8.egg/ethereumetl/jobs/export_blocks_job.py\", line 77, in _export_batch\n",
      "    blocks = [self.block_mapper.json_dict_to_block(result) for result in results]\n",
      "  File \"/media/skyap/8419d487-cb26-4b9d-8359-17eec418147f/20_projects/20_export_non_standard_ERC721_token_attributes/project_folder/venv/lib/python3.8/site-packages/ethereum_etl-1.4.0-py3.8.egg/ethereumetl/jobs/export_blocks_job.py\", line 77, in <listcomp>\n",
      "    blocks = [self.block_mapper.json_dict_to_block(result) for result in results]\n",
      "  File \"/media/skyap/8419d487-cb26-4b9d-8359-17eec418147f/20_projects/20_export_non_standard_ERC721_token_attributes/project_folder/venv/lib/python3.8/site-packages/ethereum_etl-1.4.0-py3.8.egg/ethereumetl/utils.py\", line 71, in rpc_response_batch_to_results\n",
      "    yield rpc_response_to_result(response_item)\n",
      "  File \"/media/skyap/8419d487-cb26-4b9d-8359-17eec418147f/20_projects/20_export_non_standard_ERC721_token_attributes/project_folder/venv/lib/python3.8/site-packages/ethereum_etl-1.4.0-py3.8.egg/ethereumetl/utils.py\", line 82, in rpc_response_to_result\n",
      "    raise RetriableValueError(error_message)\n",
      "ethereumetl.misc.retriable_value_error.RetriableValueError: result is None in response {'jsonrpc': '2.0', 'id': 0, 'result': None}. Make sure Ethereum node is synced.\n",
      "2020-06-16 15:38:22,038 - root [ERROR] - An exception occurred while executing execute_with_retries. Retry #1\n",
      "Traceback (most recent call last):\n",
      "  File \"/media/skyap/8419d487-cb26-4b9d-8359-17eec418147f/20_projects/20_export_non_standard_ERC721_token_attributes/project_folder/venv/lib/python3.8/site-packages/ethereum_etl-1.4.0-py3.8.egg/ethereumetl/executors/batch_work_executor.py\", line 63, in _fail_safe_execute\n",
      "    work_handler(batch)\n",
      "  File \"/media/skyap/8419d487-cb26-4b9d-8359-17eec418147f/20_projects/20_export_non_standard_ERC721_token_attributes/project_folder/venv/lib/python3.8/site-packages/ethereum_etl-1.4.0-py3.8.egg/ethereumetl/jobs/export_blocks_job.py\", line 77, in _export_batch\n",
      "    blocks = [self.block_mapper.json_dict_to_block(result) for result in results]\n",
      "  File \"/media/skyap/8419d487-cb26-4b9d-8359-17eec418147f/20_projects/20_export_non_standard_ERC721_token_attributes/project_folder/venv/lib/python3.8/site-packages/ethereum_etl-1.4.0-py3.8.egg/ethereumetl/jobs/export_blocks_job.py\", line 77, in <listcomp>\n",
      "    blocks = [self.block_mapper.json_dict_to_block(result) for result in results]\n",
      "  File \"/media/skyap/8419d487-cb26-4b9d-8359-17eec418147f/20_projects/20_export_non_standard_ERC721_token_attributes/project_folder/venv/lib/python3.8/site-packages/ethereum_etl-1.4.0-py3.8.egg/ethereumetl/utils.py\", line 71, in rpc_response_batch_to_results\n",
      "    yield rpc_response_to_result(response_item)\n",
      "  File \"/media/skyap/8419d487-cb26-4b9d-8359-17eec418147f/20_projects/20_export_non_standard_ERC721_token_attributes/project_folder/venv/lib/python3.8/site-packages/ethereum_etl-1.4.0-py3.8.egg/ethereumetl/utils.py\", line 82, in rpc_response_to_result\n",
      "    raise RetriableValueError(error_message)\n",
      "ethereumetl.misc.retriable_value_error.RetriableValueError: result is None in response {'jsonrpc': '2.0', 'id': 0, 'result': None}. Make sure Ethereum node is synced.\n",
      "\n",
      "During handling of the above exception, another exception occurred:\n",
      "\n",
      "Traceback (most recent call last):\n",
      "  File \"/media/skyap/8419d487-cb26-4b9d-8359-17eec418147f/20_projects/20_export_non_standard_ERC721_token_attributes/project_folder/venv/lib/python3.8/site-packages/ethereum_etl-1.4.0-py3.8.egg/ethereumetl/executors/batch_work_executor.py\", line 104, in execute_with_retries\n",
      "    return func(*args)\n",
      "  File \"/media/skyap/8419d487-cb26-4b9d-8359-17eec418147f/20_projects/20_export_non_standard_ERC721_token_attributes/project_folder/venv/lib/python3.8/site-packages/ethereum_etl-1.4.0-py3.8.egg/ethereumetl/jobs/export_blocks_job.py\", line 77, in _export_batch\n",
      "    blocks = [self.block_mapper.json_dict_to_block(result) for result in results]\n",
      "  File \"/media/skyap/8419d487-cb26-4b9d-8359-17eec418147f/20_projects/20_export_non_standard_ERC721_token_attributes/project_folder/venv/lib/python3.8/site-packages/ethereum_etl-1.4.0-py3.8.egg/ethereumetl/jobs/export_blocks_job.py\", line 77, in <listcomp>\n",
      "    blocks = [self.block_mapper.json_dict_to_block(result) for result in results]\n",
      "  File \"/media/skyap/8419d487-cb26-4b9d-8359-17eec418147f/20_projects/20_export_non_standard_ERC721_token_attributes/project_folder/venv/lib/python3.8/site-packages/ethereum_etl-1.4.0-py3.8.egg/ethereumetl/utils.py\", line 71, in rpc_response_batch_to_results\n",
      "    yield rpc_response_to_result(response_item)\n",
      "  File \"/media/skyap/8419d487-cb26-4b9d-8359-17eec418147f/20_projects/20_export_non_standard_ERC721_token_attributes/project_folder/venv/lib/python3.8/site-packages/ethereum_etl-1.4.0-py3.8.egg/ethereumetl/utils.py\", line 82, in rpc_response_to_result\n",
      "    raise RetriableValueError(error_message)\n",
      "ethereumetl.misc.retriable_value_error.RetriableValueError: result is None in response {'jsonrpc': '2.0', 'id': 0, 'result': None}. Make sure Ethereum node is synced.\n",
      "2020-06-16 15:38:22,038 - root [INFO] - The request will be retried after 1 seconds. Retry #1\n",
      "2020-06-16 15:38:22,045 - root [ERROR] - An exception occurred while executing execute_with_retries. Retry #1\n",
      "Traceback (most recent call last):\n",
      "  File \"/media/skyap/8419d487-cb26-4b9d-8359-17eec418147f/20_projects/20_export_non_standard_ERC721_token_attributes/project_folder/venv/lib/python3.8/site-packages/ethereum_etl-1.4.0-py3.8.egg/ethereumetl/executors/batch_work_executor.py\", line 63, in _fail_safe_execute\n",
      "    work_handler(batch)\n",
      "  File \"/media/skyap/8419d487-cb26-4b9d-8359-17eec418147f/20_projects/20_export_non_standard_ERC721_token_attributes/project_folder/venv/lib/python3.8/site-packages/ethereum_etl-1.4.0-py3.8.egg/ethereumetl/jobs/export_blocks_job.py\", line 77, in _export_batch\n",
      "    blocks = [self.block_mapper.json_dict_to_block(result) for result in results]\n",
      "  File \"/media/skyap/8419d487-cb26-4b9d-8359-17eec418147f/20_projects/20_export_non_standard_ERC721_token_attributes/project_folder/venv/lib/python3.8/site-packages/ethereum_etl-1.4.0-py3.8.egg/ethereumetl/jobs/export_blocks_job.py\", line 77, in <listcomp>\n",
      "    blocks = [self.block_mapper.json_dict_to_block(result) for result in results]\n",
      "  File \"/media/skyap/8419d487-cb26-4b9d-8359-17eec418147f/20_projects/20_export_non_standard_ERC721_token_attributes/project_folder/venv/lib/python3.8/site-packages/ethereum_etl-1.4.0-py3.8.egg/ethereumetl/utils.py\", line 71, in rpc_response_batch_to_results\n",
      "    yield rpc_response_to_result(response_item)\n",
      "  File \"/media/skyap/8419d487-cb26-4b9d-8359-17eec418147f/20_projects/20_export_non_standard_ERC721_token_attributes/project_folder/venv/lib/python3.8/site-packages/ethereum_etl-1.4.0-py3.8.egg/ethereumetl/utils.py\", line 82, in rpc_response_to_result\n",
      "    raise RetriableValueError(error_message)\n",
      "ethereumetl.misc.retriable_value_error.RetriableValueError: result is None in response {'jsonrpc': '2.0', 'id': 0, 'result': None}. Make sure Ethereum node is synced.\n",
      "\n",
      "During handling of the above exception, another exception occurred:\n",
      "\n",
      "Traceback (most recent call last):\n",
      "  File \"/media/skyap/8419d487-cb26-4b9d-8359-17eec418147f/20_projects/20_export_non_standard_ERC721_token_attributes/project_folder/venv/lib/python3.8/site-packages/ethereum_etl-1.4.0-py3.8.egg/ethereumetl/executors/batch_work_executor.py\", line 104, in execute_with_retries\n",
      "    return func(*args)\n",
      "  File \"/media/skyap/8419d487-cb26-4b9d-8359-17eec418147f/20_projects/20_export_non_standard_ERC721_token_attributes/project_folder/venv/lib/python3.8/site-packages/ethereum_etl-1.4.0-py3.8.egg/ethereumetl/jobs/export_blocks_job.py\", line 77, in _export_batch\n",
      "    blocks = [self.block_mapper.json_dict_to_block(result) for result in results]\n",
      "  File \"/media/skyap/8419d487-cb26-4b9d-8359-17eec418147f/20_projects/20_export_non_standard_ERC721_token_attributes/project_folder/venv/lib/python3.8/site-packages/ethereum_etl-1.4.0-py3.8.egg/ethereumetl/jobs/export_blocks_job.py\", line 77, in <listcomp>\n",
      "    blocks = [self.block_mapper.json_dict_to_block(result) for result in results]\n",
      "  File \"/media/skyap/8419d487-cb26-4b9d-8359-17eec418147f/20_projects/20_export_non_standard_ERC721_token_attributes/project_folder/venv/lib/python3.8/site-packages/ethereum_etl-1.4.0-py3.8.egg/ethereumetl/utils.py\", line 71, in rpc_response_batch_to_results\n",
      "    yield rpc_response_to_result(response_item)\n",
      "  File \"/media/skyap/8419d487-cb26-4b9d-8359-17eec418147f/20_projects/20_export_non_standard_ERC721_token_attributes/project_folder/venv/lib/python3.8/site-packages/ethereum_etl-1.4.0-py3.8.egg/ethereumetl/utils.py\", line 82, in rpc_response_to_result\n",
      "    raise RetriableValueError(error_message)\n",
      "ethereumetl.misc.retriable_value_error.RetriableValueError: result is None in response {'jsonrpc': '2.0', 'id': 0, 'result': None}. Make sure Ethereum node is synced.\n",
      "2020-06-16 15:38:22,045 - root [INFO] - The request will be retried after 1 seconds. Retry #1\n",
      "2020-06-16 15:38:23,045 - root [ERROR] - An exception occurred while executing execute_with_retries. Retry #2\n",
      "Traceback (most recent call last):\n",
      "  File \"/media/skyap/8419d487-cb26-4b9d-8359-17eec418147f/20_projects/20_export_non_standard_ERC721_token_attributes/project_folder/venv/lib/python3.8/site-packages/ethereum_etl-1.4.0-py3.8.egg/ethereumetl/executors/batch_work_executor.py\", line 63, in _fail_safe_execute\n",
      "    work_handler(batch)\n",
      "  File \"/media/skyap/8419d487-cb26-4b9d-8359-17eec418147f/20_projects/20_export_non_standard_ERC721_token_attributes/project_folder/venv/lib/python3.8/site-packages/ethereum_etl-1.4.0-py3.8.egg/ethereumetl/jobs/export_blocks_job.py\", line 77, in _export_batch\n",
      "    blocks = [self.block_mapper.json_dict_to_block(result) for result in results]\n",
      "  File \"/media/skyap/8419d487-cb26-4b9d-8359-17eec418147f/20_projects/20_export_non_standard_ERC721_token_attributes/project_folder/venv/lib/python3.8/site-packages/ethereum_etl-1.4.0-py3.8.egg/ethereumetl/jobs/export_blocks_job.py\", line 77, in <listcomp>\n",
      "    blocks = [self.block_mapper.json_dict_to_block(result) for result in results]\n",
      "  File \"/media/skyap/8419d487-cb26-4b9d-8359-17eec418147f/20_projects/20_export_non_standard_ERC721_token_attributes/project_folder/venv/lib/python3.8/site-packages/ethereum_etl-1.4.0-py3.8.egg/ethereumetl/utils.py\", line 71, in rpc_response_batch_to_results\n",
      "    yield rpc_response_to_result(response_item)\n",
      "  File \"/media/skyap/8419d487-cb26-4b9d-8359-17eec418147f/20_projects/20_export_non_standard_ERC721_token_attributes/project_folder/venv/lib/python3.8/site-packages/ethereum_etl-1.4.0-py3.8.egg/ethereumetl/utils.py\", line 82, in rpc_response_to_result\n",
      "    raise RetriableValueError(error_message)\n",
      "ethereumetl.misc.retriable_value_error.RetriableValueError: result is None in response {'jsonrpc': '2.0', 'id': 0, 'result': None}. Make sure Ethereum node is synced.\n",
      "\n",
      "During handling of the above exception, another exception occurred:\n",
      "\n",
      "Traceback (most recent call last):\n",
      "  File \"/media/skyap/8419d487-cb26-4b9d-8359-17eec418147f/20_projects/20_export_non_standard_ERC721_token_attributes/project_folder/venv/lib/python3.8/site-packages/ethereum_etl-1.4.0-py3.8.egg/ethereumetl/executors/batch_work_executor.py\", line 104, in execute_with_retries\n",
      "    return func(*args)\n",
      "  File \"/media/skyap/8419d487-cb26-4b9d-8359-17eec418147f/20_projects/20_export_non_standard_ERC721_token_attributes/project_folder/venv/lib/python3.8/site-packages/ethereum_etl-1.4.0-py3.8.egg/ethereumetl/jobs/export_blocks_job.py\", line 77, in _export_batch\n",
      "    blocks = [self.block_mapper.json_dict_to_block(result) for result in results]\n",
      "  File \"/media/skyap/8419d487-cb26-4b9d-8359-17eec418147f/20_projects/20_export_non_standard_ERC721_token_attributes/project_folder/venv/lib/python3.8/site-packages/ethereum_etl-1.4.0-py3.8.egg/ethereumetl/jobs/export_blocks_job.py\", line 77, in <listcomp>\n",
      "    blocks = [self.block_mapper.json_dict_to_block(result) for result in results]\n",
      "  File \"/media/skyap/8419d487-cb26-4b9d-8359-17eec418147f/20_projects/20_export_non_standard_ERC721_token_attributes/project_folder/venv/lib/python3.8/site-packages/ethereum_etl-1.4.0-py3.8.egg/ethereumetl/utils.py\", line 71, in rpc_response_batch_to_results\n",
      "    yield rpc_response_to_result(response_item)\n",
      "  File \"/media/skyap/8419d487-cb26-4b9d-8359-17eec418147f/20_projects/20_export_non_standard_ERC721_token_attributes/project_folder/venv/lib/python3.8/site-packages/ethereum_etl-1.4.0-py3.8.egg/ethereumetl/utils.py\", line 82, in rpc_response_to_result\n",
      "    raise RetriableValueError(error_message)\n",
      "ethereumetl.misc.retriable_value_error.RetriableValueError: result is None in response {'jsonrpc': '2.0', 'id': 0, 'result': None}. Make sure Ethereum node is synced.\n",
      "2020-06-16 15:38:23,046 - root [INFO] - The request will be retried after 1 seconds. Retry #2\n",
      "2020-06-16 15:38:23,052 - root [ERROR] - An exception occurred while executing execute_with_retries. Retry #2\n",
      "Traceback (most recent call last):\n",
      "  File \"/media/skyap/8419d487-cb26-4b9d-8359-17eec418147f/20_projects/20_export_non_standard_ERC721_token_attributes/project_folder/venv/lib/python3.8/site-packages/ethereum_etl-1.4.0-py3.8.egg/ethereumetl/executors/batch_work_executor.py\", line 63, in _fail_safe_execute\n",
      "    work_handler(batch)\n",
      "  File \"/media/skyap/8419d487-cb26-4b9d-8359-17eec418147f/20_projects/20_export_non_standard_ERC721_token_attributes/project_folder/venv/lib/python3.8/site-packages/ethereum_etl-1.4.0-py3.8.egg/ethereumetl/jobs/export_blocks_job.py\", line 77, in _export_batch\n",
      "    blocks = [self.block_mapper.json_dict_to_block(result) for result in results]\n",
      "  File \"/media/skyap/8419d487-cb26-4b9d-8359-17eec418147f/20_projects/20_export_non_standard_ERC721_token_attributes/project_folder/venv/lib/python3.8/site-packages/ethereum_etl-1.4.0-py3.8.egg/ethereumetl/jobs/export_blocks_job.py\", line 77, in <listcomp>\n",
      "    blocks = [self.block_mapper.json_dict_to_block(result) for result in results]\n",
      "  File \"/media/skyap/8419d487-cb26-4b9d-8359-17eec418147f/20_projects/20_export_non_standard_ERC721_token_attributes/project_folder/venv/lib/python3.8/site-packages/ethereum_etl-1.4.0-py3.8.egg/ethereumetl/utils.py\", line 71, in rpc_response_batch_to_results\n",
      "    yield rpc_response_to_result(response_item)\n",
      "  File \"/media/skyap/8419d487-cb26-4b9d-8359-17eec418147f/20_projects/20_export_non_standard_ERC721_token_attributes/project_folder/venv/lib/python3.8/site-packages/ethereum_etl-1.4.0-py3.8.egg/ethereumetl/utils.py\", line 82, in rpc_response_to_result\n",
      "    raise RetriableValueError(error_message)\n",
      "ethereumetl.misc.retriable_value_error.RetriableValueError: result is None in response {'jsonrpc': '2.0', 'id': 0, 'result': None}. Make sure Ethereum node is synced.\n",
      "\n",
      "During handling of the above exception, another exception occurred:\n",
      "\n",
      "Traceback (most recent call last):\n",
      "  File \"/media/skyap/8419d487-cb26-4b9d-8359-17eec418147f/20_projects/20_export_non_standard_ERC721_token_attributes/project_folder/venv/lib/python3.8/site-packages/ethereum_etl-1.4.0-py3.8.egg/ethereumetl/executors/batch_work_executor.py\", line 104, in execute_with_retries\n",
      "    return func(*args)\n",
      "  File \"/media/skyap/8419d487-cb26-4b9d-8359-17eec418147f/20_projects/20_export_non_standard_ERC721_token_attributes/project_folder/venv/lib/python3.8/site-packages/ethereum_etl-1.4.0-py3.8.egg/ethereumetl/jobs/export_blocks_job.py\", line 77, in _export_batch\n",
      "    blocks = [self.block_mapper.json_dict_to_block(result) for result in results]\n",
      "  File \"/media/skyap/8419d487-cb26-4b9d-8359-17eec418147f/20_projects/20_export_non_standard_ERC721_token_attributes/project_folder/venv/lib/python3.8/site-packages/ethereum_etl-1.4.0-py3.8.egg/ethereumetl/jobs/export_blocks_job.py\", line 77, in <listcomp>\n",
      "    blocks = [self.block_mapper.json_dict_to_block(result) for result in results]\n",
      "  File \"/media/skyap/8419d487-cb26-4b9d-8359-17eec418147f/20_projects/20_export_non_standard_ERC721_token_attributes/project_folder/venv/lib/python3.8/site-packages/ethereum_etl-1.4.0-py3.8.egg/ethereumetl/utils.py\", line 71, in rpc_response_batch_to_results\n",
      "    yield rpc_response_to_result(response_item)\n",
      "  File \"/media/skyap/8419d487-cb26-4b9d-8359-17eec418147f/20_projects/20_export_non_standard_ERC721_token_attributes/project_folder/venv/lib/python3.8/site-packages/ethereum_etl-1.4.0-py3.8.egg/ethereumetl/utils.py\", line 82, in rpc_response_to_result\n",
      "    raise RetriableValueError(error_message)\n",
      "ethereumetl.misc.retriable_value_error.RetriableValueError: result is None in response {'jsonrpc': '2.0', 'id': 0, 'result': None}. Make sure Ethereum node is synced.\n",
      "2020-06-16 15:38:23,053 - root [INFO] - The request will be retried after 1 seconds. Retry #2\n",
      "2020-06-16 15:38:24,049 - root [ERROR] - An exception occurred while executing execute_with_retries. Retry #3\n",
      "Traceback (most recent call last):\n",
      "  File \"/media/skyap/8419d487-cb26-4b9d-8359-17eec418147f/20_projects/20_export_non_standard_ERC721_token_attributes/project_folder/venv/lib/python3.8/site-packages/ethereum_etl-1.4.0-py3.8.egg/ethereumetl/executors/batch_work_executor.py\", line 63, in _fail_safe_execute\n",
      "    work_handler(batch)\n",
      "  File \"/media/skyap/8419d487-cb26-4b9d-8359-17eec418147f/20_projects/20_export_non_standard_ERC721_token_attributes/project_folder/venv/lib/python3.8/site-packages/ethereum_etl-1.4.0-py3.8.egg/ethereumetl/jobs/export_blocks_job.py\", line 77, in _export_batch\n",
      "    blocks = [self.block_mapper.json_dict_to_block(result) for result in results]\n",
      "  File \"/media/skyap/8419d487-cb26-4b9d-8359-17eec418147f/20_projects/20_export_non_standard_ERC721_token_attributes/project_folder/venv/lib/python3.8/site-packages/ethereum_etl-1.4.0-py3.8.egg/ethereumetl/jobs/export_blocks_job.py\", line 77, in <listcomp>\n",
      "    blocks = [self.block_mapper.json_dict_to_block(result) for result in results]\n",
      "  File \"/media/skyap/8419d487-cb26-4b9d-8359-17eec418147f/20_projects/20_export_non_standard_ERC721_token_attributes/project_folder/venv/lib/python3.8/site-packages/ethereum_etl-1.4.0-py3.8.egg/ethereumetl/utils.py\", line 71, in rpc_response_batch_to_results\n",
      "    yield rpc_response_to_result(response_item)\n",
      "  File \"/media/skyap/8419d487-cb26-4b9d-8359-17eec418147f/20_projects/20_export_non_standard_ERC721_token_attributes/project_folder/venv/lib/python3.8/site-packages/ethereum_etl-1.4.0-py3.8.egg/ethereumetl/utils.py\", line 82, in rpc_response_to_result\n",
      "    raise RetriableValueError(error_message)\n",
      "ethereumetl.misc.retriable_value_error.RetriableValueError: result is None in response {'jsonrpc': '2.0', 'id': 0, 'result': None}. Make sure Ethereum node is synced.\n",
      "\n",
      "During handling of the above exception, another exception occurred:\n",
      "\n",
      "Traceback (most recent call last):\n",
      "  File \"/media/skyap/8419d487-cb26-4b9d-8359-17eec418147f/20_projects/20_export_non_standard_ERC721_token_attributes/project_folder/venv/lib/python3.8/site-packages/ethereum_etl-1.4.0-py3.8.egg/ethereumetl/executors/batch_work_executor.py\", line 104, in execute_with_retries\n",
      "    return func(*args)\n",
      "  File \"/media/skyap/8419d487-cb26-4b9d-8359-17eec418147f/20_projects/20_export_non_standard_ERC721_token_attributes/project_folder/venv/lib/python3.8/site-packages/ethereum_etl-1.4.0-py3.8.egg/ethereumetl/jobs/export_blocks_job.py\", line 77, in _export_batch\n",
      "    blocks = [self.block_mapper.json_dict_to_block(result) for result in results]\n",
      "  File \"/media/skyap/8419d487-cb26-4b9d-8359-17eec418147f/20_projects/20_export_non_standard_ERC721_token_attributes/project_folder/venv/lib/python3.8/site-packages/ethereum_etl-1.4.0-py3.8.egg/ethereumetl/jobs/export_blocks_job.py\", line 77, in <listcomp>\n",
      "    blocks = [self.block_mapper.json_dict_to_block(result) for result in results]\n",
      "  File \"/media/skyap/8419d487-cb26-4b9d-8359-17eec418147f/20_projects/20_export_non_standard_ERC721_token_attributes/project_folder/venv/lib/python3.8/site-packages/ethereum_etl-1.4.0-py3.8.egg/ethereumetl/utils.py\", line 71, in rpc_response_batch_to_results\n",
      "    yield rpc_response_to_result(response_item)\n",
      "  File \"/media/skyap/8419d487-cb26-4b9d-8359-17eec418147f/20_projects/20_export_non_standard_ERC721_token_attributes/project_folder/venv/lib/python3.8/site-packages/ethereum_etl-1.4.0-py3.8.egg/ethereumetl/utils.py\", line 82, in rpc_response_to_result\n",
      "    raise RetriableValueError(error_message)\n",
      "ethereumetl.misc.retriable_value_error.RetriableValueError: result is None in response {'jsonrpc': '2.0', 'id': 0, 'result': None}. Make sure Ethereum node is synced.\n",
      "2020-06-16 15:38:24,049 - root [INFO] - The request will be retried after 1 seconds. Retry #3\n",
      "2020-06-16 15:38:24,055 - root [ERROR] - An exception occurred while executing execute_with_retries. Retry #3\n",
      "Traceback (most recent call last):\n",
      "  File \"/media/skyap/8419d487-cb26-4b9d-8359-17eec418147f/20_projects/20_export_non_standard_ERC721_token_attributes/project_folder/venv/lib/python3.8/site-packages/ethereum_etl-1.4.0-py3.8.egg/ethereumetl/executors/batch_work_executor.py\", line 63, in _fail_safe_execute\n",
      "    work_handler(batch)\n",
      "  File \"/media/skyap/8419d487-cb26-4b9d-8359-17eec418147f/20_projects/20_export_non_standard_ERC721_token_attributes/project_folder/venv/lib/python3.8/site-packages/ethereum_etl-1.4.0-py3.8.egg/ethereumetl/jobs/export_blocks_job.py\", line 77, in _export_batch\n",
      "    blocks = [self.block_mapper.json_dict_to_block(result) for result in results]\n",
      "  File \"/media/skyap/8419d487-cb26-4b9d-8359-17eec418147f/20_projects/20_export_non_standard_ERC721_token_attributes/project_folder/venv/lib/python3.8/site-packages/ethereum_etl-1.4.0-py3.8.egg/ethereumetl/jobs/export_blocks_job.py\", line 77, in <listcomp>\n",
      "    blocks = [self.block_mapper.json_dict_to_block(result) for result in results]\n",
      "  File \"/media/skyap/8419d487-cb26-4b9d-8359-17eec418147f/20_projects/20_export_non_standard_ERC721_token_attributes/project_folder/venv/lib/python3.8/site-packages/ethereum_etl-1.4.0-py3.8.egg/ethereumetl/utils.py\", line 71, in rpc_response_batch_to_results\n",
      "    yield rpc_response_to_result(response_item)\n",
      "  File \"/media/skyap/8419d487-cb26-4b9d-8359-17eec418147f/20_projects/20_export_non_standard_ERC721_token_attributes/project_folder/venv/lib/python3.8/site-packages/ethereum_etl-1.4.0-py3.8.egg/ethereumetl/utils.py\", line 82, in rpc_response_to_result\n",
      "    raise RetriableValueError(error_message)\n",
      "ethereumetl.misc.retriable_value_error.RetriableValueError: result is None in response {'jsonrpc': '2.0', 'id': 0, 'result': None}. Make sure Ethereum node is synced.\n",
      "\n",
      "During handling of the above exception, another exception occurred:\n",
      "\n",
      "Traceback (most recent call last):\n",
      "  File \"/media/skyap/8419d487-cb26-4b9d-8359-17eec418147f/20_projects/20_export_non_standard_ERC721_token_attributes/project_folder/venv/lib/python3.8/site-packages/ethereum_etl-1.4.0-py3.8.egg/ethereumetl/executors/batch_work_executor.py\", line 104, in execute_with_retries\n",
      "    return func(*args)\n",
      "  File \"/media/skyap/8419d487-cb26-4b9d-8359-17eec418147f/20_projects/20_export_non_standard_ERC721_token_attributes/project_folder/venv/lib/python3.8/site-packages/ethereum_etl-1.4.0-py3.8.egg/ethereumetl/jobs/export_blocks_job.py\", line 77, in _export_batch\n",
      "    blocks = [self.block_mapper.json_dict_to_block(result) for result in results]\n",
      "  File \"/media/skyap/8419d487-cb26-4b9d-8359-17eec418147f/20_projects/20_export_non_standard_ERC721_token_attributes/project_folder/venv/lib/python3.8/site-packages/ethereum_etl-1.4.0-py3.8.egg/ethereumetl/jobs/export_blocks_job.py\", line 77, in <listcomp>\n",
      "    blocks = [self.block_mapper.json_dict_to_block(result) for result in results]\n",
      "  File \"/media/skyap/8419d487-cb26-4b9d-8359-17eec418147f/20_projects/20_export_non_standard_ERC721_token_attributes/project_folder/venv/lib/python3.8/site-packages/ethereum_etl-1.4.0-py3.8.egg/ethereumetl/utils.py\", line 71, in rpc_response_batch_to_results\n",
      "    yield rpc_response_to_result(response_item)\n",
      "  File \"/media/skyap/8419d487-cb26-4b9d-8359-17eec418147f/20_projects/20_export_non_standard_ERC721_token_attributes/project_folder/venv/lib/python3.8/site-packages/ethereum_etl-1.4.0-py3.8.egg/ethereumetl/utils.py\", line 82, in rpc_response_to_result\n",
      "    raise RetriableValueError(error_message)\n",
      "ethereumetl.misc.retriable_value_error.RetriableValueError: result is None in response {'jsonrpc': '2.0', 'id': 0, 'result': None}. Make sure Ethereum node is synced.\n",
      "2020-06-16 15:38:24,056 - root [INFO] - The request will be retried after 1 seconds. Retry #3\n",
      "2020-06-16 15:38:25,055 - root [ERROR] - An exception occurred while executing execute_with_retries. Retry #4\n",
      "Traceback (most recent call last):\n",
      "  File \"/media/skyap/8419d487-cb26-4b9d-8359-17eec418147f/20_projects/20_export_non_standard_ERC721_token_attributes/project_folder/venv/lib/python3.8/site-packages/ethereum_etl-1.4.0-py3.8.egg/ethereumetl/executors/batch_work_executor.py\", line 63, in _fail_safe_execute\n",
      "    work_handler(batch)\n",
      "  File \"/media/skyap/8419d487-cb26-4b9d-8359-17eec418147f/20_projects/20_export_non_standard_ERC721_token_attributes/project_folder/venv/lib/python3.8/site-packages/ethereum_etl-1.4.0-py3.8.egg/ethereumetl/jobs/export_blocks_job.py\", line 77, in _export_batch\n",
      "    blocks = [self.block_mapper.json_dict_to_block(result) for result in results]\n",
      "  File \"/media/skyap/8419d487-cb26-4b9d-8359-17eec418147f/20_projects/20_export_non_standard_ERC721_token_attributes/project_folder/venv/lib/python3.8/site-packages/ethereum_etl-1.4.0-py3.8.egg/ethereumetl/jobs/export_blocks_job.py\", line 77, in <listcomp>\n",
      "    blocks = [self.block_mapper.json_dict_to_block(result) for result in results]\n",
      "  File \"/media/skyap/8419d487-cb26-4b9d-8359-17eec418147f/20_projects/20_export_non_standard_ERC721_token_attributes/project_folder/venv/lib/python3.8/site-packages/ethereum_etl-1.4.0-py3.8.egg/ethereumetl/utils.py\", line 71, in rpc_response_batch_to_results\n",
      "    yield rpc_response_to_result(response_item)\n",
      "  File \"/media/skyap/8419d487-cb26-4b9d-8359-17eec418147f/20_projects/20_export_non_standard_ERC721_token_attributes/project_folder/venv/lib/python3.8/site-packages/ethereum_etl-1.4.0-py3.8.egg/ethereumetl/utils.py\", line 82, in rpc_response_to_result\n",
      "    raise RetriableValueError(error_message)\n",
      "ethereumetl.misc.retriable_value_error.RetriableValueError: result is None in response {'jsonrpc': '2.0', 'id': 0, 'result': None}. Make sure Ethereum node is synced.\n",
      "\n",
      "During handling of the above exception, another exception occurred:\n",
      "\n",
      "Traceback (most recent call last):\n",
      "  File \"/media/skyap/8419d487-cb26-4b9d-8359-17eec418147f/20_projects/20_export_non_standard_ERC721_token_attributes/project_folder/venv/lib/python3.8/site-packages/ethereum_etl-1.4.0-py3.8.egg/ethereumetl/executors/batch_work_executor.py\", line 104, in execute_with_retries\n",
      "    return func(*args)\n",
      "  File \"/media/skyap/8419d487-cb26-4b9d-8359-17eec418147f/20_projects/20_export_non_standard_ERC721_token_attributes/project_folder/venv/lib/python3.8/site-packages/ethereum_etl-1.4.0-py3.8.egg/ethereumetl/jobs/export_blocks_job.py\", line 77, in _export_batch\n",
      "    blocks = [self.block_mapper.json_dict_to_block(result) for result in results]\n",
      "  File \"/media/skyap/8419d487-cb26-4b9d-8359-17eec418147f/20_projects/20_export_non_standard_ERC721_token_attributes/project_folder/venv/lib/python3.8/site-packages/ethereum_etl-1.4.0-py3.8.egg/ethereumetl/jobs/export_blocks_job.py\", line 77, in <listcomp>\n",
      "    blocks = [self.block_mapper.json_dict_to_block(result) for result in results]\n",
      "  File \"/media/skyap/8419d487-cb26-4b9d-8359-17eec418147f/20_projects/20_export_non_standard_ERC721_token_attributes/project_folder/venv/lib/python3.8/site-packages/ethereum_etl-1.4.0-py3.8.egg/ethereumetl/utils.py\", line 71, in rpc_response_batch_to_results\n",
      "    yield rpc_response_to_result(response_item)\n",
      "  File \"/media/skyap/8419d487-cb26-4b9d-8359-17eec418147f/20_projects/20_export_non_standard_ERC721_token_attributes/project_folder/venv/lib/python3.8/site-packages/ethereum_etl-1.4.0-py3.8.egg/ethereumetl/utils.py\", line 82, in rpc_response_to_result\n",
      "    raise RetriableValueError(error_message)\n",
      "ethereumetl.misc.retriable_value_error.RetriableValueError: result is None in response {'jsonrpc': '2.0', 'id': 0, 'result': None}. Make sure Ethereum node is synced.\n",
      "2020-06-16 15:38:25,062 - root [ERROR] - An exception occurred while executing execute_with_retries. Retry #4\n",
      "Traceback (most recent call last):\n",
      "  File \"/media/skyap/8419d487-cb26-4b9d-8359-17eec418147f/20_projects/20_export_non_standard_ERC721_token_attributes/project_folder/venv/lib/python3.8/site-packages/ethereum_etl-1.4.0-py3.8.egg/ethereumetl/executors/batch_work_executor.py\", line 63, in _fail_safe_execute\n",
      "    work_handler(batch)\n",
      "  File \"/media/skyap/8419d487-cb26-4b9d-8359-17eec418147f/20_projects/20_export_non_standard_ERC721_token_attributes/project_folder/venv/lib/python3.8/site-packages/ethereum_etl-1.4.0-py3.8.egg/ethereumetl/jobs/export_blocks_job.py\", line 77, in _export_batch\n",
      "    blocks = [self.block_mapper.json_dict_to_block(result) for result in results]\n",
      "  File \"/media/skyap/8419d487-cb26-4b9d-8359-17eec418147f/20_projects/20_export_non_standard_ERC721_token_attributes/project_folder/venv/lib/python3.8/site-packages/ethereum_etl-1.4.0-py3.8.egg/ethereumetl/jobs/export_blocks_job.py\", line 77, in <listcomp>\n",
      "    blocks = [self.block_mapper.json_dict_to_block(result) for result in results]\n",
      "  File \"/media/skyap/8419d487-cb26-4b9d-8359-17eec418147f/20_projects/20_export_non_standard_ERC721_token_attributes/project_folder/venv/lib/python3.8/site-packages/ethereum_etl-1.4.0-py3.8.egg/ethereumetl/utils.py\", line 71, in rpc_response_batch_to_results\n",
      "    yield rpc_response_to_result(response_item)\n",
      "  File \"/media/skyap/8419d487-cb26-4b9d-8359-17eec418147f/20_projects/20_export_non_standard_ERC721_token_attributes/project_folder/venv/lib/python3.8/site-packages/ethereum_etl-1.4.0-py3.8.egg/ethereumetl/utils.py\", line 82, in rpc_response_to_result\n",
      "    raise RetriableValueError(error_message)\n",
      "ethereumetl.misc.retriable_value_error.RetriableValueError: result is None in response {'jsonrpc': '2.0', 'id': 0, 'result': None}. Make sure Ethereum node is synced.\n",
      "\n",
      "During handling of the above exception, another exception occurred:\n",
      "\n",
      "Traceback (most recent call last):\n",
      "  File \"/media/skyap/8419d487-cb26-4b9d-8359-17eec418147f/20_projects/20_export_non_standard_ERC721_token_attributes/project_folder/venv/lib/python3.8/site-packages/ethereum_etl-1.4.0-py3.8.egg/ethereumetl/executors/batch_work_executor.py\", line 104, in execute_with_retries\n",
      "    return func(*args)\n",
      "  File \"/media/skyap/8419d487-cb26-4b9d-8359-17eec418147f/20_projects/20_export_non_standard_ERC721_token_attributes/project_folder/venv/lib/python3.8/site-packages/ethereum_etl-1.4.0-py3.8.egg/ethereumetl/jobs/export_blocks_job.py\", line 77, in _export_batch\n",
      "    blocks = [self.block_mapper.json_dict_to_block(result) for result in results]\n",
      "  File \"/media/skyap/8419d487-cb26-4b9d-8359-17eec418147f/20_projects/20_export_non_standard_ERC721_token_attributes/project_folder/venv/lib/python3.8/site-packages/ethereum_etl-1.4.0-py3.8.egg/ethereumetl/jobs/export_blocks_job.py\", line 77, in <listcomp>\n",
      "    blocks = [self.block_mapper.json_dict_to_block(result) for result in results]\n",
      "  File \"/media/skyap/8419d487-cb26-4b9d-8359-17eec418147f/20_projects/20_export_non_standard_ERC721_token_attributes/project_folder/venv/lib/python3.8/site-packages/ethereum_etl-1.4.0-py3.8.egg/ethereumetl/utils.py\", line 71, in rpc_response_batch_to_results\n",
      "    yield rpc_response_to_result(response_item)\n",
      "  File \"/media/skyap/8419d487-cb26-4b9d-8359-17eec418147f/20_projects/20_export_non_standard_ERC721_token_attributes/project_folder/venv/lib/python3.8/site-packages/ethereum_etl-1.4.0-py3.8.egg/ethereumetl/utils.py\", line 82, in rpc_response_to_result\n",
      "    raise RetriableValueError(error_message)\n",
      "ethereumetl.misc.retriable_value_error.RetriableValueError: result is None in response {'jsonrpc': '2.0', 'id': 0, 'result': None}. Make sure Ethereum node is synced.\n",
      "Traceback (most recent call last):\n",
      "  File \"/media/skyap/8419d487-cb26-4b9d-8359-17eec418147f/20_projects/20_export_non_standard_ERC721_token_attributes/project_folder/venv/lib/python3.8/site-packages/ethereum_etl-1.4.0-py3.8.egg/ethereumetl/executors/batch_work_executor.py\", line 63, in _fail_safe_execute\n",
      "    work_handler(batch)\n",
      "  File \"/media/skyap/8419d487-cb26-4b9d-8359-17eec418147f/20_projects/20_export_non_standard_ERC721_token_attributes/project_folder/venv/lib/python3.8/site-packages/ethereum_etl-1.4.0-py3.8.egg/ethereumetl/jobs/export_blocks_job.py\", line 77, in _export_batch\n",
      "    blocks = [self.block_mapper.json_dict_to_block(result) for result in results]\n",
      "  File \"/media/skyap/8419d487-cb26-4b9d-8359-17eec418147f/20_projects/20_export_non_standard_ERC721_token_attributes/project_folder/venv/lib/python3.8/site-packages/ethereum_etl-1.4.0-py3.8.egg/ethereumetl/jobs/export_blocks_job.py\", line 77, in <listcomp>\n",
      "    blocks = [self.block_mapper.json_dict_to_block(result) for result in results]\n",
      "  File \"/media/skyap/8419d487-cb26-4b9d-8359-17eec418147f/20_projects/20_export_non_standard_ERC721_token_attributes/project_folder/venv/lib/python3.8/site-packages/ethereum_etl-1.4.0-py3.8.egg/ethereumetl/utils.py\", line 71, in rpc_response_batch_to_results\n",
      "    yield rpc_response_to_result(response_item)\n",
      "  File \"/media/skyap/8419d487-cb26-4b9d-8359-17eec418147f/20_projects/20_export_non_standard_ERC721_token_attributes/project_folder/venv/lib/python3.8/site-packages/ethereum_etl-1.4.0-py3.8.egg/ethereumetl/utils.py\", line 82, in rpc_response_to_result\n",
      "    raise RetriableValueError(error_message)\n",
      "ethereumetl.misc.retriable_value_error.RetriableValueError: result is None in response {'jsonrpc': '2.0', 'id': 0, 'result': None}. Make sure Ethereum node is synced.\n",
      "\n",
      "During handling of the above exception, another exception occurred:\n",
      "\n",
      "Traceback (most recent call last):\n",
      "  File \"/media/skyap/8419d487-cb26-4b9d-8359-17eec418147f/20_projects/20_export_non_standard_ERC721_token_attributes/project_folder/venv/lib/python3.8/site-packages/ethereum_etl-1.4.0-py3.8.egg/blockchainetl/jobs/base_job.py\", line 28, in run\n",
      "    self._export()\n",
      "  File \"/media/skyap/8419d487-cb26-4b9d-8359-17eec418147f/20_projects/20_export_non_standard_ERC721_token_attributes/project_folder/venv/lib/python3.8/site-packages/ethereum_etl-1.4.0-py3.8.egg/ethereumetl/jobs/export_blocks_job.py\", line 67, in _export\n",
      "    self.batch_work_executor.execute(\n",
      "  File \"/media/skyap/8419d487-cb26-4b9d-8359-17eec418147f/20_projects/20_export_non_standard_ERC721_token_attributes/project_folder/venv/lib/python3.8/site-packages/ethereum_etl-1.4.0-py3.8.egg/ethereumetl/executors/batch_work_executor.py\", line 59, in execute\n",
      "    self.executor.submit(self._fail_safe_execute, work_handler, batch)\n",
      "  File \"/media/skyap/8419d487-cb26-4b9d-8359-17eec418147f/20_projects/20_export_non_standard_ERC721_token_attributes/project_folder/venv/lib/python3.8/site-packages/ethereum_etl-1.4.0-py3.8.egg/ethereumetl/executors/fail_safe_executor.py\", line 31, in submit\n",
      "    self._check_completed_futures()\n",
      "  File \"/media/skyap/8419d487-cb26-4b9d-8359-17eec418147f/20_projects/20_export_non_standard_ERC721_token_attributes/project_folder/venv/lib/python3.8/site-packages/ethereum_etl-1.4.0-py3.8.egg/ethereumetl/executors/fail_safe_executor.py\", line 47, in _check_completed_futures\n",
      "    future.result()\n",
      "  File \"/usr/lib/python3.8/concurrent/futures/_base.py\", line 432, in result\n",
      "    return self.__get_result()\n",
      "  File \"/usr/lib/python3.8/concurrent/futures/_base.py\", line 388, in __get_result\n",
      "    raise self._exception\n",
      "  File \"/usr/lib/python3.8/concurrent/futures/thread.py\", line 57, in run\n",
      "    result = self.fn(*self.args, **self.kwargs)\n",
      "  File \"/media/skyap/8419d487-cb26-4b9d-8359-17eec418147f/20_projects/20_export_non_standard_ERC721_token_attributes/project_folder/venv/lib/python3.8/site-packages/ethereum_etl-1.4.0-py3.8.egg/ethereumetl/executors/batch_work_executor.py\", line 70, in _fail_safe_execute\n",
      "    execute_with_retries(work_handler, [item],\n",
      "  File \"/media/skyap/8419d487-cb26-4b9d-8359-17eec418147f/20_projects/20_export_non_standard_ERC721_token_attributes/project_folder/venv/lib/python3.8/site-packages/ethereum_etl-1.4.0-py3.8.egg/ethereumetl/executors/batch_work_executor.py\", line 104, in execute_with_retries\n",
      "    return func(*args)\n",
      "  File \"/media/skyap/8419d487-cb26-4b9d-8359-17eec418147f/20_projects/20_export_non_standard_ERC721_token_attributes/project_folder/venv/lib/python3.8/site-packages/ethereum_etl-1.4.0-py3.8.egg/ethereumetl/jobs/export_blocks_job.py\", line 77, in _export_batch\n",
      "    blocks = [self.block_mapper.json_dict_to_block(result) for result in results]\n",
      "  File \"/media/skyap/8419d487-cb26-4b9d-8359-17eec418147f/20_projects/20_export_non_standard_ERC721_token_attributes/project_folder/venv/lib/python3.8/site-packages/ethereum_etl-1.4.0-py3.8.egg/ethereumetl/jobs/export_blocks_job.py\", line 77, in <listcomp>\n",
      "    blocks = [self.block_mapper.json_dict_to_block(result) for result in results]\n",
      "  File \"/media/skyap/8419d487-cb26-4b9d-8359-17eec418147f/20_projects/20_export_non_standard_ERC721_token_attributes/project_folder/venv/lib/python3.8/site-packages/ethereum_etl-1.4.0-py3.8.egg/ethereumetl/utils.py\", line 71, in rpc_response_batch_to_results\n",
      "    yield rpc_response_to_result(response_item)\n",
      "  File \"/media/skyap/8419d487-cb26-4b9d-8359-17eec418147f/20_projects/20_export_non_standard_ERC721_token_attributes/project_folder/venv/lib/python3.8/site-packages/ethereum_etl-1.4.0-py3.8.egg/ethereumetl/utils.py\", line 82, in rpc_response_to_result\n",
      "    raise RetriableValueError(error_message)\n",
      "ethereumetl.misc.retriable_value_error.RetriableValueError: result is None in response {'jsonrpc': '2.0', 'id': 0, 'result': None}. Make sure Ethereum node is synced.\n",
      "\n",
      "During handling of the above exception, another exception occurred:\n",
      "\n",
      "Traceback (most recent call last):\n",
      "  File \"/media/skyap/8419d487-cb26-4b9d-8359-17eec418147f/20_projects/20_export_non_standard_ERC721_token_attributes/project_folder/venv/bin/ethereumetl\", line 11, in <module>\n",
      "    load_entry_point('ethereum-etl==1.4.0', 'console_scripts', 'ethereumetl')()\n",
      "  File \"/media/skyap/8419d487-cb26-4b9d-8359-17eec418147f/20_projects/20_export_non_standard_ERC721_token_attributes/project_folder/venv/lib/python3.8/site-packages/Click-7.0-py3.8.egg/click/core.py\", line 764, in __call__\n",
      "    return self.main(*args, **kwargs)\n",
      "  File \"/media/skyap/8419d487-cb26-4b9d-8359-17eec418147f/20_projects/20_export_non_standard_ERC721_token_attributes/project_folder/venv/lib/python3.8/site-packages/Click-7.0-py3.8.egg/click/core.py\", line 717, in main\n",
      "    rv = self.invoke(ctx)\n",
      "  File \"/media/skyap/8419d487-cb26-4b9d-8359-17eec418147f/20_projects/20_export_non_standard_ERC721_token_attributes/project_folder/venv/lib/python3.8/site-packages/Click-7.0-py3.8.egg/click/core.py\", line 1137, in invoke\n",
      "    return _process_result(sub_ctx.command.invoke(sub_ctx))\n",
      "  File \"/media/skyap/8419d487-cb26-4b9d-8359-17eec418147f/20_projects/20_export_non_standard_ERC721_token_attributes/project_folder/venv/lib/python3.8/site-packages/Click-7.0-py3.8.egg/click/core.py\", line 956, in invoke\n",
      "    return ctx.invoke(self.callback, **ctx.params)\n",
      "  File \"/media/skyap/8419d487-cb26-4b9d-8359-17eec418147f/20_projects/20_export_non_standard_ERC721_token_attributes/project_folder/venv/lib/python3.8/site-packages/Click-7.0-py3.8.egg/click/core.py\", line 555, in invoke\n",
      "    return callback(*args, **kwargs)\n",
      "  File \"/media/skyap/8419d487-cb26-4b9d-8359-17eec418147f/20_projects/20_export_non_standard_ERC721_token_attributes/project_folder/venv/lib/python3.8/site-packages/ethereum_etl-1.4.0-py3.8.egg/ethereumetl/cli/export_blocks_and_transactions.py\", line 66, in export_blocks_and_transactions\n",
      "    job.run()\n",
      "  File \"/media/skyap/8419d487-cb26-4b9d-8359-17eec418147f/20_projects/20_export_non_standard_ERC721_token_attributes/project_folder/venv/lib/python3.8/site-packages/ethereum_etl-1.4.0-py3.8.egg/blockchainetl/jobs/base_job.py\", line 30, in run\n",
      "    self._end()\n",
      "  File \"/media/skyap/8419d487-cb26-4b9d-8359-17eec418147f/20_projects/20_export_non_standard_ERC721_token_attributes/project_folder/venv/lib/python3.8/site-packages/ethereum_etl-1.4.0-py3.8.egg/ethereumetl/jobs/export_blocks_job.py\", line 90, in _end\n",
      "    self.batch_work_executor.shutdown()\n",
      "  File \"/media/skyap/8419d487-cb26-4b9d-8359-17eec418147f/20_projects/20_export_non_standard_ERC721_token_attributes/project_folder/venv/lib/python3.8/site-packages/ethereum_etl-1.4.0-py3.8.egg/ethereumetl/executors/batch_work_executor.py\", line 97, in shutdown\n",
      "    self.executor.shutdown()\n",
      "  File \"/media/skyap/8419d487-cb26-4b9d-8359-17eec418147f/20_projects/20_export_non_standard_ERC721_token_attributes/project_folder/venv/lib/python3.8/site-packages/ethereum_etl-1.4.0-py3.8.egg/ethereumetl/executors/fail_safe_executor.py\", line 39, in shutdown\n",
      "    self._check_completed_futures()\n",
      "  File \"/media/skyap/8419d487-cb26-4b9d-8359-17eec418147f/20_projects/20_export_non_standard_ERC721_token_attributes/project_folder/venv/lib/python3.8/site-packages/ethereum_etl-1.4.0-py3.8.egg/ethereumetl/executors/fail_safe_executor.py\", line 47, in _check_completed_futures\n",
      "    future.result()\n",
      "  File \"/usr/lib/python3.8/concurrent/futures/_base.py\", line 432, in result\n",
      "    return self.__get_result()\n",
      "  File \"/usr/lib/python3.8/concurrent/futures/_base.py\", line 388, in __get_result\n",
      "    raise self._exception\n",
      "  File \"/usr/lib/python3.8/concurrent/futures/thread.py\", line 57, in run\n",
      "    result = self.fn(*self.args, **self.kwargs)\n",
      "  File \"/media/skyap/8419d487-cb26-4b9d-8359-17eec418147f/20_projects/20_export_non_standard_ERC721_token_attributes/project_folder/venv/lib/python3.8/site-packages/ethereum_etl-1.4.0-py3.8.egg/ethereumetl/executors/batch_work_executor.py\", line 70, in _fail_safe_execute\n",
      "    execute_with_retries(work_handler, [item],\n",
      "  File \"/media/skyap/8419d487-cb26-4b9d-8359-17eec418147f/20_projects/20_export_non_standard_ERC721_token_attributes/project_folder/venv/lib/python3.8/site-packages/ethereum_etl-1.4.0-py3.8.egg/ethereumetl/executors/batch_work_executor.py\", line 104, in execute_with_retries\n",
      "    return func(*args)\n",
      "  File \"/media/skyap/8419d487-cb26-4b9d-8359-17eec418147f/20_projects/20_export_non_standard_ERC721_token_attributes/project_folder/venv/lib/python3.8/site-packages/ethereum_etl-1.4.0-py3.8.egg/ethereumetl/jobs/export_blocks_job.py\", line 77, in _export_batch\n",
      "    blocks = [self.block_mapper.json_dict_to_block(result) for result in results]\n",
      "  File \"/media/skyap/8419d487-cb26-4b9d-8359-17eec418147f/20_projects/20_export_non_standard_ERC721_token_attributes/project_folder/venv/lib/python3.8/site-packages/ethereum_etl-1.4.0-py3.8.egg/ethereumetl/jobs/export_blocks_job.py\", line 77, in <listcomp>\n",
      "    blocks = [self.block_mapper.json_dict_to_block(result) for result in results]\n",
      "  File \"/media/skyap/8419d487-cb26-4b9d-8359-17eec418147f/20_projects/20_export_non_standard_ERC721_token_attributes/project_folder/venv/lib/python3.8/site-packages/ethereum_etl-1.4.0-py3.8.egg/ethereumetl/utils.py\", line 71, in rpc_response_batch_to_results\n",
      "    yield rpc_response_to_result(response_item)\n",
      "  File \"/media/skyap/8419d487-cb26-4b9d-8359-17eec418147f/20_projects/20_export_non_standard_ERC721_token_attributes/project_folder/venv/lib/python3.8/site-packages/ethereum_etl-1.4.0-py3.8.egg/ethereumetl/utils.py\", line 82, in rpc_response_to_result\n",
      "    raise RetriableValueError(error_message)\n",
      "ethereumetl.misc.retriable_value_error.RetriableValueError: result is None in response {'jsonrpc': '2.0', 'id': 0, 'result': None}. Make sure Ethereum node is synced.\n"
     ]
    },
    {
     "ename": "CalledProcessError",
     "evalue": "Command 'b'source /media/skyap/8419d487-cb26-4b9d-8359-17eec418147f/20_projects/20_export_non_standard_ERC721_token_attributes/project_folder/venv/bin/activate\\nethereumetl export_blocks_and_transactions --start-block 0 --end-block 1000 --provider-uri http://0.0.0.0:8545 --blocks-output blocks.csv --transactions-output transactions.csv\\n'' returned non-zero exit status 1.",
     "output_type": "error",
     "traceback": [
      "\u001b[0;31m---------------------------------------------------------------------------\u001b[0m",
      "\u001b[0;31mCalledProcessError\u001b[0m                        Traceback (most recent call last)",
      "\u001b[0;32m<ipython-input-3-a9b49a279157>\u001b[0m in \u001b[0;36m<module>\u001b[0;34m\u001b[0m\n\u001b[0;32m----> 1\u001b[0;31m \u001b[0mget_ipython\u001b[0m\u001b[0;34m(\u001b[0m\u001b[0;34m)\u001b[0m\u001b[0;34m.\u001b[0m\u001b[0mrun_cell_magic\u001b[0m\u001b[0;34m(\u001b[0m\u001b[0;34m'bash'\u001b[0m\u001b[0;34m,\u001b[0m \u001b[0;34m''\u001b[0m\u001b[0;34m,\u001b[0m \u001b[0;34m'source /media/skyap/8419d487-cb26-4b9d-8359-17eec418147f/20_projects/20_export_non_standard_ERC721_token_attributes/project_folder/venv/bin/activate\\nethereumetl export_blocks_and_transactions --start-block 0 --end-block 1000 --provider-uri http://0.0.0.0:8545 --blocks-output blocks.csv --transactions-output transactions.csv\\n'\u001b[0m\u001b[0;34m)\u001b[0m\u001b[0;34m\u001b[0m\u001b[0;34m\u001b[0m\u001b[0m\n\u001b[0m",
      "\u001b[0;32m/media/skyap/8419d487-cb26-4b9d-8359-17eec418147f/20_projects/20_export_non_standard_ERC721_token_attributes/project_folder/venv/lib/python3.8/site-packages/IPython/core/interactiveshell.py\u001b[0m in \u001b[0;36mrun_cell_magic\u001b[0;34m(self, magic_name, line, cell)\u001b[0m\n\u001b[1;32m   2360\u001b[0m             \u001b[0;32mwith\u001b[0m \u001b[0mself\u001b[0m\u001b[0;34m.\u001b[0m\u001b[0mbuiltin_trap\u001b[0m\u001b[0;34m:\u001b[0m\u001b[0;34m\u001b[0m\u001b[0;34m\u001b[0m\u001b[0m\n\u001b[1;32m   2361\u001b[0m                 \u001b[0margs\u001b[0m \u001b[0;34m=\u001b[0m \u001b[0;34m(\u001b[0m\u001b[0mmagic_arg_s\u001b[0m\u001b[0;34m,\u001b[0m \u001b[0mcell\u001b[0m\u001b[0;34m)\u001b[0m\u001b[0;34m\u001b[0m\u001b[0;34m\u001b[0m\u001b[0m\n\u001b[0;32m-> 2362\u001b[0;31m                 \u001b[0mresult\u001b[0m \u001b[0;34m=\u001b[0m \u001b[0mfn\u001b[0m\u001b[0;34m(\u001b[0m\u001b[0;34m*\u001b[0m\u001b[0margs\u001b[0m\u001b[0;34m,\u001b[0m \u001b[0;34m**\u001b[0m\u001b[0mkwargs\u001b[0m\u001b[0;34m)\u001b[0m\u001b[0;34m\u001b[0m\u001b[0;34m\u001b[0m\u001b[0m\n\u001b[0m\u001b[1;32m   2363\u001b[0m             \u001b[0;32mreturn\u001b[0m \u001b[0mresult\u001b[0m\u001b[0;34m\u001b[0m\u001b[0;34m\u001b[0m\u001b[0m\n\u001b[1;32m   2364\u001b[0m \u001b[0;34m\u001b[0m\u001b[0m\n",
      "\u001b[0;32m/media/skyap/8419d487-cb26-4b9d-8359-17eec418147f/20_projects/20_export_non_standard_ERC721_token_attributes/project_folder/venv/lib/python3.8/site-packages/IPython/core/magics/script.py\u001b[0m in \u001b[0;36mnamed_script_magic\u001b[0;34m(line, cell)\u001b[0m\n\u001b[1;32m    140\u001b[0m             \u001b[0;32melse\u001b[0m\u001b[0;34m:\u001b[0m\u001b[0;34m\u001b[0m\u001b[0;34m\u001b[0m\u001b[0m\n\u001b[1;32m    141\u001b[0m                 \u001b[0mline\u001b[0m \u001b[0;34m=\u001b[0m \u001b[0mscript\u001b[0m\u001b[0;34m\u001b[0m\u001b[0;34m\u001b[0m\u001b[0m\n\u001b[0;32m--> 142\u001b[0;31m             \u001b[0;32mreturn\u001b[0m \u001b[0mself\u001b[0m\u001b[0;34m.\u001b[0m\u001b[0mshebang\u001b[0m\u001b[0;34m(\u001b[0m\u001b[0mline\u001b[0m\u001b[0;34m,\u001b[0m \u001b[0mcell\u001b[0m\u001b[0;34m)\u001b[0m\u001b[0;34m\u001b[0m\u001b[0;34m\u001b[0m\u001b[0m\n\u001b[0m\u001b[1;32m    143\u001b[0m \u001b[0;34m\u001b[0m\u001b[0m\n\u001b[1;32m    144\u001b[0m         \u001b[0;31m# write a basic docstring:\u001b[0m\u001b[0;34m\u001b[0m\u001b[0;34m\u001b[0m\u001b[0;34m\u001b[0m\u001b[0m\n",
      "\u001b[0;32m<decorator-gen-110>\u001b[0m in \u001b[0;36mshebang\u001b[0;34m(self, line, cell)\u001b[0m\n",
      "\u001b[0;32m/media/skyap/8419d487-cb26-4b9d-8359-17eec418147f/20_projects/20_export_non_standard_ERC721_token_attributes/project_folder/venv/lib/python3.8/site-packages/IPython/core/magic.py\u001b[0m in \u001b[0;36m<lambda>\u001b[0;34m(f, *a, **k)\u001b[0m\n\u001b[1;32m    185\u001b[0m     \u001b[0;31m# but it's overkill for just that one bit of state.\u001b[0m\u001b[0;34m\u001b[0m\u001b[0;34m\u001b[0m\u001b[0;34m\u001b[0m\u001b[0m\n\u001b[1;32m    186\u001b[0m     \u001b[0;32mdef\u001b[0m \u001b[0mmagic_deco\u001b[0m\u001b[0;34m(\u001b[0m\u001b[0marg\u001b[0m\u001b[0;34m)\u001b[0m\u001b[0;34m:\u001b[0m\u001b[0;34m\u001b[0m\u001b[0;34m\u001b[0m\u001b[0m\n\u001b[0;32m--> 187\u001b[0;31m         \u001b[0mcall\u001b[0m \u001b[0;34m=\u001b[0m \u001b[0;32mlambda\u001b[0m \u001b[0mf\u001b[0m\u001b[0;34m,\u001b[0m \u001b[0;34m*\u001b[0m\u001b[0ma\u001b[0m\u001b[0;34m,\u001b[0m \u001b[0;34m**\u001b[0m\u001b[0mk\u001b[0m\u001b[0;34m:\u001b[0m \u001b[0mf\u001b[0m\u001b[0;34m(\u001b[0m\u001b[0;34m*\u001b[0m\u001b[0ma\u001b[0m\u001b[0;34m,\u001b[0m \u001b[0;34m**\u001b[0m\u001b[0mk\u001b[0m\u001b[0;34m)\u001b[0m\u001b[0;34m\u001b[0m\u001b[0;34m\u001b[0m\u001b[0m\n\u001b[0m\u001b[1;32m    188\u001b[0m \u001b[0;34m\u001b[0m\u001b[0m\n\u001b[1;32m    189\u001b[0m         \u001b[0;32mif\u001b[0m \u001b[0mcallable\u001b[0m\u001b[0;34m(\u001b[0m\u001b[0marg\u001b[0m\u001b[0;34m)\u001b[0m\u001b[0;34m:\u001b[0m\u001b[0;34m\u001b[0m\u001b[0;34m\u001b[0m\u001b[0m\n",
      "\u001b[0;32m/media/skyap/8419d487-cb26-4b9d-8359-17eec418147f/20_projects/20_export_non_standard_ERC721_token_attributes/project_folder/venv/lib/python3.8/site-packages/IPython/core/magics/script.py\u001b[0m in \u001b[0;36mshebang\u001b[0;34m(self, line, cell)\u001b[0m\n\u001b[1;32m    243\u001b[0m             \u001b[0msys\u001b[0m\u001b[0;34m.\u001b[0m\u001b[0mstderr\u001b[0m\u001b[0;34m.\u001b[0m\u001b[0mflush\u001b[0m\u001b[0;34m(\u001b[0m\u001b[0;34m)\u001b[0m\u001b[0;34m\u001b[0m\u001b[0;34m\u001b[0m\u001b[0m\n\u001b[1;32m    244\u001b[0m         \u001b[0;32mif\u001b[0m \u001b[0margs\u001b[0m\u001b[0;34m.\u001b[0m\u001b[0mraise_error\u001b[0m \u001b[0;32mand\u001b[0m \u001b[0mp\u001b[0m\u001b[0;34m.\u001b[0m\u001b[0mreturncode\u001b[0m\u001b[0;34m!=\u001b[0m\u001b[0;36m0\u001b[0m\u001b[0;34m:\u001b[0m\u001b[0;34m\u001b[0m\u001b[0;34m\u001b[0m\u001b[0m\n\u001b[0;32m--> 245\u001b[0;31m             \u001b[0;32mraise\u001b[0m \u001b[0mCalledProcessError\u001b[0m\u001b[0;34m(\u001b[0m\u001b[0mp\u001b[0m\u001b[0;34m.\u001b[0m\u001b[0mreturncode\u001b[0m\u001b[0;34m,\u001b[0m \u001b[0mcell\u001b[0m\u001b[0;34m,\u001b[0m \u001b[0moutput\u001b[0m\u001b[0;34m=\u001b[0m\u001b[0mout\u001b[0m\u001b[0;34m,\u001b[0m \u001b[0mstderr\u001b[0m\u001b[0;34m=\u001b[0m\u001b[0merr\u001b[0m\u001b[0;34m)\u001b[0m\u001b[0;34m\u001b[0m\u001b[0;34m\u001b[0m\u001b[0m\n\u001b[0m\u001b[1;32m    246\u001b[0m \u001b[0;34m\u001b[0m\u001b[0m\n\u001b[1;32m    247\u001b[0m     \u001b[0;32mdef\u001b[0m \u001b[0m_run_script\u001b[0m\u001b[0;34m(\u001b[0m\u001b[0mself\u001b[0m\u001b[0;34m,\u001b[0m \u001b[0mp\u001b[0m\u001b[0;34m,\u001b[0m \u001b[0mcell\u001b[0m\u001b[0;34m,\u001b[0m \u001b[0mto_close\u001b[0m\u001b[0;34m)\u001b[0m\u001b[0;34m:\u001b[0m\u001b[0;34m\u001b[0m\u001b[0;34m\u001b[0m\u001b[0m\n",
      "\u001b[0;31mCalledProcessError\u001b[0m: Command 'b'source /media/skyap/8419d487-cb26-4b9d-8359-17eec418147f/20_projects/20_export_non_standard_ERC721_token_attributes/project_folder/venv/bin/activate\\nethereumetl export_blocks_and_transactions --start-block 0 --end-block 1000 --provider-uri http://0.0.0.0:8545 --blocks-output blocks.csv --transactions-output transactions.csv\\n'' returned non-zero exit status 1."
     ]
    }
   ],
   "source": [
    "%%bash\n",
    "source /media/skyap/8419d487-cb26-4b9d-8359-17eec418147f/20_projects/20_export_non_standard_ERC721_token_attributes/project_folder/venv/bin/activate\n",
    "ethereumetl export_blocks_and_transactions --start-block 0 --end-block 1000 --provider-uri http://0.0.0.0:8545 --blocks-output blocks.csv --transactions-output transactions.csv"
   ]
  },
  {
   "cell_type": "markdown",
   "metadata": {},
   "source": [
    "## export token transfers"
   ]
  },
  {
   "cell_type": "code",
   "execution_count": 84,
   "metadata": {},
   "outputs": [
    {
     "name": "stdout",
     "output_type": "stream",
     "text": [
      "Symbolic Execution not available: No module named 'mythril'\u001b[0m\n",
      "\u001b[0mpyetherchain not available: No module named 'pyetherchain'\u001b[0m\n",
      "\u001b[0m2020-05-19 19:52:22,569 - ProgressLogger [INFO] - Started work. Items to process: 500001.\u001b[0m\n",
      "\u001b[0m2020-05-19 19:52:26,840 - ProgressLogger [INFO] - 50100 items processed. Progress is 10%.\u001b[0m\n",
      "\u001b[0m2020-05-19 19:52:30,808 - ProgressLogger [INFO] - 100100 items processed. Progress is 20%.\u001b[0m\n",
      "\u001b[0m2020-05-19 19:52:34,792 - ProgressLogger [INFO] - 150100 items processed. Progress is 30%.\u001b[0m\n",
      "\u001b[0m2020-05-19 19:52:38,819 - ProgressLogger [INFO] - 200100 items processed. Progress is 40%.\u001b[0m\n",
      "\u001b[0m2020-05-19 19:52:42,889 - ProgressLogger [INFO] - 250100 items processed. Progress is 50%.\u001b[0m\n",
      "\u001b[0m2020-05-19 19:52:47,530 - ProgressLogger [INFO] - 300100 items processed. Progress is 60%.\u001b[0m\n",
      "\u001b[0m2020-05-19 19:52:51,598 - ProgressLogger [INFO] - 350100 items processed. Progress is 70%.\u001b[0m\n",
      "\u001b[0m2020-05-19 19:52:55,564 - ProgressLogger [INFO] - 400100 items processed. Progress is 80%.\u001b[0m\n",
      "\u001b[0m2020-05-19 19:52:59,520 - ProgressLogger [INFO] - 450100 items processed. Progress is 90%.\u001b[0m\n",
      "\u001b[0m2020-05-19 19:53:03,420 - ProgressLogger [INFO] - 500001 items processed. Progress is 100%.\u001b[0m\n",
      "\u001b[0m2020-05-19 19:53:03,420 - ProgressLogger [INFO] - Finished work. Total items processed: 500001. Took 0:00:40.851202.\u001b[0m\n",
      "\u001b[0m2020-05-19 19:53:03,421 - CompositeItemExporter [INFO] - token_transfer items exported: 86\u001b[0m\n",
      "\u001b[0m\u001b[0m"
     ]
    }
   ],
   "source": [
    "%%bash\n",
    "ethereumetl export_token_transfers --start-block 0 --end-block 500000 --provider-uri http://0.0.0.0:7545 --output token_transfers.csv"
   ]
  },
  {
   "cell_type": "markdown",
   "metadata": {},
   "source": [
    "## export receipts and  logs"
   ]
  },
  {
   "cell_type": "code",
   "execution_count": 87,
   "metadata": {
    "scrolled": true
   },
   "outputs": [
    {
     "name": "stderr",
     "output_type": "stream",
     "text": [
      "Symbolic Execution not available: No module named 'mythril'\n",
      "pyetherchain not available: No module named 'pyetherchain'\n"
     ]
    }
   ],
   "source": [
    "%%bash\n",
    "ethereumetl extract_csv_column --input transactions.csv --column hash --output transaction_hashes.txt"
   ]
  },
  {
   "cell_type": "code",
   "execution_count": 93,
   "metadata": {},
   "outputs": [
    {
     "name": "stderr",
     "output_type": "stream",
     "text": [
      "Symbolic Execution not available: No module named 'mythril'\n",
      "pyetherchain not available: No module named 'pyetherchain'\n",
      "2020-05-20 07:45:17,470 - ProgressLogger [INFO] - Started work.\n",
      "2020-05-20 07:45:17,709 - ProgressLogger [INFO] - Finished work. Total items processed: 88. Took 0:00:00.238588.\n",
      "2020-05-20 07:45:17,709 - CompositeItemExporter [INFO] - receipt items exported: 88\n",
      "2020-05-20 07:45:17,710 - CompositeItemExporter [INFO] - log items exported: 172\n"
     ]
    }
   ],
   "source": [
    "%%bash\n",
    "ethereumetl export_receipts_and_logs --transaction-hashes transaction_hashes.txt \\\n",
    "--provider-uri http://0.0.0.0:7545 --receipts-output receipts.csv --logs-output logs.csv"
   ]
  },
  {
   "cell_type": "markdown",
   "metadata": {},
   "source": [
    "## export token transfers"
   ]
  },
  {
   "cell_type": "code",
   "execution_count": 94,
   "metadata": {},
   "outputs": [
    {
     "name": "stderr",
     "output_type": "stream",
     "text": [
      "Symbolic Execution not available: No module named 'mythril'\n",
      "pyetherchain not available: No module named 'pyetherchain'\n",
      "2020-05-20 07:47:55,672 - ProgressLogger [INFO] - Started work.\n",
      "2020-05-20 07:47:55,679 - ProgressLogger [INFO] - Finished work. Total items processed: 172. Took 0:00:00.006545.\n",
      "2020-05-20 07:47:55,679 - CompositeItemExporter [INFO] - token_transfer items exported: 86\n"
     ]
    }
   ],
   "source": [
    "%%bash\n",
    "ethereumetl extract_token_transfers --logs logs.csv --output token_transfers.csv"
   ]
  },
  {
   "cell_type": "markdown",
   "metadata": {},
   "source": [
    "## export contracts"
   ]
  },
  {
   "cell_type": "code",
   "execution_count": 95,
   "metadata": {},
   "outputs": [
    {
     "name": "stderr",
     "output_type": "stream",
     "text": [
      "Symbolic Execution not available: No module named 'mythril'\n",
      "pyetherchain not available: No module named 'pyetherchain'\n"
     ]
    }
   ],
   "source": [
    "%%bash\n",
    "ethereumetl extract_csv_column --input receipts.csv --column contract_address --output contract_addresses.txt"
   ]
  },
  {
   "cell_type": "code",
   "execution_count": 96,
   "metadata": {},
   "outputs": [
    {
     "name": "stderr",
     "output_type": "stream",
     "text": [
      "Symbolic Execution not available: No module named 'mythril'\n",
      "pyetherchain not available: No module named 'pyetherchain'\n",
      "2020-05-20 07:50:25,285 - ProgressLogger [INFO] - Started work.\n",
      "2020-05-20 07:50:25,393 - evmdasm.disassembler [ERROR] - invalid instruction: PUSH16\n",
      "2020-05-20 07:50:25,534 - evmdasm.disassembler [ERROR] - invalid instruction: PUSH16\n",
      "2020-05-20 07:50:25,546 - ProgressLogger [INFO] - Finished work. Total items processed: 2. Took 0:00:00.260349.\n",
      "2020-05-20 07:50:25,546 - CompositeItemExporter [INFO] - contract items exported: 2\n"
     ]
    }
   ],
   "source": [
    "%%bash\n",
    "ethereumetl export_contracts --contract-addresses contract_addresses.txt \\\n",
    "--provider-uri http://0.0.0.0:7545 --output contracts.csv"
   ]
  },
  {
   "cell_type": "markdown",
   "metadata": {},
   "source": [
    "above function will not return block number of contract-address. And this function is not supported by the author anymore. "
   ]
  },
  {
   "cell_type": "markdown",
   "metadata": {},
   "source": [
    "## export tokens"
   ]
  },
  {
   "cell_type": "code",
   "execution_count": 98,
   "metadata": {},
   "outputs": [
    {
     "name": "stderr",
     "output_type": "stream",
     "text": [
      "Symbolic Execution not available: No module named 'mythril'\n",
      "pyetherchain not available: No module named 'pyetherchain'\n",
      "Symbolic Execution not available: No module named 'mythril'\n",
      "pyetherchain not available: No module named 'pyetherchain'\n"
     ]
    }
   ],
   "source": [
    "%%bash\n",
    "ethereumetl filter_items -i contracts.csv -p \"item['is_erc20'] or item['is_erc721']\" | \\\n",
    "ethereumetl extract_field -f address -o token_addresses.txt"
   ]
  },
  {
   "cell_type": "code",
   "execution_count": 100,
   "metadata": {},
   "outputs": [
    {
     "name": "stderr",
     "output_type": "stream",
     "text": [
      "Symbolic Execution not available: No module named 'mythril'\n",
      "pyetherchain not available: No module named 'pyetherchain'\n",
      "2020-05-20 07:56:17,218 - ProgressLogger [INFO] - Started work.\n",
      "2020-05-20 07:56:17,367 - eth_token_service [ERROR] - An exception occurred in function decimals of contract 0xE7C294F2cDBaEE674CA15e292115F6Ddbcdf493c. This exception can be safely ignored.\n",
      "Traceback (most recent call last):\n",
      "  File \"/home/yapsengkuang/.local/lib/python3.6/site-packages/ethereumetl/service/eth_token_service.py\", line 72, in call_contract_function\n",
      "    result = func.call()\n",
      "  File \"/home/yapsengkuang/.local/lib/python3.6/site-packages/web3/contract.py\", line 911, in call\n",
      "    **self.kwargs\n",
      "  File \"/home/yapsengkuang/.local/lib/python3.6/site-packages/web3/contract.py\", line 1436, in call_contract_function\n",
      "    return_data = web3.eth.call(call_transaction, block_identifier=block_id)\n",
      "  File \"/home/yapsengkuang/.local/lib/python3.6/site-packages/eth_utils/functional.py\", line 45, in inner\n",
      "    return callback(fn(*args, **kwargs))\n",
      "  File \"/home/yapsengkuang/.local/lib/python3.6/site-packages/web3/eth.py\", line 430, in call\n",
      "    [transaction, block_identifier],\n",
      "  File \"/home/yapsengkuang/.local/lib/python3.6/site-packages/web3/manager.py\", line 153, in request_blocking\n",
      "    raise ValueError(response[\"error\"])\n",
      "ValueError: {'message': 'VM Exception while processing transaction: revert', 'code': -32000, 'data': {'0x534be81533277bc7bd9eb62f9aa4ba43d3a988614385c280f4ae7038fae46ead': {'error': 'revert', 'program_counter': 349, 'return': '0x'}, 'stack': 'Error: \\n    at Function.RuntimeError.fromResults (/tmp/.mount_ganachnUHxAX/resources/app.asar/node_modules/ganache-core/lib/utils/runtimeerror.js:89:13)\\n    at /tmp/.mount_ganachnUHxAX/resources/app.asar/node_modules/ganache-core/lib/blockchain_double.js:548:28\\n    at /tmp/.mount_ganachnUHxAX/resources/app.asar/node_modules/ganache-core/node_modules/ethereumjs-vm/dist/runTx.js:74:9\\n    at /tmp/.mount_ganachnUHxAX/resources/app.asar/node_modules/ganache-core/node_modules/async/dist/async.js:969:16\\n    at next (/tmp/.mount_ganachnUHxAX/resources/app.asar/node_modules/ganache-core/node_modules/async/dist/async.js:5225:18)\\n    at /tmp/.mount_ganachnUHxAX/resources/app.asar/node_modules/ganache-core/node_modules/ethereumjs-vm/dist/state/cache.js:160:13\\n    at /tmp/.mount_ganachnUHxAX/resources/app.asar/node_modules/ganache-core/node_modules/merkle-patricia-tree/util.js:51:36\\n    at /tmp/.mount_ganachnUHxAX/resources/app.asar/node_modules/ganache-core/node_modules/merkle-patricia-tree/node_modules/async/lib/async.js:52:16\\n    at done (/tmp/.mount_ganachnUHxAX/resources/app.asar/node_modules/ganache-core/node_modules/merkle-patricia-tree/node_modules/async/lib/async.js:246:17)\\n    at /tmp/.mount_ganachnUHxAX/resources/app.asar/node_modules/ganache-core/node_modules/merkle-patricia-tree/node_modules/async/lib/async.js:44:16\\n    at /tmp/.mount_ganachnUHxAX/resources/app.asar/node_modules/ganache-core/lib/database/levelupobjectadapter.js:110:7\\n    at /tmp/.mount_ganachnUHxAX/resources/app.asar/node_modules/ganache-core/node_modules/async/dist/async.js:473:16\\n    at iteratorCallback (/tmp/.mount_ganachnUHxAX/resources/app.asar/node_modules/ganache-core/node_modules/async/dist/async.js:1064:13)\\n    at /tmp/.mount_ganachnUHxAX/resources/app.asar/node_modules/ganache-core/node_modules/async/dist/async.js:969:16\\n    at /tmp/.mount_ganachnUHxAX/resources/app.asar/node_modules/ganache-core/node_modules/level-sublevel/shell.js:53:51\\n    at /tmp/.mount_ganachnUHxAX/resources/app.asar/node_modules/ganache-core/node_modules/level-sublevel/nut.js:109:13', 'name': 'RuntimeError'}}\n",
      "2020-05-20 07:56:17,378 - eth_token_service [ERROR] - An exception occurred in function decimals of contract 0xa74B61c3c49e5cac8C02CDf8589bFBd007d5B369. This exception can be safely ignored.\n",
      "Traceback (most recent call last):\n",
      "  File \"/home/yapsengkuang/.local/lib/python3.6/site-packages/ethereumetl/service/eth_token_service.py\", line 72, in call_contract_function\n",
      "    result = func.call()\n",
      "  File \"/home/yapsengkuang/.local/lib/python3.6/site-packages/web3/contract.py\", line 911, in call\n",
      "    **self.kwargs\n",
      "  File \"/home/yapsengkuang/.local/lib/python3.6/site-packages/web3/contract.py\", line 1436, in call_contract_function\n",
      "    return_data = web3.eth.call(call_transaction, block_identifier=block_id)\n",
      "  File \"/home/yapsengkuang/.local/lib/python3.6/site-packages/eth_utils/functional.py\", line 45, in inner\n",
      "    return callback(fn(*args, **kwargs))\n",
      "  File \"/home/yapsengkuang/.local/lib/python3.6/site-packages/web3/eth.py\", line 430, in call\n",
      "    [transaction, block_identifier],\n",
      "  File \"/home/yapsengkuang/.local/lib/python3.6/site-packages/web3/manager.py\", line 153, in request_blocking\n",
      "    raise ValueError(response[\"error\"])\n",
      "ValueError: {'message': 'VM Exception while processing transaction: revert', 'code': -32000, 'data': {'0xe2e6c76768735a0ff39c4e2053196989f5f218ed3ab74f5d625450cf630d2b75': {'error': 'revert', 'program_counter': 349, 'return': '0x'}, 'stack': 'Error: \\n    at Function.RuntimeError.fromResults (/tmp/.mount_ganachnUHxAX/resources/app.asar/node_modules/ganache-core/lib/utils/runtimeerror.js:89:13)\\n    at /tmp/.mount_ganachnUHxAX/resources/app.asar/node_modules/ganache-core/lib/blockchain_double.js:548:28\\n    at /tmp/.mount_ganachnUHxAX/resources/app.asar/node_modules/ganache-core/node_modules/ethereumjs-vm/dist/runTx.js:74:9\\n    at /tmp/.mount_ganachnUHxAX/resources/app.asar/node_modules/ganache-core/node_modules/async/dist/async.js:969:16\\n    at next (/tmp/.mount_ganachnUHxAX/resources/app.asar/node_modules/ganache-core/node_modules/async/dist/async.js:5225:18)\\n    at /tmp/.mount_ganachnUHxAX/resources/app.asar/node_modules/ganache-core/node_modules/ethereumjs-vm/dist/state/cache.js:160:13\\n    at /tmp/.mount_ganachnUHxAX/resources/app.asar/node_modules/ganache-core/node_modules/merkle-patricia-tree/util.js:51:36\\n    at /tmp/.mount_ganachnUHxAX/resources/app.asar/node_modules/ganache-core/node_modules/merkle-patricia-tree/node_modules/async/lib/async.js:52:16\\n    at done (/tmp/.mount_ganachnUHxAX/resources/app.asar/node_modules/ganache-core/node_modules/merkle-patricia-tree/node_modules/async/lib/async.js:246:17)\\n    at /tmp/.mount_ganachnUHxAX/resources/app.asar/node_modules/ganache-core/node_modules/merkle-patricia-tree/node_modules/async/lib/async.js:44:16\\n    at /tmp/.mount_ganachnUHxAX/resources/app.asar/node_modules/ganache-core/lib/database/levelupobjectadapter.js:110:7\\n    at /tmp/.mount_ganachnUHxAX/resources/app.asar/node_modules/ganache-core/node_modules/async/dist/async.js:473:16\\n    at iteratorCallback (/tmp/.mount_ganachnUHxAX/resources/app.asar/node_modules/ganache-core/node_modules/async/dist/async.js:1064:13)\\n    at /tmp/.mount_ganachnUHxAX/resources/app.asar/node_modules/ganache-core/node_modules/async/dist/async.js:969:16\\n    at /tmp/.mount_ganachnUHxAX/resources/app.asar/node_modules/ganache-core/node_modules/level-sublevel/shell.js:53:51\\n    at /tmp/.mount_ganachnUHxAX/resources/app.asar/node_modules/ganache-core/node_modules/level-sublevel/nut.js:109:13', 'name': 'RuntimeError'}}\n",
      "2020-05-20 07:56:17,402 - ProgressLogger [INFO] - Finished work. Total items processed: 2. Took 0:00:00.184177.\n",
      "2020-05-20 07:56:17,402 - CompositeItemExporter [INFO] - token items exported: 2\n"
     ]
    }
   ],
   "source": [
    "%%bash\n",
    "ethereumetl export_tokens --token-addresses token_addresses.txt \\\n",
    "--provider-uri http://0.0.0.0:7545 --output tokens.csv"
   ]
  },
  {
   "cell_type": "markdown",
   "metadata": {},
   "source": [
    "# export traces\n",
    "traces is available if the recipient of a transaction is a contract account with associated EVM (Ethereum Virtual Machine) bytecode – beside transferring any Ether – the code will also be executed as part of the transaction.  \n",
    "https://github.com/ethereum/go-ethereum/wiki/Tracing:-Introduction"
   ]
  }
 ],
 "metadata": {
  "kernelspec": {
   "display_name": "Python 3.8.2 64-bit",
   "language": "python",
   "name": "python38264bit2281937a89bd4445b697ded492534405"
  },
  "language_info": {
   "codemirror_mode": {
    "name": "ipython",
    "version": 3
   },
   "file_extension": ".py",
   "mimetype": "text/x-python",
   "name": "python",
   "nbconvert_exporter": "python",
   "pygments_lexer": "ipython3",
   "version": "3.8.2"
  }
 },
 "nbformat": 4,
 "nbformat_minor": 2
}
